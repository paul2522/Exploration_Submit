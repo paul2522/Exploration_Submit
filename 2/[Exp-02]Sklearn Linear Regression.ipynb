{
 "cells": [
  {
   "cell_type": "markdown",
   "metadata": {},
   "source": [
    "## [Exp-02]Sklearn Linear Regression"
   ]
  },
  {
   "cell_type": "markdown",
   "metadata": {},
   "source": [
    "### 프로젝트 1 : 손수 설계하는 선형회귀, 당뇨병 수치를 맞춰보자!"
   ]
  },
  {
   "cell_type": "markdown",
   "metadata": {},
   "source": [
    "#### (1) 데이터 가져오기"
   ]
  },
  {
   "cell_type": "markdown",
   "metadata": {},
   "source": [
    "- <span style = \"color: #0000FF\">sklearn.datasets의 load_diabetes에서 데이터를 가져와주세요.</span>\n",
    "- <span style = \"color: #0000FF\">diabetes의 data를 df_X에, target을 df_y에 저장해주세요.</span>"
   ]
  },
  {
   "cell_type": "code",
   "execution_count": 2309,
   "metadata": {},
   "outputs": [],
   "source": [
    "import sklearn\n",
    "from sklearn.datasets import load_diabetes\n",
    "diabetes=load_diabetes()\n",
    "\n",
    "df_X=diabetes.data\n",
    "df_y=diabetes.target"
   ]
  },
  {
   "cell_type": "markdown",
   "metadata": {},
   "source": [
    "#### (2) 모델에 입력할 데이터 X 준비하기"
   ]
  },
  {
   "cell_type": "markdown",
   "metadata": {},
   "source": [
    "- <span style = \"color: #0000FF\">df_X에 있는 값들을 numpy array로 변환해서 저장해주세요.</span>\n",
    "  - 이미 float을 가지는 ndarray 타입입니다."
   ]
  },
  {
   "cell_type": "code",
   "execution_count": 2310,
   "metadata": {},
   "outputs": [
    {
     "name": "stdout",
     "output_type": "stream",
     "text": [
      "<class 'numpy.ndarray'>\n",
      "(442, 10)\n",
      "<class 'numpy.ndarray'>\n",
      "[ 0.03807591  0.05068012  0.06169621  0.02187239 -0.0442235  -0.03482076\n",
      " -0.04340085 -0.00259226  0.01990749 -0.01764613]\n",
      "<class 'numpy.float64'>\n"
     ]
    },
    {
     "data": {
      "text/plain": [
       "0.038075906433423026"
      ]
     },
     "execution_count": 2310,
     "metadata": {},
     "output_type": "execute_result"
    }
   ],
   "source": [
    "print(type(df_X))\n",
    "print(df_X.shape)\n",
    "print(type(df_X[0]))\n",
    "print(df_X[0])\n",
    "print(type(df_X[0][0]))\n",
    "df_X[0][0]"
   ]
  },
  {
   "cell_type": "markdown",
   "metadata": {},
   "source": [
    "#### (3) 모델에 입력할 데이터 y 준비하기"
   ]
  },
  {
   "cell_type": "markdown",
   "metadata": {},
   "source": [
    "- <span style = \"color: #0000FF\">df_X에 있는 값들을 numpy array로 변환해서 저장해주세요.</span>\n",
    "  - 이미 float을 가지는 ndarray 타입입니다."
   ]
  },
  {
   "cell_type": "code",
   "execution_count": 2311,
   "metadata": {},
   "outputs": [
    {
     "name": "stdout",
     "output_type": "stream",
     "text": [
      "<class 'numpy.ndarray'>\n",
      "(442,)\n",
      "<class 'numpy.float64'>\n"
     ]
    },
    {
     "data": {
      "text/plain": [
       "151.0"
      ]
     },
     "execution_count": 2311,
     "metadata": {},
     "output_type": "execute_result"
    }
   ],
   "source": [
    "print(type(df_y))\n",
    "print(df_y.shape)\n",
    "print(type(df_y[0]))\n",
    "df_y[0]"
   ]
  },
  {
   "cell_type": "markdown",
   "metadata": {},
   "source": [
    "#### (4) train 데이터와 test 데이터로 분리하기"
   ]
  },
  {
   "cell_type": "markdown",
   "metadata": {},
   "source": [
    "- <span style = \"color: #0000FF\">X와 y 데이터를 각각 train 데이터와 test 데이터로 분리해주세요.</span>\n",
    "  - train : test = 0.75 : 0.25 로 나누고 random_state = 42 로 둡니다."
   ]
  },
  {
   "cell_type": "code",
   "execution_count": 2312,
   "metadata": {},
   "outputs": [
    {
     "name": "stdout",
     "output_type": "stream",
     "text": [
      "(331, 10) (331,)\n",
      "(111, 10) (111,)\n"
     ]
    }
   ],
   "source": [
    "from sklearn.model_selection import train_test_split\n",
    "\n",
    "X_train, X_test, y_train, y_test = train_test_split(df_X, df_y, test_size=0.25, random_state=42)\n",
    "\n",
    "print(X_train.shape, y_train.shape)\n",
    "print(X_test.shape, y_test.shape)"
   ]
  },
  {
   "cell_type": "markdown",
   "metadata": {},
   "source": [
    "#### (5) 모델 준비하기"
   ]
  },
  {
   "cell_type": "markdown",
   "metadata": {},
   "source": [
    "- <span style = \"color: #0000FF\">입력 데이터 개수에 맞는 가중치 W와 b를 준비해주세요.</span>\n",
    "  - 위의 shape에서 (331, 10) 이므로 feature가 10개군요\n",
    "  - 10개의 W와 b값을 준비해야합니다.\n",
    "- <span style = \"color: #0000FF\">모델 함수를 구현해주세요.</span>"
   ]
  },
  {
   "cell_type": "code",
   "execution_count": 2313,
   "metadata": {},
   "outputs": [
    {
     "name": "stdout",
     "output_type": "stream",
     "text": [
      "[0.10942233 0.60147535 0.19364664 0.01173808 0.31198308 0.34638522\n",
      " 0.51342667 0.02395811 0.31501486 0.60219747]\n",
      "0.9923055482391934\n"
     ]
    }
   ],
   "source": [
    "# 가중치 W와 b 준비\n",
    "import numpy as np\n",
    "\n",
    "W = np.random.rand(10)\n",
    "b = np.random.rand()\n",
    "print(W,b,sep = \"\\n\")"
   ]
  },
  {
   "cell_type": "code",
   "execution_count": 2314,
   "metadata": {},
   "outputs": [],
   "source": [
    "# 모델 함수 구현\n",
    "\n",
    "def model(X, W, b):\n",
    "    predictions = 0\n",
    "    for i in range(10): # W가 10개 이므로 10번 반복\n",
    "        predictions += X[:, i] * W[i]\n",
    "    predictions += b\n",
    "    return predictions"
   ]
  },
  {
   "cell_type": "markdown",
   "metadata": {},
   "source": [
    "#### (6) 손실함수 loss 정의하기"
   ]
  },
  {
   "cell_type": "markdown",
   "metadata": {},
   "source": [
    "- <span style = \"color: #0000FF\">손실함수를 MSE 함수로 정의해주세요.</span>"
   ]
  },
  {
   "cell_type": "code",
   "execution_count": 2315,
   "metadata": {},
   "outputs": [],
   "source": [
    "# a,b = 실제값, 예측값\n",
    "def MSE(a,b):\n",
    "    value = ((a-b)**2).mean()\n",
    "    return value\n",
    "\n",
    "\n",
    "def loss(X, W, b, y):\n",
    "    predictions = model(X, W, b)\n",
    "    L = MSE(predictions, y)\n",
    "    return L"
   ]
  },
  {
   "cell_type": "markdown",
   "metadata": {},
   "source": [
    "#### (7) 기울기를 구하는 gradient 함수 구현하기"
   ]
  },
  {
   "cell_type": "markdown",
   "metadata": {},
   "source": [
    "- <span style = \"color: #0000FF\">기울기를 계산하는 gradient 함수를 구현해주세요.</span>  \n",
    "  - 편미분을 활용한 함수를 만들어보겠습니다."
   ]
  },
  {
   "cell_type": "code",
   "execution_count": 2316,
   "metadata": {},
   "outputs": [],
   "source": [
    "def gradient(X, W, b, y):\n",
    "    N = len(W)\n",
    "    y_pred = model(X,W,b)\n",
    "    dW = 1/N * 2 * X.T.dot(y_pred - y)\n",
    "    db = 2 * (y_pred - y).mean()\n",
    "    return dW, db"
   ]
  },
  {
   "cell_type": "markdown",
   "metadata": {},
   "source": [
    "#### (8) 하이퍼 파라미터인 학습률 설정하기"
   ]
  },
  {
   "cell_type": "markdown",
   "metadata": {},
   "source": [
    "- <span style = \"color: #0000FF\">학습률, learning rate 를 설정해주세요</span>  \n",
    "  - 처음에는 1로 해보겠습니다.\n",
    "- <span style = \"color: #0000FF\">만약 학습이 잘 되지 않는다면 learning rate 값을 한번 여러 가지로 설정하며 실험해 보세요.</span> \n",
    "  -  1 -> 0.1 -> 0.01 -> 0.75"
   ]
  },
  {
   "cell_type": "code",
   "execution_count": 2317,
   "metadata": {},
   "outputs": [],
   "source": [
    "# 학습률 설정\n",
    "LEARNING_RATE = 1"
   ]
  },
  {
   "cell_type": "markdown",
   "metadata": {},
   "source": [
    "#### (9) 모델 학습하기"
   ]
  },
  {
   "cell_type": "markdown",
   "metadata": {},
   "source": [
    "- <span style = \"color: #0000FF\">정의된 손실함수와 기울기 함수로 모델을 학습해주세요.</span>  \n",
    "- <span style = \"color: #0000FF\">loss값이 충분히 떨어질 때까지 학습을 진행해주세요.</span>\n",
    "  - 30 -> 1000 -> 10000 -> 2000\n",
    "- <span style = \"color: #0000FF\">입력하는 데이터인 X에 들어가는 특성 컬럼들을 몇 개 빼도 괜찮습니다. 다양한 데이터로 실험해 보세요.</span>  "
   ]
  },
  {
   "cell_type": "code",
   "execution_count": 2318,
   "metadata": {},
   "outputs": [
    {
     "name": "stdout",
     "output_type": "stream",
     "text": [
      "Iteration 1 : Loss 27963.68\n",
      "Iteration 10 : Loss 27709.96\n",
      "Iteration 20 : Loss 28657.80\n",
      "Iteration 30 : Loss 29689.48\n"
     ]
    }
   ],
   "source": [
    "losses = []\n",
    "\n",
    "for i in range(1, 31):\n",
    "    dW, db = gradient(X_train, W, b, y_train)\n",
    "    W -= LEARNING_RATE * dW\n",
    "    b -= LEARNING_RATE * db\n",
    "    L = loss(X_train, W, b, y_train)\n",
    "    losses.append(L)\n",
    "    if i == 1 or i %10 == 0:\n",
    "        print('Iteration %d : Loss %0.2f' % (i, L))"
   ]
  },
  {
   "cell_type": "code",
   "execution_count": 2319,
   "metadata": {},
   "outputs": [
    {
     "data": {
      "image/png": "[encoded data removed]",
      "text/plain": [
       "<Figure size 432x288 with 1 Axes>"
      ]
     },
     "metadata": {
      "needs_background": "light"
     },
     "output_type": "display_data"
    }
   ],
   "source": [
    "import matplotlib.pyplot as plt\n",
    "plt.plot(losses)\n",
    "plt.show()"
   ]
  },
  {
   "cell_type": "markdown",
   "metadata": {},
   "source": [
    "그래프로 표현해보니 감소하다가 증가해버리네요.    \n",
    "LEARNING_RATE 값을 너무 크게 줘서 넘어가버린거 같습니다.  \n",
    "이번에는 LEARNING_RATE를 0.1로 주겠습니다."
   ]
  },
  {
   "cell_type": "code",
   "execution_count": 2320,
   "metadata": {},
   "outputs": [
    {
     "name": "stdout",
     "output_type": "stream",
     "text": [
      "Iteration 1 : Loss 20848.47\n",
      "Iteration 10 : Loss 4605.40\n",
      "Iteration 20 : Loss 3750.92\n",
      "Iteration 30 : Loss 3467.25\n"
     ]
    },
    {
     "data": {
      "image/png": "[encoded data removed]",
      "text/plain": [
       "<Figure size 432x288 with 1 Axes>"
      ]
     },
     "metadata": {
      "needs_background": "light"
     },
     "output_type": "display_data"
    }
   ],
   "source": [
    "W = np.random.rand(10)\n",
    "b = np.random.rand()\n",
    "LEARNING_RATE = 0.1\n",
    "\n",
    "losses = []\n",
    "\n",
    "for i in range(1, 31):\n",
    "    dW, db = gradient(X_train, W, b, y_train)\n",
    "    W -= LEARNING_RATE * dW\n",
    "    b -= LEARNING_RATE * db\n",
    "    L = loss(X_train, W, b, y_train)\n",
    "    losses.append(L)\n",
    "    if i == 1 or i %10 == 0:\n",
    "        print('Iteration %d : Loss %0.2f' % (i, L))\n",
    "        \n",
    "plt.plot(losses)\n",
    "plt.show()"
   ]
  },
  {
   "cell_type": "markdown",
   "metadata": {},
   "source": [
    "아 이번에는 확실히 값이 줄었습니다.  \n",
    "혹시 모르니 LEARNING_RATE를 0.01로도 주겠습니다."
   ]
  },
  {
   "cell_type": "code",
   "execution_count": 2321,
   "metadata": {},
   "outputs": [
    {
     "name": "stdout",
     "output_type": "stream",
     "text": [
      "Iteration 1 : Loss 28807.49\n",
      "Iteration 10 : Loss 21583.21\n",
      "Iteration 20 : Loss 16061.53\n",
      "Iteration 30 : Loss 12330.56\n"
     ]
    },
    {
     "data": {
      "image/png": "[encoded data removed]",
      "text/plain": [
       "<Figure size 432x288 with 1 Axes>"
      ]
     },
     "metadata": {
      "needs_background": "light"
     },
     "output_type": "display_data"
    }
   ],
   "source": [
    "W = np.random.rand(10)\n",
    "b = np.random.rand()\n",
    "LEARNING_RATE = 0.01\n",
    "\n",
    "losses = []\n",
    "\n",
    "for i in range(1, 31):\n",
    "    dW, db = gradient(X_train, W, b, y_train)\n",
    "    W -= LEARNING_RATE * dW\n",
    "    b -= LEARNING_RATE * db\n",
    "    L = loss(X_train, W, b, y_train)\n",
    "    losses.append(L)\n",
    "    if i == 1 or i %10 == 0:\n",
    "        print('Iteration %d : Loss %0.2f' % (i, L))\n",
    "        \n",
    "plt.plot(losses)\n",
    "plt.show()"
   ]
  },
  {
   "cell_type": "markdown",
   "metadata": {},
   "source": [
    "역시 줄긴 했지만 최종 loss 값이 0.1때보다 높습니다.  \n",
    "아무래도 값을 너무 낮게 준거 같군요.  \n",
    "0.1과 1사이를 넣어볼까요? - 0.75"
   ]
  },
  {
   "cell_type": "code",
   "execution_count": 2322,
   "metadata": {},
   "outputs": [
    {
     "name": "stdout",
     "output_type": "stream",
     "text": [
      "Iteration 1 : Loss 10434.20\n",
      "Iteration 10 : Loss 3049.28\n",
      "Iteration 20 : Loss 2951.40\n",
      "Iteration 30 : Loss 2938.45\n"
     ]
    },
    {
     "data": {
      "image/png": "[encoded data removed]",
      "text/plain": [
       "<Figure size 432x288 with 1 Axes>"
      ]
     },
     "metadata": {
      "needs_background": "light"
     },
     "output_type": "display_data"
    }
   ],
   "source": [
    "W = np.random.rand(10)\n",
    "b = np.random.rand()\n",
    "LEARNING_RATE = 0.75\n",
    "\n",
    "losses = []\n",
    "\n",
    "for i in range(1, 31):\n",
    "    dW, db = gradient(X_train, W, b, y_train)\n",
    "    W -= LEARNING_RATE * dW\n",
    "    b -= LEARNING_RATE * db\n",
    "    L = loss(X_train, W, b, y_train)\n",
    "    losses.append(L)\n",
    "    if i == 1 or i %10 == 0:\n",
    "        print('Iteration %d : Loss %0.2f' % (i, L))\n",
    "        \n",
    "plt.plot(losses)\n",
    "plt.show()"
   ]
  },
  {
   "cell_type": "markdown",
   "metadata": {},
   "source": [
    "0.1때 보다 최종 loss 값이 줄었습니다!  \n",
    "이제 횟수를 늘려서 좀더 loss 값을 줄여보겠습니다. -> 1000"
   ]
  },
  {
   "cell_type": "code",
   "execution_count": 2323,
   "metadata": {},
   "outputs": [
    {
     "name": "stdout",
     "output_type": "stream",
     "text": [
      "Iteration 1 : Loss 10420.94\n",
      "Iteration 100 : Loss 2931.65\n",
      "Iteration 200 : Loss 2926.93\n",
      "Iteration 300 : Loss 2923.13\n",
      "Iteration 400 : Loss 2920.06\n",
      "Iteration 500 : Loss 2917.59\n",
      "Iteration 600 : Loss 2915.59\n",
      "Iteration 700 : Loss 2913.98\n",
      "Iteration 800 : Loss 2912.68\n",
      "Iteration 900 : Loss 2911.63\n",
      "Iteration 1000 : Loss 2910.79\n"
     ]
    },
    {
     "data": {
      "image/png": "[encoded data removed]",
      "text/plain": [
       "<Figure size 432x288 with 1 Axes>"
      ]
     },
     "metadata": {
      "needs_background": "light"
     },
     "output_type": "display_data"
    }
   ],
   "source": [
    "W = np.random.rand(10)\n",
    "b = np.random.rand()\n",
    "LEARNING_RATE = 0.75\n",
    "\n",
    "losses = []\n",
    "\n",
    "for i in range(1, 1001):\n",
    "    dW, db = gradient(X_train, W, b, y_train)\n",
    "    W -= LEARNING_RATE * dW\n",
    "    b -= LEARNING_RATE * db\n",
    "    L = loss(X_train, W, b, y_train)\n",
    "    losses.append(L)\n",
    "    if i == 1 or i %100 == 0:\n",
    "        print('Iteration %d : Loss %0.2f' % (i, L))\n",
    "        \n",
    "plt.plot(losses)\n",
    "plt.show()"
   ]
  },
  {
   "cell_type": "markdown",
   "metadata": {},
   "source": [
    "loss 값이 계속 줄고 있습니다. 횟수를 계속 늘려볼까요? -> 10000"
   ]
  },
  {
   "cell_type": "code",
   "execution_count": 2324,
   "metadata": {},
   "outputs": [
    {
     "name": "stdout",
     "output_type": "stream",
     "text": [
      "Iteration 1 : Loss 10452.9606\n",
      "Iteration 1000 : Loss 2910.7896\n",
      "Iteration 2000 : Loss 2907.6703\n",
      "Iteration 3000 : Loss 2907.3059\n",
      "Iteration 4000 : Loss 2907.2634\n",
      "Iteration 5000 : Loss 2907.2584\n",
      "Iteration 6000 : Loss 2907.2578\n",
      "Iteration 7000 : Loss 2907.2578\n",
      "Iteration 8000 : Loss 2907.2578\n",
      "Iteration 9000 : Loss 2907.2578\n",
      "Iteration 10000 : Loss 2907.2578\n"
     ]
    },
    {
     "data": {
      "image/png": "[encoded data removed]",
      "text/plain": [
       "<Figure size 432x288 with 1 Axes>"
      ]
     },
     "metadata": {
      "needs_background": "light"
     },
     "output_type": "display_data"
    }
   ],
   "source": [
    "\n",
    "W = np.random.rand(10)\n",
    "b = np.random.rand()\n",
    "LEARNING_RATE = 0.75\n",
    "\n",
    "losses = []\n",
    "\n",
    "for i in range(1, 10001):\n",
    "    dW, db = gradient(X_train, W, b, y_train)\n",
    "    W -= LEARNING_RATE * dW\n",
    "    b -= LEARNING_RATE * db\n",
    "    L = loss(X_train, W, b, y_train)\n",
    "    losses.append(L)\n",
    "    if i == 1 or i %1000 == 0:\n",
    "        print('Iteration %d : Loss %0.4f' % (i, L))\n",
    "        \n",
    "plt.xlim(1000, 10000)\n",
    "plt.ylim(2907, 2910)\n",
    "plt.plot(losses)\n",
    "plt.show()"
   ]
  },
  {
   "cell_type": "markdown",
   "metadata": {},
   "source": [
    "2000번 이후로는 소수점 자리만 바뀔 뿐, 큰 변화가 없습니다.  \n",
    "2000번 정도만 해도 충분할 거 같네요."
   ]
  },
  {
   "cell_type": "code",
   "execution_count": 2325,
   "metadata": {},
   "outputs": [
    {
     "name": "stdout",
     "output_type": "stream",
     "text": [
      "Iteration 1 : Loss 10412.6601\n",
      "Iteration 200 : Loss 2926.9151\n",
      "Iteration 400 : Loss 2920.0520\n",
      "Iteration 600 : Loss 2915.5851\n",
      "Iteration 800 : Loss 2912.6777\n",
      "Iteration 1000 : Loss 2910.7854\n",
      "Iteration 1200 : Loss 2909.5538\n",
      "Iteration 1400 : Loss 2908.7522\n",
      "Iteration 1600 : Loss 2908.2304\n",
      "Iteration 1800 : Loss 2907.8908\n",
      "Iteration 2000 : Loss 2907.6698\n"
     ]
    },
    {
     "data": {
      "image/png": "[encoded data removed]",
      "text/plain": [
       "<Figure size 432x288 with 1 Axes>"
      ]
     },
     "metadata": {
      "needs_background": "light"
     },
     "output_type": "display_data"
    },
    {
     "data": {
      "image/png": "[encoded data removed]",
      "text/plain": [
       "<Figure size 432x288 with 1 Axes>"
      ]
     },
     "metadata": {
      "needs_background": "light"
     },
     "output_type": "display_data"
    }
   ],
   "source": [
    "W = np.random.rand(10)\n",
    "b = np.random.rand()\n",
    "LEARNING_RATE = 0.75\n",
    "\n",
    "losses = []\n",
    "\n",
    "for i in range(1, 2001):\n",
    "    dW, db = gradient(X_train, W, b, y_train)\n",
    "    W -= LEARNING_RATE * dW\n",
    "    b -= LEARNING_RATE * db\n",
    "    L = loss(X_train, W, b, y_train)\n",
    "    losses.append(L)\n",
    "    if i == 1 or i %200 == 0:\n",
    "        print('Iteration %d : Loss %0.4f' % (i, L))\n",
    "        \n",
    "plt.plot(losses)\n",
    "plt.show()\n",
    "\n",
    "plt.xlim(100, 2000)\n",
    "plt.ylim(2907, 2940)\n",
    "plt.plot(losses)\n",
    "plt.show()"
   ]
  },
  {
   "cell_type": "markdown",
   "metadata": {},
   "source": [
    "df_X에서 제거해도 무방할 column이 있을까요?  \n",
    "diabetes의 feature들에 대해 알아봅시다.  \n",
    "[diabetes dataset 정보](https://scikit-learn.org/stable/datasets/toy_dataset.html#diabetes-dataset)"
   ]
  },
  {
   "cell_type": "code",
   "execution_count": 2326,
   "metadata": {},
   "outputs": [
    {
     "name": "stdout",
     "output_type": "stream",
     "text": [
      "dict_keys(['data', 'target', 'frame', 'DESCR', 'feature_names', 'data_filename', 'target_filename', 'data_module'])\n"
     ]
    },
    {
     "data": {
      "text/plain": [
       "['age', 'sex', 'bmi', 'bp', 's1', 's2', 's3', 's4', 's5', 's6']"
      ]
     },
     "execution_count": 2326,
     "metadata": {},
     "output_type": "execute_result"
    }
   ],
   "source": [
    "print(diabetes.keys())\n",
    "diabetes.feature_names"
   ]
  },
  {
   "cell_type": "markdown",
   "metadata": {},
   "source": [
    "* age :age in years\n",
    "* sex\n",
    "* bmi : body mass index\n",
    "* bp : average blood pressure\n",
    "* s1 : tc, total serum cholesterol\n",
    "* s2 : ldl, low-density lipoproteins\n",
    "* s3 : hdl, high-density lipoproteins\n",
    "* s4 : tch, total cholesterol / HDL\n",
    "* s5 : ltg, possibly log of serum triglycerides level\n",
    "* s6 : glu, blood sugar level  \n",
    "  \n",
    "이런 내용들이네요. sex column만 제거 해볼까요?  \n",
    "np.delete를 사용해 2번째 열인 sex를 삭제해봅시다."
   ]
  },
  {
   "cell_type": "code",
   "execution_count": 2327,
   "metadata": {},
   "outputs": [
    {
     "name": "stdout",
     "output_type": "stream",
     "text": [
      "(442, 10)\n",
      "[ 0.03807591  0.05068012  0.06169621  0.02187239 -0.0442235  -0.03482076\n",
      " -0.04340085 -0.00259226  0.01990749 -0.01764613]\n",
      "(442, 9)\n",
      "[ 0.03807591  0.06169621  0.02187239 -0.0442235  -0.03482076 -0.04340085\n",
      " -0.00259226  0.01990749 -0.01764613]\n"
     ]
    }
   ],
   "source": [
    "import pandas as pd\n",
    "\n",
    "df_X=diabetes.data\n",
    "print(df_X.shape)\n",
    "print(df_X[0])\n",
    "new_df_X = np.delete(df_X, 1, axis =1)\n",
    "print(new_df_X.shape)\n",
    "print(new_df_X[0])"
   ]
  },
  {
   "cell_type": "markdown",
   "metadata": {},
   "source": [
    "정상적으로 삭제가 되었군요. 근데 여기까지 만들었던 형식은 다 feature가 10개인 기준으로 만들었습니다.  \n",
    "9개인 기준으로 다시 만들어볼까요.  \n",
    "나머지는 마지막에 실험하였던 LEARNING_RATE = 0.75, 2000번으로 하겠습니다."
   ]
  },
  {
   "cell_type": "code",
   "execution_count": 2328,
   "metadata": {},
   "outputs": [
    {
     "name": "stdout",
     "output_type": "stream",
     "text": [
      "(331, 9) (111, 9)\n",
      "Iteration 1 : Loss 10325.0564\n",
      "Iteration 200 : Loss 3031.1583\n",
      "Iteration 400 : Loss 3024.4472\n",
      "Iteration 600 : Loss 3020.2948\n",
      "Iteration 800 : Loss 3017.7187\n",
      "Iteration 1000 : Loss 3016.1204\n",
      "Iteration 1200 : Loss 3015.1288\n",
      "Iteration 1400 : Loss 3014.5135\n",
      "Iteration 1600 : Loss 3014.1318\n",
      "Iteration 1800 : Loss 3013.8949\n",
      "Iteration 2000 : Loss 3013.7480\n"
     ]
    },
    {
     "data": {
      "image/png": "[encoded data removed]",
      "text/plain": [
       "<Figure size 432x288 with 1 Axes>"
      ]
     },
     "metadata": {
      "needs_background": "light"
     },
     "output_type": "display_data"
    },
    {
     "data": {
      "image/png": "[encoded data removed]",
      "text/plain": [
       "<Figure size 432x288 with 1 Axes>"
      ]
     },
     "metadata": {
      "needs_background": "light"
     },
     "output_type": "display_data"
    }
   ],
   "source": [
    "X_train, X_test, y_train, y_test = train_test_split(new_df_X, df_y, test_size=0.25, random_state=42)\n",
    "\n",
    "def model(X, W, b):\n",
    "    predictions = 0\n",
    "    for i in range(9): # W가 9개로 변경되었으므로 9번 반복\n",
    "        predictions += X[:, i] * W[i]\n",
    "    predictions += b\n",
    "    return predictions\n",
    "\n",
    "print(X_train.shape, X_test.shape)\n",
    "\n",
    "W = np.random.rand(9) # 10개에서 9개로 변경\n",
    "b = np.random.rand()\n",
    "LEARNING_RATE = 0.75\n",
    "\n",
    "losses = []\n",
    "\n",
    "for i in range(1, 2001):\n",
    "    dW, db = gradient(X_train, W, b, y_train)\n",
    "    W -= LEARNING_RATE * dW\n",
    "    b -= LEARNING_RATE * db\n",
    "    L = loss(X_train, W, b, y_train)\n",
    "    losses.append(L)\n",
    "    if i == 1 or i %200 == 0:\n",
    "        print('Iteration %d : Loss %0.4f' % (i, L))\n",
    "        \n",
    "plt.plot(losses)\n",
    "plt.show()\n",
    "\n",
    "plt.xlim(100, 2000)\n",
    "plt.ylim(3010, 3050)\n",
    "plt.plot(losses)\n",
    "plt.show()"
   ]
  },
  {
   "cell_type": "markdown",
   "metadata": {},
   "source": [
    "오히려 마지막 loss 값이 증가해버렸군요.  \n",
    "그대로 column들을 냅두는게 나을 것 같습니다."
   ]
  },
  {
   "cell_type": "markdown",
   "metadata": {},
   "source": [
    "#### (10) test 데이터에 대한 성능 확인하기"
   ]
  },
  {
   "cell_type": "markdown",
   "metadata": {},
   "source": [
    "- <span style = \"color: #0000FF\">test 데이터에 대한 성능을 확인해주세요.</span>  \n"
   ]
  },
  {
   "cell_type": "markdown",
   "metadata": {},
   "source": [
    "test 데이터의 성능을 확인하기 위해 loss의 결과가 가장 좋았던  \n",
    "10개 열 모두 사용 + LEARNING_RATE = 0.75, 2천번을\n",
    "가져오겠습니다."
   ]
  },
  {
   "cell_type": "code",
   "execution_count": 2329,
   "metadata": {},
   "outputs": [
    {
     "name": "stdout",
     "output_type": "stream",
     "text": [
      "(331, 10) (111, 10)\n",
      "Iteration 1 : Loss 10439.8869\n",
      "Iteration 200 : Loss 2926.9219\n",
      "Iteration 400 : Loss 2920.0564\n",
      "Iteration 600 : Loss 2915.5880\n",
      "Iteration 800 : Loss 2912.6796\n",
      "Iteration 1000 : Loss 2910.7866\n",
      "Iteration 1200 : Loss 2909.5546\n",
      "Iteration 1400 : Loss 2908.7527\n",
      "Iteration 1600 : Loss 2908.2308\n",
      "Iteration 1800 : Loss 2907.8911\n",
      "Iteration 2000 : Loss 2907.6700\n",
      "[  48.35108976 -241.74461476  534.00442997  380.85118169 -820.39835641\n",
      "  431.30641731   73.01840936  255.80967221  658.3527213    27.07019428]\n",
      "151.6578301312525\n"
     ]
    }
   ],
   "source": [
    "X_train, X_test, y_train, y_test = train_test_split(df_X, df_y, test_size=0.25, random_state=42)\n",
    "\n",
    "def model(X, W, b):\n",
    "    predictions = 0\n",
    "    for i in range(10):\n",
    "        predictions += X[:, i] * W[i]\n",
    "    predictions += b\n",
    "    return predictions\n",
    "\n",
    "print(X_train.shape, X_test.shape)\n",
    "\n",
    "W = np.random.rand(10)\n",
    "b = np.random.rand()\n",
    "LEARNING_RATE = 0.75\n",
    "\n",
    "losses = []\n",
    "\n",
    "for i in range(1, 2001):\n",
    "    dW, db = gradient(X_train, W, b, y_train)\n",
    "    W -= LEARNING_RATE * dW\n",
    "    b -= LEARNING_RATE * db\n",
    "    L = loss(X_train, W, b, y_train)\n",
    "    losses.append(L)\n",
    "    if i == 1 or i %200 == 0:\n",
    "        print('Iteration %d : Loss %0.4f' % (i, L))\n",
    "        \n",
    "print(W,b, sep = \"\\n\")"
   ]
  },
  {
   "cell_type": "markdown",
   "metadata": {},
   "source": [
    "이제 성능을 확인하기 위해 test data를 loss에 넣어봅시다."
   ]
  },
  {
   "cell_type": "code",
   "execution_count": 2330,
   "metadata": {},
   "outputs": [
    {
     "data": {
      "text/plain": [
       "2846.126265750535"
      ]
     },
     "execution_count": 2330,
     "metadata": {},
     "output_type": "execute_result"
    }
   ],
   "source": [
    "loss(X_test,W,b,y_test)"
   ]
  },
  {
   "cell_type": "markdown",
   "metadata": {},
   "source": [
    "train시 가장 낮았던 loss 값과 유사하게 나왔군요."
   ]
  },
  {
   "cell_type": "markdown",
   "metadata": {},
   "source": [
    "#### (11) 정답 데이터와 예측한 데이터 시각화하기\n"
   ]
  },
  {
   "cell_type": "markdown",
   "metadata": {},
   "source": [
    "- <span style = \"color: #0000FF\">x축에는 X 데이터의 첫 번째 컬럼을, y축에는 정답인 target 데이터를 넣어서 모델이 예측한 데이터를 시각화해 주세요.</span>  "
   ]
  },
  {
   "cell_type": "code",
   "execution_count": 2331,
   "metadata": {},
   "outputs": [
    {
     "data": {
      "image/png": "[encoded data removed]",
      "text/plain": [
       "<Figure size 432x288 with 1 Axes>"
      ]
     },
     "metadata": {
      "needs_background": "light"
     },
     "output_type": "display_data"
    }
   ],
   "source": [
    "prediction = model(X_test,W,b)\n",
    "plt.scatter(X_test[:, 0], y_test, label = 'true')\n",
    "plt.scatter(X_test[:, 0], prediction, label = 'pred')\n",
    "plt.legend()\n",
    "plt.show()"
   ]
  },
  {
   "cell_type": "markdown",
   "metadata": {},
   "source": [
    "결과들이 서로 비슷하면서 다르게 나왔습니다!  \n",
    "그래도 완전히 동떨어진 결과는 아니네요."
   ]
  },
  {
   "cell_type": "markdown",
   "metadata": {},
   "source": [
    "### 프로젝트 2 : 날씨 좋은 월요일 오후 세 시, 자전거 타는 사람은 몇 명?"
   ]
  },
  {
   "cell_type": "markdown",
   "metadata": {},
   "source": [
    "#### (1) 데이터 가져오기"
   ]
  },
  {
   "cell_type": "markdown",
   "metadata": {},
   "source": [
    "- <span style = \"color: #0000FF\">터미널에서 ~/data/data/bike-sharing-demand 경로에 train.csv 데이터를 train 변수로 가져 옵니다.</span>\n",
    "  - local의 data 폴더에 다운로드하여서 사용하도록 하겠습니다.\n",
    "  - DataFrame으로 만들기 위해 pandas 라이브러리가 필요합니다.\n",
    "- [여기](https://www.kaggle.com/c/bike-sharing-demand/data)<span style = \"color: #0000FF\">에서 데이터를 상세히 확인할 수 있습니다.</span>"
   ]
  },
  {
   "cell_type": "code",
   "execution_count": 2332,
   "metadata": {},
   "outputs": [
    {
     "data": {
      "text/html": [
       "<div>\n",
       "<style scoped>\n",
       "    .dataframe tbody tr th:only-of-type {\n",
       "        vertical-align: middle;\n",
       "    }\n",
       "\n",
       "    .dataframe tbody tr th {\n",
       "        vertical-align: top;\n",
       "    }\n",
       "\n",
       "    .dataframe thead th {\n",
       "        text-align: right;\n",
       "    }\n",
       "</style>\n",
       "<table border=\"1\" class=\"dataframe\">\n",
       "  <thead>\n",
       "    <tr style=\"text-align: right;\">\n",
       "      <th></th>\n",
       "      <th>datetime</th>\n",
       "      <th>season</th>\n",
       "      <th>holiday</th>\n",
       "      <th>workingday</th>\n",
       "      <th>weather</th>\n",
       "      <th>temp</th>\n",
       "      <th>atemp</th>\n",
       "      <th>humidity</th>\n",
       "      <th>windspeed</th>\n",
       "      <th>casual</th>\n",
       "      <th>registered</th>\n",
       "      <th>count</th>\n",
       "    </tr>\n",
       "  </thead>\n",
       "  <tbody>\n",
       "    <tr>\n",
       "      <th>0</th>\n",
       "      <td>2011-01-01 00:00:00</td>\n",
       "      <td>1</td>\n",
       "      <td>0</td>\n",
       "      <td>0</td>\n",
       "      <td>1</td>\n",
       "      <td>9.84</td>\n",
       "      <td>14.395</td>\n",
       "      <td>81</td>\n",
       "      <td>0.0000</td>\n",
       "      <td>3</td>\n",
       "      <td>13</td>\n",
       "      <td>16</td>\n",
       "    </tr>\n",
       "    <tr>\n",
       "      <th>1</th>\n",
       "      <td>2011-01-01 01:00:00</td>\n",
       "      <td>1</td>\n",
       "      <td>0</td>\n",
       "      <td>0</td>\n",
       "      <td>1</td>\n",
       "      <td>9.02</td>\n",
       "      <td>13.635</td>\n",
       "      <td>80</td>\n",
       "      <td>0.0000</td>\n",
       "      <td>8</td>\n",
       "      <td>32</td>\n",
       "      <td>40</td>\n",
       "    </tr>\n",
       "    <tr>\n",
       "      <th>2</th>\n",
       "      <td>2011-01-01 02:00:00</td>\n",
       "      <td>1</td>\n",
       "      <td>0</td>\n",
       "      <td>0</td>\n",
       "      <td>1</td>\n",
       "      <td>9.02</td>\n",
       "      <td>13.635</td>\n",
       "      <td>80</td>\n",
       "      <td>0.0000</td>\n",
       "      <td>5</td>\n",
       "      <td>27</td>\n",
       "      <td>32</td>\n",
       "    </tr>\n",
       "    <tr>\n",
       "      <th>3</th>\n",
       "      <td>2011-01-01 03:00:00</td>\n",
       "      <td>1</td>\n",
       "      <td>0</td>\n",
       "      <td>0</td>\n",
       "      <td>1</td>\n",
       "      <td>9.84</td>\n",
       "      <td>14.395</td>\n",
       "      <td>75</td>\n",
       "      <td>0.0000</td>\n",
       "      <td>3</td>\n",
       "      <td>10</td>\n",
       "      <td>13</td>\n",
       "    </tr>\n",
       "    <tr>\n",
       "      <th>4</th>\n",
       "      <td>2011-01-01 04:00:00</td>\n",
       "      <td>1</td>\n",
       "      <td>0</td>\n",
       "      <td>0</td>\n",
       "      <td>1</td>\n",
       "      <td>9.84</td>\n",
       "      <td>14.395</td>\n",
       "      <td>75</td>\n",
       "      <td>0.0000</td>\n",
       "      <td>0</td>\n",
       "      <td>1</td>\n",
       "      <td>1</td>\n",
       "    </tr>\n",
       "    <tr>\n",
       "      <th>...</th>\n",
       "      <td>...</td>\n",
       "      <td>...</td>\n",
       "      <td>...</td>\n",
       "      <td>...</td>\n",
       "      <td>...</td>\n",
       "      <td>...</td>\n",
       "      <td>...</td>\n",
       "      <td>...</td>\n",
       "      <td>...</td>\n",
       "      <td>...</td>\n",
       "      <td>...</td>\n",
       "      <td>...</td>\n",
       "    </tr>\n",
       "    <tr>\n",
       "      <th>10881</th>\n",
       "      <td>2012-12-19 19:00:00</td>\n",
       "      <td>4</td>\n",
       "      <td>0</td>\n",
       "      <td>1</td>\n",
       "      <td>1</td>\n",
       "      <td>15.58</td>\n",
       "      <td>19.695</td>\n",
       "      <td>50</td>\n",
       "      <td>26.0027</td>\n",
       "      <td>7</td>\n",
       "      <td>329</td>\n",
       "      <td>336</td>\n",
       "    </tr>\n",
       "    <tr>\n",
       "      <th>10882</th>\n",
       "      <td>2012-12-19 20:00:00</td>\n",
       "      <td>4</td>\n",
       "      <td>0</td>\n",
       "      <td>1</td>\n",
       "      <td>1</td>\n",
       "      <td>14.76</td>\n",
       "      <td>17.425</td>\n",
       "      <td>57</td>\n",
       "      <td>15.0013</td>\n",
       "      <td>10</td>\n",
       "      <td>231</td>\n",
       "      <td>241</td>\n",
       "    </tr>\n",
       "    <tr>\n",
       "      <th>10883</th>\n",
       "      <td>2012-12-19 21:00:00</td>\n",
       "      <td>4</td>\n",
       "      <td>0</td>\n",
       "      <td>1</td>\n",
       "      <td>1</td>\n",
       "      <td>13.94</td>\n",
       "      <td>15.910</td>\n",
       "      <td>61</td>\n",
       "      <td>15.0013</td>\n",
       "      <td>4</td>\n",
       "      <td>164</td>\n",
       "      <td>168</td>\n",
       "    </tr>\n",
       "    <tr>\n",
       "      <th>10884</th>\n",
       "      <td>2012-12-19 22:00:00</td>\n",
       "      <td>4</td>\n",
       "      <td>0</td>\n",
       "      <td>1</td>\n",
       "      <td>1</td>\n",
       "      <td>13.94</td>\n",
       "      <td>17.425</td>\n",
       "      <td>61</td>\n",
       "      <td>6.0032</td>\n",
       "      <td>12</td>\n",
       "      <td>117</td>\n",
       "      <td>129</td>\n",
       "    </tr>\n",
       "    <tr>\n",
       "      <th>10885</th>\n",
       "      <td>2012-12-19 23:00:00</td>\n",
       "      <td>4</td>\n",
       "      <td>0</td>\n",
       "      <td>1</td>\n",
       "      <td>1</td>\n",
       "      <td>13.12</td>\n",
       "      <td>16.665</td>\n",
       "      <td>66</td>\n",
       "      <td>8.9981</td>\n",
       "      <td>4</td>\n",
       "      <td>84</td>\n",
       "      <td>88</td>\n",
       "    </tr>\n",
       "  </tbody>\n",
       "</table>\n",
       "<p>10886 rows × 12 columns</p>\n",
       "</div>"
      ],
      "text/plain": [
       "                  datetime  season  holiday  ...  casual  registered  count\n",
       "0      2011-01-01 00:00:00       1        0  ...       3          13     16\n",
       "1      2011-01-01 01:00:00       1        0  ...       8          32     40\n",
       "2      2011-01-01 02:00:00       1        0  ...       5          27     32\n",
       "3      2011-01-01 03:00:00       1        0  ...       3          10     13\n",
       "4      2011-01-01 04:00:00       1        0  ...       0           1      1\n",
       "...                    ...     ...      ...  ...     ...         ...    ...\n",
       "10881  2012-12-19 19:00:00       4        0  ...       7         329    336\n",
       "10882  2012-12-19 20:00:00       4        0  ...      10         231    241\n",
       "10883  2012-12-19 21:00:00       4        0  ...       4         164    168\n",
       "10884  2012-12-19 22:00:00       4        0  ...      12         117    129\n",
       "10885  2012-12-19 23:00:00       4        0  ...       4          84     88\n",
       "\n",
       "[10886 rows x 12 columns]"
      ]
     },
     "execution_count": 2332,
     "metadata": {},
     "output_type": "execute_result"
    }
   ],
   "source": [
    "import pandas as pd\n",
    "\n",
    "train = pd.read_csv(\"/home/aiffel/Code/Exploration Submit/2/data/train.csv\")\n",
    "train"
   ]
  },
  {
   "cell_type": "markdown",
   "metadata": {},
   "source": [
    "train은 12개의 컬럼을 가지고있고 datetime을 제외하고는 다 숫자인것 같습니다."
   ]
  },
  {
   "cell_type": "markdown",
   "metadata": {},
   "source": [
    "#### (2) datetime 컬럼을 datetime 자료형으로 변환하고 연, 월, 일, 시, 분, 초까지 6가지 컬럼 생성하기"
   ]
  },
  {
   "cell_type": "markdown",
   "metadata": {},
   "source": [
    "- <span style = \"color: #0000FF\">to_datetime 활용 :</span> [링크](https://pandas.pydata.org/pandas-docs/stable/reference/api/pandas.to_datetime.html#pandas.to_datetime) <span style = \"color: #0000FF\">참조</span> \n",
    "- <span style = \"color: #0000FF\">pandas datetime extract year month day 키워드로 검색해 보기</span>"
   ]
  },
  {
   "cell_type": "code",
   "execution_count": 2333,
   "metadata": {},
   "outputs": [
    {
     "data": {
      "text/html": [
       "<div>\n",
       "<style scoped>\n",
       "    .dataframe tbody tr th:only-of-type {\n",
       "        vertical-align: middle;\n",
       "    }\n",
       "\n",
       "    .dataframe tbody tr th {\n",
       "        vertical-align: top;\n",
       "    }\n",
       "\n",
       "    .dataframe thead th {\n",
       "        text-align: right;\n",
       "    }\n",
       "</style>\n",
       "<table border=\"1\" class=\"dataframe\">\n",
       "  <thead>\n",
       "    <tr style=\"text-align: right;\">\n",
       "      <th></th>\n",
       "      <th>datetime</th>\n",
       "      <th>year</th>\n",
       "      <th>month</th>\n",
       "      <th>day</th>\n",
       "      <th>hour</th>\n",
       "      <th>minute</th>\n",
       "      <th>second</th>\n",
       "    </tr>\n",
       "  </thead>\n",
       "  <tbody>\n",
       "    <tr>\n",
       "      <th>0</th>\n",
       "      <td>2011-01-01 00:00:00</td>\n",
       "      <td>2011</td>\n",
       "      <td>1</td>\n",
       "      <td>1</td>\n",
       "      <td>0</td>\n",
       "      <td>0</td>\n",
       "      <td>0</td>\n",
       "    </tr>\n",
       "    <tr>\n",
       "      <th>1</th>\n",
       "      <td>2011-01-01 01:00:00</td>\n",
       "      <td>2011</td>\n",
       "      <td>1</td>\n",
       "      <td>1</td>\n",
       "      <td>1</td>\n",
       "      <td>0</td>\n",
       "      <td>0</td>\n",
       "    </tr>\n",
       "    <tr>\n",
       "      <th>2</th>\n",
       "      <td>2011-01-01 02:00:00</td>\n",
       "      <td>2011</td>\n",
       "      <td>1</td>\n",
       "      <td>1</td>\n",
       "      <td>2</td>\n",
       "      <td>0</td>\n",
       "      <td>0</td>\n",
       "    </tr>\n",
       "    <tr>\n",
       "      <th>3</th>\n",
       "      <td>2011-01-01 03:00:00</td>\n",
       "      <td>2011</td>\n",
       "      <td>1</td>\n",
       "      <td>1</td>\n",
       "      <td>3</td>\n",
       "      <td>0</td>\n",
       "      <td>0</td>\n",
       "    </tr>\n",
       "    <tr>\n",
       "      <th>4</th>\n",
       "      <td>2011-01-01 04:00:00</td>\n",
       "      <td>2011</td>\n",
       "      <td>1</td>\n",
       "      <td>1</td>\n",
       "      <td>4</td>\n",
       "      <td>0</td>\n",
       "      <td>0</td>\n",
       "    </tr>\n",
       "    <tr>\n",
       "      <th>...</th>\n",
       "      <td>...</td>\n",
       "      <td>...</td>\n",
       "      <td>...</td>\n",
       "      <td>...</td>\n",
       "      <td>...</td>\n",
       "      <td>...</td>\n",
       "      <td>...</td>\n",
       "    </tr>\n",
       "    <tr>\n",
       "      <th>10881</th>\n",
       "      <td>2012-12-19 19:00:00</td>\n",
       "      <td>2012</td>\n",
       "      <td>12</td>\n",
       "      <td>19</td>\n",
       "      <td>19</td>\n",
       "      <td>0</td>\n",
       "      <td>0</td>\n",
       "    </tr>\n",
       "    <tr>\n",
       "      <th>10882</th>\n",
       "      <td>2012-12-19 20:00:00</td>\n",
       "      <td>2012</td>\n",
       "      <td>12</td>\n",
       "      <td>19</td>\n",
       "      <td>20</td>\n",
       "      <td>0</td>\n",
       "      <td>0</td>\n",
       "    </tr>\n",
       "    <tr>\n",
       "      <th>10883</th>\n",
       "      <td>2012-12-19 21:00:00</td>\n",
       "      <td>2012</td>\n",
       "      <td>12</td>\n",
       "      <td>19</td>\n",
       "      <td>21</td>\n",
       "      <td>0</td>\n",
       "      <td>0</td>\n",
       "    </tr>\n",
       "    <tr>\n",
       "      <th>10884</th>\n",
       "      <td>2012-12-19 22:00:00</td>\n",
       "      <td>2012</td>\n",
       "      <td>12</td>\n",
       "      <td>19</td>\n",
       "      <td>22</td>\n",
       "      <td>0</td>\n",
       "      <td>0</td>\n",
       "    </tr>\n",
       "    <tr>\n",
       "      <th>10885</th>\n",
       "      <td>2012-12-19 23:00:00</td>\n",
       "      <td>2012</td>\n",
       "      <td>12</td>\n",
       "      <td>19</td>\n",
       "      <td>23</td>\n",
       "      <td>0</td>\n",
       "      <td>0</td>\n",
       "    </tr>\n",
       "  </tbody>\n",
       "</table>\n",
       "<p>10886 rows × 7 columns</p>\n",
       "</div>"
      ],
      "text/plain": [
       "                 datetime  year  month  day  hour  minute  second\n",
       "0     2011-01-01 00:00:00  2011      1    1     0       0       0\n",
       "1     2011-01-01 01:00:00  2011      1    1     1       0       0\n",
       "2     2011-01-01 02:00:00  2011      1    1     2       0       0\n",
       "3     2011-01-01 03:00:00  2011      1    1     3       0       0\n",
       "4     2011-01-01 04:00:00  2011      1    1     4       0       0\n",
       "...                   ...   ...    ...  ...   ...     ...     ...\n",
       "10881 2012-12-19 19:00:00  2012     12   19    19       0       0\n",
       "10882 2012-12-19 20:00:00  2012     12   19    20       0       0\n",
       "10883 2012-12-19 21:00:00  2012     12   19    21       0       0\n",
       "10884 2012-12-19 22:00:00  2012     12   19    22       0       0\n",
       "10885 2012-12-19 23:00:00  2012     12   19    23       0       0\n",
       "\n",
       "[10886 rows x 7 columns]"
      ]
     },
     "execution_count": 2333,
     "metadata": {},
     "output_type": "execute_result"
    }
   ],
   "source": [
    "# triain의 datetime 열을 datatime 형태로 만들어 줍니다.\n",
    "train['datetime'] = pd.to_datetime(train['datetime'])\n",
    "# dt.시간을 통해 새로운 열에 맞는 시간들을 넣습니다.\n",
    "train['year'] = pd.to_datetime(train['datetime']).dt.year\n",
    "train['month'] = pd.to_datetime(train['datetime']).dt.month\n",
    "train['day'] = pd.to_datetime(train['datetime']).dt.day\n",
    "train['hour'] = pd.to_datetime(train['datetime']).dt.hour\n",
    "train['minute'] = pd.to_datetime(train['datetime']).dt.minute\n",
    "train['second'] = pd.to_datetime(train['datetime']).dt.second\n",
    "# 확인용 출력\n",
    "train[['datetime','year','month','day','hour','minute','second']]"
   ]
  },
  {
   "cell_type": "markdown",
   "metadata": {},
   "source": [
    "#### (3) year, month, day, hour, minute, second 데이터 개수 시각화하기"
   ]
  },
  {
   "cell_type": "markdown",
   "metadata": {},
   "source": [
    "- <span style = \"color: #0000FF\">sns.countplot 활용해서 시각화하기</span>\n",
    "  - [seabron document](https://seaborn.pydata.org/generated/seaborn.countplot.html)를 참고하였습니다.\n",
    "  - seaborn을 먼저 import 합니다.\n",
    "  - countplot (x = \"데이터의 열의 이름\" , data = 해당 데이터프레임 , ax = subplot 위치) 로 지정합니다.\n",
    "- <span style = \"color: #0000FF\">subplot을 활용해서 한 번에 6개의 그래프 함께 시각화하기</span>\n",
    "  - [matplotlib document](https://matplotlib.org/stable/api/_as_gen/matplotlib.pyplot.subplots.html)를 참고하였습니다.\n",
    "  - subplot(행,열)로 만들고 그래프 만들때 ax 값을 지정해줍니다.\n",
    "  - fig.set_figheight와 fig.set_figwidth로 그래프 전체 크기를 늘려주었습니다."
   ]
  },
  {
   "cell_type": "code",
   "execution_count": 2334,
   "metadata": {},
   "outputs": [
    {
     "data": {
      "image/png": "[encoded data removed]",
      "text/plain": [
       "<Figure size 1080x720 with 6 Axes>"
      ]
     },
     "metadata": {
      "needs_background": "light"
     },
     "output_type": "display_data"
    }
   ],
   "source": [
    "import seaborn as sns\n",
    "import matplotlib.pyplot as plt\n",
    "\n",
    "fig, axes = plt.subplots(3,2)\n",
    "fig.set_figheight(10)\n",
    "fig.set_figwidth(15)\n",
    "\n",
    "sns.countplot(x = 'year', data =  train[['year']], ax = axes[0][0])\n",
    "sns.countplot(x = 'month', data =  train[['month']], ax = axes[0][1])\n",
    "sns.countplot(x = 'day', data =  train[['day']], ax = axes[1][0])\n",
    "sns.countplot(x = 'hour', data =  train[['hour']], ax = axes[1][1])\n",
    "sns.countplot(x = 'minute', data =  train[['minute']], ax = axes[2][0])\n",
    "sns.countplot(x = 'second', data =  train[['second']], ax = axes[2][1])\n",
    "\n",
    "plt.show()"
   ]
  },
  {
   "cell_type": "markdown",
   "metadata": {},
   "source": [
    "#### (4) X, y 컬럼 선택 및 train/test 데이터 분리"
   ]
  },
  {
   "cell_type": "markdown",
   "metadata": {},
   "source": [
    "- <span style = \"color: #0000FF\">X (feature) 에는 어떤 데이터 컬럼을 넣어야 될지 고민해 봅시다  \n",
    "  데이터 컬럼을 추가하거나 빼면서 잘 조합하여 데이터를 넣기 바랍니다.  \n",
    "  만일 모든 데이터 컬럼(특징)을 넣는다면 오차 값이 말도 안 되게 적게 나올 수도 있습니다.  \n",
    "  ex) count를 예측하는데 casual,registered 컬럼이 필요할까요?</span>\n",
    "  - 먼저 그럼 columns들을 나열하고 [document](https://www.kaggle.com/c/bike-sharing-demand/data)에서 내용을 봅시다.\n",
    "- <span style = \"color: #0000FF\">count 값을 맞추고자 하므로, y 변수에 count 컬럼의 데이터 넣기</span>"
   ]
  },
  {
   "cell_type": "code",
   "execution_count": 2335,
   "metadata": {},
   "outputs": [
    {
     "name": "stdout",
     "output_type": "stream",
     "text": [
      "(10886, 18)\n",
      "Index(['datetime', 'season', 'holiday', 'workingday', 'weather', 'temp',\n",
      "       'atemp', 'humidity', 'windspeed', 'casual', 'registered', 'count',\n",
      "       'year', 'month', 'day', 'hour', 'minute', 'second'],\n",
      "      dtype='object')\n"
     ]
    },
    {
     "data": {
      "text/html": [
       "<div>\n",
       "<style scoped>\n",
       "    .dataframe tbody tr th:only-of-type {\n",
       "        vertical-align: middle;\n",
       "    }\n",
       "\n",
       "    .dataframe tbody tr th {\n",
       "        vertical-align: top;\n",
       "    }\n",
       "\n",
       "    .dataframe thead th {\n",
       "        text-align: right;\n",
       "    }\n",
       "</style>\n",
       "<table border=\"1\" class=\"dataframe\">\n",
       "  <thead>\n",
       "    <tr style=\"text-align: right;\">\n",
       "      <th></th>\n",
       "      <th>datetime</th>\n",
       "      <th>season</th>\n",
       "      <th>holiday</th>\n",
       "      <th>workingday</th>\n",
       "      <th>weather</th>\n",
       "      <th>temp</th>\n",
       "      <th>atemp</th>\n",
       "      <th>humidity</th>\n",
       "      <th>windspeed</th>\n",
       "      <th>casual</th>\n",
       "      <th>registered</th>\n",
       "      <th>count</th>\n",
       "      <th>year</th>\n",
       "      <th>month</th>\n",
       "      <th>day</th>\n",
       "      <th>hour</th>\n",
       "      <th>minute</th>\n",
       "      <th>second</th>\n",
       "    </tr>\n",
       "  </thead>\n",
       "  <tbody>\n",
       "    <tr>\n",
       "      <th>10881</th>\n",
       "      <td>2012-12-19 19:00:00</td>\n",
       "      <td>4</td>\n",
       "      <td>0</td>\n",
       "      <td>1</td>\n",
       "      <td>1</td>\n",
       "      <td>15.58</td>\n",
       "      <td>19.695</td>\n",
       "      <td>50</td>\n",
       "      <td>26.0027</td>\n",
       "      <td>7</td>\n",
       "      <td>329</td>\n",
       "      <td>336</td>\n",
       "      <td>2012</td>\n",
       "      <td>12</td>\n",
       "      <td>19</td>\n",
       "      <td>19</td>\n",
       "      <td>0</td>\n",
       "      <td>0</td>\n",
       "    </tr>\n",
       "    <tr>\n",
       "      <th>10882</th>\n",
       "      <td>2012-12-19 20:00:00</td>\n",
       "      <td>4</td>\n",
       "      <td>0</td>\n",
       "      <td>1</td>\n",
       "      <td>1</td>\n",
       "      <td>14.76</td>\n",
       "      <td>17.425</td>\n",
       "      <td>57</td>\n",
       "      <td>15.0013</td>\n",
       "      <td>10</td>\n",
       "      <td>231</td>\n",
       "      <td>241</td>\n",
       "      <td>2012</td>\n",
       "      <td>12</td>\n",
       "      <td>19</td>\n",
       "      <td>20</td>\n",
       "      <td>0</td>\n",
       "      <td>0</td>\n",
       "    </tr>\n",
       "    <tr>\n",
       "      <th>10883</th>\n",
       "      <td>2012-12-19 21:00:00</td>\n",
       "      <td>4</td>\n",
       "      <td>0</td>\n",
       "      <td>1</td>\n",
       "      <td>1</td>\n",
       "      <td>13.94</td>\n",
       "      <td>15.910</td>\n",
       "      <td>61</td>\n",
       "      <td>15.0013</td>\n",
       "      <td>4</td>\n",
       "      <td>164</td>\n",
       "      <td>168</td>\n",
       "      <td>2012</td>\n",
       "      <td>12</td>\n",
       "      <td>19</td>\n",
       "      <td>21</td>\n",
       "      <td>0</td>\n",
       "      <td>0</td>\n",
       "    </tr>\n",
       "    <tr>\n",
       "      <th>10884</th>\n",
       "      <td>2012-12-19 22:00:00</td>\n",
       "      <td>4</td>\n",
       "      <td>0</td>\n",
       "      <td>1</td>\n",
       "      <td>1</td>\n",
       "      <td>13.94</td>\n",
       "      <td>17.425</td>\n",
       "      <td>61</td>\n",
       "      <td>6.0032</td>\n",
       "      <td>12</td>\n",
       "      <td>117</td>\n",
       "      <td>129</td>\n",
       "      <td>2012</td>\n",
       "      <td>12</td>\n",
       "      <td>19</td>\n",
       "      <td>22</td>\n",
       "      <td>0</td>\n",
       "      <td>0</td>\n",
       "    </tr>\n",
       "    <tr>\n",
       "      <th>10885</th>\n",
       "      <td>2012-12-19 23:00:00</td>\n",
       "      <td>4</td>\n",
       "      <td>0</td>\n",
       "      <td>1</td>\n",
       "      <td>1</td>\n",
       "      <td>13.12</td>\n",
       "      <td>16.665</td>\n",
       "      <td>66</td>\n",
       "      <td>8.9981</td>\n",
       "      <td>4</td>\n",
       "      <td>84</td>\n",
       "      <td>88</td>\n",
       "      <td>2012</td>\n",
       "      <td>12</td>\n",
       "      <td>19</td>\n",
       "      <td>23</td>\n",
       "      <td>0</td>\n",
       "      <td>0</td>\n",
       "    </tr>\n",
       "  </tbody>\n",
       "</table>\n",
       "</div>"
      ],
      "text/plain": [
       "                 datetime  season  holiday  ...  hour  minute  second\n",
       "10881 2012-12-19 19:00:00       4        0  ...    19       0       0\n",
       "10882 2012-12-19 20:00:00       4        0  ...    20       0       0\n",
       "10883 2012-12-19 21:00:00       4        0  ...    21       0       0\n",
       "10884 2012-12-19 22:00:00       4        0  ...    22       0       0\n",
       "10885 2012-12-19 23:00:00       4        0  ...    23       0       0\n",
       "\n",
       "[5 rows x 18 columns]"
      ]
     },
     "execution_count": 2335,
     "metadata": {},
     "output_type": "execute_result"
    }
   ],
   "source": [
    "print(train.shape)\n",
    "print(train.columns)\n",
    "train.tail()"
   ]
  },
  {
   "cell_type": "markdown",
   "metadata": {},
   "source": [
    "* datetime - hourly date + timestamp  \n",
    "* season -  1 = spring, 2 = summer, 3 = fall, 4 = winter \n",
    "* holiday - whether the day is considered a holiday\n",
    "* workingday - whether the day is neither a weekend nor holiday\n",
    "* weather\n",
    "  - 1: Clear, Few clouds, Partly cloudy, Partly cloudy  \n",
    "  - 2: Mist + Cloudy, Mist + Broken clouds, Mist + Few clouds, Mist  \n",
    "  - 3: Light Snow, Light Rain + Thunderstorm + Scattered clouds, Light Rain + Scattered clouds  \n",
    "  - 4: Heavy Rain + Ice Pallets + Thunderstorm + Mist, Snow + Fog\n",
    "* temp - temperature in Celsius\n",
    "* atemp - \"feels like\" temperature in Celsius\n",
    "* humidity - relative humidity\n",
    "* windspeed - wind speed\n",
    "* casual - number of non-registered user rentals initiated\n",
    "* registered - number of registered user rentals initiated\n",
    "* count - number of total rentals\n",
    "* year, month, day, hour, minute, second : 위에서 추가한 열입니다."
   ]
  },
  {
   "cell_type": "markdown",
   "metadata": {},
   "source": [
    "train에서는 columns 을 빼야할까요?\n",
    "- 일단 datatime은 year ~ second로 분할하여 만들어주었으니 제거해야합니다.\n",
    "- count 또한 우리가 맞추고자하는 target 값이므로 제거합니다.\n",
    "- 위에 나왔듯이 casul과 registered 내용이 count에 큰 영향이 없어보이므로 제거합니다.\n",
    "- holiday-workingday 와 temp-atemp 가 조금 의문입니다, 과연 둘다 필요한 것 일까요?\n",
    "- temp 와 atmep 는 실제 온도와 체감 온도 입니다. 저는 체감온도만 있으면 충분하다고 생각하여 실제온도인 temp를 제거하겠습니다.\n",
    "- holiday-workingday 는 만약 두 계수가 완전히 반대라면 굳이 둘다 있을 필요는 없습니다. 이를 확인해보겠습니다.\n",
    "    - 두 수가 반대라면 두 계수를 더한 값이 무조건 1이 나와야합니다.\n"
   ]
  },
  {
   "cell_type": "code",
   "execution_count": 2336,
   "metadata": {},
   "outputs": [
    {
     "name": "stdout",
     "output_type": "stream",
     "text": [
      "3163\n",
      "0\n"
     ]
    }
   ],
   "source": [
    "test = pd.DataFrame()\n",
    "test[sum]=train[['holiday','workingday']].sum(axis =1)\n",
    "a = (test[sum] == 0)\n",
    "print(len(test[a]))\n",
    "b = (test[sum] == 2)\n",
    "print(len(test[b]))"
   ]
  },
  {
   "cell_type": "markdown",
   "metadata": {},
   "source": [
    "holiday-workingday 합이 0인 값이 있군요.  \n",
    "holiday - whether the day is considered a holiday  \n",
    "workingday - whether the day is neither a weekend nor holiday  \n",
    "합이 0인 것은 holiday가 아닌 weekend을 가리키는 것 같습니다.  \n",
    "결국 2 column이 서로 다르군요. 두 column 다 남기도록 하겠습니다.  \n",
    "이제 위에서 언급한 column 을 지우도록 하겠습니다.  \n",
    "datetime, temp, casul, registered, count(target) : 18 - 5 = 13"
   ]
  },
  {
   "cell_type": "code",
   "execution_count": 2337,
   "metadata": {},
   "outputs": [
    {
     "name": "stdout",
     "output_type": "stream",
     "text": [
      "(10886, 13)\n",
      "(10886,)\n"
     ]
    }
   ],
   "source": [
    "X = train[['season', 'holiday', 'workingday', 'weather', 'atemp', 'humidity', 'windspeed',\n",
    "           'year', 'month', 'day', 'hour', 'minute', 'second']]\n",
    "y = train['count']\n",
    "print(X.shape)\n",
    "# print(X)\n",
    "print(y.shape)\n",
    "# print(y)"
   ]
  },
  {
   "cell_type": "code",
   "execution_count": 2338,
   "metadata": {},
   "outputs": [
    {
     "name": "stdout",
     "output_type": "stream",
     "text": [
      "(8164, 13)\n",
      "(8164,)\n",
      "(2722, 13)\n",
      "(2722,)\n"
     ]
    }
   ],
   "source": [
    "# train, test를 분리해줍니다.\n",
    "X_train, X_test, y_train, y_test = train_test_split(X, y, test_size=0.25, random_state=42)\n",
    "\n",
    "print(X_train.shape)\n",
    "print(y_train.shape)\n",
    "print(X_test.shape)\n",
    "print(y_test.shape)"
   ]
  },
  {
   "cell_type": "markdown",
   "metadata": {},
   "source": [
    "#### (5) LinearRegression 모델 학습"
   ]
  },
  {
   "cell_type": "markdown",
   "metadata": {},
   "source": [
    "- <span style = \"color: #0000FF\">sklearn의 LinearRegression 모델 불러오기 및 학습하기</span>\n",
    "  - [링크](https://scikit-learn.org/stable/modules/generated/sklearn.linear_model.LinearRegression.html)를 참고해서 파라미터를 바꿔주고 싶은데 딱히 바꿀게 없어보입니다."
   ]
  },
  {
   "cell_type": "code",
   "execution_count": 2339,
   "metadata": {},
   "outputs": [
    {
     "data": {
      "text/html": [
       "<style>#sk-container-id-32 {color: black;background-color: white;}#sk-container-id-32 pre{padding: 0;}#sk-container-id-32 div.sk-toggleable {background-color: white;}#sk-container-id-32 label.sk-toggleable__label {cursor: pointer;display: block;width: 100%;margin-bottom: 0;padding: 0.3em;box-sizing: border-box;text-align: center;}#sk-container-id-32 label.sk-toggleable__label-arrow:before {content: \"▸\";float: left;margin-right: 0.25em;color: #696969;}#sk-container-id-32 label.sk-toggleable__label-arrow:hover:before {color: black;}#sk-container-id-32 div.sk-estimator:hover label.sk-toggleable__label-arrow:before {color: black;}#sk-container-id-32 div.sk-toggleable__content {max-height: 0;max-width: 0;overflow: hidden;text-align: left;background-color: #f0f8ff;}#sk-container-id-32 div.sk-toggleable__content pre {margin: 0.2em;color: black;border-radius: 0.25em;background-color: #f0f8ff;}#sk-container-id-32 input.sk-toggleable__control:checked~div.sk-toggleable__content {max-height: 200px;max-width: 100%;overflow: auto;}#sk-container-id-32 input.sk-toggleable__control:checked~label.sk-toggleable__label-arrow:before {content: \"▾\";}#sk-container-id-32 div.sk-estimator input.sk-toggleable__control:checked~label.sk-toggleable__label {background-color: #d4ebff;}#sk-container-id-32 div.sk-label input.sk-toggleable__control:checked~label.sk-toggleable__label {background-color: #d4ebff;}#sk-container-id-32 input.sk-hidden--visually {border: 0;clip: rect(1px 1px 1px 1px);clip: rect(1px, 1px, 1px, 1px);height: 1px;margin: -1px;overflow: hidden;padding: 0;position: absolute;width: 1px;}#sk-container-id-32 div.sk-estimator {font-family: monospace;background-color: #f0f8ff;border: 1px dotted black;border-radius: 0.25em;box-sizing: border-box;margin-bottom: 0.5em;}#sk-container-id-32 div.sk-estimator:hover {background-color: #d4ebff;}#sk-container-id-32 div.sk-parallel-item::after {content: \"\";width: 100%;border-bottom: 1px solid gray;flex-grow: 1;}#sk-container-id-32 div.sk-label:hover label.sk-toggleable__label {background-color: #d4ebff;}#sk-container-id-32 div.sk-serial::before {content: \"\";position: absolute;border-left: 1px solid gray;box-sizing: border-box;top: 0;bottom: 0;left: 50%;z-index: 0;}#sk-container-id-32 div.sk-serial {display: flex;flex-direction: column;align-items: center;background-color: white;padding-right: 0.2em;padding-left: 0.2em;position: relative;}#sk-container-id-32 div.sk-item {position: relative;z-index: 1;}#sk-container-id-32 div.sk-parallel {display: flex;align-items: stretch;justify-content: center;background-color: white;position: relative;}#sk-container-id-32 div.sk-item::before, #sk-container-id-32 div.sk-parallel-item::before {content: \"\";position: absolute;border-left: 1px solid gray;box-sizing: border-box;top: 0;bottom: 0;left: 50%;z-index: -1;}#sk-container-id-32 div.sk-parallel-item {display: flex;flex-direction: column;z-index: 1;position: relative;background-color: white;}#sk-container-id-32 div.sk-parallel-item:first-child::after {align-self: flex-end;width: 50%;}#sk-container-id-32 div.sk-parallel-item:last-child::after {align-self: flex-start;width: 50%;}#sk-container-id-32 div.sk-parallel-item:only-child::after {width: 0;}#sk-container-id-32 div.sk-dashed-wrapped {border: 1px dashed gray;margin: 0 0.4em 0.5em 0.4em;box-sizing: border-box;padding-bottom: 0.4em;background-color: white;}#sk-container-id-32 div.sk-label label {font-family: monospace;font-weight: bold;display: inline-block;line-height: 1.2em;}#sk-container-id-32 div.sk-label-container {text-align: center;}#sk-container-id-32 div.sk-container {/* jupyter's `normalize.less` sets `[hidden] { display: none; }` but bootstrap.min.css set `[hidden] { display: none !important; }` so we also need the `!important` here to be able to override the default hidden behavior on the sphinx rendered scikit-learn.org. See: https://github.com/scikit-learn/scikit-learn/issues/21755 */display: inline-block !important;position: relative;}#sk-container-id-32 div.sk-text-repr-fallback {display: none;}</style><div id=\"sk-container-id-32\" class=\"sk-top-container\"><div class=\"sk-text-repr-fallback\"><pre>LinearRegression()</pre><b>In a Jupyter environment, please rerun this cell to show the HTML representation or trust the notebook. <br />On GitHub, the HTML representation is unable to render, please try loading this page with nbviewer.org.</b></div><div class=\"sk-container\" hidden><div class=\"sk-item\"><div class=\"sk-estimator sk-toggleable\"><input class=\"sk-toggleable__control sk-hidden--visually\" id=\"sk-estimator-id-32\" type=\"checkbox\" checked><label for=\"sk-estimator-id-32\" class=\"sk-toggleable__label sk-toggleable__label-arrow\">LinearRegression</label><div class=\"sk-toggleable__content\"><pre>LinearRegression()</pre></div></div></div></div></div>"
      ],
      "text/plain": [
       "LinearRegression()"
      ]
     },
     "execution_count": 2339,
     "metadata": {},
     "output_type": "execute_result"
    }
   ],
   "source": [
    "from sklearn.linear_model import LinearRegression\n",
    "\n",
    "model = LinearRegression()\n",
    "model.fit(X_train,y_train)"
   ]
  },
  {
   "cell_type": "markdown",
   "metadata": {},
   "source": [
    "#### (6) 학습된 모델로 X_test에 대한 예측값 출력 및 손실함수값 계산"
   ]
  },
  {
   "cell_type": "markdown",
   "metadata": {},
   "source": [
    "- <span style = \"color: #0000FF\">학습된 모델에 X_test를 입력해서 예측값 출력하기</span>\n",
    "- <span style = \"color: #0000FF\">모델이 예측한 값과 정답 target 간의 손실함수 값 계산하기</span>\n",
    "- <span style = \"color: #0000FF\">mse 값과 함께 rmse 값도 계산하기</span>\n",
    "  - [sklearn doc](https://scikit-learn.org/stable/modules/generated/sklearn.metrics.mean_squared_error.html)를 참고했습니다."
   ]
  },
  {
   "cell_type": "code",
   "execution_count": 2340,
   "metadata": {},
   "outputs": [
    {
     "name": "stdout",
     "output_type": "stream",
     "text": [
      "(2722,)\n",
      "[249.69126211  48.90014762 201.60420313 ... 119.68349895 163.82852336\n",
      "  66.45835261]\n",
      "MSE = 20102.044959875962\n",
      "RMSE = 141.78168062156678\n"
     ]
    }
   ],
   "source": [
    "prediction = model.predict(X_test)\n",
    "\n",
    "print(prediction.shape)\n",
    "print(prediction)\n",
    "\n",
    "# MSE\n",
    "from sklearn.metrics import mean_squared_error\n",
    "mse = mean_squared_error(y_test,prediction)\n",
    "print('MSE =',mse)\n",
    "# RMSE\n",
    "rmse = mean_squared_error(y_test,prediction,squared=False)\n",
    "print('RMSE =',rmse)"
   ]
  },
  {
   "cell_type": "markdown",
   "metadata": {},
   "source": [
    "#### (7) x축은 temp 또는 humidity로, y축은 count로 예측 결과 시각화하기"
   ]
  },
  {
   "cell_type": "markdown",
   "metadata": {},
   "source": [
    "- <span style = \"color: #0000FF\">x축에 X 데이터 중 temp 데이터를, y축에는 count 데이터를 넣어서 시각화하기</span>\n",
    "- <span style = \"color: #0000FF\">x축에 X 데이터 중 humidity 데이터를, y축에는 count 데이터를 넣어서 시각화하기</span>\n",
    "  - [링크](https://matplotlib.org/stable/gallery/subplots_axes_and_figures/subplots_demo.html)를 참고하였습니다."
   ]
  },
  {
   "cell_type": "markdown",
   "metadata": {},
   "source": [
    "앗,, temp를 통해 시각화를 해야하는데 저는 이미 temp를 지운 상태입니다.  \n",
    "일단 temp 대신 atemp로 시각화를 해보겠습니다."
   ]
  },
  {
   "cell_type": "code",
   "execution_count": 2341,
   "metadata": {},
   "outputs": [
    {
     "data": {
      "text/plain": [
       "Index(['season', 'holiday', 'workingday', 'weather', 'atemp', 'humidity',\n",
       "       'windspeed', 'year', 'month', 'day', 'hour', 'minute', 'second'],\n",
       "      dtype='object')"
      ]
     },
     "execution_count": 2341,
     "metadata": {},
     "output_type": "execute_result"
    }
   ],
   "source": [
    "X_test.columns"
   ]
  },
  {
   "cell_type": "code",
   "execution_count": 2342,
   "metadata": {},
   "outputs": [
    {
     "data": {
      "image/png": "[encoded data removed]",
      "text/plain": [
       "<Figure size 576x576 with 2 Axes>"
      ]
     },
     "metadata": {
      "needs_background": "light"
     },
     "output_type": "display_data"
    }
   ],
   "source": [
    "fig, axes = plt.subplots(2)\n",
    "fig.set_figheight(8)\n",
    "fig.set_figwidth(8)\n",
    "\n",
    "axes[0].scatter(X_test['atemp'], y_test, label = 'true')\n",
    "axes[0].scatter(X_test['atemp'], prediction, label = 'pred')\n",
    "\n",
    "axes[1].scatter(X_test['humidity'], y_test, label = 'true')\n",
    "axes[1].scatter(X_test['humidity'], prediction, label = 'pred')\n",
    "plt.legend()\n",
    "plt.show()"
   ]
  },
  {
   "cell_type": "markdown",
   "metadata": {},
   "source": [
    "temp도 한번 넣어서 다시 돌려봅시다"
   ]
  },
  {
   "cell_type": "code",
   "execution_count": 2343,
   "metadata": {},
   "outputs": [
    {
     "name": "stdout",
     "output_type": "stream",
     "text": [
      "(8164, 14)\n",
      "MSE = 20091.37230644371\n",
      "RMSE = 141.74403799258616\n"
     ]
    }
   ],
   "source": [
    "X = train[['season', 'holiday', 'workingday', 'weather', 'temp', 'atemp', 'humidity', 'windspeed','year', 'month', 'day', 'hour', 'minute', 'second']]\n",
    "X_train, X_test, y_train, y_test = train_test_split(X, y, test_size=0.25, random_state=42)\n",
    "print(X_train.shape)\n",
    "\n",
    "model = LinearRegression()\n",
    "model.fit(X_train,y_train)\n",
    "\n",
    "prediction = model.predict(X_test)\n",
    "\n",
    "# MSE\n",
    "mse = mean_squared_error(y_test,prediction)\n",
    "print('MSE =',mse)\n",
    "# RMSE\n",
    "rmse = mean_squared_error(y_test,prediction,squared=False)\n",
    "print('RMSE =',rmse)"
   ]
  },
  {
   "cell_type": "markdown",
   "metadata": {},
   "source": [
    "오히려 MSE(RMSE)가 줄었군요.  \n",
    "그래프를 그려봅시다"
   ]
  },
  {
   "cell_type": "code",
   "execution_count": 2344,
   "metadata": {},
   "outputs": [
    {
     "data": {
      "image/png": "[encoded data removed]",
      "text/plain": [
       "<Figure size 576x576 with 2 Axes>"
      ]
     },
     "metadata": {
      "needs_background": "light"
     },
     "output_type": "display_data"
    }
   ],
   "source": [
    "fig, axes = plt.subplots(2)\n",
    "fig.set_figheight(8)\n",
    "fig.set_figwidth(8)\n",
    "\n",
    "axes[0].scatter(X_test['temp'], y_test, label = 'true')\n",
    "axes[0].scatter(X_test['temp'], prediction, label = 'pred')\n",
    "\n",
    "axes[1].scatter(X_test['humidity'], y_test, label = 'true')\n",
    "axes[1].scatter(X_test['humidity'], prediction, label = 'pred')\n",
    "plt.legend()\n",
    "plt.show()"
   ]
  },
  {
   "cell_type": "markdown",
   "metadata": {},
   "source": [
    "### 회고"
   ]
  },
  {
   "cell_type": "markdown",
   "metadata": {},
   "source": [
    "* 이번 프로젝트에서 어려웠던 점\n",
    "    - subplots 활용에서 참고가 필요했습니다.\n",
    "    - 루브릭 평가를 보기전 loss 값이 얼마나 더 내려 갈 수 있는지 몰라서 다양한 방법을 시도하다가 시간이 많이 소모되었습니다.\n",
    "* 프로젝트를 진행하면서 알아낸 점 혹은 아직 모호한 점\n",
    "  * 알게 된점\n",
    "    - 무의미하다고 생각한 col 개수를 줄인다고 무조건 loss가 줄지는 않는다.\n",
    "    - 데이터프레임[] = series , 데이터프레임[[]] = DataFrame\n",
    "    - scatter 에서 축 넣을 때 numpy array 가 아닌 데이터프레임의 열이면 index 숫자로 접근하지말고 열 이름으로 해야한다.\n",
    "    - scatter 와 counterplot 은 subplot 쓸 때 다르게 넣는다. \n",
    "    - 생각보다 loss 값이 높을 수 있다.(MSE기준)\n",
    "  * 아직 모호한 점\n",
    "    - 위에서 사용한 방법이 아닌 어떤 방법을 써야 loss 값을 확실히 더 줄일 수 있는지 궁금합니다.(2500까지 가능한건가요??)\n",
    "* 루브릭 평가를 맞추기 위해 시도한 점\n",
    "    - 손실 함수가 최소가 되기 위해 하이퍼파라미터나 반복, column 을 바꿔주면서 실험하였습니다.\n",
    "    - 다양한 방법과 범위로 그래프를 그려보았습니다."
   ]
  }
 ],
 "metadata": {
  "kernelspec": {
   "display_name": "Python 3.10.4 64-bit",
   "language": "python",
   "name": "python3"
  },
  "language_info": {
   "codemirror_mode": {
    "name": "ipython",
    "version": 3
   },
   "file_extension": ".py",
   "mimetype": "text/x-python",
   "name": "python",
   "nbconvert_exporter": "python",
   "pygments_lexer": "ipython3",
   "version": "3.10.4"
  },
  "orig_nbformat": 4,
  "vscode": {
   "interpreter": {
    "hash": "916dbcbb3f70747c44a77c7bcd40155683ae19c65e1c03b4aa3499c5328201f1"
   }
  }
 },
 "nbformat": 4,
 "nbformat_minor": 2
}

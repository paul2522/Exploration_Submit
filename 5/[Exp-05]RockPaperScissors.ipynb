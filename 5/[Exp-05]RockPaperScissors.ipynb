{
 "cells": [
  {
   "cell_type": "markdown",
   "metadata": {},
   "source": [
    "# [Exp-05]RockPaperScissors"
   ]
  },
  {
   "cell_type": "markdown",
   "metadata": {},
   "source": [
    "## 라이브러리 확인"
   ]
  },
  {
   "cell_type": "code",
   "execution_count": 1,
   "metadata": {},
   "outputs": [
    {
     "name": "stderr",
     "output_type": "stream",
     "text": [
      "2022-08-02 21:53:35.022373: W tensorflow/stream_executor/platform/default/dso_loader.cc:64] Could not load dynamic library 'libcudart.so.11.0'; dlerror: libcudart.so.11.0: cannot open shared object file: No such file or directory\n",
      "2022-08-02 21:53:35.022396: I tensorflow/stream_executor/cuda/cudart_stub.cc:29] Ignore above cudart dlerror if you do not have a GPU set up on your machine.\n"
     ]
    },
    {
     "name": "stdout",
     "output_type": "stream",
     "text": [
      "2.9.1\n",
      "1.23.1\n"
     ]
    }
   ],
   "source": [
    "import tensorflow as tf\n",
    "import numpy as np\n",
    "\n",
    "print(tf.__version__)\n",
    "print(np.__version__)"
   ]
  },
  {
   "cell_type": "markdown",
   "metadata": {},
   "source": [
    "## 데이터 불러오고 Resize 하기"
   ]
  },
  {
   "cell_type": "code",
   "execution_count": 2,
   "metadata": {},
   "outputs": [],
   "source": [
    "from PIL import Image\n",
    "import matplotlib.pyplot as plt\n",
    "import glob\n",
    "import os"
   ]
  },
  {
   "cell_type": "code",
   "execution_count": 3,
   "metadata": {},
   "outputs": [],
   "source": [
    "def resize_images(img_path):\n",
    "\timages=glob.glob(img_path + \"/*.jpg\")  \n",
    "    \n",
    "\tprint(len(images), \" images to be resized.\")\n",
    "\n",
    "    # 파일마다 모두 28x28 사이즈로 바꾸어 저장합니다.\n",
    "\ttarget_size=(28,28)\n",
    "\tfor img in images:\n",
    "\t\told_img=Image.open(img)\n",
    "\t\tnew_img=old_img.resize(target_size,Image.ANTIALIAS)\n",
    "\t\tnew_img.save(img, \"JPEG\")\n",
    "    \n",
    "\tprint(len(images), \" images resized.\")"
   ]
  },
  {
   "cell_type": "code",
   "execution_count": 4,
   "metadata": {},
   "outputs": [
    {
     "name": "stdout",
     "output_type": "stream",
     "text": [
      "100  images to be resized.\n",
      "100  images resized.\n",
      "100  images to be resized.\n",
      "100  images resized.\n",
      "100  images to be resized.\n",
      "100  images resized.\n"
     ]
    }
   ],
   "source": [
    "# 가위 바위 보 이미지 불러와서 resize하기\n",
    "image_dir_path1 = os.getenv(\"HOME\") + \"/Code/Exploration Submit/5/train1/scissor\"\n",
    "resize_images(image_dir_path1)\n",
    "\n",
    "image_dir_path2 = os.getenv(\"HOME\") + \"/Code/Exploration Submit/5/train1/rock\"\n",
    "resize_images(image_dir_path2)\n",
    "\n",
    "image_dir_path3 = os.getenv(\"HOME\") + \"/Code/Exploration Submit/5/train1/paper\"\n",
    "resize_images(image_dir_path3)"
   ]
  },
  {
   "cell_type": "markdown",
   "metadata": {},
   "source": [
    "## train 데이터 설정"
   ]
  },
  {
   "cell_type": "code",
   "execution_count": 5,
   "metadata": {},
   "outputs": [
    {
     "name": "stdout",
     "output_type": "stream",
     "text": [
      "학습데이터(x_train)의 이미지 개수는 300 입니다.\n",
      "x_train shape: (300, 28, 28, 3)\n",
      "y_train shape: (300,)\n"
     ]
    }
   ],
   "source": [
    "import numpy as np\n",
    "\n",
    "def load_data(img_path, number_of_data=300):  # 가위바위보 이미지 개수 총합에 주의하세요.\n",
    "    # 가위 : 0, 바위 : 1, 보 : 2\n",
    "    img_size=28\n",
    "    color=3\n",
    "    #이미지 데이터와 라벨(가위 : 0, 바위 : 1, 보 : 2) 데이터를 담을 행렬(matrix) 영역을 생성합니다.\n",
    "    imgs=np.zeros(number_of_data*img_size*img_size*color,dtype=np.int32).reshape(number_of_data,img_size,img_size,color)\n",
    "    labels=np.zeros(number_of_data,dtype=np.int32)\n",
    "\n",
    "    idx=0\n",
    "    for file in glob.iglob(img_path+'/scissor/*.jpg'):\n",
    "        img = np.array(Image.open(file),dtype=np.int32)\n",
    "        imgs[idx,:,:,:]=img    # 데이터 영역에 이미지 행렬을 복사\n",
    "        labels[idx]=0   # 가위 : 0\n",
    "        idx=idx+1\n",
    "\n",
    "    for file in glob.iglob(img_path+'/rock/*.jpg'):\n",
    "        img = np.array(Image.open(file),dtype=np.int32)\n",
    "        imgs[idx,:,:,:]=img    # 데이터 영역에 이미지 행렬을 복사\n",
    "        labels[idx]=1   # 바위 : 1\n",
    "        idx=idx+1  \n",
    "    \n",
    "    for file in glob.iglob(img_path+'/paper/*.jpg'):\n",
    "        img = np.array(Image.open(file),dtype=np.int32)\n",
    "        imgs[idx,:,:,:]=img    # 데이터 영역에 이미지 행렬을 복사\n",
    "        labels[idx]=2   # 보 : 2\n",
    "        idx=idx+1\n",
    "        \n",
    "    print(\"학습데이터(x_train)의 이미지 개수는\", idx,\"입니다.\")\n",
    "    return imgs, labels\n",
    "\n",
    "image_dir_path = os.getenv(\"HOME\") + \"/Code/Exploration Submit/5/train1\"\n",
    "(x_train, y_train)=load_data(image_dir_path)\n",
    "x_train_norm = x_train/255.0   # 입력은 0~1 사이의 값으로 정규화\n",
    "\n",
    "print(\"x_train shape: {}\".format(x_train.shape))\n",
    "print(\"y_train shape: {}\".format(y_train.shape))"
   ]
  },
  {
   "cell_type": "markdown",
   "metadata": {},
   "source": [
    "300개의 28x28x3(rgb) 입니다."
   ]
  },
  {
   "cell_type": "markdown",
   "metadata": {},
   "source": [
    "이미지 출력"
   ]
  },
  {
   "cell_type": "code",
   "execution_count": 6,
   "metadata": {},
   "outputs": [
    {
     "name": "stdout",
     "output_type": "stream",
     "text": [
      "라벨:  0\n"
     ]
    },
    {
     "data": {
      "image/png": "[encoded data removed]",
      "text/plain": [
       "<Figure size 432x288 with 1 Axes>"
      ]
     },
     "metadata": {
      "needs_background": "light"
     },
     "output_type": "display_data"
    }
   ],
   "source": [
    "plt.imshow(x_train_norm[0])\n",
    "print('라벨: ', y_train[0])"
   ]
  },
  {
   "cell_type": "code",
   "execution_count": 7,
   "metadata": {},
   "outputs": [
    {
     "name": "stdout",
     "output_type": "stream",
     "text": [
      "(28, 28, 3)\n",
      "0\n"
     ]
    }
   ],
   "source": [
    "print(x_train_norm[0].shape)\n",
    "print(y_train[0])\n"
   ]
  },
  {
   "cell_type": "markdown",
   "metadata": {},
   "source": [
    "## 딥러닝 네트워크 설계하기"
   ]
  },
  {
   "cell_type": "markdown",
   "metadata": {},
   "source": [
    "* 기존의 채널 1개에서 3개로 증가\n",
    "* 최종 class의 개수가 10 -> 3"
   ]
  },
  {
   "cell_type": "code",
   "execution_count": 8,
   "metadata": {},
   "outputs": [
    {
     "name": "stdout",
     "output_type": "stream",
     "text": [
      "Model: \"sequential\"\n",
      "_________________________________________________________________\n",
      " Layer (type)                Output Shape              Param #   \n",
      "=================================================================\n",
      " conv2d (Conv2D)             (None, 26, 26, 32)        896       \n",
      "                                                                 \n",
      " max_pooling2d (MaxPooling2D  (None, 13, 13, 32)       0         \n",
      " )                                                               \n",
      "                                                                 \n",
      " conv2d_1 (Conv2D)           (None, 11, 11, 64)        18496     \n",
      "                                                                 \n",
      " max_pooling2d_1 (MaxPooling  (None, 5, 5, 64)         0         \n",
      " 2D)                                                             \n",
      "                                                                 \n",
      " flatten (Flatten)           (None, 1600)              0         \n",
      "                                                                 \n",
      " dense (Dense)               (None, 32)                51232     \n",
      "                                                                 \n",
      " dense_1 (Dense)             (None, 3)                 99        \n",
      "                                                                 \n",
      "=================================================================\n",
      "Total params: 70,723\n",
      "Trainable params: 70,723\n",
      "Non-trainable params: 0\n",
      "_________________________________________________________________\n"
     ]
    },
    {
     "name": "stderr",
     "output_type": "stream",
     "text": [
      "2022-08-02 21:53:37.449383: I tensorflow/stream_executor/cuda/cuda_gpu_executor.cc:975] successful NUMA node read from SysFS had negative value (-1), but there must be at least one NUMA node, so returning NUMA node zero\n",
      "2022-08-02 21:53:37.449709: W tensorflow/stream_executor/platform/default/dso_loader.cc:64] Could not load dynamic library 'libcudart.so.11.0'; dlerror: libcudart.so.11.0: cannot open shared object file: No such file or directory\n",
      "2022-08-02 21:53:37.449747: W tensorflow/stream_executor/platform/default/dso_loader.cc:64] Could not load dynamic library 'libcublas.so.11'; dlerror: libcublas.so.11: cannot open shared object file: No such file or directory\n",
      "2022-08-02 21:53:37.449781: W tensorflow/stream_executor/platform/default/dso_loader.cc:64] Could not load dynamic library 'libcublasLt.so.11'; dlerror: libcublasLt.so.11: cannot open shared object file: No such file or directory\n",
      "2022-08-02 21:53:37.449864: W tensorflow/stream_executor/platform/default/dso_loader.cc:64] Could not load dynamic library 'libcufft.so.10'; dlerror: libcufft.so.10: cannot open shared object file: No such file or directory\n",
      "2022-08-02 21:53:37.449938: W tensorflow/stream_executor/platform/default/dso_loader.cc:64] Could not load dynamic library 'libcurand.so.10'; dlerror: libcurand.so.10: cannot open shared object file: No such file or directory\n",
      "2022-08-02 21:53:37.449983: W tensorflow/stream_executor/platform/default/dso_loader.cc:64] Could not load dynamic library 'libcusolver.so.11'; dlerror: libcusolver.so.11: cannot open shared object file: No such file or directory\n",
      "2022-08-02 21:53:37.450022: W tensorflow/stream_executor/platform/default/dso_loader.cc:64] Could not load dynamic library 'libcusparse.so.11'; dlerror: libcusparse.so.11: cannot open shared object file: No such file or directory\n",
      "2022-08-02 21:53:37.450053: W tensorflow/stream_executor/platform/default/dso_loader.cc:64] Could not load dynamic library 'libcudnn.so.8'; dlerror: libcudnn.so.8: cannot open shared object file: No such file or directory\n",
      "2022-08-02 21:53:37.450060: W tensorflow/core/common_runtime/gpu/gpu_device.cc:1850] Cannot dlopen some GPU libraries. Please make sure the missing libraries mentioned above are installed properly if you would like to use GPU. Follow the guide at https://www.tensorflow.org/install/gpu for how to download and setup the required libraries for your platform.\n",
      "Skipping registering GPU devices...\n",
      "2022-08-02 21:53:37.450660: I tensorflow/core/platform/cpu_feature_guard.cc:193] This TensorFlow binary is optimized with oneAPI Deep Neural Network Library (oneDNN) to use the following CPU instructions in performance-critical operations:  AVX2 FMA\n",
      "To enable them in other operations, rebuild TensorFlow with the appropriate compiler flags.\n"
     ]
    }
   ],
   "source": [
    "import tensorflow as tf\n",
    "from tensorflow import keras\n",
    "import numpy as np\n",
    "\n",
    "# model을 직접 만들어 보세요.\n",
    "# Hint! model의 입력/출력부에 특히 유의해 주세요. 가위바위보 데이터셋은 MNIST 데이터셋과 어떤 점이 달라졌나요?\n",
    "model=keras.models.Sequential()\n",
    "model.add(keras.layers.Conv2D(32, (3,3), activation='relu', input_shape=(28,28,3)))\n",
    "model.add(keras.layers.MaxPool2D(2,2))\n",
    "model.add(keras.layers.Conv2D(64, (3,3), activation='relu'))\n",
    "model.add(keras.layers.MaxPooling2D((2,2)))\n",
    "model.add(keras.layers.Flatten())\n",
    "model.add(keras.layers.Dense(32, activation='relu'))\n",
    "model.add(keras.layers.Dense(3, activation='softmax'))\n",
    "\n",
    "model.summary()"
   ]
  },
  {
   "cell_type": "markdown",
   "metadata": {},
   "source": [
    "## 딥러닝 네트워크 학습"
   ]
  },
  {
   "cell_type": "code",
   "execution_count": 9,
   "metadata": {},
   "outputs": [
    {
     "data": {
      "text/plain": [
       "(300, 28, 28, 3)"
      ]
     },
     "execution_count": 9,
     "metadata": {},
     "output_type": "execute_result"
    }
   ],
   "source": [
    "x_train_norm.shape"
   ]
  },
  {
   "cell_type": "code",
   "execution_count": 10,
   "metadata": {},
   "outputs": [
    {
     "name": "stdout",
     "output_type": "stream",
     "text": [
      "Epoch 1/10\n",
      "10/10 [==============================] - 0s 8ms/step - loss: 1.0979 - accuracy: 0.2967\n",
      "Epoch 2/10\n",
      "10/10 [==============================] - 0s 10ms/step - loss: 1.0008 - accuracy: 0.6233\n",
      "Epoch 3/10\n",
      "10/10 [==============================] - 0s 10ms/step - loss: 0.8581 - accuracy: 0.7533\n",
      "Epoch 4/10\n",
      "10/10 [==============================] - 0s 10ms/step - loss: 0.6644 - accuracy: 0.7800\n",
      "Epoch 5/10\n",
      "10/10 [==============================] - 0s 8ms/step - loss: 0.4477 - accuracy: 0.9033\n",
      "Epoch 6/10\n",
      "10/10 [==============================] - 0s 9ms/step - loss: 0.2673 - accuracy: 0.9667\n",
      "Epoch 7/10\n",
      "10/10 [==============================] - 0s 11ms/step - loss: 0.1916 - accuracy: 0.9567\n",
      "Epoch 8/10\n",
      "10/10 [==============================] - 0s 8ms/step - loss: 0.1059 - accuracy: 0.9967\n",
      "Epoch 9/10\n",
      "10/10 [==============================] - 0s 10ms/step - loss: 0.0740 - accuracy: 0.9967\n",
      "Epoch 10/10\n",
      "10/10 [==============================] - 0s 10ms/step - loss: 0.0507 - accuracy: 0.9967\n"
     ]
    },
    {
     "data": {
      "text/plain": [
       "<keras.callbacks.History at 0x7fc03824e4d0>"
      ]
     },
     "execution_count": 10,
     "metadata": {},
     "output_type": "execute_result"
    }
   ],
   "source": [
    "model.compile(optimizer='adam',\n",
    "             loss='sparse_categorical_crossentropy',\n",
    "             metrics=['accuracy'])\n",
    "\n",
    "model.fit(x_train_norm, y_train, epochs=10)"
   ]
  },
  {
   "cell_type": "markdown",
   "metadata": {},
   "source": [
    "## 성능 확인"
   ]
  },
  {
   "cell_type": "markdown",
   "metadata": {},
   "source": [
    "성능 확인을 위해 test data를 만들어 봅시다."
   ]
  },
  {
   "cell_type": "markdown",
   "metadata": {},
   "source": [
    "test 이미지를 resize 합시다."
   ]
  },
  {
   "cell_type": "code",
   "execution_count": 11,
   "metadata": {},
   "outputs": [
    {
     "name": "stdout",
     "output_type": "stream",
     "text": [
      "100  images to be resized.\n",
      "100  images resized.\n",
      "100  images to be resized.\n",
      "100  images resized.\n",
      "100  images to be resized.\n",
      "100  images resized.\n"
     ]
    }
   ],
   "source": [
    "test_image_dir_path1 = os.getenv(\"HOME\") + \"/Code/Exploration Submit/5/test/scissor\"\n",
    "resize_images(test_image_dir_path1)\n",
    "\n",
    "test_image_dir_path2 = os.getenv(\"HOME\") + \"/Code/Exploration Submit/5/test/rock\"\n",
    "resize_images(test_image_dir_path2)\n",
    "\n",
    "test_image_dir_path3 = os.getenv(\"HOME\") + \"/Code/Exploration Submit/5/test/paper\"\n",
    "resize_images(test_image_dir_path3)"
   ]
  },
  {
   "cell_type": "code",
   "execution_count": 12,
   "metadata": {},
   "outputs": [
    {
     "name": "stdout",
     "output_type": "stream",
     "text": [
      "학습데이터(x_train)의 이미지 개수는 300 입니다.\n"
     ]
    }
   ],
   "source": [
    "test_image_dir_path = os.getenv(\"HOME\") + \"/Code/Exploration Submit/5/test\"\n",
    "(x_test, y_test)=load_data(test_image_dir_path)\n",
    "x_test_norm = x_test/255.0"
   ]
  },
  {
   "cell_type": "markdown",
   "metadata": {},
   "source": [
    "제대로 되었는지 확인"
   ]
  },
  {
   "cell_type": "code",
   "execution_count": 13,
   "metadata": {},
   "outputs": [
    {
     "name": "stdout",
     "output_type": "stream",
     "text": [
      "(28, 28, 3)\n",
      "라벨:  1\n"
     ]
    },
    {
     "data": {
      "image/png": "[encoded data removed]",
      "text/plain": [
       "<Figure size 432x288 with 1 Axes>"
      ]
     },
     "metadata": {
      "needs_background": "light"
     },
     "output_type": "display_data"
    }
   ],
   "source": [
    "plt.imshow(x_test_norm[150])\n",
    "print(x_test_norm[0].shape)\n",
    "print('라벨: ', y_test[150])"
   ]
  },
  {
   "cell_type": "markdown",
   "metadata": {},
   "source": [
    "evaluate 해서 test_accurcay를 구해봅시다."
   ]
  },
  {
   "cell_type": "code",
   "execution_count": 14,
   "metadata": {},
   "outputs": [
    {
     "name": "stdout",
     "output_type": "stream",
     "text": [
      "10/10 - 0s - loss: 2.7068 - accuracy: 0.3167 - 133ms/epoch - 13ms/step\n",
      "test_loss: 2.7067670822143555 \n",
      "test_accuracy: 0.3166666626930237\n"
     ]
    }
   ],
   "source": [
    "test_loss, test_accuracy = model.evaluate(x_test_norm, y_test, verbose=2)\n",
    "print(\"test_loss: {} \".format(test_loss))\n",
    "print(\"test_accuracy: {}\".format(test_accuracy))"
   ]
  },
  {
   "cell_type": "markdown",
   "metadata": {},
   "source": [
    "## 더 나은 모델 설정"
   ]
  },
  {
   "cell_type": "markdown",
   "metadata": {},
   "source": [
    "정확도가 너무 낮으니 하이퍼 파라미터를 바꿔봅시다."
   ]
  },
  {
   "cell_type": "code",
   "execution_count": 15,
   "metadata": {},
   "outputs": [],
   "source": [
    "def RPS_predict(n_channel_1 = 16, n_channel_2=32 , n_dense=32, n_train_epoch=10):\n",
    "    model=keras.models.Sequential()\n",
    "    model.add(keras.layers.Conv2D(n_channel_1, (3,3), activation='relu', input_shape=(28,28,3)))\n",
    "    model.add(keras.layers.MaxPool2D(2,2))\n",
    "    model.add(keras.layers.Conv2D(n_channel_2, (3,3), activation='relu'))\n",
    "    model.add(keras.layers.MaxPooling2D((2,2)))\n",
    "    model.add(keras.layers.Flatten())\n",
    "    model.add(keras.layers.Dense(n_dense, activation='relu'))\n",
    "    model.add(keras.layers.Dense(3, activation='softmax'))\n",
    "\n",
    "    # model.summary()\n",
    "    model.compile(optimizer='adam',\n",
    "                loss='sparse_categorical_crossentropy',\n",
    "                metrics=['accuracy'])\n",
    "\n",
    "    # 모델 훈련 \n",
    "    model.fit(x_train_norm, y_train, epochs=n_train_epoch, verbose = 1)\n",
    "\n",
    "    # 모델 시험\n",
    "    test_loss, test_accuracy = model.evaluate(x_test_norm, y_test, verbose=0)\n",
    "    print(n_channel_1, n_channel_2, n_dense, n_train_epoch, \": test_loss: {} \".format(test_loss))\n",
    "    print(n_channel_1, n_channel_2, n_dense, n_train_epoch, \": test_accuracy: {}\".format(test_accuracy))"
   ]
  },
  {
   "cell_type": "code",
   "execution_count": 16,
   "metadata": {},
   "outputs": [
    {
     "name": "stdout",
     "output_type": "stream",
     "text": [
      "Epoch 1/12\n",
      "10/10 [==============================] - 0s 3ms/step - loss: 1.0804 - accuracy: 0.4100\n",
      "Epoch 2/12\n",
      "10/10 [==============================] - 0s 4ms/step - loss: 1.0527 - accuracy: 0.6667\n",
      "Epoch 3/12\n",
      "10/10 [==============================] - 0s 3ms/step - loss: 1.0032 - accuracy: 0.8167\n",
      "Epoch 4/12\n",
      "10/10 [==============================] - 0s 4ms/step - loss: 0.9494 - accuracy: 0.8567\n",
      "Epoch 5/12\n",
      "10/10 [==============================] - 0s 3ms/step - loss: 0.8557 - accuracy: 0.8200\n",
      "Epoch 6/12\n",
      "10/10 [==============================] - 0s 3ms/step - loss: 0.7377 - accuracy: 0.8967\n",
      "Epoch 7/12\n",
      "10/10 [==============================] - 0s 4ms/step - loss: 0.6326 - accuracy: 0.7867\n",
      "Epoch 8/12\n",
      "10/10 [==============================] - 0s 3ms/step - loss: 0.4847 - accuracy: 0.9133\n",
      "Epoch 9/12\n",
      "10/10 [==============================] - 0s 4ms/step - loss: 0.3914 - accuracy: 0.9333\n",
      "Epoch 10/12\n",
      "10/10 [==============================] - 0s 4ms/step - loss: 0.3325 - accuracy: 0.9167\n",
      "Epoch 11/12\n",
      "10/10 [==============================] - 0s 3ms/step - loss: 0.2690 - accuracy: 0.9567\n",
      "Epoch 12/12\n",
      "10/10 [==============================] - 0s 4ms/step - loss: 0.2448 - accuracy: 0.9367\n",
      "8 16 8 12 : test_loss: 1.9747872352600098 \n",
      "8 16 8 12 : test_accuracy: 0.2800000011920929\n"
     ]
    }
   ],
   "source": [
    "RPS_predict(8,16,8,12)"
   ]
  },
  {
   "cell_type": "markdown",
   "metadata": {},
   "source": [
    "train 데이터의 개수가 모자란 것 같습니다.  \n",
    "train 데이터를 늘려보겠습니다."
   ]
  },
  {
   "cell_type": "markdown",
   "metadata": {},
   "source": [
    "여러개의 train을 사용하기위해 폴더에서 train 폴더만을 사용하겠습니다."
   ]
  },
  {
   "cell_type": "code",
   "execution_count": 17,
   "metadata": {},
   "outputs": [
    {
     "data": {
      "text/plain": [
       "['train1', 'train2', 'train3', 'train4', 'train5', 'train6']"
      ]
     },
     "execution_count": 17,
     "metadata": {},
     "output_type": "execute_result"
    }
   ],
   "source": [
    "from os import listdir\n",
    "\n",
    "list_dir = listdir('/home/aiffel/Code/Exploration Submit/5')\n",
    "list_train = []\n",
    "# print(list_dir)\n",
    "for folder in sorted(list_dir):\n",
    "    if(folder.startswith('train')):\n",
    "        list_train.append(folder)\n",
    "\n",
    "list_train"
   ]
  },
  {
   "cell_type": "code",
   "execution_count": 18,
   "metadata": {},
   "outputs": [
    {
     "name": "stdout",
     "output_type": "stream",
     "text": [
      "100  images to be resized.\n",
      "100  images resized.\n",
      "100  images to be resized.\n",
      "100  images resized.\n",
      "100  images to be resized.\n",
      "100  images resized.\n",
      "100  images to be resized.\n",
      "100  images resized.\n",
      "100  images to be resized.\n",
      "100  images resized.\n",
      "100  images to be resized.\n",
      "100  images resized.\n",
      "100  images to be resized.\n",
      "100  images resized.\n",
      "100  images to be resized.\n",
      "100  images resized.\n",
      "100  images to be resized.\n",
      "100  images resized.\n",
      "100  images to be resized.\n",
      "100  images resized.\n",
      "100  images to be resized.\n",
      "100  images resized.\n",
      "100  images to be resized.\n",
      "100  images resized.\n",
      "100  images to be resized.\n",
      "100  images resized.\n",
      "100  images to be resized.\n",
      "100  images resized.\n",
      "100  images to be resized.\n",
      "100  images resized.\n",
      "100  images to be resized.\n",
      "100  images resized.\n",
      "100  images to be resized.\n",
      "100  images resized.\n",
      "100  images to be resized.\n",
      "100  images resized.\n"
     ]
    }
   ],
   "source": [
    "list_name = ['scissor', 'rock', 'paper']\n",
    "\n",
    "for i in list_train:\n",
    "    for j in list_name:\n",
    "        image_dir_path = os.getenv(\"HOME\") + \"/Code/Exploration Submit/5/\" + i + \"/\"+ j\n",
    "        # print(image_dir_path)\n",
    "        resize_images(image_dir_path)\n",
    "    "
   ]
  },
  {
   "cell_type": "code",
   "execution_count": 19,
   "metadata": {},
   "outputs": [],
   "source": [
    "# # train 2\n",
    "# image_dir_path2_1 = os.getenv(\"HOME\") + \"/Code/Exploration Submit/5/train2/scissor\"\n",
    "# resize_images(image_dir_path2_1)\n",
    "# image_dir_path2_2 = os.getenv(\"HOME\") + \"/Code/Exploration Submit/5/train2/rock\"\n",
    "# resize_images(image_dir_path2_2)\n",
    "# image_dir_path2_3 = os.getenv(\"HOME\") + \"/Code/Exploration Submit/5/train2/paper\"\n",
    "# resize_images(image_dir_path2_3)\n",
    "\n",
    "# # train 3\n",
    "# image_dir_path3_1 = os.getenv(\"HOME\") + \"/Code/Exploration Submit/5/train3/scissor\"\n",
    "# resize_images(image_dir_path3_1)\n",
    "# image_dir_path3_2 = os.getenv(\"HOME\") + \"/Code/Exploration Submit/5/train3/rock\"\n",
    "# resize_images(image_dir_path3_2)\n",
    "# image_dir_path3_3 = os.getenv(\"HOME\") + \"/Code/Exploration Submit/5/train3/paper\"\n",
    "# resize_images(image_dir_path3_3)\n",
    "\n",
    "# # train 4\n",
    "# image_dir_path4_1 = os.getenv(\"HOME\") + \"/Code/Exploration Submit/5/train4/scissor\"\n",
    "# resize_images(image_dir_path4_1)\n",
    "# image_dir_path4_2 = os.getenv(\"HOME\") + \"/Code/Exploration Submit/5/train4/rock\"\n",
    "# resize_images(image_dir_path4_2)\n",
    "# image_dir_path4_3 = os.getenv(\"HOME\") + \"/Code/Exploration Submit/5/train4/paper\"\n",
    "# resize_images(image_dir_path4_3)\n",
    "\n",
    "# # train 5\n",
    "# image_dir_path5_1 = os.getenv(\"HOME\") + \"/Code/Exploration Submit/5/train5/scissor\"\n",
    "# resize_images(image_dir_path5_1)\n",
    "# image_dir_path5_2 = os.getenv(\"HOME\") + \"/Code/Exploration Submit/5/train5/rock\"\n",
    "# resize_images(image_dir_path5_2)\n",
    "# image_dir_path5_3 = os.getenv(\"HOME\") + \"/Code/Exploration Submit/5/train5/paper\"\n",
    "# resize_images(image_dir_path5_3)\n",
    "\n",
    "# # train 6\n",
    "# image_dir_path6_1 = os.getenv(\"HOME\") + \"/Code/Exploration Submit/5/train6/scissor\"\n",
    "# resize_images(image_dir_path6_1)\n",
    "# image_dir_path6_2 = os.getenv(\"HOME\") + \"/Code/Exploration Submit/5/train6/rock\"\n",
    "# resize_images(image_dir_path6_2)\n",
    "# image_dir_path6_3 = os.getenv(\"HOME\") + \"/Code/Exploration Submit/5/train6/paper\"\n",
    "# resize_images(image_dir_path6_3)"
   ]
  },
  {
   "cell_type": "code",
   "execution_count": 20,
   "metadata": {},
   "outputs": [],
   "source": [
    "from os import listdir\n",
    "\n",
    "# 실제 경로 = /home/aiffel/Code/Exploration Submit/5/train2/paper\n",
    "# img_path  = /Code/Exploration Submit\n",
    "# list_train = ['train1', 'train2', 'train3', 'train4', 'train5', 'train6']\n",
    "# list_name = ['scissor', 'rock', 'paper']\n",
    "def new_load_data(img_path, number_of_data=1800):  # 가위바위보 이미지 개수 총합에 주의하세요.\n",
    "    # 가위 : 0, 바위 : 1, 보 : 2\n",
    "    img_size=28\n",
    "    color=3\n",
    "    #이미지 데이터와 라벨(가위 : 0, 바위 : 1, 보 : 2) 데이터를 담을 행렬(matrix) 영역을 생성합니다.\n",
    "    imgs=np.zeros(number_of_data*img_size*img_size*color,dtype=np.int32).reshape(number_of_data,img_size,img_size,color)\n",
    "    labels=np.zeros(number_of_data,dtype=np.int32)\n",
    "    idx = 0\n",
    "    \n",
    "    for i in list_train:\n",
    "        for nidx, name in enumerate(list_name):\n",
    "            print(i, nidx, name)\n",
    "            for file in glob.iglob(img_path + \"/\" + i + \"/\" + name + \"/*.jpg\"):\n",
    "                img = np.array(Image.open(file),dtype=np.int32)\n",
    "                imgs[idx,:,:,:]=img    # 데이터 영역에 이미지 행렬을 복사\n",
    "                labels[idx] = nidx  # 가위 : 0, 바위 : 1, 보 : 2\n",
    "                idx=idx+1\n",
    "    print(\"학습데이터(x_train)의 이미지 개수는\", idx,\"입니다.\")\n",
    "    return imgs, labels"
   ]
  },
  {
   "cell_type": "code",
   "execution_count": 21,
   "metadata": {},
   "outputs": [],
   "source": [
    "# def new_load_data(img_path1, img_path2, img_path3, img_path4, img_path5, img_path6, number_of_data=1800):  # 가위바위보 이미지 개수 총합에 주의하세요.\n",
    "#     # 가위 : 0, 바위 : 1, 보 : 2\n",
    "#     img_size=28\n",
    "#     color=3\n",
    "#     #이미지 데이터와 라벨(가위 : 0, 바위 : 1, 보 : 2) 데이터를 담을 행렬(matrix) 영역을 생성합니다.\n",
    "#     imgs=np.zeros(number_of_data*img_size*img_size*color,dtype=np.int32).reshape(number_of_data,img_size,img_size,color)\n",
    "#     labels=np.zeros(number_of_data,dtype=np.int32)\n",
    "    \n",
    "#     idx=0\n",
    "#     # train1 가위\n",
    "#     for file in glob.iglob(img_path1+'/scissor/*.jpg'):\n",
    "#         img = np.array(Image.open(file),dtype=np.int32)\n",
    "#         imgs[idx,:,:,:]=img    # 데이터 영역에 이미지 행렬을 복사\n",
    "#         labels[idx]=0   # 가위 : 0\n",
    "#         idx=idx+1\n",
    "#     # train2 가위\n",
    "#     for file in glob.iglob(img_path2+'/scissor/*.jpg'):\n",
    "#         img = np.array(Image.open(file),dtype=np.int32)\n",
    "#         imgs[idx,:,:,:]=img    # 데이터 영역에 이미지 행렬을 복사\n",
    "#         labels[idx]=0   # 가위 : 0\n",
    "#         idx=idx+1\n",
    "#     # train3 가위\n",
    "#     for file in glob.iglob(img_path3+'/scissor/*.jpg'):\n",
    "#         img = np.array(Image.open(file),dtype=np.int32)\n",
    "#         imgs[idx,:,:,:]=img    # 데이터 영역에 이미지 행렬을 복사\n",
    "#         labels[idx]=0   # 가위 : 0\n",
    "#         idx=idx+1\n",
    "#     # train4 가위\n",
    "#     for file in glob.iglob(img_path4+'/scissor/*.jpg'):\n",
    "#         img = np.array(Image.open(file),dtype=np.int32)\n",
    "#         imgs[idx,:,:,:]=img    # 데이터 영역에 이미지 행렬을 복사\n",
    "#         labels[idx]=0   # 가위 : 0\n",
    "#         idx=idx+1\n",
    "#     # train5 가위\n",
    "#     for file in glob.iglob(img_path5+'/scissor/*.jpg'):\n",
    "#         img = np.array(Image.open(file),dtype=np.int32)\n",
    "#         imgs[idx,:,:,:]=img    # 데이터 영역에 이미지 행렬을 복사\n",
    "#         labels[idx]=0   # 가위 : 0\n",
    "#         idx=idx+1\n",
    "#     # train6 가위\n",
    "#     for file in glob.iglob(img_path6+'/scissor/*.jpg'):\n",
    "#         img = np.array(Image.open(file),dtype=np.int32)\n",
    "#         imgs[idx,:,:,:]=img    # 데이터 영역에 이미지 행렬을 복사\n",
    "#         labels[idx]=0   # 가위 : 0\n",
    "#         idx=idx+1\n",
    "        \n",
    "#     # train1 바위\n",
    "#     for file in glob.iglob(img_path1+'/rock/*.jpg'):\n",
    "#         img = np.array(Image.open(file),dtype=np.int32)\n",
    "#         imgs[idx,:,:,:]=img    # 데이터 영역에 이미지 행렬을 복사\n",
    "#         labels[idx]=1   # 바위 : 1\n",
    "#         idx=idx+1\n",
    "#     # train2 바위\n",
    "#     for file in glob.iglob(img_path2+'/rock/*.jpg'):\n",
    "#         img = np.array(Image.open(file),dtype=np.int32)\n",
    "#         imgs[idx,:,:,:]=img    # 데이터 영역에 이미지 행렬을 복사\n",
    "#         labels[idx]=1   # 바위 : 1\n",
    "#         idx=idx+1 \n",
    "#     # train3 바위\n",
    "#     for file in glob.iglob(img_path3+'/rock/*.jpg'):\n",
    "#         img = np.array(Image.open(file),dtype=np.int32)\n",
    "#         imgs[idx,:,:,:]=img    # 데이터 영역에 이미지 행렬을 복사\n",
    "#         labels[idx]=1   # 바위 : 1\n",
    "#         idx=idx+1  \n",
    "#     # train4 바위\n",
    "#     for file in glob.iglob(img_path4+'/rock/*.jpg'):\n",
    "#         img = np.array(Image.open(file),dtype=np.int32)\n",
    "#         imgs[idx,:,:,:]=img    # 데이터 영역에 이미지 행렬을 복사\n",
    "#         labels[idx]=1   # 바위 : 1\n",
    "#         idx=idx+1\n",
    "#     # train5 바위\n",
    "#     for file in glob.iglob(img_path5+'/rock/*.jpg'):\n",
    "#         img = np.array(Image.open(file),dtype=np.int32)\n",
    "#         imgs[idx,:,:,:]=img    # 데이터 영역에 이미지 행렬을 복사\n",
    "#         labels[idx]=1   # 바위 : 1\n",
    "#         idx=idx+1\n",
    "#     # train6 바위\n",
    "#     for file in glob.iglob(img_path6+'/rock/*.jpg'):\n",
    "#         img = np.array(Image.open(file),dtype=np.int32)\n",
    "#         imgs[idx,:,:,:]=img    # 데이터 영역에 이미지 행렬을 복사\n",
    "#         labels[idx]=1   # 바위 : 1\n",
    "#         idx=idx+1\n",
    "        \n",
    "#     # trian1 보\n",
    "#     for file in glob.iglob(img_path1+'/paper/*.jpg'):\n",
    "#         img = np.array(Image.open(file),dtype=np.int32)\n",
    "#         imgs[idx,:,:,:]=img    # 데이터 영역에 이미지 행렬을 복사\n",
    "#         labels[idx]=2   # 보 : 2\n",
    "#         idx=idx+1\n",
    "#     # trian2 보\n",
    "#     for file in glob.iglob(img_path2+'/paper/*.jpg'):\n",
    "#         img = np.array(Image.open(file),dtype=np.int32)\n",
    "#         imgs[idx,:,:,:]=img    # 데이터 영역에 이미지 행렬을 복사\n",
    "#         labels[idx]=2   # 보 : 2\n",
    "#         idx=idx+1\n",
    "#     # trian3 보\n",
    "#     for file in glob.iglob(img_path3+'/paper/*.jpg'):\n",
    "#         img = np.array(Image.open(file),dtype=np.int32)\n",
    "#         imgs[idx,:,:,:]=img    # 데이터 영역에 이미지 행렬을 복사\n",
    "#         labels[idx]=2   # 보 : 2\n",
    "#         idx=idx+1\n",
    "#     # trn4 보\n",
    "#     for file in glob.iglob(img_path4+'/paper/*.jpg'):\n",
    "#         img = np.array(Image.open(file),dtype=np.int32)\n",
    "#         imgs[idx,:,:,:]=img    # 데이터 영역에 이미지 행렬을 복사\n",
    "#         labels[idx]=2   # 보 : 2\n",
    "#         idx=idx+1\n",
    "#     # trian5 보\n",
    "#     for file in glob.iglob(img_path5+'/paper/*.jpg'):\n",
    "#         img = np.array(Image.open(file),dtype=np.int32)\n",
    "#         imgs[idx,:,:,:]=img    # 데이터 영역에 이미지 행렬을 복사\n",
    "#         labels[idx]=2   # 보 : 2\n",
    "#         idx=idx+1    \n",
    "#     # trian6 보    \n",
    "#     for file in glob.iglob(img_path6+'/paper/*.jpg'):\n",
    "#         img = np.array(Image.open(file),dtype=np.int32)\n",
    "#         imgs[idx,:,:,:]=img    # 데이터 영역에 이미지 행렬을 복사\n",
    "#         labels[idx]=2   # 보 : 2\n",
    "#         idx=idx+1\n",
    "    \n",
    "#     print(\"학습데이터(x_train)의 이미지 개수는\", idx,\"입니다.\")\n",
    "#     return imgs, labels"
   ]
  },
  {
   "cell_type": "code",
   "execution_count": 22,
   "metadata": {},
   "outputs": [],
   "source": [
    "# img_path1 = os.getenv(\"HOME\") + \"/Code/Exploration Submit/5/train1\"\n",
    "# img_path2 = os.getenv(\"HOME\") + \"/Code/Exploration Submit/5/train2\"\n",
    "# img_path3 = os.getenv(\"HOME\") + \"/Code/Exploration Submit/5/train3\"\n",
    "# img_path4 = os.getenv(\"HOME\") + \"/Code/Exploration Submit/5/train4\"\n",
    "# img_path5 = os.getenv(\"HOME\") + \"/Code/Exploration Submit/5/train5\"\n",
    "# img_path6 = os.getenv(\"HOME\") + \"/Code/Exploration Submit/5/train6\"\n",
    "\n",
    "# (x_train, y_train)=new_load_data(img_path1, img_path2, img_path3, img_path4, img_path5, img_path6, 1800)\n",
    "# x_train_norm = x_train/255.0   # 입력은 0~1 사이의 값으로 정규화\n",
    "\n",
    "# print(\"x_train shape: {}\".format(x_train_norm.shape))\n",
    "# print(\"y_train shape: {}\".format(y_train.shape))"
   ]
  },
  {
   "cell_type": "code",
   "execution_count": 23,
   "metadata": {},
   "outputs": [
    {
     "name": "stdout",
     "output_type": "stream",
     "text": [
      "train1 0 scissor\n",
      "train1 1 rock\n",
      "train1 2 paper\n",
      "train2 0 scissor\n",
      "train2 1 rock\n",
      "train2 2 paper\n",
      "train3 0 scissor\n",
      "train3 1 rock\n",
      "train3 2 paper\n",
      "train4 0 scissor\n",
      "train4 1 rock\n",
      "train4 2 paper\n",
      "train5 0 scissor\n",
      "train5 1 rock\n",
      "train5 2 paper\n",
      "train6 0 scissor\n",
      "train6 1 rock\n",
      "train6 2 paper\n",
      "학습데이터(x_train)의 이미지 개수는 1800 입니다.\n",
      "x_train shape: (1800, 28, 28, 3)\n",
      "y_train shape: (1800,)\n"
     ]
    }
   ],
   "source": [
    "img_path = os.getenv(\"HOME\") + \"/Code/Exploration Submit/5/\"\n",
    "(x_train, y_train)=new_load_data(img_path, 1800)\n",
    "x_train_norm = x_train/255.0   # RPS_predict(32,32,64,14)입력은 0~1 사이의 값으로 정규화\n",
    "\n",
    "print(\"x_train shape: {}\".format(x_train_norm.shape))\n",
    "print(\"y_train shape: {}\".format(y_train.shape))"
   ]
  },
  {
   "cell_type": "markdown",
   "metadata": {},
   "source": [
    "다시 구해봅니다."
   ]
  },
  {
   "cell_type": "code",
   "execution_count": 24,
   "metadata": {},
   "outputs": [
    {
     "name": "stdout",
     "output_type": "stream",
     "text": [
      "Epoch 1/10\n",
      "57/57 [==============================] - 1s 7ms/step - loss: 1.0729 - accuracy: 0.4261\n",
      "Epoch 2/10\n",
      "57/57 [==============================] - 0s 6ms/step - loss: 0.9589 - accuracy: 0.5717\n",
      "Epoch 3/10\n",
      "57/57 [==============================] - 0s 7ms/step - loss: 0.7273 - accuracy: 0.7494\n",
      "Epoch 4/10\n",
      "57/57 [==============================] - 0s 7ms/step - loss: 0.5574 - accuracy: 0.7933\n",
      "Epoch 5/10\n",
      "57/57 [==============================] - 0s 7ms/step - loss: 0.4492 - accuracy: 0.8333\n",
      "Epoch 6/10\n",
      "57/57 [==============================] - 0s 7ms/step - loss: 0.3635 - accuracy: 0.8683\n",
      "Epoch 7/10\n",
      "57/57 [==============================] - 0s 7ms/step - loss: 0.3226 - accuracy: 0.8844\n",
      "Epoch 8/10\n",
      "57/57 [==============================] - 0s 7ms/step - loss: 0.2682 - accuracy: 0.9094\n",
      "Epoch 9/10\n",
      "57/57 [==============================] - 0s 6ms/step - loss: 0.2251 - accuracy: 0.9294\n",
      "Epoch 10/10\n",
      "57/57 [==============================] - 0s 6ms/step - loss: 0.2046 - accuracy: 0.9339\n",
      "16 16 32 10 : test_loss: 1.114546298980713 \n",
      "16 16 32 10 : test_accuracy: 0.6000000238418579\n",
      "Epoch 1/14\n",
      "57/57 [==============================] - 1s 6ms/step - loss: 1.0799 - accuracy: 0.4056\n",
      "Epoch 2/14\n",
      "57/57 [==============================] - 0s 6ms/step - loss: 0.9691 - accuracy: 0.5600\n",
      "Epoch 3/14\n",
      "57/57 [==============================] - 0s 7ms/step - loss: 0.8277 - accuracy: 0.6339\n",
      "Epoch 4/14\n",
      "57/57 [==============================] - 0s 7ms/step - loss: 0.6857 - accuracy: 0.7183\n",
      "Epoch 5/14\n",
      "57/57 [==============================] - 0s 7ms/step - loss: 0.5743 - accuracy: 0.7789\n",
      "Epoch 6/14\n",
      "57/57 [==============================] - 0s 6ms/step - loss: 0.4769 - accuracy: 0.8261\n",
      "Epoch 7/14\n",
      "57/57 [==============================] - 0s 7ms/step - loss: 0.3917 - accuracy: 0.8594\n",
      "Epoch 8/14\n",
      "57/57 [==============================] - 0s 7ms/step - loss: 0.3414 - accuracy: 0.8800\n",
      "Epoch 9/14\n",
      "57/57 [==============================] - 0s 7ms/step - loss: 0.2937 - accuracy: 0.8950\n",
      "Epoch 10/14\n",
      "57/57 [==============================] - 0s 7ms/step - loss: 0.2420 - accuracy: 0.9200\n",
      "Epoch 11/14\n",
      "57/57 [==============================] - 0s 7ms/step - loss: 0.1980 - accuracy: 0.9389\n",
      "Epoch 12/14\n",
      "57/57 [==============================] - 0s 7ms/step - loss: 0.1703 - accuracy: 0.9506\n",
      "Epoch 13/14\n",
      "57/57 [==============================] - 0s 7ms/step - loss: 0.1609 - accuracy: 0.9450\n",
      "Epoch 14/14\n",
      "57/57 [==============================] - 0s 7ms/step - loss: 0.1389 - accuracy: 0.9600\n",
      "16 16 32 14 : test_loss: 1.7034575939178467 \n",
      "16 16 32 14 : test_accuracy: 0.5633333325386047\n",
      "Epoch 1/18\n",
      "57/57 [==============================] - 1s 7ms/step - loss: 1.0379 - accuracy: 0.4989\n",
      "Epoch 2/18\n",
      "57/57 [==============================] - 0s 6ms/step - loss: 0.7855 - accuracy: 0.7167\n",
      "Epoch 3/18\n",
      "57/57 [==============================] - 0s 6ms/step - loss: 0.5299 - accuracy: 0.8200\n",
      "Epoch 4/18\n",
      "57/57 [==============================] - 0s 6ms/step - loss: 0.4036 - accuracy: 0.8689\n",
      "Epoch 5/18\n",
      "57/57 [==============================] - 0s 6ms/step - loss: 0.3127 - accuracy: 0.9067\n",
      "Epoch 6/18\n",
      "57/57 [==============================] - 0s 6ms/step - loss: 0.2538 - accuracy: 0.9211\n",
      "Epoch 7/18\n",
      "57/57 [==============================] - 0s 6ms/step - loss: 0.1982 - accuracy: 0.9433\n",
      "Epoch 8/18\n",
      "57/57 [==============================] - 0s 6ms/step - loss: 0.1570 - accuracy: 0.9617\n",
      "Epoch 9/18\n",
      "57/57 [==============================] - 0s 6ms/step - loss: 0.1317 - accuracy: 0.9644\n",
      "Epoch 10/18\n",
      "57/57 [==============================] - 0s 6ms/step - loss: 0.1034 - accuracy: 0.9689\n",
      "Epoch 11/18\n",
      "57/57 [==============================] - 0s 6ms/step - loss: 0.0834 - accuracy: 0.9783\n",
      "Epoch 12/18\n",
      "57/57 [==============================] - 0s 6ms/step - loss: 0.0771 - accuracy: 0.9822\n",
      "Epoch 13/18\n",
      "57/57 [==============================] - 0s 6ms/step - loss: 0.0543 - accuracy: 0.9917\n",
      "Epoch 14/18\n",
      "57/57 [==============================] - 0s 6ms/step - loss: 0.0445 - accuracy: 0.9917\n",
      "Epoch 15/18\n",
      "57/57 [==============================] - 0s 6ms/step - loss: 0.0367 - accuracy: 0.9944\n",
      "Epoch 16/18\n",
      "57/57 [==============================] - 0s 6ms/step - loss: 0.0347 - accuracy: 0.9939\n",
      "Epoch 17/18\n",
      "57/57 [==============================] - 0s 6ms/step - loss: 0.0295 - accuracy: 0.9950\n",
      "Epoch 18/18\n",
      "57/57 [==============================] - 0s 6ms/step - loss: 0.0245 - accuracy: 0.9978\n",
      "16 16 32 18 : test_loss: 2.1417288780212402 \n",
      "16 16 32 18 : test_accuracy: 0.5933333039283752\n",
      "Epoch 1/10\n",
      "57/57 [==============================] - 1s 9ms/step - loss: 1.0279 - accuracy: 0.4906\n",
      "Epoch 2/10\n",
      "57/57 [==============================] - 1s 9ms/step - loss: 0.7070 - accuracy: 0.7250\n",
      "Epoch 3/10\n",
      "57/57 [==============================] - 1s 9ms/step - loss: 0.4349 - accuracy: 0.8456\n",
      "Epoch 4/10\n",
      "57/57 [==============================] - 1s 10ms/step - loss: 0.2766 - accuracy: 0.9122\n",
      "Epoch 5/10\n",
      "57/57 [==============================] - 1s 9ms/step - loss: 0.2007 - accuracy: 0.9367\n",
      "Epoch 6/10\n",
      "57/57 [==============================] - 1s 9ms/step - loss: 0.1249 - accuracy: 0.9650\n",
      "Epoch 7/10\n",
      "57/57 [==============================] - 1s 10ms/step - loss: 0.0885 - accuracy: 0.9739\n",
      "Epoch 8/10\n",
      "57/57 [==============================] - 1s 9ms/step - loss: 0.0645 - accuracy: 0.9856\n",
      "Epoch 9/10\n",
      "57/57 [==============================] - 1s 10ms/step - loss: 0.0420 - accuracy: 0.9922\n",
      "Epoch 10/10\n",
      "57/57 [==============================] - 1s 9ms/step - loss: 0.0330 - accuracy: 0.9950\n",
      "32 32 64 10 : test_loss: 1.9108343124389648 \n",
      "32 32 64 10 : test_accuracy: 0.5233333110809326\n",
      "Epoch 1/14\n",
      "57/57 [==============================] - 1s 10ms/step - loss: 1.0295 - accuracy: 0.5089\n",
      "Epoch 2/14\n",
      "57/57 [==============================] - 1s 9ms/step - loss: 0.6835 - accuracy: 0.7456\n",
      "Epoch 3/14\n",
      "57/57 [==============================] - 1s 9ms/step - loss: 0.4521 - accuracy: 0.8244\n",
      "Epoch 4/14\n",
      "57/57 [==============================] - 1s 9ms/step - loss: 0.3480 - accuracy: 0.8789\n",
      "Epoch 5/14\n",
      "57/57 [==============================] - 0s 8ms/step - loss: 0.2183 - accuracy: 0.9394\n",
      "Epoch 6/14\n",
      "57/57 [==============================] - 1s 9ms/step - loss: 0.1815 - accuracy: 0.9461\n",
      "Epoch 7/14\n",
      "57/57 [==============================] - 1s 9ms/step - loss: 0.1179 - accuracy: 0.9717\n",
      "Epoch 8/14\n",
      "57/57 [==============================] - 0s 9ms/step - loss: 0.0942 - accuracy: 0.9778\n",
      "Epoch 9/14\n",
      "57/57 [==============================] - 1s 9ms/step - loss: 0.0591 - accuracy: 0.9906\n",
      "Epoch 10/14\n",
      "57/57 [==============================] - 1s 9ms/step - loss: 0.0469 - accuracy: 0.9928\n",
      "Epoch 11/14\n",
      "57/57 [==============================] - 0s 8ms/step - loss: 0.0369 - accuracy: 0.9944\n",
      "Epoch 12/14\n",
      "57/57 [==============================] - 0s 9ms/step - loss: 0.0286 - accuracy: 0.9956\n",
      "Epoch 13/14\n",
      "57/57 [==============================] - 0s 9ms/step - loss: 0.0242 - accuracy: 0.9972\n",
      "Epoch 14/14\n",
      "57/57 [==============================] - 1s 9ms/step - loss: 0.0179 - accuracy: 0.9972\n",
      "32 32 64 14 : test_loss: 1.7169502973556519 \n",
      "32 32 64 14 : test_accuracy: 0.5799999833106995\n",
      "Epoch 1/18\n",
      "57/57 [==============================] - 1s 8ms/step - loss: 1.0867 - accuracy: 0.4350\n",
      "Epoch 2/18\n",
      "57/57 [==============================] - 1s 9ms/step - loss: 0.9062 - accuracy: 0.6078\n",
      "Epoch 3/18\n",
      "57/57 [==============================] - 1s 9ms/step - loss: 0.5770 - accuracy: 0.7956\n",
      "Epoch 4/18\n",
      "57/57 [==============================] - 1s 9ms/step - loss: 0.3919 - accuracy: 0.8539\n",
      "Epoch 5/18\n",
      "57/57 [==============================] - 1s 9ms/step - loss: 0.2814 - accuracy: 0.9106\n",
      "Epoch 6/18\n",
      "57/57 [==============================] - 0s 9ms/step - loss: 0.2198 - accuracy: 0.9300\n",
      "Epoch 7/18\n",
      "57/57 [==============================] - 1s 9ms/step - loss: 0.1638 - accuracy: 0.9561\n",
      "Epoch 8/18\n",
      "57/57 [==============================] - 1s 9ms/step - loss: 0.1226 - accuracy: 0.9650\n",
      "Epoch 9/18\n",
      "57/57 [==============================] - 1s 9ms/step - loss: 0.0835 - accuracy: 0.9806\n",
      "Epoch 10/18\n",
      "57/57 [==============================] - 0s 8ms/step - loss: 0.0814 - accuracy: 0.9778\n",
      "Epoch 11/18\n",
      "57/57 [==============================] - 0s 9ms/step - loss: 0.0607 - accuracy: 0.9872\n",
      "Epoch 12/18\n",
      "57/57 [==============================] - 1s 9ms/step - loss: 0.0455 - accuracy: 0.9900\n",
      "Epoch 13/18\n",
      "57/57 [==============================] - 1s 9ms/step - loss: 0.0403 - accuracy: 0.9928\n",
      "Epoch 14/18\n",
      "57/57 [==============================] - 0s 8ms/step - loss: 0.0320 - accuracy: 0.9939\n",
      "Epoch 15/18\n",
      "57/57 [==============================] - 1s 9ms/step - loss: 0.0253 - accuracy: 0.9956\n",
      "Epoch 16/18\n",
      "57/57 [==============================] - 1s 9ms/step - loss: 0.0368 - accuracy: 0.9906\n",
      "Epoch 17/18\n",
      "57/57 [==============================] - 1s 9ms/step - loss: 0.0172 - accuracy: 0.9972\n",
      "Epoch 18/18\n",
      "57/57 [==============================] - 0s 8ms/step - loss: 0.0134 - accuracy: 0.9983\n",
      "32 32 64 18 : test_loss: 4.248847961425781 \n",
      "32 32 64 18 : test_accuracy: 0.41333332657814026\n"
     ]
    }
   ],
   "source": [
    "# 16 32, 16 32, 32 64, 10 13 16\n",
    "\n",
    "for i in range(1,3):\n",
    "    for j in range(10, 20, 4):\n",
    "        RPS_predict(16*i,16*i,32*i, j)\n",
    "        # print(i, j)"
   ]
  },
  {
   "cell_type": "markdown",
   "metadata": {},
   "source": [
    "accuracy가 0.603이 나왔습니다."
   ]
  }
 ],
 "metadata": {
  "kernelspec": {
   "display_name": "Python 3.10.4 64-bit",
   "language": "python",
   "name": "python3"
  },
  "language_info": {
   "codemirror_mode": {
    "name": "ipython",
    "version": 3
   },
   "file_extension": ".py",
   "mimetype": "text/x-python",
   "name": "python",
   "nbconvert_exporter": "python",
   "pygments_lexer": "ipython3",
   "version": "3.10.4"
  },
  "orig_nbformat": 4,
  "vscode": {
   "interpreter": {
    "hash": "916dbcbb3f70747c44a77c7bcd40155683ae19c65e1c03b4aa3499c5328201f1"
   }
  }
 },
 "nbformat": 4,
 "nbformat_minor": 2
}

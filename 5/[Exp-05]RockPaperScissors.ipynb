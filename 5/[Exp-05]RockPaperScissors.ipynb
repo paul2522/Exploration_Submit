{
 "cells": [
  {
   "cell_type": "markdown",
   "metadata": {},
   "source": [
    "# [Exp-05]RockPaperScissors"
   ]
  },
  {
   "cell_type": "markdown",
   "metadata": {},
   "source": [
    "## 라이브러리 확인"
   ]
  },
  {
   "cell_type": "code",
   "execution_count": 1,
   "metadata": {},
   "outputs": [
    {
     "name": "stdout",
     "output_type": "stream",
     "text": [
      "2.9.1\n",
      "1.23.1\n"
     ]
    }
   ],
   "source": [
    "import tensorflow as tf\n",
    "import numpy as np\n",
    "\n",
    "print(tf.__version__)\n",
    "print(np.__version__)"
   ]
  },
  {
   "cell_type": "markdown",
   "metadata": {},
   "source": [
    "## 데이터 불러오고 Resize 하기"
   ]
  },
  {
   "cell_type": "code",
   "execution_count": 2,
   "metadata": {},
   "outputs": [],
   "source": [
    "from PIL import Image\n",
    "import matplotlib.pyplot as plt\n",
    "import glob\n",
    "import os"
   ]
  },
  {
   "cell_type": "code",
   "execution_count": 3,
   "metadata": {},
   "outputs": [],
   "source": [
    "def resize_images(img_path):\n",
    "\timages=glob.glob(img_path + \"/*.jpg\")  \n",
    "    \n",
    "\tprint(len(images), \" images to be resized.\")\n",
    "\n",
    "    # 파일마다 모두 28x28 사이즈로 바꾸어 저장합니다.\n",
    "\ttarget_size=(28,28)\n",
    "\tfor img in images:\n",
    "\t\told_img=Image.open(img)\n",
    "\t\tnew_img=old_img.resize(target_size,Image.ANTIALIAS)\n",
    "\t\tnew_img.save(img, \"JPEG\")\n",
    "    \n",
    "\tprint(len(images), \" images resized.\")"
   ]
  },
  {
   "cell_type": "markdown",
   "metadata": {},
   "source": [
    "가위 바위 보 이미지를 불러와서 resize 합니다."
   ]
  },
  {
   "cell_type": "code",
   "execution_count": 4,
   "metadata": {},
   "outputs": [
    {
     "name": "stdout",
     "output_type": "stream",
     "text": [
      "100  images to be resized.\n",
      "100  images resized.\n",
      "100  images to be resized.\n",
      "100  images resized.\n",
      "100  images to be resized.\n",
      "100  images resized.\n"
     ]
    }
   ],
   "source": [
    "image_dir_path1 = os.getenv(\"HOME\") + \"/Code/Exploration_Submit/5/train1/scissor\"\n",
    "resize_images(image_dir_path1)\n",
    "\n",
    "image_dir_path2 = os.getenv(\"HOME\") + \"/Code/Exploration_Submit/5/train1/rock\"\n",
    "resize_images(image_dir_path2)\n",
    "\n",
    "image_dir_path3 = os.getenv(\"HOME\") + \"/Code/Exploration_Submit/5/train1/paper\"\n",
    "resize_images(image_dir_path3)"
   ]
  },
  {
   "cell_type": "markdown",
   "metadata": {},
   "source": [
    "## train 데이터 설정"
   ]
  },
  {
   "cell_type": "code",
   "execution_count": 5,
   "metadata": {},
   "outputs": [
    {
     "name": "stdout",
     "output_type": "stream",
     "text": [
      "학습데이터(x_train)의 이미지 개수는 300 입니다.\n",
      "x_train shape: (300, 28, 28, 3)\n",
      "y_train shape: (300,)\n"
     ]
    }
   ],
   "source": [
    "import numpy as np\n",
    "\n",
    "def load_data(img_path, number_of_data=300):  # 가위바위보 이미지 개수 총합에 주의하세요.\n",
    "    # 가위 : 0, 바위 : 1, 보 : 2\n",
    "    img_size=28\n",
    "    color=3\n",
    "    #이미지 데이터와 라벨(가위 : 0, 바위 : 1, 보 : 2) 데이터를 담을 행렬(matrix) 영역을 생성합니다.\n",
    "    imgs=np.zeros(number_of_data*img_size*img_size*color,dtype=np.int32).reshape(number_of_data,img_size,img_size,color)\n",
    "    labels=np.zeros(number_of_data,dtype=np.int32)\n",
    "\n",
    "    idx=0\n",
    "    for file in glob.iglob(img_path+'/scissor/*.jpg'):\n",
    "        img = np.array(Image.open(file),dtype=np.int32)\n",
    "        imgs[idx,:,:,:]=img    # 데이터 영역에 이미지 행렬을 복사\n",
    "        labels[idx]=0   # 가위 : 0\n",
    "        idx=idx+1\n",
    "\n",
    "    for file in glob.iglob(img_path+'/rock/*.jpg'):\n",
    "        img = np.array(Image.open(file),dtype=np.int32)\n",
    "        imgs[idx,:,:,:]=img    # 데이터 영역에 이미지 행렬을 복사\n",
    "        labels[idx]=1   # 바위 : 1\n",
    "        idx=idx+1  \n",
    "    \n",
    "    for file in glob.iglob(img_path+'/paper/*.jpg'):\n",
    "        img = np.array(Image.open(file),dtype=np.int32)\n",
    "        imgs[idx,:,:,:]=img    # 데이터 영역에 이미지 행렬을 복사\n",
    "        labels[idx]=2   # 보 : 2\n",
    "        idx=idx+1\n",
    "        \n",
    "    print(\"학습데이터(x_train)의 이미지 개수는\", idx,\"입니다.\")\n",
    "    return imgs, labels\n",
    "\n",
    "image_dir_path = os.getenv(\"HOME\") + \"/Code/Exploration_Submit/5/train1\"\n",
    "(x_train, y_train)=load_data(image_dir_path)\n",
    "x_train_norm = x_train/255.0   # 입력은 0~1 사이의 값으로 정규화\n",
    "\n",
    "print(\"x_train shape: {}\".format(x_train.shape))\n",
    "print(\"y_train shape: {}\".format(y_train.shape))"
   ]
  },
  {
   "cell_type": "markdown",
   "metadata": {},
   "source": [
    "300개의 28x28x3(rgb) 입니다."
   ]
  },
  {
   "cell_type": "markdown",
   "metadata": {},
   "source": [
    "이미지 출력"
   ]
  },
  {
   "cell_type": "code",
   "execution_count": 6,
   "metadata": {},
   "outputs": [
    {
     "name": "stdout",
     "output_type": "stream",
     "text": [
      "라벨:  0\n"
     ]
    },
    {
     "data": {
      "image/png": "[encoded data removed]",
      "text/plain": [
       "<Figure size 432x288 with 1 Axes>"
      ]
     },
     "metadata": {
      "needs_background": "light"
     },
     "output_type": "display_data"
    }
   ],
   "source": [
    "plt.imshow(x_train_norm[0])\n",
    "print('라벨: ', y_train[0])"
   ]
  },
  {
   "cell_type": "code",
   "execution_count": 7,
   "metadata": {},
   "outputs": [
    {
     "name": "stdout",
     "output_type": "stream",
     "text": [
      "(28, 28, 3)\n",
      "0\n"
     ]
    }
   ],
   "source": [
    "print(x_train_norm[0].shape)\n",
    "print(y_train[0])\n"
   ]
  },
  {
   "cell_type": "markdown",
   "metadata": {},
   "source": [
    "## 딥러닝 네트워크 설계하기"
   ]
  },
  {
   "cell_type": "markdown",
   "metadata": {},
   "source": [
    "* 기존의 예제의 채널 1개에서 3개로 증가\n",
    "* 최종 class의 개수가 10 -> 3"
   ]
  },
  {
   "cell_type": "code",
   "execution_count": 8,
   "metadata": {},
   "outputs": [
    {
     "name": "stdout",
     "output_type": "stream",
     "text": [
      "Model: \"sequential\"\n",
      "_________________________________________________________________\n",
      " Layer (type)                Output Shape              Param #   \n",
      "=================================================================\n",
      " conv2d (Conv2D)             (None, 26, 26, 32)        896       \n",
      "                                                                 \n",
      " max_pooling2d (MaxPooling2D  (None, 13, 13, 32)       0         \n",
      " )                                                               \n",
      "                                                                 \n",
      " conv2d_1 (Conv2D)           (None, 11, 11, 64)        18496     \n",
      "                                                                 \n",
      " max_pooling2d_1 (MaxPooling  (None, 5, 5, 64)         0         \n",
      " 2D)                                                             \n",
      "                                                                 \n",
      " flatten (Flatten)           (None, 1600)              0         \n",
      "                                                                 \n",
      " dense (Dense)               (None, 32)                51232     \n",
      "                                                                 \n",
      " dense_1 (Dense)             (None, 3)                 99        \n",
      "                                                                 \n",
      "=================================================================\n",
      "Total params: 70,723\n",
      "Trainable params: 70,723\n",
      "Non-trainable params: 0\n",
      "_________________________________________________________________\n"
     ]
    },
    {
     "name": "stderr",
     "output_type": "stream",
     "text": [
      "2022-08-09 14:45:33.198785: I tensorflow/stream_executor/cuda/cuda_gpu_executor.cc:975] successful NUMA node read from SysFS had negative value (-1), but there must be at least one NUMA node, so returning NUMA node zero\n",
      "2022-08-09 14:45:33.228139: I tensorflow/stream_executor/cuda/cuda_gpu_executor.cc:975] successful NUMA node read from SysFS had negative value (-1), but there must be at least one NUMA node, so returning NUMA node zero\n",
      "2022-08-09 14:45:33.228307: I tensorflow/stream_executor/cuda/cuda_gpu_executor.cc:975] successful NUMA node read from SysFS had negative value (-1), but there must be at least one NUMA node, so returning NUMA node zero\n",
      "2022-08-09 14:45:33.228974: I tensorflow/core/platform/cpu_feature_guard.cc:193] This TensorFlow binary is optimized with oneAPI Deep Neural Network Library (oneDNN) to use the following CPU instructions in performance-critical operations:  AVX2 FMA\n",
      "To enable them in other operations, rebuild TensorFlow with the appropriate compiler flags.\n",
      "2022-08-09 14:45:33.230190: I tensorflow/stream_executor/cuda/cuda_gpu_executor.cc:975] successful NUMA node read from SysFS had negative value (-1), but there must be at least one NUMA node, so returning NUMA node zero\n",
      "2022-08-09 14:45:33.230632: I tensorflow/stream_executor/cuda/cuda_gpu_executor.cc:975] successful NUMA node read from SysFS had negative value (-1), but there must be at least one NUMA node, so returning NUMA node zero\n",
      "2022-08-09 14:45:33.230801: I tensorflow/stream_executor/cuda/cuda_gpu_executor.cc:975] successful NUMA node read from SysFS had negative value (-1), but there must be at least one NUMA node, so returning NUMA node zero\n",
      "2022-08-09 14:45:33.711931: I tensorflow/stream_executor/cuda/cuda_gpu_executor.cc:975] successful NUMA node read from SysFS had negative value (-1), but there must be at least one NUMA node, so returning NUMA node zero\n",
      "2022-08-09 14:45:33.712150: I tensorflow/stream_executor/cuda/cuda_gpu_executor.cc:975] successful NUMA node read from SysFS had negative value (-1), but there must be at least one NUMA node, so returning NUMA node zero\n",
      "2022-08-09 14:45:33.712292: I tensorflow/stream_executor/cuda/cuda_gpu_executor.cc:975] successful NUMA node read from SysFS had negative value (-1), but there must be at least one NUMA node, so returning NUMA node zero\n",
      "2022-08-09 14:45:33.712433: I tensorflow/core/common_runtime/gpu/gpu_device.cc:1532] Created device /job:localhost/replica:0/task:0/device:GPU:0 with 6668 MB memory:  -> device: 0, name: NVIDIA GeForce RTX 2070, pci bus id: 0000:01:00.0, compute capability: 7.5\n"
     ]
    }
   ],
   "source": [
    "import tensorflow as tf\n",
    "from tensorflow import keras\n",
    "import numpy as np\n",
    "\n",
    "model=keras.models.Sequential()\n",
    "model.add(keras.layers.Conv2D(32, (3,3), activation='relu', input_shape=(28,28,3)))\n",
    "model.add(keras.layers.MaxPool2D(2,2))\n",
    "model.add(keras.layers.Conv2D(64, (3,3), activation='relu'))\n",
    "model.add(keras.layers.MaxPooling2D((2,2)))\n",
    "model.add(keras.layers.Flatten())\n",
    "model.add(keras.layers.Dense(32, activation='relu'))\n",
    "model.add(keras.layers.Dense(3, activation='softmax'))\n",
    "\n",
    "model.summary()"
   ]
  },
  {
   "cell_type": "markdown",
   "metadata": {},
   "source": [
    "## 딥러닝 네트워크 학습"
   ]
  },
  {
   "cell_type": "code",
   "execution_count": 9,
   "metadata": {},
   "outputs": [
    {
     "data": {
      "text/plain": [
       "(300, 28, 28, 3)"
      ]
     },
     "execution_count": 9,
     "metadata": {},
     "output_type": "execute_result"
    }
   ],
   "source": [
    "x_train_norm.shape"
   ]
  },
  {
   "cell_type": "code",
   "execution_count": 10,
   "metadata": {},
   "outputs": [
    {
     "name": "stdout",
     "output_type": "stream",
     "text": [
      "Epoch 1/10\n"
     ]
    },
    {
     "name": "stderr",
     "output_type": "stream",
     "text": [
      "2022-08-09 14:45:35.147581: I tensorflow/stream_executor/cuda/cuda_dnn.cc:384] Loaded cuDNN version 8204\n"
     ]
    },
    {
     "name": "stdout",
     "output_type": "stream",
     "text": [
      "10/10 [==============================] - 2s 10ms/step - loss: 1.0810 - accuracy: 0.3733\n",
      "Epoch 2/10\n",
      "10/10 [==============================] - 0s 4ms/step - loss: 1.0086 - accuracy: 0.5767\n",
      "Epoch 3/10\n",
      "10/10 [==============================] - 0s 5ms/step - loss: 0.9129 - accuracy: 0.6267\n",
      "Epoch 4/10\n",
      "10/10 [==============================] - 0s 5ms/step - loss: 0.7246 - accuracy: 0.8700\n",
      "Epoch 5/10\n",
      "10/10 [==============================] - 0s 4ms/step - loss: 0.5766 - accuracy: 0.7367\n",
      "Epoch 6/10\n",
      "10/10 [==============================] - 0s 4ms/step - loss: 0.4024 - accuracy: 0.8700\n",
      "Epoch 7/10\n",
      "10/10 [==============================] - 0s 4ms/step - loss: 0.2900 - accuracy: 0.9300\n",
      "Epoch 8/10\n",
      "10/10 [==============================] - 0s 4ms/step - loss: 0.2172 - accuracy: 0.9233\n",
      "Epoch 9/10\n",
      "10/10 [==============================] - 0s 4ms/step - loss: 0.1604 - accuracy: 0.9667\n",
      "Epoch 10/10\n",
      "10/10 [==============================] - 0s 4ms/step - loss: 0.1279 - accuracy: 0.9767\n"
     ]
    },
    {
     "data": {
      "text/plain": [
       "<keras.callbacks.History at 0x7f5902b76350>"
      ]
     },
     "execution_count": 10,
     "metadata": {},
     "output_type": "execute_result"
    }
   ],
   "source": [
    "model.compile(optimizer='adam',\n",
    "             loss='sparse_categorical_crossentropy',\n",
    "             metrics=['accuracy'])\n",
    "\n",
    "model.fit(x_train_norm, y_train, epochs=10)"
   ]
  },
  {
   "cell_type": "markdown",
   "metadata": {},
   "source": [
    "## 성능 확인"
   ]
  },
  {
   "cell_type": "markdown",
   "metadata": {},
   "source": [
    "성능 확인을 위해 test data를 만들어 봅시다."
   ]
  },
  {
   "cell_type": "markdown",
   "metadata": {},
   "source": [
    "test 이미지를 resize 합시다."
   ]
  },
  {
   "cell_type": "code",
   "execution_count": 11,
   "metadata": {},
   "outputs": [
    {
     "name": "stdout",
     "output_type": "stream",
     "text": [
      "100  images to be resized.\n",
      "100  images resized.\n",
      "100  images to be resized.\n",
      "100  images resized.\n",
      "100  images to be resized.\n",
      "100  images resized.\n"
     ]
    }
   ],
   "source": [
    "test_image_dir_path1 = os.getenv(\"HOME\") + \"/Code/Exploration_Submit/5/test/scissor\"\n",
    "resize_images(test_image_dir_path1)\n",
    "\n",
    "test_image_dir_path2 = os.getenv(\"HOME\") + \"/Code/Exploration_Submit/5/test/rock\"\n",
    "resize_images(test_image_dir_path2)\n",
    "\n",
    "test_image_dir_path3 = os.getenv(\"HOME\") + \"/Code/Exploration_Submit/5/test/paper\"\n",
    "resize_images(test_image_dir_path3)"
   ]
  },
  {
   "cell_type": "code",
   "execution_count": 12,
   "metadata": {},
   "outputs": [
    {
     "name": "stdout",
     "output_type": "stream",
     "text": [
      "학습데이터(x_train)의 이미지 개수는 300 입니다.\n"
     ]
    }
   ],
   "source": [
    "test_image_dir_path = os.getenv(\"HOME\") + \"/Code/Exploration_Submit/5/test\"\n",
    "(x_test, y_test)=load_data(test_image_dir_path)\n",
    "x_test_norm = x_test/255.0"
   ]
  },
  {
   "cell_type": "markdown",
   "metadata": {},
   "source": [
    "제대로 되었는지 확인"
   ]
  },
  {
   "cell_type": "code",
   "execution_count": 13,
   "metadata": {},
   "outputs": [
    {
     "name": "stdout",
     "output_type": "stream",
     "text": [
      "(28, 28, 3)\n",
      "라벨:  1\n"
     ]
    },
    {
     "data": {
      "image/png": "[encoded data removed]",
      "text/plain": [
       "<Figure size 432x288 with 1 Axes>"
      ]
     },
     "metadata": {
      "needs_background": "light"
     },
     "output_type": "display_data"
    }
   ],
   "source": [
    "plt.imshow(x_test_norm[150])\n",
    "print(x_test_norm[0].shape)\n",
    "print('라벨: ', y_test[150])"
   ]
  },
  {
   "cell_type": "markdown",
   "metadata": {},
   "source": [
    "evaluate 해서 test_accurcay를 구해봅시다."
   ]
  },
  {
   "cell_type": "code",
   "execution_count": 14,
   "metadata": {},
   "outputs": [
    {
     "name": "stdout",
     "output_type": "stream",
     "text": [
      "10/10 - 0s - loss: 2.7827 - accuracy: 0.3467 - 154ms/epoch - 15ms/step\n",
      "test_loss: 2.782731533050537 \n",
      "test_accuracy: 0.3466666638851166\n"
     ]
    }
   ],
   "source": [
    "test_loss, test_accuracy = model.evaluate(x_test_norm, y_test, verbose=2)\n",
    "print(\"test_loss: {} \".format(test_loss))\n",
    "print(\"test_accuracy: {}\".format(test_accuracy))"
   ]
  },
  {
   "cell_type": "markdown",
   "metadata": {},
   "source": [
    "## 더 나은 모델 설정"
   ]
  },
  {
   "cell_type": "markdown",
   "metadata": {},
   "source": [
    "정확도가 너무 낮으니 하이퍼 파라미터를 바꿔봅시다."
   ]
  },
  {
   "cell_type": "code",
   "execution_count": 15,
   "metadata": {},
   "outputs": [],
   "source": [
    "def RPS_predict(n_channel_1 = 16, n_channel_2=32 , n_dense=32, n_train_epoch=10):\n",
    "    model=keras.models.Sequential()\n",
    "    model.add(keras.layers.Conv2D(n_channel_1, (3,3), activation='relu', input_shape=(28,28,3)))\n",
    "    model.add(keras.layers.MaxPool2D(2,2))\n",
    "    model.add(keras.layers.Conv2D(n_channel_2, (3,3), activation='relu'))\n",
    "    model.add(keras.layers.MaxPooling2D((2,2)))\n",
    "    model.add(keras.layers.Flatten())\n",
    "    model.add(keras.layers.Dense(n_dense, activation='relu'))\n",
    "    model.add(keras.layers.Dense(3, activation='softmax'))\n",
    "\n",
    "    # model.summary()\n",
    "    model.compile(optimizer='adam',\n",
    "                loss='sparse_categorical_crossentropy',\n",
    "                metrics=['accuracy'])\n",
    "\n",
    "    # 모델 훈련 \n",
    "    # model.fit(x_train_norm, y_train, epochs=n_train_epoch, verbose = 1)\n",
    "    model.fit(x_train_norm, y_train, epochs=n_train_epoch, verbose = 0)\n",
    "\n",
    "    # 모델 시험\n",
    "    test_loss, test_accuracy = model.evaluate(x_test_norm, y_test, verbose=0)\n",
    "    print(n_channel_1, n_channel_2, n_dense, n_train_epoch, \": test_loss: {} \".format(test_loss))\n",
    "    print(n_channel_1, n_channel_2, n_dense, n_train_epoch, \": test_accuracy: {}\".format(test_accuracy))\n",
    "    \n",
    "    return test_loss, test_accuracy"
   ]
  },
  {
   "cell_type": "code",
   "execution_count": 16,
   "metadata": {},
   "outputs": [
    {
     "name": "stdout",
     "output_type": "stream",
     "text": [
      "8 16 8 12 : test_loss: 1.2817344665527344 \n",
      "8 16 8 12 : test_accuracy: 0.4000000059604645\n"
     ]
    },
    {
     "data": {
      "text/plain": [
       "(1.2817344665527344, 0.4000000059604645)"
      ]
     },
     "execution_count": 16,
     "metadata": {},
     "output_type": "execute_result"
    }
   ],
   "source": [
    "RPS_predict(8,16,8,12)"
   ]
  },
  {
   "cell_type": "markdown",
   "metadata": {},
   "source": [
    "train 데이터의 개수가 모자란 것 같습니다.  \n",
    "train 데이터를 늘려보겠습니다."
   ]
  },
  {
   "cell_type": "markdown",
   "metadata": {},
   "source": [
    "여러개의 train을 사용하기위해 폴더에서 train 폴더만을 사용하겠습니다."
   ]
  },
  {
   "cell_type": "code",
   "execution_count": 17,
   "metadata": {},
   "outputs": [
    {
     "data": {
      "text/plain": [
       "['train1', 'train2', 'train3', 'train4', 'train5', 'train6']"
      ]
     },
     "execution_count": 17,
     "metadata": {},
     "output_type": "execute_result"
    }
   ],
   "source": [
    "from os import listdir\n",
    "\n",
    "list_dir = listdir('/home/aiffel/Code/Exploration_Submit/5')\n",
    "list_train = []\n",
    "# print(list_dir)\n",
    "for folder in sorted(list_dir):\n",
    "    if(folder.startswith('train')):\n",
    "        list_train.append(folder)\n",
    "\n",
    "list_train"
   ]
  },
  {
   "cell_type": "code",
   "execution_count": 18,
   "metadata": {},
   "outputs": [
    {
     "name": "stdout",
     "output_type": "stream",
     "text": [
      "100  images to be resized.\n",
      "100  images resized.\n",
      "100  images to be resized.\n",
      "100  images resized.\n",
      "100  images to be resized.\n",
      "100  images resized.\n",
      "100  images to be resized.\n",
      "100  images resized.\n",
      "100  images to be resized.\n",
      "100  images resized.\n",
      "100  images to be resized.\n",
      "100  images resized.\n",
      "100  images to be resized.\n",
      "100  images resized.\n",
      "100  images to be resized.\n",
      "100  images resized.\n",
      "100  images to be resized.\n",
      "100  images resized.\n",
      "100  images to be resized.\n",
      "100  images resized.\n",
      "100  images to be resized.\n",
      "100  images resized.\n",
      "100  images to be resized.\n",
      "100  images resized.\n",
      "100  images to be resized.\n",
      "100  images resized.\n",
      "100  images to be resized.\n",
      "100  images resized.\n",
      "100  images to be resized.\n",
      "100  images resized.\n",
      "100  images to be resized.\n",
      "100  images resized.\n",
      "100  images to be resized.\n",
      "100  images resized.\n",
      "100  images to be resized.\n",
      "100  images resized.\n"
     ]
    }
   ],
   "source": [
    "list_name = ['scissor', 'rock', 'paper']\n",
    "\n",
    "for i in list_train:\n",
    "    for j in list_name:\n",
    "        image_dir_path = os.getenv(\"HOME\") + \"/Code/Exploration_Submit/5/\" + i + \"/\"+ j\n",
    "        # print(image_dir_path)\n",
    "        resize_images(image_dir_path)\n",
    "    "
   ]
  },
  {
   "cell_type": "markdown",
   "metadata": {},
   "source": [
    "### 재구축 전 단순 반복 코드 모음"
   ]
  },
  {
   "cell_type": "code",
   "execution_count": 19,
   "metadata": {},
   "outputs": [],
   "source": [
    "# 재구축 전 반복 코드\n",
    "# # train 2\n",
    "# image_dir_path2_1 = os.getenv(\"HOME\") + \"/Code/Exploration_Submit/5/train2/scissor\"\n",
    "# resize_images(image_dir_path2_1)\n",
    "# image_dir_path2_2 = os.getenv(\"HOME\") + \"/Code/Exploration_Submit/5/train2/rock\"\n",
    "# resize_images(image_dir_path2_2)\n",
    "# image_dir_path2_3 = os.getenv(\"HOME\") + \"/Code/Exploration_Submit/5/train2/paper\"\n",
    "# resize_images(image_dir_path2_3)\n",
    "\n",
    "# # train 3\n",
    "# image_dir_path3_1 = os.getenv(\"HOME\") + \"/Code/Exploration_Submit/5/train3/scissor\"\n",
    "# resize_images(image_dir_path3_1)\n",
    "# image_dir_path3_2 = os.getenv(\"HOME\") + \"/Code/Exploration_Submit/5/train3/rock\"\n",
    "# resize_images(image_dir_path3_2)\n",
    "# image_dir_path3_3 = os.getenv(\"HOME\") + \"/Code/Exploration_Submit/5/train3/paper\"\n",
    "# resize_images(image_dir_path3_3)\n",
    "\n",
    "# # train 4\n",
    "# image_dir_path4_1 = os.getenv(\"HOME\") + \"/Code/Exploration_Submit/5/train4/scissor\"\n",
    "# resize_images(image_dir_path4_1)\n",
    "# image_dir_path4_2 = os.getenv(\"HOME\") + \"/Code/Exploration_Submit/5/train4/rock\"\n",
    "# resize_images(image_dir_path4_2)\n",
    "# image_dir_path4_3 = os.getenv(\"HOME\") + \"/Code/Exploration_Submit/5/train4/paper\"\n",
    "# resize_images(image_dir_path4_3)\n",
    "\n",
    "# # train 5\n",
    "# image_dir_path5_1 = os.getenv(\"HOME\") + \"/Code/Exploration_Submit/5/train5/scissor\"\n",
    "# resize_images(image_dir_path5_1)\n",
    "# image_dir_path5_2 = os.getenv(\"HOME\") + \"/Code/Exploration_Submit/5/train5/rock\"\n",
    "# resize_images(image_dir_path5_2)\n",
    "# image_dir_path5_3 = os.getenv(\"HOME\") + \"/Code/Exploration_Submit/5/train5/paper\"\n",
    "# resize_images(image_dir_path5_3)\n",
    "\n",
    "# # train 6\n",
    "# image_dir_path6_1 = os.getenv(\"HOME\") + \"/Code/Exploration_Submit/5/train6/scissor\"\n",
    "# resize_images(image_dir_path6_1)\n",
    "# image_dir_path6_2 = os.getenv(\"HOME\") + \"/Code/Exploration_Submit/5/train6/rock\"\n",
    "# resize_images(image_dir_path6_2)\n",
    "# image_dir_path6_3 = os.getenv(\"HOME\") + \"/Code/Exploration_Submit/5/train6/paper\"\n",
    "# resize_images(image_dir_path6_3)"
   ]
  },
  {
   "cell_type": "code",
   "execution_count": 20,
   "metadata": {},
   "outputs": [],
   "source": [
    "# 재구축 전 단순 반복 코드 입니다.\n",
    "# def new_load_data(img_path1, img_path2, img_path3, img_path4, img_path5, img_path6, number_of_data=1800):  # 가위바위보 이미지 개수 총합에 주의하세요.\n",
    "#     # 가위 : 0, 바위 : 1, 보 : 2\n",
    "#     img_size=28\n",
    "#     color=3\n",
    "#     #이미지 데이터와 라벨(가위 : 0, 바위 : 1, 보 : 2) 데이터를 담을 행렬(matrix) 영역을 생성합니다.\n",
    "#     imgs=np.zeros(number_of_data*img_size*img_size*color,dtype=np.int32).reshape(number_of_data,img_size,img_size,color)\n",
    "#     labels=np.zeros(number_of_data,dtype=np.int32)\n",
    "    \n",
    "#     idx=0\n",
    "#     # train1 가위\n",
    "#     for file in glob.iglob(img_path1+'/scissor/*.jpg'):\n",
    "#         img = np.array(Image.open(file),dtype=np.int32)\n",
    "#         imgs[idx,:,:,:]=img    # 데이터 영역에 이미지 행렬을 복사\n",
    "#         labels[idx]=0   # 가위 : 0\n",
    "#         idx=idx+1\n",
    "#     # train2 가위\n",
    "#     for file in glob.iglob(img_path2+'/scissor/*.jpg'):\n",
    "#         img = np.array(Image.open(file),dtype=np.int32)\n",
    "#         imgs[idx,:,:,:]=img    # 데이터 영역에 이미지 행렬을 복사\n",
    "#         labels[idx]=0   # 가위 : 0\n",
    "#         idx=idx+1\n",
    "#     # train3 가위\n",
    "#     for file in glob.iglob(img_path3+'/scissor/*.jpg'):\n",
    "#         img = np.array(Image.open(file),dtype=np.int32)\n",
    "#         imgs[idx,:,:,:]=img    # 데이터 영역에 이미지 행렬을 복사\n",
    "#         labels[idx]=0   # 가위 : 0\n",
    "#         idx=idx+1\n",
    "#     # train4 가위\n",
    "#     for file in glob.iglob(img_path4+'/scissor/*.jpg'):\n",
    "#         img = np.array(Image.open(file),dtype=np.int32)\n",
    "#         imgs[idx,:,:,:]=img    # 데이터 영역에 이미지 행렬을 복사\n",
    "#         labels[idx]=0   # 가위 : 0\n",
    "#         idx=idx+1\n",
    "#     # train5 가위\n",
    "#     for file in glob.iglob(img_path5+'/scissor/*.jpg'):\n",
    "#         img = np.array(Image.open(file),dtype=np.int32)\n",
    "#         imgs[idx,:,:,:]=img    # 데이터 영역에 이미지 행렬을 복사\n",
    "#         labels[idx]=0   # 가위 : 0\n",
    "#         idx=idx+1\n",
    "#     # train6 가위\n",
    "#     for file in glob.iglob(img_path6+'/scissor/*.jpg'):\n",
    "#         img = np.array(Image.open(file),dtype=np.int32)\n",
    "#         imgs[idx,:,:,:]=img    # 데이터 영역에 이미지 행렬을 복사\n",
    "#         labels[idx]=0   # 가위 : 0\n",
    "#         idx=idx+1\n",
    "        \n",
    "#     # train1 바위\n",
    "#     for file in glob.iglob(img_path1+'/rock/*.jpg'):\n",
    "#         img = np.array(Image.open(file),dtype=np.int32)\n",
    "#         imgs[idx,:,:,:]=img    # 데이터 영역에 이미지 행렬을 복사\n",
    "#         labels[idx]=1   # 바위 : 1\n",
    "#         idx=idx+1\n",
    "#     # train2 바위\n",
    "#     for file in glob.iglob(img_path2+'/rock/*.jpg'):\n",
    "#         img = np.array(Image.open(file),dtype=np.int32)\n",
    "#         imgs[idx,:,:,:]=img    # 데이터 영역에 이미지 행렬을 복사\n",
    "#         labels[idx]=1   # 바위 : 1\n",
    "#         idx=idx+1 \n",
    "#     # train3 바위\n",
    "#     for file in glob.iglob(img_path3+'/rock/*.jpg'):\n",
    "#         img = np.array(Image.open(file),dtype=np.int32)\n",
    "#         imgs[idx,:,:,:]=img    # 데이터 영역에 이미지 행렬을 복사\n",
    "#         labels[idx]=1   # 바위 : 1\n",
    "#         idx=idx+1  \n",
    "#     # train4 바위\n",
    "#     for file in glob.iglob(img_path4+'/rock/*.jpg'):\n",
    "#         img = np.array(Image.open(file),dtype=np.int32)\n",
    "#         imgs[idx,:,:,:]=img    # 데이터 영역에 이미지 행렬을 복사\n",
    "#         labels[idx]=1   # 바위 : 1\n",
    "#         idx=idx+1\n",
    "#     # train5 바위\n",
    "#     for file in glob.iglob(img_path5+'/rock/*.jpg'):\n",
    "#         img = np.array(Image.open(file),dtype=np.int32)\n",
    "#         imgs[idx,:,:,:]=img    # 데이터 영역에 이미지 행렬을 복사\n",
    "#         labels[idx]=1   # 바위 : 1\n",
    "#         idx=idx+1\n",
    "#     # train6 바위\n",
    "#     for file in glob.iglob(img_path6+'/rock/*.jpg'):\n",
    "#         img = np.array(Image.open(file),dtype=np.int32)\n",
    "#         imgs[idx,:,:,:]=img    # 데이터 영역에 이미지 행렬을 복사\n",
    "#         labels[idx]=1   # 바위 : 1\n",
    "#         idx=idx+1\n",
    "        \n",
    "#     # trian1 보\n",
    "#     for file in glob.iglob(img_path1+'/paper/*.jpg'):\n",
    "#         img = np.array(Image.open(file),dtype=np.int32)\n",
    "#         imgs[idx,:,:,:]=img    # 데이터 영역에 이미지 행렬을 복사\n",
    "#         labels[idx]=2   # 보 : 2\n",
    "#         idx=idx+1\n",
    "#     # trian2 보\n",
    "#     for file in glob.iglob(img_path2+'/paper/*.jpg'):\n",
    "#         img = np.array(Image.open(file),dtype=np.int32)\n",
    "#         imgs[idx,:,:,:]=img    # 데이터 영역에 이미지 행렬을 복사\n",
    "#         labels[idx]=2   # 보 : 2\n",
    "#         idx=idx+1\n",
    "#     # trian3 보\n",
    "#     for file in glob.iglob(img_path3+'/paper/*.jpg'):\n",
    "#         img = np.array(Image.open(file),dtype=np.int32)\n",
    "#         imgs[idx,:,:,:]=img    # 데이터 영역에 이미지 행렬을 복사\n",
    "#         labels[idx]=2   # 보 : 2\n",
    "#         idx=idx+1\n",
    "#     # trn4 보\n",
    "#     for file in glob.iglob(img_path4+'/paper/*.jpg'):\n",
    "#         img = np.array(Image.open(file),dtype=np.int32)\n",
    "#         imgs[idx,:,:,:]=img    # 데이터 영역에 이미지 행렬을 복사\n",
    "#         labels[idx]=2   # 보 : 2\n",
    "#         idx=idx+1\n",
    "#     # trian5 보\n",
    "#     for file in glob.iglob(img_path5+'/paper/*.jpg'):\n",
    "#         img = np.array(Image.open(file),dtype=np.int32)\n",
    "#         imgs[idx,:,:,:]=img    # 데이터 영역에 이미지 행렬을 복사\n",
    "#         labels[idx]=2   # 보 : 2\n",
    "#         idx=idx+1    \n",
    "# 줄이기 전 단순 반복 코드 입니다.\n",
    "#     # trian6 보    \n",
    "#     for file in glob.iglob(img_path6+'/paper/*.jpg'):\n",
    "#         img = np.array(Image.open(file),dtype=np.int32)\n",
    "#         imgs[idx,:,:,:]=img    # 데이터 영역에 이미지 행렬을 복사\n",
    "#         labels[idx]=2   # 보 : 2\n",
    "#         idx=idx+1\n",
    "    \n",
    "#     print(\"학습데이터(x_train)의 이미지 개수는\", idx,\"입니다.\")\n",
    "#     return imgs, labels"
   ]
  },
  {
   "cell_type": "code",
   "execution_count": 21,
   "metadata": {},
   "outputs": [],
   "source": [
    "# 재구축 전 단순 반복 코드 입니다.\n",
    "# img_path1 = os.getenv(\"HOME\") + \"/Code/Exploration_Submit/5/train1\"\n",
    "# img_path2 = os.getenv(\"HOME\") + \"/Code/Exploration_Submit/5/train2\"\n",
    "# img_path3 = os.getenv(\"HOME\") + \"/Code/Exploration_Submit/5/train3\"\n",
    "# img_path4 = os.getenv(\"HOME\") + \"/Code/Exploration_Submit/5/train4\"\n",
    "# img_path5 = os.getenv(\"HOME\") + \"/Code/Exploration_Submit/5/train5\"\n",
    "# img_path6 = os.getenv(\"HOME\") + \"/Code/Exploration_Submit/5/train6\"\n",
    "\n",
    "# (x_train, y_train)=new_load_data(img_path1, img_path2, img_path3, img_path4, img_path5, img_path6, 1800)\n",
    "# x_train_norm = x_train/255.0   # 입력은 0~1 사이의 값으로 정규화\n",
    "\n",
    "# print(\"x_train shape: {}\".format(x_train_norm.shape))\n",
    "# print(\"y_train shape: {}\".format(y_train.shape))"
   ]
  },
  {
   "cell_type": "markdown",
   "metadata": {},
   "source": [
    "### 재구축 후 코드"
   ]
  },
  {
   "cell_type": "code",
   "execution_count": 22,
   "metadata": {},
   "outputs": [],
   "source": [
    "from os import listdir\n",
    "\n",
    "# 실제 경로 = /home/aiffel/Code/Exploration_Submit/5/train2/paper\n",
    "# img_path  = /Code/Exploration_Submit\n",
    "# list_train = ['train1', 'train2', 'train3', 'train4', 'train5', 'train6']\n",
    "# list_name = ['scissor', 'rock', 'paper']\n",
    "def new_load_data(img_path, number_of_data=1800):  # 가위바위보 이미지 개수 총합에 주의하세요.\n",
    "    # 가위 : 0, 바위 : 1, 보 : 2\n",
    "    img_size=28\n",
    "    color=3\n",
    "    #이미지 데이터와 라벨(가위 : 0, 바위 : 1, 보 : 2) 데이터를 담을 행렬(matrix) 영역을 생성합니다.\n",
    "    imgs=np.zeros(number_of_data*img_size*img_size*color,dtype=np.int32).reshape(number_of_data,img_size,img_size,color)\n",
    "    labels=np.zeros(number_of_data,dtype=np.int32)\n",
    "    idx = 0\n",
    "    \n",
    "    for i in list_train:\n",
    "        for nidx, name in enumerate(list_name):\n",
    "            print(i, nidx, name)\n",
    "            for file in glob.iglob(img_path + \"/\" + i + \"/\" + name + \"/*.jpg\"):\n",
    "                img = np.array(Image.open(file),dtype=np.int32)\n",
    "                imgs[idx,:,:,:]=img    # 데이터 영역에 이미지 행렬을 복사\n",
    "                labels[idx] = nidx  # 가위 : 0, 바위 : 1, 보 : 2\n",
    "                idx=idx+1\n",
    "    print(\"학습데이터(x_train)의 이미지 개수는\", idx,\"입니다.\")\n",
    "    return imgs, labels"
   ]
  },
  {
   "cell_type": "code",
   "execution_count": 23,
   "metadata": {},
   "outputs": [
    {
     "name": "stdout",
     "output_type": "stream",
     "text": [
      "train1 0 scissor\n",
      "train1 1 rock\n",
      "train1 2 paper\n",
      "train2 0 scissor\n",
      "train2 1 rock\n",
      "train2 2 paper\n",
      "train3 0 scissor\n",
      "train3 1 rock\n",
      "train3 2 paper\n",
      "train4 0 scissor\n",
      "train4 1 rock\n",
      "train4 2 paper\n",
      "train5 0 scissor\n",
      "train5 1 rock\n",
      "train5 2 paper\n",
      "train6 0 scissor\n",
      "train6 1 rock\n",
      "train6 2 paper\n",
      "학습데이터(x_train)의 이미지 개수는 1800 입니다.\n",
      "x_train shape: (1800, 28, 28, 3)\n",
      "y_train shape: (1800,)\n"
     ]
    }
   ],
   "source": [
    "img_path = os.getenv(\"HOME\") + \"/Code/Exploration_Submit/5/\"\n",
    "(x_train, y_train)=new_load_data(img_path, 1800)\n",
    "x_train_norm = x_train/255.0   # RPS_predict(32,32,64,14)입력은 0~1 사이의 값으로 정규화\n",
    "\n",
    "print(\"x_train shape: {}\".format(x_train_norm.shape))\n",
    "print(\"y_train shape: {}\".format(y_train.shape))"
   ]
  },
  {
   "cell_type": "markdown",
   "metadata": {},
   "source": [
    "다시 구해봅니다."
   ]
  },
  {
   "cell_type": "code",
   "execution_count": 24,
   "metadata": {},
   "outputs": [
    {
     "name": "stdout",
     "output_type": "stream",
     "text": [
      "16 16 32 8 : test_loss: 1.4814858436584473 \n",
      "16 16 32 8 : test_accuracy: 0.4166666567325592\n",
      "16 16 32 8 : test_loss: 1.4490834474563599 \n",
      "16 16 32 8 : test_accuracy: 0.5400000214576721\n",
      "16 16 32 10 : test_loss: 1.6562466621398926 \n",
      "16 16 32 10 : test_accuracy: 0.49000000953674316\n",
      "16 16 32 10 : test_loss: 1.2815040349960327 \n",
      "16 16 32 10 : test_accuracy: 0.5533333420753479\n",
      "16 16 32 12 : test_loss: 1.0923511981964111 \n",
      "16 16 32 12 : test_accuracy: 0.6333333253860474\n",
      "16 16 32 12 : test_loss: 2.1837549209594727 \n",
      "16 16 32 12 : test_accuracy: 0.503333330154419\n",
      "16 16 32 14 : test_loss: 1.4862370491027832 \n",
      "16 16 32 14 : test_accuracy: 0.6633333563804626\n",
      "16 16 32 14 : test_loss: 2.3523550033569336 \n",
      "16 16 32 14 : test_accuracy: 0.476666659116745\n",
      "16 16 32 16 : test_loss: 1.8087302446365356 \n",
      "16 16 32 16 : test_accuracy: 0.5733333230018616\n",
      "16 16 32 16 : test_loss: 2.1911723613739014 \n",
      "16 16 32 16 : test_accuracy: 0.44333332777023315\n",
      "16 16 32 18 : test_loss: 2.0639820098876953 \n",
      "16 16 32 18 : test_accuracy: 0.5199999809265137\n",
      "16 16 32 18 : test_loss: 2.3570926189422607 \n",
      "16 16 32 18 : test_accuracy: 0.54666668176651\n",
      "16 16 32 20 : test_loss: 3.2692654132843018 \n",
      "16 16 32 20 : test_accuracy: 0.5\n",
      "16 16 32 20 : test_loss: 2.051982879638672 \n",
      "16 16 32 20 : test_accuracy: 0.6133333444595337\n",
      "32 32 64 8 : test_loss: 1.5496211051940918 \n",
      "32 32 64 8 : test_accuracy: 0.5699999928474426\n",
      "32 32 64 8 : test_loss: 1.6519138813018799 \n",
      "32 32 64 8 : test_accuracy: 0.5533333420753479\n",
      "32 32 64 10 : test_loss: 1.6525481939315796 \n",
      "32 32 64 10 : test_accuracy: 0.5600000023841858\n",
      "32 32 64 10 : test_loss: 1.9659072160720825 \n",
      "32 32 64 10 : test_accuracy: 0.5566666722297668\n",
      "32 32 64 12 : test_loss: 2.451167583465576 \n",
      "32 32 64 12 : test_accuracy: 0.5\n",
      "32 32 64 12 : test_loss: 2.3194761276245117 \n",
      "32 32 64 12 : test_accuracy: 0.5166666507720947\n",
      "32 32 64 14 : test_loss: 2.533820390701294 \n",
      "32 32 64 14 : test_accuracy: 0.550000011920929\n",
      "32 32 64 14 : test_loss: 2.0223169326782227 \n",
      "32 32 64 14 : test_accuracy: 0.5533333420753479\n",
      "32 32 64 16 : test_loss: 1.9589518308639526 \n",
      "32 32 64 16 : test_accuracy: 0.5799999833106995\n",
      "32 32 64 16 : test_loss: 3.002805233001709 \n",
      "32 32 64 16 : test_accuracy: 0.5299999713897705\n",
      "32 32 64 18 : test_loss: 2.039886236190796 \n",
      "32 32 64 18 : test_accuracy: 0.5133333206176758\n",
      "32 32 64 18 : test_loss: 2.304250478744507 \n",
      "32 32 64 18 : test_accuracy: 0.5799999833106995\n",
      "32 32 64 20 : test_loss: 2.70066237449646 \n",
      "32 32 64 20 : test_accuracy: 0.550000011920929\n",
      "32 32 64 20 : test_loss: 2.1227705478668213 \n",
      "32 32 64 20 : test_accuracy: 0.596666693687439\n"
     ]
    }
   ],
   "source": [
    "# 16 32, 16 32, 32 64, 10 13 16\n",
    "accuracy_list = []\n",
    "\n",
    "for i in range(1,3):\n",
    "    for j in range(8, 21, 2):\n",
    "        RPS_predict(16*i,16*i,32*i, j)\n",
    "        loss, accuracy = RPS_predict(16*i,16*i,32*i, j)\n",
    "        accuracy_list.append(accuracy)\n",
    "        # print(i, j)"
   ]
  },
  {
   "cell_type": "markdown",
   "metadata": {},
   "source": [
    "여러 지표들 중에 accuracy가 0.60이상이 나왔습니다."
   ]
  },
  {
   "cell_type": "markdown",
   "metadata": {},
   "source": [
    "## 추가 실험"
   ]
  },
  {
   "cell_type": "markdown",
   "metadata": {},
   "source": [
    "* 빈공간의 이미지(void)를 새로운 label로 넣고 계산을 해봅시다."
   ]
  },
  {
   "cell_type": "markdown",
   "metadata": {},
   "source": [
    "먼저 모든 train 폴더에 있는 void 폴더의 이미지들을 resize 합니다."
   ]
  },
  {
   "cell_type": "code",
   "execution_count": 25,
   "metadata": {},
   "outputs": [
    {
     "name": "stdout",
     "output_type": "stream",
     "text": [
      "100  images to be resized.\n",
      "100  images resized.\n",
      "100  images to be resized.\n",
      "100  images resized.\n",
      "100  images to be resized.\n",
      "100  images resized.\n",
      "100  images to be resized.\n",
      "100  images resized.\n",
      "100  images to be resized.\n",
      "100  images resized.\n",
      "100  images to be resized.\n",
      "100  images resized.\n"
     ]
    }
   ],
   "source": [
    "for i in list_train:\n",
    "    image_dir_path = os.getenv(\"HOME\") + \"/Code/Exploration_Submit/5/\" + i + \"/void\"\n",
    "    # print(image_dir_path)\n",
    "    resize_images(image_dir_path)   "
   ]
  },
  {
   "cell_type": "markdown",
   "metadata": {},
   "source": [
    "원래 3개의 label 에서 4개의 label로 늘려서 train set을 만드는 함수를 만듭니다."
   ]
  },
  {
   "cell_type": "code",
   "execution_count": 26,
   "metadata": {},
   "outputs": [],
   "source": [
    "from os import listdir\n",
    "\n",
    "# 실제 경로 = /home/aiffel/Code/Exploration_Submit/5/train2/paper\n",
    "# img_path  = /Code/Exploration_Submit\n",
    "# list_train = ['train1', 'train2', 'train3', 'train4', 'train5', 'train6']\n",
    "new_list_name = ['scissor', 'rock', 'paper', 'void']\n",
    "def new2_load_data(img_path, number_of_data = 2400):  # 가위, 바위, 보, 빈공간 이미지 개수 총합 = 400*6 = 2400\n",
    "    # 가위 : 0, 바위 : 1, 보 : 2\n",
    "    img_size=28\n",
    "    color=3\n",
    "    #이미지 데이터와 라벨(가위 : 0, 바위 : 1, 보 : 2, 빈 공간 : 3) 데이터를 담을 행렬(matrix) 영역을 생성합니다.\n",
    "    imgs=np.zeros(number_of_data*img_size*img_size*color,dtype=np.int32).reshape(number_of_data,img_size,img_size,color)\n",
    "    labels=np.zeros(number_of_data,dtype=np.int32)\n",
    "    idx = 0\n",
    "    \n",
    "    for i in list_train:\n",
    "        for nidx, name in enumerate(new_list_name):\n",
    "            print(i, nidx, name)\n",
    "            for file in glob.iglob(img_path + \"/\" + i + \"/\" + name + \"/*.jpg\"):\n",
    "                img = np.array(Image.open(file),dtype=np.int32)\n",
    "                imgs[idx,:,:,:]=img    # 데이터 영역에 이미지 행렬을 복사\n",
    "                labels[idx] = nidx  # 가위 : 0, 바위 : 1, 보 : 2, void : 3\n",
    "                idx=idx+1\n",
    "    print(\"새로운 학습데이터(new_x_train)의 이미지 개수는\", idx,\"입니다.\")\n",
    "    return imgs, labels"
   ]
  },
  {
   "cell_type": "markdown",
   "metadata": {},
   "source": [
    "train 폴더와 test 폴더의 위치를 지정하고 함수를 대입해서  \n",
    "새로운 x_train와 y_train을 만듭니다."
   ]
  },
  {
   "cell_type": "code",
   "execution_count": 27,
   "metadata": {},
   "outputs": [
    {
     "name": "stdout",
     "output_type": "stream",
     "text": [
      "train1 0 scissor\n",
      "train1 1 rock\n",
      "train1 2 paper\n",
      "train1 3 void\n",
      "train2 0 scissor\n",
      "train2 1 rock\n",
      "train2 2 paper\n",
      "train2 3 void\n",
      "train3 0 scissor\n",
      "train3 1 rock\n",
      "train3 2 paper\n",
      "train3 3 void\n",
      "train4 0 scissor\n",
      "train4 1 rock\n",
      "train4 2 paper\n",
      "train4 3 void\n",
      "train5 0 scissor\n",
      "train5 1 rock\n",
      "train5 2 paper\n",
      "train5 3 void\n",
      "train6 0 scissor\n",
      "train6 1 rock\n",
      "train6 2 paper\n",
      "train6 3 void\n",
      "새로운 학습데이터(new_x_train)의 이미지 개수는 2400 입니다.\n",
      "new_x_train shape: (2400, 28, 28, 3)\n",
      "new_y_train shape: (2400,)\n"
     ]
    }
   ],
   "source": [
    "img_path = os.getenv(\"HOME\") + \"/Code/Exploration_Submit/5/\"\n",
    "(new_x_train, new_y_train)=new2_load_data(img_path, 2400)\n",
    "new_x_train_norm = new_x_train/255.0   # RPS_predict(32,32,64,14)입력은 0~1 사이의 값으로 정규화\n",
    "\n",
    "print(\"new_x_train shape: {}\".format(new_x_train_norm.shape))\n",
    "print(\"new_y_train shape: {}\".format(new_y_train.shape))"
   ]
  },
  {
   "cell_type": "markdown",
   "metadata": {},
   "source": [
    "최종 출력 값이 4개인 모델을 만들고 훈련하는 함수를 만듭니다."
   ]
  },
  {
   "cell_type": "code",
   "execution_count": 28,
   "metadata": {},
   "outputs": [],
   "source": [
    "def new_RPS_predict(n_channel_1 = 16, n_channel_2=32 , n_dense=32, n_train_epoch=10):\n",
    "    model=keras.models.Sequential()\n",
    "    model.add(keras.layers.Conv2D(n_channel_1, (3,3), activation='relu', input_shape=(28,28,3)))\n",
    "    model.add(keras.layers.MaxPool2D(2,2))\n",
    "    model.add(keras.layers.Conv2D(n_channel_2, (3,3), activation='relu'))\n",
    "    model.add(keras.layers.MaxPooling2D((2,2)))\n",
    "    model.add(keras.layers.Flatten())\n",
    "    model.add(keras.layers.Dense(n_dense, activation='relu'))\n",
    "    model.add(keras.layers.Dense(4, activation='softmax'))\n",
    "    \n",
    "    # model.summary()\n",
    "    model.compile(optimizer='adam',\n",
    "                loss='sparse_categorical_crossentropy',\n",
    "                metrics=['accuracy'])\n",
    "    \n",
    "    # 모델 훈련 \n",
    "    # model.fit(x_train_norm, y_train, epochs=n_train_epoch, verbose = 1)\n",
    "    model.fit(new_x_train_norm, new_y_train, epochs=n_train_epoch, verbose = 0)\n",
    "    \n",
    "    # 모델 시험\n",
    "    test_loss, test_accuracy = model.evaluate(x_test_norm, y_test, verbose=0)\n",
    "    print(n_channel_1, n_channel_2, n_dense, n_train_epoch, \": new_test_loss: {} \".format(test_loss))\n",
    "    print(n_channel_1, n_channel_2, n_dense, n_train_epoch, \": new_test_accuracy: {}\".format(test_accuracy))\n",
    "    \n",
    "    return test_loss, test_accuracy"
   ]
  },
  {
   "cell_type": "markdown",
   "metadata": {},
   "source": [
    "새로운 모델을 여러 하이퍼 파라미터에 따라 값을 구해봅니다.  \n",
    "test data는 이전과 동일 합니다.(가위, 바위, 보 만)"
   ]
  },
  {
   "cell_type": "code",
   "execution_count": 29,
   "metadata": {},
   "outputs": [
    {
     "name": "stdout",
     "output_type": "stream",
     "text": [
      "16 16 32 8 : new_test_loss: 1.190024971961975 \n",
      "16 16 32 8 : new_test_accuracy: 0.4533333480358124\n",
      "16 16 32 10 : new_test_loss: 1.3372710943222046 \n",
      "16 16 32 10 : new_test_accuracy: 0.5733333230018616\n",
      "16 16 32 12 : new_test_loss: 1.477148413658142 \n",
      "16 16 32 12 : new_test_accuracy: 0.6066666841506958\n",
      "16 16 32 14 : new_test_loss: 1.8181201219558716 \n",
      "16 16 32 14 : new_test_accuracy: 0.5099999904632568\n",
      "16 16 32 16 : new_test_loss: 2.4847989082336426 \n",
      "16 16 32 16 : new_test_accuracy: 0.3400000035762787\n",
      "16 16 32 18 : new_test_loss: 2.5542781352996826 \n",
      "16 16 32 18 : new_test_accuracy: 0.43666666746139526\n",
      "16 16 32 20 : new_test_loss: 1.9580918550491333 \n",
      "16 16 32 20 : new_test_accuracy: 0.54666668176651\n",
      "32 32 64 8 : new_test_loss: 1.7791554927825928 \n",
      "32 32 64 8 : new_test_accuracy: 0.503333330154419\n",
      "32 32 64 10 : new_test_loss: 1.8898632526397705 \n",
      "32 32 64 10 : new_test_accuracy: 0.47999998927116394\n",
      "32 32 64 12 : new_test_loss: 2.2051591873168945 \n",
      "32 32 64 12 : new_test_accuracy: 0.5166666507720947\n",
      "32 32 64 14 : new_test_loss: 3.1558659076690674 \n",
      "32 32 64 14 : new_test_accuracy: 0.4933333396911621\n",
      "32 32 64 16 : new_test_loss: 2.0580339431762695 \n",
      "32 32 64 16 : new_test_accuracy: 0.5600000023841858\n",
      "32 32 64 18 : new_test_loss: 2.3635177612304688 \n",
      "32 32 64 18 : new_test_accuracy: 0.54666668176651\n",
      "32 32 64 20 : new_test_loss: 2.562331438064575 \n",
      "32 32 64 20 : new_test_accuracy: 0.5299999713897705\n"
     ]
    }
   ],
   "source": [
    "# 16 32, 16 32, 32 64, 10 13 16\n",
    "new_accuracy_list = []\n",
    "\n",
    "for i in range(1,3):\n",
    "    for j in range(8, 21, 2):\n",
    "        loss, accuracy = new_RPS_predict(16*i,16*i,32*i, j)\n",
    "        new_accuracy_list.append(accuracy)\n",
    "        # print(i, j)"
   ]
  },
  {
   "cell_type": "markdown",
   "metadata": {},
   "source": [
    "이전 accuracy와 새로운 data로 훈련한 결과의 accuracy"
   ]
  },
  {
   "cell_type": "code",
   "execution_count": 30,
   "metadata": {},
   "outputs": [
    {
     "name": "stdout",
     "output_type": "stream",
     "text": [
      "[0.5400000214576721, 0.5533333420753479, 0.503333330154419, 0.476666659116745, 0.44333332777023315, 0.54666668176651, 0.6133333444595337, 0.5533333420753479, 0.5566666722297668, 0.5166666507720947, 0.5533333420753479, 0.5299999713897705, 0.5799999833106995, 0.596666693687439]\n",
      "[0.4533333480358124, 0.5733333230018616, 0.6066666841506958, 0.5099999904632568, 0.3400000035762787, 0.43666666746139526, 0.54666668176651, 0.503333330154419, 0.47999998927116394, 0.5166666507720947, 0.4933333396911621, 0.5600000023841858, 0.54666668176651, 0.5299999713897705]\n"
     ]
    },
    {
     "data": {
      "image/png": "[encoded data removed]",
      "text/plain": [
       "<Figure size 720x576 with 1 Axes>"
      ]
     },
     "metadata": {
      "needs_background": "light"
     },
     "output_type": "display_data"
    }
   ],
   "source": [
    "print(accuracy_list)\n",
    "print(new_accuracy_list)\n",
    "\n",
    "import seaborn as sns\n",
    "\n",
    "plt.figure(figsize = (10,8))\n",
    "sns.lineplot(data = [accuracy_list, new_accuracy_list])\n",
    "sns.scatterplot(data = [accuracy_list, new_accuracy_list])\n",
    "plt.legend(['First data', 'Add void data'])\n",
    "plt.xlabel(\"Hyper Parameter set\")\n",
    "plt.ylabel(\"Prediction\")\n",
    "plt.show()"
   ]
  },
  {
   "cell_type": "markdown",
   "metadata": {},
   "source": [
    "Hyper parameter 값에 따라 기존의 train data로 훈련한 모델의 prediction의 갑이 더 높기도 하고 낮기도 합니다."
   ]
  },
  {
   "cell_type": "markdown",
   "metadata": {},
   "source": [
    "### 회고"
   ]
  },
  {
   "cell_type": "markdown",
   "metadata": {},
   "source": [
    "* 이번 프로젝트에서 어려웠던 점\n",
    "    - 여러개의 폴더에 효율적인 코드로 traindata를 불러오는 법\n",
    "* 프로젝트를 진행하면서 알아낸 점 혹은 아직 모호한 점\n",
    "  * 알게 된점\n",
    "    - listdir 사용법\n",
    "    - 무작정 traindata를 늘린다고 더 prediction 값이 더 높게 나오는적인 것은 아니다.\n",
    "  * 아직 모호한 점\n",
    "    - (왜 코드를 돌릴 때 마다 prediction 값이 다르게 나오는지 모르겠습니다.) - 초기값 설정인 것으로 배웠습니다.\n",
    "* 루브릭 평가를 맞추기 위해 시도한 점\n",
    "    - 여러 모델을 만들어보았습니다.\n",
    "    - 오버피팅을 극복하기 위해 많은 수의 다양한 train data를 넣었고 새로운 label의 data를 추가해보았습니다.\n",
    "    - 여러 hyperparameter를 설정해서 60% 이상을 넘는 경우를 찾았습니다."
   ]
  }
 ],
 "metadata": {
  "kernelspec": {
   "display_name": "Python 3.10.4 64-bit",
   "language": "python",
   "name": "python3"
  },
  "language_info": {
   "codemirror_mode": {
    "name": "ipython",
    "version": 3
   },
   "file_extension": ".py",
   "mimetype": "text/x-python",
   "name": "python",
   "nbconvert_exporter": "python",
   "pygments_lexer": "ipython3",
   "version": "3.10.4"
  },
  "orig_nbformat": 4,
  "vscode": {
   "interpreter": {
    "hash": "916dbcbb3f70747c44a77c7bcd40155683ae19c65e1c03b4aa3499c5328201f1"
   }
  }
 },
 "nbformat": 4,
 "nbformat_minor": 2
}

{
 "cells": [
  {
   "cell_type": "markdown",
   "metadata": {},
   "source": [
    "# [Exp12]Newsheadline"
   ]
  },
  {
   "cell_type": "markdown",
   "metadata": {},
   "source": [
    "## Library 불러오기"
   ]
  },
  {
   "cell_type": "code",
   "execution_count": 1,
   "metadata": {},
   "outputs": [
    {
     "name": "stderr",
     "output_type": "stream",
     "text": [
      "[nltk_data] Downloading package stopwords to /home/aiffel/nltk_data...\n",
      "[nltk_data]   Package stopwords is already up-to-date!\n"
     ]
    },
    {
     "name": "stdout",
     "output_type": "stream",
     "text": [
      "3.7\n",
      "2.9.1\n",
      "1.2.0\n"
     ]
    }
   ],
   "source": [
    "from importlib.metadata import version\n",
    "import nltk\n",
    "nltk.download('stopwords')\n",
    "\n",
    "import tensorflow\n",
    "import summa\n",
    "import numpy as np\n",
    "import pandas as pd\n",
    "import os\n",
    "import re\n",
    "import matplotlib.pyplot as plt\n",
    "from nltk.corpus import stopwords\n",
    "from bs4 import BeautifulSoup \n",
    "from tensorflow.keras.preprocessing.text import Tokenizer \n",
    "from tensorflow.keras.preprocessing.sequence import pad_sequences\n",
    "import urllib.request\n",
    "import warnings\n",
    "warnings.filterwarnings(\"ignore\", category=UserWarning, module='bs4')\n",
    "\n",
    "print(nltk.__version__)\n",
    "print(tensorflow.__version__)\n",
    "print(version('summa'))"
   ]
  },
  {
   "cell_type": "markdown",
   "metadata": {},
   "source": [
    "## 데이터 수집하기"
   ]
  },
  {
   "cell_type": "code",
   "execution_count": 2,
   "metadata": {},
   "outputs": [],
   "source": [
    "import pandas as pd\n",
    "import urllib.request\n",
    "urllib.request.urlretrieve(\"https://raw.githubusercontent.com/sunnysai12345/News_Summary/master/news_summary_more.csv\", filename=\"news_summary_more.csv\")\n",
    "data = pd.read_csv('news_summary_more.csv', encoding='iso-8859-1')"
   ]
  },
  {
   "cell_type": "code",
   "execution_count": 3,
   "metadata": {},
   "outputs": [
    {
     "name": "stderr",
     "output_type": "stream",
     "text": [
      "/tmp/ipykernel_4983/2002755332.py:1: FutureWarning: Passing a negative integer is deprecated in version 1.0 and will not be supported in future version. Instead, use None to not limit the column width.\n",
      "  pd.set_option('display.max_colwidth', -1)\n"
     ]
    },
    {
     "data": {
      "text/html": [
       "<div>\n",
       "<style scoped>\n",
       "    .dataframe tbody tr th:only-of-type {\n",
       "        vertical-align: middle;\n",
       "    }\n",
       "\n",
       "    .dataframe tbody tr th {\n",
       "        vertical-align: top;\n",
       "    }\n",
       "\n",
       "    .dataframe thead th {\n",
       "        text-align: right;\n",
       "    }\n",
       "</style>\n",
       "<table border=\"1\" class=\"dataframe\">\n",
       "  <thead>\n",
       "    <tr style=\"text-align: right;\">\n",
       "      <th></th>\n",
       "      <th>headlines</th>\n",
       "      <th>text</th>\n",
       "    </tr>\n",
       "  </thead>\n",
       "  <tbody>\n",
       "    <tr>\n",
       "      <th>5053</th>\n",
       "      <td>Women trying to enter Sabarimala inspired by Naxals: Swamy</td>\n",
       "      <td>BJP MP Subramanian Swamy has said that women attempting to enter Kerala's Sabarimala temple are inspired by Naxal forces \"who hate Hinduism\". \"Today, there is fear of turmoil...Action should be taken by the communist government,\" he added. On Sunday, a group of 11 women, who tried to enter the shrine, returned from Pamba base camp amid rising protests.</td>\n",
       "    </tr>\n",
       "    <tr>\n",
       "      <th>15125</th>\n",
       "      <td>8-year-old killed, 10 injured in explosion in Kolkata</td>\n",
       "      <td>An eight-year-old boy died and around 10 people were injured in an explosion that took place outside a building that houses the office of South Dum Dum Municipality Chairman Pachu Roy in Kolkata's Nagerbazar on Tuesday. \"It was a pre-planned blast. They had planned to kill me,\" RoyÃÂ claimed.  The police said the cause of the explosion is being investigated.</td>\n",
       "    </tr>\n",
       "    <tr>\n",
       "      <th>80744</th>\n",
       "      <td>Trump hints at changing position on Paris climate deal</td>\n",
       "      <td>US President Donald Trump on Thursday suggested that he could change his position on the Paris climate deal, after talks with his French counterpart Emmanuel Macron. \"We will talk about that over the coming period of time and if it happens that will be wonderful,\" Trump said. Notably, Trump had pulled the US out of the accord in June.</td>\n",
       "    </tr>\n",
       "    <tr>\n",
       "      <th>74575</th>\n",
       "      <td>Death toll in Gorakhpur's BRD Medical College rises to 105</td>\n",
       "      <td>The death toll in Gorakhpur's BRD Medical College has risen to 105 after deaths of nine more children were confirmed on Friday. Among these nine deaths, two were reported from encephalitis ward. Recently, Indian Medical Association, after confirming disruption in oxygen supply on August 10 due to non-payment, charged the then principal and the ward in-charge with negligence.</td>\n",
       "    </tr>\n",
       "    <tr>\n",
       "      <th>94626</th>\n",
       "      <td>Kal Penn compares US Vice-Prez to Kantaben in Kal Ho Naa Ho</td>\n",
       "      <td>Indian-origin actor Kal Penn tweeted that US Vice President Mike Pence reminds him of the character Kantaben from 2003 film 'Kal Ho Naa Ho'. Kantaben was portrayed as a \"homophobic\" character in the film who would feel uncomfortable on seeing Shah Rukh Khan and Saif Ali Khan's characters together. Meanwhile, Pence has often been criticised for opposing gay rights.</td>\n",
       "    </tr>\n",
       "    <tr>\n",
       "      <th>40150</th>\n",
       "      <td>UK gets its first airport therapy dog to calm passengers</td>\n",
       "      <td>The United Kingdom has got its first-ever airport therapy dog to calm passengers traveling to and from the Aberdeen International Airport in Scotland. The airport has kept an Alaskan malamute named Harley, who is seen walking in the airport alongside owner Niel Chisholm. Harley, who was first introduced in March on trial, will be returning to the airport in July.</td>\n",
       "    </tr>\n",
       "    <tr>\n",
       "      <th>70972</th>\n",
       "      <td>Indo-Canadian Sikh politician reacts to racism with 'love'</td>\n",
       "      <td>During a recent public event, Indo-Canadian Sikh politician Jagmeet Singh was racially abused by a woman. Singh responded to it with \"love and courage\" chants, saying, \"We don't want to be intimidated by hate. We welcome you and love you.\" \"Growing up as a brown-skinned, turbaned man, I faced things like this before, we can deal with it,\" Singh added.</td>\n",
       "    </tr>\n",
       "    <tr>\n",
       "      <th>22926</th>\n",
       "      <td>Equal number of Muslims, Hindus left out of NRC: BJP leader</td>\n",
       "      <td>BJP leader Kabindra Purkayastha has said it his \"idea\" that an equal number of Muslims and Hindus in Assam were excluded from National Register of Citizens' (NRC) final draft. \"It is propaganda that there are more Muslims or more Hindus,\" he added. His remarks come even as NRC Coordinator Prateek Hajela said they don't have data on applicants' religion.</td>\n",
       "    </tr>\n",
       "    <tr>\n",
       "      <th>26939</th>\n",
       "      <td>World's 3 richest persons are now technology billionaires</td>\n",
       "      <td>The three richest persons in the world, Jeff Bezos, Bill Gates and Mark Zuckerberg, are technology billionaires leading their companies Amazon, Microsoft and Facebook respectively. Facebook Co-Founder and CEO Mark Zuckerberg on Saturday overtook Berkshire Hathaway's Warren Buffett to become the world's third-richest person. Zuckerberg has a net worth of $81.6 billion as per Bloomberg.</td>\n",
       "    </tr>\n",
       "    <tr>\n",
       "      <th>65897</th>\n",
       "      <td>K'taka CM mulling legal action over BJP's scam allegation</td>\n",
       "      <td>Karnataka Chief Minister Siddaramaiah is reportedly contemplating legal action against the BJP after the party accused him of facilitating denotification of land worth Ã¢ÂÂ¹300 crore in Bhoopasandra in order to help his aide. Calling the allegation \"baseless, frivolous, and politically motivated\", he said that he has not approved any case of denotification during his tenure as Chief Minister so far.</td>\n",
       "    </tr>\n",
       "  </tbody>\n",
       "</table>\n",
       "</div>"
      ],
      "text/plain": [
       "                                                         headlines  \\\n",
       "5053   Women trying to enter Sabarimala inspired by Naxals: Swamy    \n",
       "15125  8-year-old killed, 10 injured in explosion in Kolkata         \n",
       "80744  Trump hints at changing position on Paris climate deal        \n",
       "74575  Death toll in Gorakhpur's BRD Medical College rises to 105    \n",
       "94626  Kal Penn compares US Vice-Prez to Kantaben in Kal Ho Naa Ho   \n",
       "40150  UK gets its first airport therapy dog to calm passengers      \n",
       "70972  Indo-Canadian Sikh politician reacts to racism with 'love'    \n",
       "22926  Equal number of Muslims, Hindus left out of NRC: BJP leader   \n",
       "26939  World's 3 richest persons are now technology billionaires     \n",
       "65897  K'taka CM mulling legal action over BJP's scam allegation     \n",
       "\n",
       "                                                                                                                                                                                                                                                                                                                                                                                                                        text  \n",
       "5053   BJP MP Subramanian Swamy has said that women attempting to enter Kerala's Sabarimala temple are inspired by Naxal forces \"who hate Hinduism\". \"Today, there is fear of turmoil...Action should be taken by the communist government,\" he added. On Sunday, a group of 11 women, who tried to enter the shrine, returned from Pamba base camp amid rising protests.                                                     \n",
       "15125  An eight-year-old boy died and around 10 people were injured in an explosion that took place outside a building that houses the office of South Dum Dum Municipality Chairman Pachu Roy in Kolkata's Nagerbazar on Tuesday. \"It was a pre-planned blast. They had planned to kill me,\" RoyÃÂ claimed.  The police said the cause of the explosion is being investigated.                                              \n",
       "80744  US President Donald Trump on Thursday suggested that he could change his position on the Paris climate deal, after talks with his French counterpart Emmanuel Macron. \"We will talk about that over the coming period of time and if it happens that will be wonderful,\" Trump said. Notably, Trump had pulled the US out of the accord in June.                                                                       \n",
       "74575  The death toll in Gorakhpur's BRD Medical College has risen to 105 after deaths of nine more children were confirmed on Friday. Among these nine deaths, two were reported from encephalitis ward. Recently, Indian Medical Association, after confirming disruption in oxygen supply on August 10 due to non-payment, charged the then principal and the ward in-charge with negligence.                              \n",
       "94626  Indian-origin actor Kal Penn tweeted that US Vice President Mike Pence reminds him of the character Kantaben from 2003 film 'Kal Ho Naa Ho'. Kantaben was portrayed as a \"homophobic\" character in the film who would feel uncomfortable on seeing Shah Rukh Khan and Saif Ali Khan's characters together. Meanwhile, Pence has often been criticised for opposing gay rights.                                         \n",
       "40150  The United Kingdom has got its first-ever airport therapy dog to calm passengers traveling to and from the Aberdeen International Airport in Scotland. The airport has kept an Alaskan malamute named Harley, who is seen walking in the airport alongside owner Niel Chisholm. Harley, who was first introduced in March on trial, will be returning to the airport in July.                                          \n",
       "70972  During a recent public event, Indo-Canadian Sikh politician Jagmeet Singh was racially abused by a woman. Singh responded to it with \"love and courage\" chants, saying, \"We don't want to be intimidated by hate. We welcome you and love you.\" \"Growing up as a brown-skinned, turbaned man, I faced things like this before, we can deal with it,\" Singh added.                                                      \n",
       "22926  BJP leader Kabindra Purkayastha has said it his \"idea\" that an equal number of Muslims and Hindus in Assam were excluded from National Register of Citizens' (NRC) final draft. \"It is propaganda that there are more Muslims or more Hindus,\" he added. His remarks come even as NRC Coordinator Prateek Hajela said they don't have data on applicants' religion.                                                    \n",
       "26939  The three richest persons in the world, Jeff Bezos, Bill Gates and Mark Zuckerberg, are technology billionaires leading their companies Amazon, Microsoft and Facebook respectively. Facebook Co-Founder and CEO Mark Zuckerberg on Saturday overtook Berkshire Hathaway's Warren Buffett to become the world's third-richest person. Zuckerberg has a net worth of $81.6 billion as per Bloomberg.                    \n",
       "65897  Karnataka Chief Minister Siddaramaiah is reportedly contemplating legal action against the BJP after the party accused him of facilitating denotification of land worth Ã¢ÂÂ¹300 crore in Bhoopasandra in order to help his aide. Calling the allegation \"baseless, frivolous, and politically motivated\", he said that he has not approved any case of denotification during his tenure as Chief Minister so far.    "
      ]
     },
     "execution_count": 3,
     "metadata": {},
     "output_type": "execute_result"
    }
   ],
   "source": [
    "pd.set_option('display.max_colwidth', -1)\n",
    "data_copy = data.copy()\n",
    "data.sample(10)"
   ]
  },
  {
   "cell_type": "code",
   "execution_count": 4,
   "metadata": {},
   "outputs": [
    {
     "data": {
      "text/html": [
       "<div>\n",
       "<style scoped>\n",
       "    .dataframe tbody tr th:only-of-type {\n",
       "        vertical-align: middle;\n",
       "    }\n",
       "\n",
       "    .dataframe tbody tr th {\n",
       "        vertical-align: top;\n",
       "    }\n",
       "\n",
       "    .dataframe thead th {\n",
       "        text-align: right;\n",
       "    }\n",
       "</style>\n",
       "<table border=\"1\" class=\"dataframe\">\n",
       "  <thead>\n",
       "    <tr style=\"text-align: right;\">\n",
       "      <th></th>\n",
       "      <th>headlines</th>\n",
       "      <th>text</th>\n",
       "    </tr>\n",
       "  </thead>\n",
       "  <tbody>\n",
       "    <tr>\n",
       "      <th>count</th>\n",
       "      <td>98401</td>\n",
       "      <td>98401</td>\n",
       "    </tr>\n",
       "    <tr>\n",
       "      <th>unique</th>\n",
       "      <td>98280</td>\n",
       "      <td>98360</td>\n",
       "    </tr>\n",
       "    <tr>\n",
       "      <th>top</th>\n",
       "      <td>Warne produced 'ball of century' with his 1st Ashes delivery</td>\n",
       "      <td>Virender Sehwag was captaining India when he hit 219 runs against Windies on December 8, 2011, becoming the second cricketer after Sachin Tendulkar to score a double hundred in ODIs. Sehwag's 219(149) is the highest individual score by a captain in ODI cricket history. Sehwag's knock helped India pile up their highest ODI total of 418/5.</td>\n",
       "    </tr>\n",
       "    <tr>\n",
       "      <th>freq</th>\n",
       "      <td>3</td>\n",
       "      <td>2</td>\n",
       "    </tr>\n",
       "  </tbody>\n",
       "</table>\n",
       "</div>"
      ],
      "text/plain": [
       "                                                           headlines  \\\n",
       "count   98401                                                          \n",
       "unique  98280                                                          \n",
       "top     Warne produced 'ball of century' with his 1st Ashes delivery   \n",
       "freq    3                                                              \n",
       "\n",
       "                                                                                                                                                                                                                                                                                                                                                       text  \n",
       "count   98401                                                                                                                                                                                                                                                                                                                                                \n",
       "unique  98360                                                                                                                                                                                                                                                                                                                                                \n",
       "top     Virender Sehwag was captaining India when he hit 219 runs against Windies on December 8, 2011, becoming the second cricketer after Sachin Tendulkar to score a double hundred in ODIs. Sehwag's 219(149) is the highest individual score by a captain in ODI cricket history. Sehwag's knock helped India pile up their highest ODI total of 418/5.  \n",
       "freq    2                                                                                                                                                                                                                                                                                                                                                    "
      ]
     },
     "execution_count": 4,
     "metadata": {},
     "output_type": "execute_result"
    }
   ],
   "source": [
    "data.describe()"
   ]
  },
  {
   "cell_type": "markdown",
   "metadata": {},
   "source": [
    "## 데이터 전처리하기(추상적 요약)"
   ]
  },
  {
   "cell_type": "markdown",
   "metadata": {},
   "source": [
    "### 중복 확인 및 제거"
   ]
  },
  {
   "cell_type": "code",
   "execution_count": 5,
   "metadata": {},
   "outputs": [
    {
     "name": "stdout",
     "output_type": "stream",
     "text": [
      "headlines 열에서 중복을 배제한 유일한 샘플의 수 : 98280\n",
      "text 열에서 중복을 배제한 유일한 샘플의 수 : 98360\n"
     ]
    }
   ],
   "source": [
    "print('headlines 열에서 중복을 배제한 유일한 샘플의 수 :', data['headlines'].nunique())\n",
    "print('text 열에서 중복을 배제한 유일한 샘플의 수 :', data['text'].nunique())"
   ]
  },
  {
   "cell_type": "markdown",
   "metadata": {},
   "source": [
    "* 중복 제거\n",
    "* [pandas.DataFrame.drop_duplicates](https://pandas.pydata.org/docs/reference/api/pandas.DataFrame.drop_duplicates.html)\n",
    "* text에서만 제거합니다."
   ]
  },
  {
   "cell_type": "code",
   "execution_count": 6,
   "metadata": {},
   "outputs": [
    {
     "name": "stdout",
     "output_type": "stream",
     "text": [
      "전체 샘플수 : 98360\n"
     ]
    }
   ],
   "source": [
    "data.drop_duplicates(subset = ['text'], inplace=True)\n",
    "print('전체 샘플수 :', (len(data)))"
   ]
  },
  {
   "cell_type": "markdown",
   "metadata": {},
   "source": [
    "### NULL 확인 및 제거"
   ]
  },
  {
   "cell_type": "markdown",
   "metadata": {},
   "source": [
    "* [pandas.DataFrame.isnull](https://pandas.pydata.org/docs/reference/api/pandas.DataFrame.isnull.html#pandas.DataFrame.isnull)\n",
    "* null 인 경우 True 아니면 False를 리턴하고 이에 대한 sum 이므로 개수가 나온다."
   ]
  },
  {
   "cell_type": "code",
   "execution_count": 7,
   "metadata": {},
   "outputs": [
    {
     "name": "stdout",
     "output_type": "stream",
     "text": [
      "headlines    0\n",
      "text         0\n",
      "dtype: int64\n"
     ]
    }
   ],
   "source": [
    "print(data.isnull().sum())"
   ]
  },
  {
   "cell_type": "markdown",
   "metadata": {},
   "source": [
    "* 관측된 NULL 값이 없습니다."
   ]
  },
  {
   "cell_type": "markdown",
   "metadata": {},
   "source": [
    "* data를 복사해서 data_copy를 만듭니다."
   ]
  },
  {
   "cell_type": "code",
   "execution_count": 8,
   "metadata": {},
   "outputs": [
    {
     "data": {
      "text/plain": [
       "0        Saurav Kant, an alumnus of upGrad and IIIT-B's PG Program in Machine learning and Artificial Intelligence, was a Sr Systems Engineer at Infosys with almost 5 years of work experience. The program and upGrad's 360-degree career support helped him transition to a Data Scientist at Tech Mahindra with 90% salary hike. upGrad's Online Power Learning has powered 3 lakh+ careers.               \n",
       "1        Kunal Shah's credit card bill payment platform, CRED, gave users a chance to win free food from Swiggy for one year. Pranav Kaushik, a Delhi techie, bagged this reward after spending 2000 CRED coins. Users get one CRED coin per rupee of bill paid, which can be used to avail rewards from brands like Ixigo, BookMyShow, UberEats, Cult.Fit and more.                                           \n",
       "2        New Zealand defeated India by 8 wickets in the fourth ODI at Hamilton on Thursday to win their first match of the five-match ODI series. India lost an international match under Rohit Sharma's captaincy after 12 consecutive victories dating back to March 2018. The match witnessed India getting all out for 92, their seventh lowest total in ODI cricket history.                              \n",
       "3        With Aegon Life iTerm Insurance plan, customers can enjoy tax benefits on your premiums paid and save up to Ã¢ÂÂ¹46,800^ on taxes. The plan provides life cover up to the age of 100 years. Also, customers have options to insure against Critical Illnesses, Disability and Accidental Death Benefit Rider with a life cover up to the age of 80 years.                                            \n",
       "4        Speaking about the sexual harassment allegations against Rajkumar Hirani, Sonam Kapoor said, \"I've known Hirani for many years...What if it's not true, the [#MeToo] movement will get derailed.\" \"In the #MeToo movement, I always believe a woman. But in this case, we need to reserve our judgment,\" she added. Hirani has been accused by an assistant who worked in 'Sanju'.                    \n",
       "                                                                                                                                                                                                ...                                                                                                                                                                                                            \n",
       "98396    A CRPF jawan was on Tuesday axed to death with sharp-edged weapons by Maoists at a local village fair in Chhattisgarh's insurgency-hit Bijapur district. As per preliminary information, Maoists attacked the jawan while he had gone to visit the fair along with his family, a police official said. A combing operation was launched to nab the assailants, he added.                              \n",
       "98397    'Uff Yeh', the first song from the Sonakshi Sinha starrer upcoming drama film 'Noor' has been released. The song has been composed by Amaal Mallik with vocals by Armaan Malik and lyrics by Manoj Muntashir. Sonakshi will be seen portraying a Pakistani journalist-writer in the film. Directed by Sunhil Sippy, the film is scheduled to release on April 21.                                     \n",
       "98398    According to reports, a new version of the 1999 science fiction film 'The Matrix' is in development. Michael B Jordan will reportedly play the lead role in the film. Screenwriter Zak Penn is in talks to write the script of the film, reports added. Actor Keanu Reeves starred in the original film, which was followed by two sequels.                                                           \n",
       "98399    A new music video shows rapper Snoop Dogg aiming a toy gun at a clown character parodying US President Donald Trump. The video also shows a TV airing a news conference with the headline 'Ronald Klump wants to deport all doggs' airing live from 'The Clown House'. The video is for a remixed version of the song 'Lavender'.                                                                     \n",
       "98400    Madhesi Morcha, an alliance of seven political parties, has withdrawn support to PM Pushpa Kamal Dahal-led Nepal government after it failed to meet a seven-day ultimatum to fulfil their demands including endorsement for the revised Constitution amendment bill. The Morcha has 36 seats in the Parliament, but despite the withdrawal of support, there is no immediate threat to the government.\n",
       "Name: text, Length: 98360, dtype: object"
      ]
     },
     "execution_count": 8,
     "metadata": {},
     "output_type": "execute_result"
    }
   ],
   "source": [
    "data_copy = data.copy()\n",
    "data_copy = data_copy['text']\n",
    "data_copy"
   ]
  },
  {
   "cell_type": "markdown",
   "metadata": {},
   "source": [
    "### 텍스트 정규화 및 불용어 제거 준비"
   ]
  },
  {
   "cell_type": "markdown",
   "metadata": {},
   "source": [
    "* 정규화 사전 준비"
   ]
  },
  {
   "cell_type": "code",
   "execution_count": 9,
   "metadata": {},
   "outputs": [],
   "source": [
    "contractions = {\"ain't\": \"is not\", \"aren't\": \"are not\",\"can't\": \"cannot\", \"'cause\": \"because\", \"could've\": \"could have\", \"couldn't\": \"could not\",\n",
    "                           \"didn't\": \"did not\",  \"doesn't\": \"does not\", \"don't\": \"do not\", \"hadn't\": \"had not\", \"hasn't\": \"has not\", \"haven't\": \"have not\",\n",
    "                           \"he'd\": \"he would\",\"he'll\": \"he will\", \"he's\": \"he is\", \"how'd\": \"how did\", \"how'd'y\": \"how do you\", \"how'll\": \"how will\", \"how's\": \"how is\",\n",
    "                           \"I'd\": \"I would\", \"I'd've\": \"I would have\", \"I'll\": \"I will\", \"I'll've\": \"I will have\",\"I'm\": \"I am\", \"I've\": \"I have\", \"i'd\": \"i would\",\n",
    "                           \"i'd've\": \"i would have\", \"i'll\": \"i will\",  \"i'll've\": \"i will have\",\"i'm\": \"i am\", \"i've\": \"i have\", \"isn't\": \"is not\", \"it'd\": \"it would\",\n",
    "                           \"it'd've\": \"it would have\", \"it'll\": \"it will\", \"it'll've\": \"it will have\",\"it's\": \"it is\", \"let's\": \"let us\", \"ma'am\": \"madam\",\n",
    "                           \"mayn't\": \"may not\", \"might've\": \"might have\",\"mightn't\": \"might not\",\"mightn't've\": \"might not have\", \"must've\": \"must have\",\n",
    "                           \"mustn't\": \"must not\", \"mustn't've\": \"must not have\", \"needn't\": \"need not\", \"needn't've\": \"need not have\",\"o'clock\": \"of the clock\",\n",
    "                           \"oughtn't\": \"ought not\", \"oughtn't've\": \"ought not have\", \"shan't\": \"shall not\", \"sha'n't\": \"shall not\", \"shan't've\": \"shall not have\",\n",
    "                           \"she'd\": \"she would\", \"she'd've\": \"she would have\", \"she'll\": \"she will\", \"she'll've\": \"she will have\", \"she's\": \"she is\",\n",
    "                           \"should've\": \"should have\", \"shouldn't\": \"should not\", \"shouldn't've\": \"should not have\", \"so've\": \"so have\",\"so's\": \"so as\",\n",
    "                           \"this's\": \"this is\",\"that'd\": \"that would\", \"that'd've\": \"that would have\", \"that's\": \"that is\", \"there'd\": \"there would\",\n",
    "                           \"there'd've\": \"there would have\", \"there's\": \"there is\", \"here's\": \"here is\",\"they'd\": \"they would\", \"they'd've\": \"they would have\",\n",
    "                           \"they'll\": \"they will\", \"they'll've\": \"they will have\", \"they're\": \"they are\", \"they've\": \"they have\", \"to've\": \"to have\",\n",
    "                           \"wasn't\": \"was not\", \"we'd\": \"we would\", \"we'd've\": \"we would have\", \"we'll\": \"we will\", \"we'll've\": \"we will have\", \"we're\": \"we are\",\n",
    "                           \"we've\": \"we have\", \"weren't\": \"were not\", \"what'll\": \"what will\", \"what'll've\": \"what will have\", \"what're\": \"what are\",\n",
    "                           \"what's\": \"what is\", \"what've\": \"what have\", \"when's\": \"when is\", \"when've\": \"when have\", \"where'd\": \"where did\", \"where's\": \"where is\",\n",
    "                           \"where've\": \"where have\", \"who'll\": \"who will\", \"who'll've\": \"who will have\", \"who's\": \"who is\", \"who've\": \"who have\",\n",
    "                           \"why's\": \"why is\", \"why've\": \"why have\", \"will've\": \"will have\", \"won't\": \"will not\", \"won't've\": \"will not have\",\n",
    "                           \"would've\": \"would have\", \"wouldn't\": \"would not\", \"wouldn't've\": \"would not have\", \"y'all\": \"you all\",\n",
    "                           \"y'all'd\": \"you all would\",\"y'all'd've\": \"you all would have\",\"y'all're\": \"you all are\",\"y'all've\": \"you all have\",\n",
    "                           \"you'd\": \"you would\", \"you'd've\": \"you would have\", \"you'll\": \"you will\", \"you'll've\": \"you will have\",\n",
    "                           \"you're\": \"you are\", \"you've\": \"you have\"}"
   ]
  },
  {
   "cell_type": "markdown",
   "metadata": {},
   "source": [
    "* 불용어는 NLTK가 제공하는 것을 참조하겠습니다."
   ]
  },
  {
   "cell_type": "code",
   "execution_count": 10,
   "metadata": {},
   "outputs": [
    {
     "name": "stdout",
     "output_type": "stream",
     "text": [
      "['i', 'me', 'my', 'myself', 'we', 'our', 'ours', 'ourselves', 'you', \"you're\", \"you've\", \"you'll\", \"you'd\", 'your', 'yours', 'yourself', 'yourselves', 'he', 'him', 'his', 'himself', 'she', \"she's\", 'her', 'hers', 'herself', 'it', \"it's\", 'its', 'itself', 'they', 'them', 'their', 'theirs', 'themselves', 'what', 'which', 'who', 'whom', 'this', 'that', \"that'll\", 'these', 'those', 'am', 'is', 'are', 'was', 'were', 'be', 'been', 'being', 'have', 'has', 'had', 'having', 'do', 'does', 'did', 'doing', 'a', 'an', 'the', 'and', 'but', 'if', 'or', 'because', 'as', 'until', 'while', 'of', 'at', 'by', 'for', 'with', 'about', 'against', 'between', 'into', 'through', 'during', 'before', 'after', 'above', 'below', 'to', 'from', 'up', 'down', 'in', 'out', 'on', 'off', 'over', 'under', 'again', 'further', 'then', 'once', 'here', 'there', 'when', 'where', 'why', 'how', 'all', 'any', 'both', 'each', 'few', 'more', 'most', 'other', 'some', 'such', 'no', 'nor', 'not', 'only', 'own', 'same', 'so', 'than', 'too', 'very', 's', 't', 'can', 'will', 'just', 'don', \"don't\", 'should', \"should've\", 'now', 'd', 'll', 'm', 'o', 're', 've', 'y', 'ain', 'aren', \"aren't\", 'couldn', \"couldn't\", 'didn', \"didn't\", 'doesn', \"doesn't\", 'hadn', \"hadn't\", 'hasn', \"hasn't\", 'haven', \"haven't\", 'isn', \"isn't\", 'ma', 'mightn', \"mightn't\", 'mustn', \"mustn't\", 'needn', \"needn't\", 'shan', \"shan't\", 'shouldn', \"shouldn't\", 'wasn', \"wasn't\", 'weren', \"weren't\", 'won', \"won't\", 'wouldn', \"wouldn't\"]\n"
     ]
    }
   ],
   "source": [
    "print(stopwords.words('english'))"
   ]
  },
  {
   "cell_type": "markdown",
   "metadata": {},
   "source": [
    "### 전처리 함수"
   ]
  },
  {
   "cell_type": "markdown",
   "metadata": {},
   "source": [
    "* 텍스트 소문자화\n",
    "* () 문자열 제거\n",
    "* \" 제거\n",
    "* 약어 정규화(준말 정규화)\n",
    "* 소유격 제거\n",
    "* 영어 및 숫자 외 문자 공백으로 변환"
   ]
  },
  {
   "cell_type": "code",
   "execution_count": 11,
   "metadata": {},
   "outputs": [],
   "source": [
    "def preprocess_sentence(sentence, remove_stopwords=True):\n",
    "    sentence = sentence.lower()\n",
    "    sentence = re.sub(r'\\([^)]*\\)', '', sentence) \n",
    "    sentence = re.sub('\"','', sentence) \n",
    "    sentence = ' '.join([contractions[t] if t in contractions else t for t in sentence.split(\" \")])\n",
    "    sentence = re.sub(r\"'s\\b\",\"\", sentence)\n",
    "    sentence = re.sub(\"[^a-zA-Z0-9]\", \" \", sentence)\n",
    "    \n",
    "    if remove_stopwords:\n",
    "        tokens = ' '.join(word for word in sentence.split() if not word in stopwords.words('english') if len(word) > 1)\n",
    "    else:\n",
    "        tokens = ' '.join(word for word in sentence.split() if len(word) > 1)\n",
    "    return tokens"
   ]
  },
  {
   "cell_type": "markdown",
   "metadata": {},
   "source": [
    "* 불용어 제거와 미제거로 나누어서 테스트"
   ]
  },
  {
   "cell_type": "code",
   "execution_count": 12,
   "metadata": {},
   "outputs": [
    {
     "name": "stdout",
     "output_type": "stream",
     "text": [
      "text:  mumbai police wednesday celebrated 85th birthday woman named lalita subramaniam lives alone city police personnel including deputy commissioner police ambika visited residence cake celebrate birthday mumbai police first celebrated lalita birthday 2016 following celebrating birthday every year\n",
      "headline: mumbai police celebrates 85th day of woman who lives alone\n"
     ]
    }
   ],
   "source": [
    "temp_text = \"The Mumbai Police on Wednesday celebrated the 85th birthday of a woman named Lalita Subramaniam, who lives alone in the city. Police personnel, including Deputy Commissioner of Police, N Ambika, visited her residence with a cake to celebrate her birthday. The Mumbai Police first celebrated Lalita's birthday in 2016, following which they have been celebrating her birthday every year.\"\n",
    "temp_headlines = \"Mumbai Police celebrates 85th b'day of woman who lives alone\"\n",
    "\n",
    "print(\"text: \", preprocess_sentence(temp_text))\n",
    "print(\"headline:\", preprocess_sentence(temp_headlines, False))"
   ]
  },
  {
   "cell_type": "markdown",
   "metadata": {},
   "source": [
    "### 데이터에 적용"
   ]
  },
  {
   "cell_type": "markdown",
   "metadata": {},
   "source": [
    "* Text\n",
    "* 불용어 제거를 적용합니다."
   ]
  },
  {
   "cell_type": "code",
   "execution_count": 13,
   "metadata": {},
   "outputs": [],
   "source": [
    "clean_text = []\n",
    "for sentence in data['text']:\n",
    "    clean_text.append(preprocess_sentence(sentence))"
   ]
  },
  {
   "cell_type": "markdown",
   "metadata": {},
   "source": [
    "* Headline\n",
    "* 불용어 제거를 적용하지 않습니다."
   ]
  },
  {
   "cell_type": "code",
   "execution_count": 14,
   "metadata": {},
   "outputs": [
    {
     "name": "stdout",
     "output_type": "stream",
     "text": [
      "headline 전처리 후 결과:  ['upgrad learner switches to career in ml al with 90 salary hike', 'delhi techie wins free food from swiggy for one year on cred', 'new zealand end rohit sharma led india 12 match winning streak', 'aegon life iterm insurance plan helps customers save tax', 'have known hirani for yrs what if metoo claims are not true sonam']\n"
     ]
    }
   ],
   "source": [
    "clean_headlines = []\n",
    "for s in data['headlines']:\n",
    "    clean_headlines.append(preprocess_sentence(s, False))\n",
    "\n",
    "print(\"headline 전처리 후 결과: \", clean_headlines[:5])"
   ]
  },
  {
   "cell_type": "markdown",
   "metadata": {},
   "source": [
    "### 빈값이 있는지 확인해봅시다."
   ]
  },
  {
   "cell_type": "markdown",
   "metadata": {},
   "source": [
    "* 쉽게 하기 위해 데이터프레임에 저장\n",
    "* 빈 값을 NULL 값으로 변환\n",
    "* NULL 값을 확인합니다."
   ]
  },
  {
   "cell_type": "code",
   "execution_count": 15,
   "metadata": {},
   "outputs": [
    {
     "data": {
      "text/plain": [
       "headlines    0\n",
       "text         0\n",
       "dtype: int64"
      ]
     },
     "execution_count": 15,
     "metadata": {},
     "output_type": "execute_result"
    }
   ],
   "source": [
    "data['text'] = clean_text\n",
    "data['headlines'] = clean_headlines\n",
    "\n",
    "data.replace('', np.nan, inplace=True)\n",
    "data.isnull().sum()"
   ]
  },
  {
   "cell_type": "markdown",
   "metadata": {},
   "source": [
    "* 제거할 null 값이 없습니다."
   ]
  },
  {
   "cell_type": "markdown",
   "metadata": {},
   "source": [
    "## 훈련과 테스트 데이터 나누기"
   ]
  },
  {
   "cell_type": "markdown",
   "metadata": {},
   "source": [
    "### 샘플의 최대 길이 정하기"
   ]
  },
  {
   "cell_type": "markdown",
   "metadata": {},
   "source": [
    "* text와 headlines를 문장 단위로 나눈 뒤 개수를 세봅니다."
   ]
  },
  {
   "cell_type": "code",
   "execution_count": 16,
   "metadata": {},
   "outputs": [
    {
     "name": "stdout",
     "output_type": "stream",
     "text": [
      "텍스트의 최소 길이 : 1\n",
      "텍스트의 최대 길이 : 60\n",
      "텍스트의 평균 길이 : 36.375589670597805\n",
      "요약의 최소 길이 : 1\n",
      "요약의 최대 길이 : 16\n",
      "요약의 평균 길이 : 9.569611630744205\n"
     ]
    },
    {
     "data": {
      "image/png": "[encoded data removed]",
      "text/plain": [
       "<Figure size 432x288 with 2 Axes>"
      ]
     },
     "metadata": {
      "needs_background": "light"
     },
     "output_type": "display_data"
    },
    {
     "data": {
      "image/png": "[encoded data removed]",
      "text/plain": [
       "<Figure size 432x288 with 1 Axes>"
      ]
     },
     "metadata": {
      "needs_background": "light"
     },
     "output_type": "display_data"
    },
    {
     "data": {
      "image/png": "[encoded data removed]",
      "text/plain": [
       "<Figure size 432x288 with 1 Axes>"
      ]
     },
     "metadata": {
      "needs_background": "light"
     },
     "output_type": "display_data"
    }
   ],
   "source": [
    "import matplotlib.pyplot as plt\n",
    "\n",
    "text_len = [len(s.split()) for s in data['text']]\n",
    "headline_len = [len(s.split()) for s in data['headlines']]\n",
    "\n",
    "print('텍스트의 최소 길이 : {}'.format(np.min(text_len)))\n",
    "print('텍스트의 최대 길이 : {}'.format(np.max(text_len)))\n",
    "print('텍스트의 평균 길이 : {}'.format(np.mean(text_len)))\n",
    "print('요약의 최소 길이 : {}'.format(np.min(headline_len)))\n",
    "print('요약의 최대 길이 : {}'.format(np.max(headline_len)))\n",
    "print('요약의 평균 길이 : {}'.format(np.mean(headline_len)))\n",
    "\n",
    "plt.subplot(1,2,1)\n",
    "plt.boxplot(text_len)\n",
    "plt.title('Text')\n",
    "plt.subplot(1,2,2)\n",
    "plt.boxplot(headline_len)\n",
    "plt.title('headline')\n",
    "plt.tight_layout()\n",
    "plt.show()\n",
    "\n",
    "plt.title('Text')\n",
    "plt.hist(text_len, bins = 40)\n",
    "plt.xlabel('length of samples')\n",
    "plt.ylabel('number of samples')\n",
    "plt.show()\n",
    "\n",
    "plt.title('headline')\n",
    "plt.hist(headline_len, bins = 40)\n",
    "plt.xlabel('length of samples')\n",
    "plt.ylabel('number of samples')\n",
    "plt.show()"
   ]
  },
  {
   "cell_type": "markdown",
   "metadata": {},
   "source": [
    "* Text, Summary의 적절한 최대 길이 정해보기"
   ]
  },
  {
   "cell_type": "code",
   "execution_count": 17,
   "metadata": {},
   "outputs": [],
   "source": [
    "text_max_len = 40\n",
    "headline_max_len = 11"
   ]
  },
  {
   "cell_type": "code",
   "execution_count": 18,
   "metadata": {},
   "outputs": [],
   "source": [
    "def below_threshold_len(max_len, nested_list):\n",
    "    cnt = 0\n",
    "    for sentence in nested_list:\n",
    "        if(len(sentence.split()) <= max_len):\n",
    "            cnt = cnt + 1\n",
    "    print('전체 샘플 중 길이가 %s 이하인 샘플의 비율: %s'%(max_len, (cnt / len(nested_list))))"
   ]
  },
  {
   "cell_type": "code",
   "execution_count": 19,
   "metadata": {},
   "outputs": [
    {
     "name": "stdout",
     "output_type": "stream",
     "text": [
      "전체 샘플 중 길이가 40 이하인 샘플의 비율: 0.8522061813745425\n",
      "전체 샘플 중 길이가 11 이하인 샘플의 비율: 0.9163989426596177\n"
     ]
    }
   ],
   "source": [
    "below_threshold_len(text_max_len, data['text'])\n",
    "below_threshold_len(headline_max_len,  data['headlines'])"
   ]
  },
  {
   "cell_type": "code",
   "execution_count": 20,
   "metadata": {},
   "outputs": [
    {
     "name": "stdout",
     "output_type": "stream",
     "text": [
      "전체 샘플수 : 76925\n"
     ]
    }
   ],
   "source": [
    "data = data[data['text'].apply(lambda x: len(x.split()) <= text_max_len)]\n",
    "data = data[data['headlines'].apply(lambda x: len(x.split()) <= headline_max_len)]\n",
    "print('전체 샘플수 :', (len(data)))"
   ]
  },
  {
   "cell_type": "markdown",
   "metadata": {},
   "source": [
    "### 시작과 종료 토큰"
   ]
  },
  {
   "cell_type": "markdown",
   "metadata": {},
   "source": [
    "* headlines 데이터에 시작과 종료 토큰을 추가합니다."
   ]
  },
  {
   "cell_type": "code",
   "execution_count": 21,
   "metadata": {},
   "outputs": [
    {
     "data": {
      "text/html": [
       "<div>\n",
       "<style scoped>\n",
       "    .dataframe tbody tr th:only-of-type {\n",
       "        vertical-align: middle;\n",
       "    }\n",
       "\n",
       "    .dataframe tbody tr th {\n",
       "        vertical-align: top;\n",
       "    }\n",
       "\n",
       "    .dataframe thead th {\n",
       "        text-align: right;\n",
       "    }\n",
       "</style>\n",
       "<table border=\"1\" class=\"dataframe\">\n",
       "  <thead>\n",
       "    <tr style=\"text-align: right;\">\n",
       "      <th></th>\n",
       "      <th>headlines</th>\n",
       "      <th>text</th>\n",
       "      <th>decoder_input</th>\n",
       "      <th>decoder_target</th>\n",
       "    </tr>\n",
       "  </thead>\n",
       "  <tbody>\n",
       "    <tr>\n",
       "      <th>3</th>\n",
       "      <td>aegon life iterm insurance plan helps customers save tax</td>\n",
       "      <td>aegon life iterm insurance plan customers enjoy tax benefits premiums paid save 46 800 taxes plan provides life cover age 100 years also customers options insure critical illnesses disability accidental death benefit rider life cover age 80 years</td>\n",
       "      <td>sostoken aegon life iterm insurance plan helps customers save tax</td>\n",
       "      <td>aegon life iterm insurance plan helps customers save tax eostoken</td>\n",
       "    </tr>\n",
       "    <tr>\n",
       "      <th>5</th>\n",
       "      <td>rahat fateh ali khan denies getting notice for smuggling currency</td>\n",
       "      <td>pakistani singer rahat fateh ali khan denied receiving notice enforcement directorate allegedly smuggling foreign currency india would better authorities would served notice first publicised reads press release issued behalf rahat statement called allegation bizarre</td>\n",
       "      <td>sostoken rahat fateh ali khan denies getting notice for smuggling currency</td>\n",
       "      <td>rahat fateh ali khan denies getting notice for smuggling currency eostoken</td>\n",
       "    </tr>\n",
       "    <tr>\n",
       "      <th>7</th>\n",
       "      <td>govt directs alok verma to join work day before his retirement</td>\n",
       "      <td>weeks ex cbi director alok verma told department personnel training consider retired home ministry asked join work last day fixed tenure director thursday ministry directed immediately join dg fire services post transferred removal cbi chief</td>\n",
       "      <td>sostoken govt directs alok verma to join work day before his retirement</td>\n",
       "      <td>govt directs alok verma to join work day before his retirement eostoken</td>\n",
       "    </tr>\n",
       "    <tr>\n",
       "      <th>9</th>\n",
       "      <td>cong wins ramgarh bypoll in rajasthan takes total to 100 seats</td>\n",
       "      <td>congress candidate shafia zubair ramgarh assembly seat rajasthan defeating bjp sukhwant singh margin 12 228 votes bypoll victory congress taken total 100 seats 200 member assembly election ramgarh seat delayed due death sitting mla bsp candidate laxman singh</td>\n",
       "      <td>sostoken cong wins ramgarh bypoll in rajasthan takes total to 100 seats</td>\n",
       "      <td>cong wins ramgarh bypoll in rajasthan takes total to 100 seats eostoken</td>\n",
       "    </tr>\n",
       "    <tr>\n",
       "      <th>10</th>\n",
       "      <td>up cousins fed human excreta for friendship with boys</td>\n",
       "      <td>two minor cousins uttar pradesh gorakhpur allegedly repeatedly burnt tongs forced eat human excreta family friends two boys school cousins revealed ordeal police child welfare committee brought back gorakhpur nepal fled escape torture</td>\n",
       "      <td>sostoken up cousins fed human excreta for friendship with boys</td>\n",
       "      <td>up cousins fed human excreta for friendship with boys eostoken</td>\n",
       "    </tr>\n",
       "  </tbody>\n",
       "</table>\n",
       "</div>"
      ],
      "text/plain": [
       "                                                            headlines  \\\n",
       "3   aegon life iterm insurance plan helps customers save tax            \n",
       "5   rahat fateh ali khan denies getting notice for smuggling currency   \n",
       "7   govt directs alok verma to join work day before his retirement      \n",
       "9   cong wins ramgarh bypoll in rajasthan takes total to 100 seats      \n",
       "10  up cousins fed human excreta for friendship with boys               \n",
       "\n",
       "                                                                                                                                                                                                                                                                          text  \\\n",
       "3   aegon life iterm insurance plan customers enjoy tax benefits premiums paid save 46 800 taxes plan provides life cover age 100 years also customers options insure critical illnesses disability accidental death benefit rider life cover age 80 years                       \n",
       "5   pakistani singer rahat fateh ali khan denied receiving notice enforcement directorate allegedly smuggling foreign currency india would better authorities would served notice first publicised reads press release issued behalf rahat statement called allegation bizarre   \n",
       "7   weeks ex cbi director alok verma told department personnel training consider retired home ministry asked join work last day fixed tenure director thursday ministry directed immediately join dg fire services post transferred removal cbi chief                            \n",
       "9   congress candidate shafia zubair ramgarh assembly seat rajasthan defeating bjp sukhwant singh margin 12 228 votes bypoll victory congress taken total 100 seats 200 member assembly election ramgarh seat delayed due death sitting mla bsp candidate laxman singh           \n",
       "10  two minor cousins uttar pradesh gorakhpur allegedly repeatedly burnt tongs forced eat human excreta family friends two boys school cousins revealed ordeal police child welfare committee brought back gorakhpur nepal fled escape torture                                   \n",
       "\n",
       "                                                                 decoder_input  \\\n",
       "3   sostoken aegon life iterm insurance plan helps customers save tax            \n",
       "5   sostoken rahat fateh ali khan denies getting notice for smuggling currency   \n",
       "7   sostoken govt directs alok verma to join work day before his retirement      \n",
       "9   sostoken cong wins ramgarh bypoll in rajasthan takes total to 100 seats      \n",
       "10  sostoken up cousins fed human excreta for friendship with boys               \n",
       "\n",
       "                                                                decoder_target  \n",
       "3   aegon life iterm insurance plan helps customers save tax eostoken           \n",
       "5   rahat fateh ali khan denies getting notice for smuggling currency eostoken  \n",
       "7   govt directs alok verma to join work day before his retirement eostoken     \n",
       "9   cong wins ramgarh bypoll in rajasthan takes total to 100 seats eostoken     \n",
       "10  up cousins fed human excreta for friendship with boys eostoken              "
      ]
     },
     "execution_count": 21,
     "metadata": {},
     "output_type": "execute_result"
    }
   ],
   "source": [
    "data['decoder_input'] = data['headlines'].apply(lambda x : 'sostoken '+ x)\n",
    "data['decoder_target'] = data['headlines'].apply(lambda x : x + ' eostoken')\n",
    "data.head()"
   ]
  },
  {
   "cell_type": "markdown",
   "metadata": {},
   "source": [
    "* Numpy로 저장"
   ]
  },
  {
   "cell_type": "code",
   "execution_count": 22,
   "metadata": {},
   "outputs": [],
   "source": [
    "encoder_input = np.array(data['text']) # 인코더의 입력\n",
    "decoder_input = np.array(data['decoder_input']) # 디코더의 입력\n",
    "decoder_target = np.array(data['decoder_target']) # 디코더의 레이블"
   ]
  },
  {
   "cell_type": "markdown",
   "metadata": {},
   "source": [
    "## 훈련, 테스트 데이터 분리"
   ]
  },
  {
   "cell_type": "markdown",
   "metadata": {},
   "source": [
    "* encoder_input 크기와 형태가 같은 순서가 섞인 정수 시퀀스를 만들어줌"
   ]
  },
  {
   "cell_type": "code",
   "execution_count": 23,
   "metadata": {},
   "outputs": [
    {
     "name": "stdout",
     "output_type": "stream",
     "text": [
      "[11257 12430 18828 ... 30790 50136 38100]\n"
     ]
    }
   ],
   "source": [
    "indices = np.arange(encoder_input.shape[0])\n",
    "np.random.shuffle(indices)\n",
    "print(indices)"
   ]
  },
  {
   "cell_type": "code",
   "execution_count": 24,
   "metadata": {},
   "outputs": [],
   "source": [
    "encoder_input = encoder_input[indices]\n",
    "decoder_input = decoder_input[indices]\n",
    "decoder_target = decoder_target[indices]"
   ]
  },
  {
   "cell_type": "markdown",
   "metadata": {},
   "source": [
    "* 카피한 원본 데이터의 index 또한 맞춰줍니다."
   ]
  },
  {
   "cell_type": "code",
   "execution_count": 25,
   "metadata": {},
   "outputs": [],
   "source": [
    "data_copy = data_copy.reindex(indices)"
   ]
  },
  {
   "cell_type": "code",
   "execution_count": 26,
   "metadata": {},
   "outputs": [
    {
     "name": "stdout",
     "output_type": "stream",
     "text": [
      "테스트 데이터의 수 : 15385\n"
     ]
    }
   ],
   "source": [
    "n_of_val = int(len(encoder_input)*0.2)\n",
    "print('테스트 데이터의 수 :', n_of_val)"
   ]
  },
  {
   "cell_type": "code",
   "execution_count": 27,
   "metadata": {},
   "outputs": [
    {
     "name": "stdout",
     "output_type": "stream",
     "text": [
      "훈련 데이터의 개수 : 61540\n",
      "훈련 레이블의 개수 : 61540\n",
      "테스트 데이터의 개수 : 15385\n",
      "테스트 레이블의 개수 : 15385\n",
      "복사 데이터 테스트 개수: (15385,)\n"
     ]
    }
   ],
   "source": [
    "encoder_input_train = encoder_input[:-n_of_val]\n",
    "decoder_input_train = decoder_input[:-n_of_val]\n",
    "decoder_target_train = decoder_target[:-n_of_val]\n",
    "\n",
    "encoder_input_test = encoder_input[-n_of_val:]\n",
    "decoder_input_test = decoder_input[-n_of_val:]\n",
    "decoder_target_test = decoder_target[-n_of_val:]\n",
    "\n",
    "data_copy_test = data_copy[-n_of_val:]\n",
    "\n",
    "print('훈련 데이터의 개수 :', len(encoder_input_train))\n",
    "print('훈련 레이블의 개수 :', len(decoder_input_train))\n",
    "print('테스트 데이터의 개수 :', len(encoder_input_test))\n",
    "print('테스트 레이블의 개수 :', len(decoder_input_test))\n",
    "print('복사 데이터 테스트 개수:', data_copy_test.shape)"
   ]
  },
  {
   "cell_type": "markdown",
   "metadata": {},
   "source": [
    "## 정수 인코딩"
   ]
  },
  {
   "cell_type": "markdown",
   "metadata": {},
   "source": [
    "### text 처리"
   ]
  },
  {
   "cell_type": "code",
   "execution_count": 28,
   "metadata": {},
   "outputs": [],
   "source": [
    "src_tokenizer = Tokenizer()\n",
    "src_tokenizer.fit_on_texts(encoder_input_train)"
   ]
  },
  {
   "cell_type": "markdown",
   "metadata": {},
   "source": [
    "* 단어의 등장 빈도수에 따라 나눠봅시다.\n",
    "* tokenizer.word_index : 단어 집합\n",
    "* tokenizer.word_counts : 단어별 빈도수\n",
    "* tokenizer.word_counts.items() : 단어 : 빈도수"
   ]
  },
  {
   "cell_type": "code",
   "execution_count": 29,
   "metadata": {},
   "outputs": [
    {
     "name": "stdout",
     "output_type": "stream",
     "text": [
      "단어 집합(vocabulary)의 크기 : 63668\n",
      "등장 빈도가 9번 이하인 희귀 단어의 수: 47144\n",
      "단어 집합에서 희귀 단어를 제외시킬 경우의 단어 집합의 크기 16524\n",
      "단어 집합에서 희귀 단어의 비율: 74.04661682477854\n",
      "전체 등장 빈도에서 희귀 단어 등장 빈도 비율: 5.392576832716929\n"
     ]
    }
   ],
   "source": [
    "threshold = 10\n",
    "total_cnt = len(src_tokenizer.word_index)\n",
    "rare_cnt = 0\n",
    "total_freq = 0\n",
    "rare_freq = 0\n",
    "\n",
    "for key, value in src_tokenizer.word_counts.items():\n",
    "    total_freq = total_freq + value\n",
    "\n",
    "    if(value < threshold):\n",
    "        rare_cnt = rare_cnt + 1\n",
    "        rare_freq = rare_freq + value\n",
    "\n",
    "print('단어 집합(vocabulary)의 크기 :', total_cnt)\n",
    "print('등장 빈도가 %s번 이하인 희귀 단어의 수: %s'%(threshold - 1, rare_cnt))\n",
    "print('단어 집합에서 희귀 단어를 제외시킬 경우의 단어 집합의 크기 %s'%(total_cnt - rare_cnt))\n",
    "print(\"단어 집합에서 희귀 단어의 비율:\", (rare_cnt / total_cnt)*100)\n",
    "print(\"전체 등장 빈도에서 희귀 단어 등장 빈도 비율:\", (rare_freq / total_freq)*100)"
   ]
  },
  {
   "cell_type": "code",
   "execution_count": 30,
   "metadata": {},
   "outputs": [],
   "source": [
    "src_vocab = 16000\n",
    "src_tokenizer = Tokenizer(num_words=src_vocab)\n",
    "src_tokenizer.fit_on_texts(encoder_input_train)"
   ]
  },
  {
   "cell_type": "markdown",
   "metadata": {},
   "source": [
    "* texts_to_sequences() : 텍스트의 단어들을 모두 정수로 변환하는 정수 인코딩"
   ]
  },
  {
   "cell_type": "code",
   "execution_count": 31,
   "metadata": {},
   "outputs": [
    {
     "name": "stdout",
     "output_type": "stream",
     "text": [
      "[[159, 122, 825, 291, 848, 78, 4033, 10, 2870, 1, 291, 848, 241, 2403, 429, 41, 312, 2870, 1, 241, 395, 3966, 42, 1390, 770, 9032, 2544], [8461, 7563, 5222, 1153, 42, 13113, 377, 6731, 42, 1848, 1001, 900, 28, 252, 5, 276, 1021, 86, 7564, 41, 32, 5222, 2001, 900, 25, 234, 317, 5945, 377, 6731, 84], [326, 89, 944, 82, 742, 3, 12, 2435, 301, 514, 417, 116, 1450, 210, 581, 4247, 210, 11048, 326, 3396, 2834, 857, 301, 6, 1761, 944, 1570, 2396, 326, 3088, 3485, 12619]]\n"
     ]
    }
   ],
   "source": [
    "encoder_input_train = src_tokenizer.texts_to_sequences(encoder_input_train) \n",
    "encoder_input_test = src_tokenizer.texts_to_sequences(encoder_input_test)\n",
    "\n",
    "print(encoder_input_train[:3])"
   ]
  },
  {
   "cell_type": "markdown",
   "metadata": {},
   "source": [
    "### Summary 적용"
   ]
  },
  {
   "cell_type": "code",
   "execution_count": 32,
   "metadata": {},
   "outputs": [],
   "source": [
    "tar_tokenizer = Tokenizer()\n",
    "tar_tokenizer.fit_on_texts(decoder_input_train)"
   ]
  },
  {
   "cell_type": "code",
   "execution_count": 33,
   "metadata": {},
   "outputs": [
    {
     "name": "stdout",
     "output_type": "stream",
     "text": [
      "단어 집합(vocabulary)의 크기 : 28865\n",
      "등장 빈도가 8번 이하인 희귀 단어의 수: 21482\n",
      "단어 집합에서 희귀 단어를 제외시킬 경우의 단어 집합의 크기 7383\n",
      "단어 집합에서 희귀 단어의 비율: 74.42231075697211\n",
      "전체 등장 빈도에서 희귀 단어 등장 빈도 비율: 8.13368093866048\n"
     ]
    }
   ],
   "source": [
    "threshold = 9\n",
    "total_cnt = len(tar_tokenizer.word_index)\n",
    "rare_cnt = 0\n",
    "total_freq = 0\n",
    "rare_freq = 0\n",
    "\n",
    "for key, value in tar_tokenizer.word_counts.items():\n",
    "    total_freq = total_freq + value\n",
    "\n",
    "    if(value < threshold):\n",
    "        rare_cnt = rare_cnt + 1\n",
    "        rare_freq = rare_freq + value\n",
    "\n",
    "print('단어 집합(vocabulary)의 크기 :', total_cnt)\n",
    "print('등장 빈도가 %s번 이하인 희귀 단어의 수: %s'%(threshold - 1, rare_cnt))\n",
    "print('단어 집합에서 희귀 단어를 제외시킬 경우의 단어 집합의 크기 %s'%(total_cnt - rare_cnt))\n",
    "print(\"단어 집합에서 희귀 단어의 비율:\", (rare_cnt / total_cnt)*100)\n",
    "print(\"전체 등장 빈도에서 희귀 단어 등장 빈도 비율:\", (rare_freq / total_freq)*100)"
   ]
  },
  {
   "cell_type": "markdown",
   "metadata": {},
   "source": [
    "* 위 값을 통해 7000정도 잡습니다."
   ]
  },
  {
   "cell_type": "code",
   "execution_count": 34,
   "metadata": {},
   "outputs": [
    {
     "name": "stdout",
     "output_type": "stream",
     "text": [
      "input\n",
      "input  [[1, 393, 559, 78, 128, 2321, 206, 3, 963, 92, 1310], [1, 15, 189, 1432, 262, 4216, 13, 1843, 567], [1, 1344, 423, 1070, 7, 5189, 1631], [1, 240, 56, 182, 2368, 4, 3135, 114, 847, 53, 158], [1, 3136, 611, 378, 277, 1311, 543, 347]]\n",
      "target\n",
      "decoder  [[393, 559, 78, 128, 2321, 206, 3, 963, 92, 1310, 2], [15, 189, 1432, 262, 4216, 13, 1843, 567, 2], [1344, 423, 1070, 7, 5189, 1631, 2], [240, 56, 182, 2368, 4, 3135, 114, 847, 53, 158, 2], [3136, 611, 378, 277, 1311, 543, 347, 2]]\n"
     ]
    }
   ],
   "source": [
    "tar_vocab = 7000\n",
    "tar_tokenizer = Tokenizer(num_words=tar_vocab) \n",
    "tar_tokenizer.fit_on_texts(decoder_input_train)\n",
    "tar_tokenizer.fit_on_texts(decoder_target_train)\n",
    "\n",
    "# 텍스트 시퀀스를 정수 시퀀스로 변환\n",
    "decoder_input_train = tar_tokenizer.texts_to_sequences(decoder_input_train) \n",
    "decoder_target_train = tar_tokenizer.texts_to_sequences(decoder_target_train)\n",
    "decoder_input_test = tar_tokenizer.texts_to_sequences(decoder_input_test)\n",
    "decoder_target_test = tar_tokenizer.texts_to_sequences(decoder_target_test)\n",
    "\n",
    "# 잘 변환되었는지 확인\n",
    "print('input')\n",
    "print('input ',decoder_input_train[:5])\n",
    "print('target')\n",
    "print('decoder ',decoder_target_train[:5])"
   ]
  },
  {
   "cell_type": "markdown",
   "metadata": {},
   "source": [
    "### 빈 샘플 삭제"
   ]
  },
  {
   "cell_type": "code",
   "execution_count": 35,
   "metadata": {},
   "outputs": [
    {
     "name": "stdout",
     "output_type": "stream",
     "text": [
      "삭제할 훈련 데이터의 개수 : 1\n",
      "삭제할 테스트 데이터의 개수 : 0\n",
      "훈련 데이터의 개수 : 61539\n",
      "훈련 레이블의 개수 : 61539\n",
      "테스트 데이터의 개수 : 15385\n",
      "테스트 레이블의 개수 : 15385\n"
     ]
    }
   ],
   "source": [
    "drop_train = [index for index, sentence in enumerate(decoder_input_train) if len(sentence) == 1]\n",
    "drop_test = [index for index, sentence in enumerate(decoder_input_test) if len(sentence) == 1]\n",
    "\n",
    "print('삭제할 훈련 데이터의 개수 :', len(drop_train))\n",
    "print('삭제할 테스트 데이터의 개수 :', len(drop_test))\n",
    "\n",
    "encoder_input_train = [sentence for index, sentence in enumerate(encoder_input_train) if index not in drop_train]\n",
    "decoder_input_train = [sentence for index, sentence in enumerate(decoder_input_train) if index not in drop_train]\n",
    "decoder_target_train = [sentence for index, sentence in enumerate(decoder_target_train) if index not in drop_train]\n",
    "\n",
    "encoder_input_test = [sentence for index, sentence in enumerate(encoder_input_test) if index not in drop_test]\n",
    "decoder_input_test = [sentence for index, sentence in enumerate(decoder_input_test) if index not in drop_test]\n",
    "decoder_target_test = [sentence for index, sentence in enumerate(decoder_target_test) if index not in drop_test]\n",
    "\n",
    "print('훈련 데이터의 개수 :', len(encoder_input_train))\n",
    "print('훈련 레이블의 개수 :', len(decoder_input_train))\n",
    "print('테스트 데이터의 개수 :', len(encoder_input_test))\n",
    "print('테스트 레이블의 개수 :', len(decoder_input_test))"
   ]
  },
  {
   "cell_type": "markdown",
   "metadata": {},
   "source": [
    "### 패딩하기"
   ]
  },
  {
   "cell_type": "code",
   "execution_count": 36,
   "metadata": {},
   "outputs": [],
   "source": [
    "encoder_input_train = pad_sequences(encoder_input_train, maxlen=text_max_len, padding='post')\n",
    "encoder_input_test = pad_sequences(encoder_input_test, maxlen=text_max_len, padding='post')\n",
    "decoder_input_train = pad_sequences(decoder_input_train, maxlen=headline_max_len, padding='post')\n",
    "decoder_target_train = pad_sequences(decoder_target_train, maxlen=headline_max_len, padding='post')\n",
    "decoder_input_test = pad_sequences(decoder_input_test, maxlen=headline_max_len, padding='post')\n",
    "decoder_target_test = pad_sequences(decoder_target_test, maxlen=headline_max_len, padding='post')"
   ]
  },
  {
   "cell_type": "markdown",
   "metadata": {},
   "source": [
    "## 모델 설계"
   ]
  },
  {
   "cell_type": "markdown",
   "metadata": {},
   "source": [
    "### Encoder"
   ]
  },
  {
   "cell_type": "code",
   "execution_count": 37,
   "metadata": {},
   "outputs": [
    {
     "name": "stderr",
     "output_type": "stream",
     "text": [
      "2022-09-02 22:55:48.849945: I tensorflow/stream_executor/cuda/cuda_gpu_executor.cc:975] successful NUMA node read from SysFS had negative value (-1), but there must be at least one NUMA node, so returning NUMA node zero\n",
      "2022-09-02 22:55:48.924873: I tensorflow/stream_executor/cuda/cuda_gpu_executor.cc:975] successful NUMA node read from SysFS had negative value (-1), but there must be at least one NUMA node, so returning NUMA node zero\n",
      "2022-09-02 22:55:48.925033: I tensorflow/stream_executor/cuda/cuda_gpu_executor.cc:975] successful NUMA node read from SysFS had negative value (-1), but there must be at least one NUMA node, so returning NUMA node zero\n",
      "2022-09-02 22:55:48.925869: I tensorflow/core/platform/cpu_feature_guard.cc:193] This TensorFlow binary is optimized with oneAPI Deep Neural Network Library (oneDNN) to use the following CPU instructions in performance-critical operations:  AVX2 FMA\n",
      "To enable them in other operations, rebuild TensorFlow with the appropriate compiler flags.\n",
      "2022-09-02 22:55:48.926768: I tensorflow/stream_executor/cuda/cuda_gpu_executor.cc:975] successful NUMA node read from SysFS had negative value (-1), but there must be at least one NUMA node, so returning NUMA node zero\n",
      "2022-09-02 22:55:48.926955: I tensorflow/stream_executor/cuda/cuda_gpu_executor.cc:975] successful NUMA node read from SysFS had negative value (-1), but there must be at least one NUMA node, so returning NUMA node zero\n",
      "2022-09-02 22:55:48.927113: I tensorflow/stream_executor/cuda/cuda_gpu_executor.cc:975] successful NUMA node read from SysFS had negative value (-1), but there must be at least one NUMA node, so returning NUMA node zero\n",
      "2022-09-02 22:55:49.679178: I tensorflow/stream_executor/cuda/cuda_gpu_executor.cc:975] successful NUMA node read from SysFS had negative value (-1), but there must be at least one NUMA node, so returning NUMA node zero\n",
      "2022-09-02 22:55:49.679387: I tensorflow/stream_executor/cuda/cuda_gpu_executor.cc:975] successful NUMA node read from SysFS had negative value (-1), but there must be at least one NUMA node, so returning NUMA node zero\n",
      "2022-09-02 22:55:49.679503: I tensorflow/stream_executor/cuda/cuda_gpu_executor.cc:975] successful NUMA node read from SysFS had negative value (-1), but there must be at least one NUMA node, so returning NUMA node zero\n",
      "2022-09-02 22:55:49.679597: I tensorflow/core/common_runtime/gpu/gpu_device.cc:1532] Created device /job:localhost/replica:0/task:0/device:GPU:0 with 6668 MB memory:  -> device: 0, name: NVIDIA GeForce RTX 2070, pci bus id: 0000:01:00.0, compute capability: 7.5\n"
     ]
    }
   ],
   "source": [
    "from tensorflow.keras.layers import Input, LSTM, Embedding, Dense, Concatenate, TimeDistributed\n",
    "from tensorflow.keras.models import Model\n",
    "from tensorflow.keras.callbacks import EarlyStopping, ModelCheckpoint\n",
    "\n",
    "embedding_dim = 128\n",
    "hidden_size = 256\n",
    "\n",
    "encoder_inputs = Input(shape=(text_max_len,))\n",
    "\n",
    "enc_emb = Embedding(src_vocab, embedding_dim)(encoder_inputs)\n",
    "\n",
    "# encoder_lstm1 = LSTM(hidden_size, return_sequences=True, return_state=True ,dropout = 0.4, recurrent_dropout = 0.4)\n",
    "encoder_lstm1 = LSTM(hidden_size, return_sequences=True, return_state=True ,dropout = 0.4)\n",
    "encoder_output1, state_h1, state_c1 = encoder_lstm1(enc_emb)\n",
    "\n",
    "# encoder_lstm2 = LSTM(hidden_size, return_sequences=True, return_state=True, dropout=0.4, recurrent_dropout=0.4)\n",
    "encoder_lstm2 = LSTM(hidden_size, return_sequences=True, return_state=True, dropout=0.4)\n",
    "encoder_output2, state_h2, state_c2 = encoder_lstm2(encoder_output1)\n",
    "\n",
    "# encoder_lstm3 = LSTM(hidden_size, return_state=True, return_sequences=True, dropout=0.4, recurrent_dropout=0.4)\n",
    "encoder_lstm3 = LSTM(hidden_size, return_state=True, return_sequences=True, dropout=0.4)\n",
    "encoder_outputs, state_h, state_c= encoder_lstm3(encoder_output2)"
   ]
  },
  {
   "cell_type": "markdown",
   "metadata": {},
   "source": [
    "### Decoder"
   ]
  },
  {
   "cell_type": "markdown",
   "metadata": {},
   "source": [
    "* Decoder 설계시 Encoder와 거의 유사하지만 initial_state = h ,c 로 둔다."
   ]
  },
  {
   "cell_type": "code",
   "execution_count": 38,
   "metadata": {},
   "outputs": [],
   "source": [
    "decoder_inputs = Input(shape=(None,))\n",
    "\n",
    "dec_emb_layer = Embedding(tar_vocab, embedding_dim)\n",
    "dec_emb = dec_emb_layer(decoder_inputs)\n",
    "\n",
    "# decoder_lstm = LSTM(hidden_size, return_sequences=True, return_state=True, dropout=0.4, recurrent_dropout=0.2)\n",
    "decoder_lstm = LSTM(hidden_size, return_sequences=True, return_state=True, dropout=0.4)\n",
    "decoder_outputs, _, _ = decoder_lstm(dec_emb, initial_state=[state_h, state_c])"
   ]
  },
  {
   "cell_type": "markdown",
   "metadata": {},
   "source": [
    "* 출력 층"
   ]
  },
  {
   "cell_type": "code",
   "execution_count": 39,
   "metadata": {},
   "outputs": [
    {
     "name": "stdout",
     "output_type": "stream",
     "text": [
      "Model: \"model\"\n",
      "__________________________________________________________________________________________________\n",
      " Layer (type)                   Output Shape         Param #     Connected to                     \n",
      "==================================================================================================\n",
      " input_1 (InputLayer)           [(None, 40)]         0           []                               \n",
      "                                                                                                  \n",
      " embedding (Embedding)          (None, 40, 128)      2048000     ['input_1[0][0]']                \n",
      "                                                                                                  \n",
      " lstm (LSTM)                    [(None, 40, 256),    394240      ['embedding[0][0]']              \n",
      "                                 (None, 256),                                                     \n",
      "                                 (None, 256)]                                                     \n",
      "                                                                                                  \n",
      " input_2 (InputLayer)           [(None, None)]       0           []                               \n",
      "                                                                                                  \n",
      " lstm_1 (LSTM)                  [(None, 40, 256),    525312      ['lstm[0][0]']                   \n",
      "                                 (None, 256),                                                     \n",
      "                                 (None, 256)]                                                     \n",
      "                                                                                                  \n",
      " embedding_1 (Embedding)        (None, None, 128)    896000      ['input_2[0][0]']                \n",
      "                                                                                                  \n",
      " lstm_2 (LSTM)                  [(None, 40, 256),    525312      ['lstm_1[0][0]']                 \n",
      "                                 (None, 256),                                                     \n",
      "                                 (None, 256)]                                                     \n",
      "                                                                                                  \n",
      " lstm_3 (LSTM)                  [(None, None, 256),  394240      ['embedding_1[0][0]',            \n",
      "                                 (None, 256),                     'lstm_2[0][1]',                 \n",
      "                                 (None, 256)]                     'lstm_2[0][2]']                 \n",
      "                                                                                                  \n",
      " dense (Dense)                  (None, None, 7000)   1799000     ['lstm_3[0][0]']                 \n",
      "                                                                                                  \n",
      "==================================================================================================\n",
      "Total params: 6,582,104\n",
      "Trainable params: 6,582,104\n",
      "Non-trainable params: 0\n",
      "__________________________________________________________________________________________________\n"
     ]
    }
   ],
   "source": [
    "decoder_softmax_layer = Dense(tar_vocab, activation='softmax')\n",
    "decoder_softmax_outputs = decoder_softmax_layer(decoder_outputs) \n",
    "\n",
    "model = Model([encoder_inputs, decoder_inputs], decoder_softmax_outputs)\n",
    "model.summary()"
   ]
  },
  {
   "cell_type": "markdown",
   "metadata": {},
   "source": [
    "### 모델 확인"
   ]
  },
  {
   "cell_type": "code",
   "execution_count": 40,
   "metadata": {},
   "outputs": [
    {
     "data": {
      "image/png": "[encoded data removed]",
      "text/plain": [
       "<IPython.core.display.Image object>"
      ]
     },
     "execution_count": 40,
     "metadata": {},
     "output_type": "execute_result"
    }
   ],
   "source": [
    "from tensorflow.keras.utils import plot_model\n",
    "\n",
    "plot_model(model, show_shapes=True)"
   ]
  },
  {
   "cell_type": "markdown",
   "metadata": {},
   "source": [
    "### Attention Mechanism"
   ]
  },
  {
   "cell_type": "code",
   "execution_count": 41,
   "metadata": {},
   "outputs": [
    {
     "name": "stdout",
     "output_type": "stream",
     "text": [
      "Model: \"model_1\"\n",
      "__________________________________________________________________________________________________\n",
      " Layer (type)                   Output Shape         Param #     Connected to                     \n",
      "==================================================================================================\n",
      " input_1 (InputLayer)           [(None, 40)]         0           []                               \n",
      "                                                                                                  \n",
      " embedding (Embedding)          (None, 40, 128)      2048000     ['input_1[0][0]']                \n",
      "                                                                                                  \n",
      " lstm (LSTM)                    [(None, 40, 256),    394240      ['embedding[0][0]']              \n",
      "                                 (None, 256),                                                     \n",
      "                                 (None, 256)]                                                     \n",
      "                                                                                                  \n",
      " input_2 (InputLayer)           [(None, None)]       0           []                               \n",
      "                                                                                                  \n",
      " lstm_1 (LSTM)                  [(None, 40, 256),    525312      ['lstm[0][0]']                   \n",
      "                                 (None, 256),                                                     \n",
      "                                 (None, 256)]                                                     \n",
      "                                                                                                  \n",
      " embedding_1 (Embedding)        (None, None, 128)    896000      ['input_2[0][0]']                \n",
      "                                                                                                  \n",
      " lstm_2 (LSTM)                  [(None, 40, 256),    525312      ['lstm_1[0][0]']                 \n",
      "                                 (None, 256),                                                     \n",
      "                                 (None, 256)]                                                     \n",
      "                                                                                                  \n",
      " lstm_3 (LSTM)                  [(None, None, 256),  394240      ['embedding_1[0][0]',            \n",
      "                                 (None, 256),                     'lstm_2[0][1]',                 \n",
      "                                 (None, 256)]                     'lstm_2[0][2]']                 \n",
      "                                                                                                  \n",
      " attention_layer (AdditiveAtten  (None, None, 256)   256         ['lstm_3[0][0]',                 \n",
      " tion)                                                            'lstm_2[0][0]']                 \n",
      "                                                                                                  \n",
      " concat_layer (Concatenate)     (None, None, 512)    0           ['lstm_3[0][0]',                 \n",
      "                                                                  'attention_layer[0][0]']        \n",
      "                                                                                                  \n",
      " dense_1 (Dense)                (None, None, 7000)   3591000     ['concat_layer[0][0]']           \n",
      "                                                                                                  \n",
      "==================================================================================================\n",
      "Total params: 8,374,360\n",
      "Trainable params: 8,374,360\n",
      "Non-trainable params: 0\n",
      "__________________________________________________________________________________________________\n"
     ]
    }
   ],
   "source": [
    "from tensorflow.keras.layers import AdditiveAttention\n",
    "\n",
    "attn_layer = AdditiveAttention(name='attention_layer')\n",
    "attn_out = attn_layer([decoder_outputs, encoder_outputs])\n",
    "\n",
    "decoder_concat_input = Concatenate(axis=-1, name='concat_layer')([decoder_outputs, attn_out])\n",
    "decoder_softmax_layer = Dense(tar_vocab, activation='softmax')\n",
    "decoder_softmax_outputs = decoder_softmax_layer(decoder_concat_input)\n",
    "\n",
    "model = Model([encoder_inputs, decoder_inputs], decoder_softmax_outputs)\n",
    "model.summary()"
   ]
  },
  {
   "cell_type": "markdown",
   "metadata": {},
   "source": [
    "## 모델 훈련"
   ]
  },
  {
   "cell_type": "code",
   "execution_count": 42,
   "metadata": {},
   "outputs": [
    {
     "name": "stdout",
     "output_type": "stream",
     "text": [
      "Epoch 1/50\n"
     ]
    },
    {
     "name": "stderr",
     "output_type": "stream",
     "text": [
      "2022-09-02 22:55:55.683474: W tensorflow/core/grappler/costs/op_level_cost_estimator.cc:690] Error in PredictCost() for the op: op: \"Softmax\" attr { key: \"T\" value { type: DT_FLOAT } } inputs { dtype: DT_FLOAT shape { unknown_rank: true } } device { type: \"GPU\" vendor: \"NVIDIA\" model: \"NVIDIA GeForce RTX 2070\" frequency: 1455 num_cores: 36 environment { key: \"architecture\" value: \"7.5\" } environment { key: \"cuda\" value: \"11020\" } environment { key: \"cudnn\" value: \"8100\" } num_registers: 65536 l1_cache_size: 24576 l2_cache_size: 4194304 shared_memory_size_per_multiprocessor: 65536 memory_size: 6992625664 bandwidth: 352064000 } outputs { dtype: DT_FLOAT shape { unknown_rank: true } }\n",
      "2022-09-02 22:55:57.169117: I tensorflow/stream_executor/cuda/cuda_dnn.cc:384] Loaded cuDNN version 8204\n"
     ]
    },
    {
     "name": "stdout",
     "output_type": "stream",
     "text": [
      "240/241 [============================>.] - ETA: 0s - loss: 5.8358"
     ]
    },
    {
     "name": "stderr",
     "output_type": "stream",
     "text": [
      "2022-09-02 22:56:13.031566: W tensorflow/core/grappler/costs/op_level_cost_estimator.cc:690] Error in PredictCost() for the op: op: \"Softmax\" attr { key: \"T\" value { type: DT_FLOAT } } inputs { dtype: DT_FLOAT shape { unknown_rank: true } } device { type: \"GPU\" vendor: \"NVIDIA\" model: \"NVIDIA GeForce RTX 2070\" frequency: 1455 num_cores: 36 environment { key: \"architecture\" value: \"7.5\" } environment { key: \"cuda\" value: \"11020\" } environment { key: \"cudnn\" value: \"8100\" } num_registers: 65536 l1_cache_size: 24576 l2_cache_size: 4194304 shared_memory_size_per_multiprocessor: 65536 memory_size: 6992625664 bandwidth: 352064000 } outputs { dtype: DT_FLOAT shape { unknown_rank: true } }\n"
     ]
    },
    {
     "name": "stdout",
     "output_type": "stream",
     "text": [
      "241/241 [==============================] - 23s 65ms/step - loss: 5.8354 - val_loss: 5.4358\n",
      "Epoch 2/50\n",
      "241/241 [==============================] - 14s 58ms/step - loss: 5.3212 - val_loss: 5.1232\n",
      "Epoch 3/50\n",
      "241/241 [==============================] - 14s 58ms/step - loss: 5.0025 - val_loss: 4.8482\n",
      "Epoch 4/50\n",
      "241/241 [==============================] - 14s 58ms/step - loss: 4.7304 - val_loss: 4.6621\n",
      "Epoch 5/50\n",
      "241/241 [==============================] - 14s 58ms/step - loss: 4.5089 - val_loss: 4.4851\n",
      "Epoch 6/50\n",
      "241/241 [==============================] - 14s 59ms/step - loss: 4.3185 - val_loss: 4.3669\n",
      "Epoch 7/50\n",
      "241/241 [==============================] - 14s 59ms/step - loss: 4.1564 - val_loss: 4.2703\n",
      "Epoch 8/50\n",
      "241/241 [==============================] - 14s 60ms/step - loss: 4.0125 - val_loss: 4.1980\n",
      "Epoch 9/50\n",
      "241/241 [==============================] - 14s 60ms/step - loss: 3.8857 - val_loss: 4.1371\n",
      "Epoch 10/50\n",
      "241/241 [==============================] - 14s 60ms/step - loss: 3.7716 - val_loss: 4.0734\n",
      "Epoch 11/50\n",
      "241/241 [==============================] - 14s 59ms/step - loss: 3.6674 - val_loss: 4.0311\n",
      "Epoch 12/50\n",
      "241/241 [==============================] - 14s 59ms/step - loss: 3.5719 - val_loss: 3.9955\n",
      "Epoch 13/50\n",
      "241/241 [==============================] - 14s 59ms/step - loss: 3.4843 - val_loss: 3.9703\n",
      "Epoch 14/50\n",
      "241/241 [==============================] - 14s 59ms/step - loss: 3.4046 - val_loss: 3.9441\n",
      "Epoch 15/50\n",
      "241/241 [==============================] - 14s 59ms/step - loss: 3.3294 - val_loss: 3.9254\n",
      "Epoch 16/50\n",
      "241/241 [==============================] - 14s 60ms/step - loss: 3.2602 - val_loss: 3.9164\n",
      "Epoch 17/50\n",
      "241/241 [==============================] - 14s 59ms/step - loss: 3.1939 - val_loss: 3.9040\n",
      "Epoch 18/50\n",
      "241/241 [==============================] - 14s 60ms/step - loss: 3.1311 - val_loss: 3.8995\n",
      "Epoch 19/50\n",
      "241/241 [==============================] - 14s 60ms/step - loss: 3.0740 - val_loss: 3.8954\n",
      "Epoch 20/50\n",
      "241/241 [==============================] - 14s 59ms/step - loss: 3.0185 - val_loss: 3.8855\n",
      "Epoch 21/50\n",
      "241/241 [==============================] - 14s 60ms/step - loss: 2.9655 - val_loss: 3.8830\n",
      "Epoch 22/50\n",
      "241/241 [==============================] - 14s 60ms/step - loss: 2.9147 - val_loss: 3.8915\n",
      "Epoch 23/50\n",
      "241/241 [==============================] - 14s 59ms/step - loss: 2.8681 - val_loss: 3.8865\n",
      "Epoch 23: early stopping\n"
     ]
    }
   ],
   "source": [
    "model.compile(optimizer='rmsprop', loss='sparse_categorical_crossentropy')\n",
    "es = EarlyStopping(monitor='val_loss', patience=2, verbose=1)\n",
    "history = model.fit(x=[encoder_input_train, decoder_input_train], y=decoder_target_train, \\\n",
    "          validation_data=([encoder_input_test, decoder_input_test], decoder_target_test), \\\n",
    "          batch_size=256, callbacks=[es], epochs=50)"
   ]
  },
  {
   "cell_type": "code",
   "execution_count": 43,
   "metadata": {},
   "outputs": [
    {
     "data": {
      "image/png": "[encoded data removed]",
      "text/plain": [
       "<Figure size 432x288 with 1 Axes>"
      ]
     },
     "metadata": {
      "needs_background": "light"
     },
     "output_type": "display_data"
    }
   ],
   "source": [
    "plt.plot(history.history['loss'], label='train')\n",
    "plt.plot(history.history['val_loss'], label='test')\n",
    "plt.legend()\n",
    "plt.show()"
   ]
  },
  {
   "cell_type": "markdown",
   "metadata": {},
   "source": [
    "## Inference Model"
   ]
  },
  {
   "cell_type": "markdown",
   "metadata": {},
   "source": [
    "### 3개의 사전 준비"
   ]
  },
  {
   "cell_type": "code",
   "execution_count": 44,
   "metadata": {},
   "outputs": [],
   "source": [
    "src_index_to_word = src_tokenizer.index_word\n",
    "tar_word_to_index = tar_tokenizer.word_index\n",
    "tar_index_to_word = tar_tokenizer.index_word"
   ]
  },
  {
   "cell_type": "markdown",
   "metadata": {},
   "source": [
    "### 모델 설계"
   ]
  },
  {
   "cell_type": "code",
   "execution_count": 45,
   "metadata": {},
   "outputs": [],
   "source": [
    "encoder_model = Model(inputs=encoder_inputs, outputs=[encoder_outputs, state_h, state_c])\n",
    "\n",
    "decoder_state_input_h = Input(shape=(hidden_size,))\n",
    "decoder_state_input_c = Input(shape=(hidden_size,))\n",
    "\n",
    "dec_emb2 = dec_emb_layer(decoder_inputs)\n",
    "\n",
    "decoder_outputs2, state_h2, state_c2 = decoder_lstm(dec_emb2, initial_state=[decoder_state_input_h, decoder_state_input_c])"
   ]
  },
  {
   "cell_type": "markdown",
   "metadata": {},
   "source": [
    "### Attention Mechanism"
   ]
  },
  {
   "cell_type": "code",
   "execution_count": 46,
   "metadata": {},
   "outputs": [],
   "source": [
    "decoder_hidden_state_input = Input(shape=(text_max_len, hidden_size))\n",
    "attn_out_inf = attn_layer([decoder_outputs2, decoder_hidden_state_input])\n",
    "decoder_inf_concat = Concatenate(axis=-1, name='concat')([decoder_outputs2, attn_out_inf])\n",
    "\n",
    "decoder_outputs2 = decoder_softmax_layer(decoder_inf_concat) \n",
    "\n",
    "decoder_model = Model(\n",
    "    [decoder_inputs] + [decoder_hidden_state_input,decoder_state_input_h, decoder_state_input_c],\n",
    "    [decoder_outputs2] + [state_h2, state_c2])"
   ]
  },
  {
   "cell_type": "markdown",
   "metadata": {},
   "source": [
    "### 함수 설정"
   ]
  },
  {
   "cell_type": "code",
   "execution_count": 47,
   "metadata": {},
   "outputs": [],
   "source": [
    "def decode_sequence(input_seq):\n",
    "    e_out, e_h, e_c = encoder_model.predict(input_seq, verbose = 0)\n",
    "\n",
    "    target_seq = np.zeros((1,1))\n",
    "    target_seq[0, 0] = tar_word_to_index['sostoken']\n",
    "\n",
    "    stop_condition = False\n",
    "    decoded_sentence = ''\n",
    "    while not stop_condition:\n",
    "        output_tokens, h, c = decoder_model.predict([target_seq] + [e_out, e_h, e_c], verbose = 0)\n",
    "        sampled_token_index = np.argmax(output_tokens[0, -1, :])\n",
    "        sampled_token = tar_index_to_word[sampled_token_index]\n",
    "\n",
    "        if (sampled_token!='eostoken'):\n",
    "            decoded_sentence += ' '+sampled_token\n",
    "\n",
    "        if (sampled_token == 'eostoken'  or len(decoded_sentence.split()) >= (headline_max_len-1)):\n",
    "            stop_condition = True\n",
    "\n",
    "        target_seq = np.zeros((1,1))\n",
    "        target_seq[0, 0] = sampled_token_index\n",
    "\n",
    "        e_h, e_c = h, c\n",
    "\n",
    "    return decoded_sentence"
   ]
  },
  {
   "cell_type": "markdown",
   "metadata": {},
   "source": [
    "## 모델 테스트"
   ]
  },
  {
   "cell_type": "markdown",
   "metadata": {},
   "source": [
    "### 정수 -> 텍스트"
   ]
  },
  {
   "cell_type": "code",
   "execution_count": 48,
   "metadata": {},
   "outputs": [],
   "source": [
    "def seq2text(input_seq):\n",
    "    temp=''\n",
    "    for i in input_seq:\n",
    "        if (i!=0):\n",
    "            temp = temp + src_index_to_word[i]+' '\n",
    "    return temp\n",
    "\n",
    "def seq2headline(input_seq):\n",
    "    temp=''\n",
    "    for i in input_seq:\n",
    "        if ((i!=0 and i!=tar_word_to_index['sostoken']) and i!=tar_word_to_index['eostoken']):\n",
    "            temp = temp + tar_index_to_word[i] + ' '\n",
    "    return temp"
   ]
  },
  {
   "cell_type": "code",
   "execution_count": 59,
   "metadata": {},
   "outputs": [
    {
     "name": "stdout",
     "output_type": "stream",
     "text": [
      "원문 : haryana vidhan sabha speaker kanwar pal monday expelled 15 congress mlas assembly day created ruckus demanding discussion irrigation scheme mlas continued arguing speaker despite assurance hold discussions issue also shouted anti government slogans exiting assembly \n",
      "실제 요약 : 15 congress mlas expelled from haryana assembly over chaos \n",
      "예측 요약 :  gujarat assembly speaker mlas from assembly\n",
      "\n",
      "\n",
      "원문 : nthe centre sanctioned crore punjab government 100 1984 anti sikh riot victims migrated state centre earlier planned compensation november 2016 state unable rehabilitation accordance recommendations made committee led justice \n",
      "실제 요약 : centre clears crore for over 100 1984 sikh riot victims \n",
      "예측 요약 :  over crore in delhi govt\n",
      "\n",
      "\n",
      "원문 : kings xi punjab player martin took single handed catch boundary dismiss mumbai indians thursday hit shot glenn maxwell bowling towards long boundary jumped took catch right hand notably maxwell delivery short ball \n",
      "실제 요약 : kxip to take one handed catch at boundary \n",
      "예측 요약 :  maxwell takes catch to catch\n",
      "\n",
      "\n",
      "원문 : municipal elections held syria sunday first time since civil war broke country 2011 40 000 candidates competing 18 400 council seats syrian state media reported areas outside government control including kurdish held regions excluded polls \n",
      "실제 요약 : syria holds 1st local elections since the start of civil war \n",
      "예측 요약 :  syrian war war rises to 20 years\n",
      "\n",
      "\n",
      "원문 : russia federal security service arrested members isis cell planning high profile attacks moscow cell members planned carry attacks including blasts public places transport system september said earlier arrested four isis members august shut bomb making laboratory \n",
      "실제 요약 : isis cell planning high profile attacks arrested in russia \n",
      "예측 요약 :  us arrests isis in crackdown on terror attack\n",
      "\n",
      "\n",
      "원문 : russia deploy disputed island near japan russian pm dmitry allowed nation air force use civilian airport island part group four russian occupied islands seized end wwii japan termed russia move attempt increase military power islands \n",
      "실제 요약 : russia to deploy on island near japan \n",
      "예측 요약 :  russia deploys russian military base in ukraine\n",
      "\n",
      "\n",
      "원문 : union steel minister chaudhary singh friday said joint venture steel authority india signed soon technology keen sail added said proposed 15 000 crore automotive steel plant come andhra pradesh \n",
      "실제 요약 : joint venture between soon minister \n",
      "예측 요약 :  india to be the commerce of the year\n",
      "\n",
      "\n",
      "원문 : banned australian cricketer steve smith friday took instagram reveal returned australia spending time away come terms everything lot earn back trust wrote smith serving one year ban involvement ball tampering scandal south africa \n",
      "실제 요약 : have lot to do to earn back your trust steve smith \n",
      "예측 요약 :  got life for the time of ipl 2017\n",
      "\n",
      "\n",
      "원문 : north korea warned us allies pursue sanctions faster complete development nuclear ballistic missile programme according reports un security council recently imposed fresh sanctions north korea banning textile exports oil imports following sixth nuclear test \n",
      "실제 요약 : more the sanctions faster will be nukes korea \n",
      "예측 요약 :  korea threatens to withdraw from nuclear weapons\n",
      "\n",
      "\n",
      "원문 : mit researchers controlled metal using different thermal properties silicon good heat conductor drops fell whereas stuck glass researchers said finding could used prevention ice formation structures like airplane wings wind added \n",
      "실제 요약 : controlled by surface heat properties \n",
      "예측 요약 :  mit develops mit develops robot to help\n",
      "\n",
      "\n",
      "원문 : german dictator adolf hitler injected mixture made young bulls according medical archives detailed book hitler ill research stated hitler also took anti drugs contained ingredient rat poison notably hitler birth anniversary observed thursday \n",
      "실제 요약 : hitler was with \n",
      "예측 요약 :  hitler born in canada to be buried in hitler\n",
      "\n",
      "\n",
      "원문 : 45 year old man allegedly committed suicide hanging residence maharashtra aurangabad monday maratha reservation demand following wife fellow family members participated agitation maratha morcha deceased working labourer wife works domestic help \n",
      "실제 요약 : 45 year old labourer ends life over maratha quota demand \n",
      "예측 요약 :  man commits suicide after maratha quota demand\n",
      "\n",
      "\n",
      "원문 : google employees staged mass protest company handling harassment cases ceo sundar pichai said run company referendum many good things giving employees lot voice done well added google said fired 48 employees last two years sexual misconduct \n",
      "실제 요약 : we do not run google by referendum ceo pichai on \n",
      "예측 요약 :  google staff memo sexist of anti diversity memo\n",
      "\n",
      "\n",
      "원문 : chief economic adviser arvind subramanian said easy advocate uniform gst rate goods cannot divorced political added political system accept bmw cars cigarettes taxed 18 rate said one wants tax consumed poor \n",
      "실제 요약 : uniform gst rates cannot be done cea subramanian \n",
      "예측 요약 :  gst is not the of the cea\n",
      "\n",
      "\n",
      "원문 : congress leader reddy said lok sabha polls may held early bjp likely lose madhya pradesh rajasthan chhattisgarh assembly elections pm narendra modi may prefer advance polls go image added reddy said opposition parties come together polls \n",
      "실제 요약 : early ls polls likely as bjp may lose in states reddy \n",
      "예측 요약 :  congress is not going to join bjp congress\n",
      "\n",
      "\n"
     ]
    }
   ],
   "source": [
    "origin = []\n",
    "target = []\n",
    "predict = []\n",
    "for i in range(50, 65):\n",
    "    ex_origin = seq2text(encoder_input_test[i])\n",
    "    ex_target = seq2headline(decoder_input_test[i])\n",
    "    ex_predict = decode_sequence(encoder_input_test[i].reshape(1, text_max_len))\n",
    "    origin.append(ex_origin)\n",
    "    target.append(ex_target)\n",
    "    predict.append(ex_predict)\n",
    "    print(\"원문 :\", ex_origin)\n",
    "    print(\"실제 요약 :\", ex_target)\n",
    "    print(\"예측 요약 :\", ex_predict)\n",
    "    print(\"\\n\")"
   ]
  },
  {
   "cell_type": "markdown",
   "metadata": {},
   "source": [
    "* syria, terror, asseembly 등 주요 단어들을 포함하고 있지만 생각보다 정확도가 높진 않습니다."
   ]
  },
  {
   "cell_type": "markdown",
   "metadata": {},
   "source": [
    "### 추출적 요약해보기"
   ]
  },
  {
   "cell_type": "code",
   "execution_count": 50,
   "metadata": {},
   "outputs": [],
   "source": [
    "from summa.summarizer import summarize"
   ]
  },
  {
   "cell_type": "code",
   "execution_count": 64,
   "metadata": {},
   "outputs": [
    {
     "name": "stdout",
     "output_type": "stream",
     "text": [
      "원문 : haryana vidhan sabha speaker kanwar pal monday expelled 15 congress mlas assembly day created ruckus demanding discussion irrigation scheme mlas continued arguing speaker despite assurance hold discussions issue also shouted anti government slogans exiting assembly \n",
      "실제 요약 : 15 congress mlas expelled from haryana assembly over chaos \n",
      "추출적 요약 : Stating that war is not a solution to anything, former Jammu and Kashmir CM Farooq Abdullah on Monday questioned if Pakistan was the only nation firing across the border.\n",
      "\n",
      "\n",
      "원문 : nthe centre sanctioned crore punjab government 100 1984 anti sikh riot victims migrated state centre earlier planned compensation november 2016 state unable rehabilitation accordance recommendations made committee led justice \n",
      "실제 요약 : centre clears crore for over 100 1984 sikh riot victims \n",
      "추출적 요약 : In an apparent reference to the Gandhi family, Prime Minister Narendra Modi on Monday said, \"For the Congress, the welfare of Chhattisgarh is not a priority.\n",
      "\n",
      "\n",
      "원문 : kings xi punjab player martin took single handed catch boundary dismiss mumbai indians thursday hit shot glenn maxwell bowling towards long boundary jumped took catch right hand notably maxwell delivery short ball \n",
      "실제 요약 : kxip to take one handed catch at boundary \n",
      "추출적 요약 : Jammu and Kashmir Police Chief on Monday said that he has heard that nobody was ready to take up the post of commander in terror group Lashkar-e-Taiba.\n",
      "\n",
      "\n",
      "원문 : municipal elections held syria sunday first time since civil war broke country 2011 40 000 candidates competing 18 400 council seats syrian state media reported areas outside government control including kurdish held regions excluded polls \n",
      "실제 요약 : syria holds 1st local elections since the start of civil war \n",
      "추출적 요약 : Sharing her picture with husband Virat Kohli on the occasion of their first Karvachauth on Saturday, Anushka Sharma wrote, \"My moon, my sun, my star, my everything...Happy Karvachauth to all.\" Virat also shared his picture with Anushka and captioned it, \"My life.\n",
      "\n",
      "\n",
      "원문 : russia federal security service arrested members isis cell planning high profile attacks moscow cell members planned carry attacks including blasts public places transport system september said earlier arrested four isis members august shut bomb making laboratory \n",
      "실제 요약 : isis cell planning high profile attacks arrested in russia \n",
      "추출적 요약 : US President Donald Trump's recent \"harsh\" statements against Pakistan had led to a decline in the relationship, he added.\n",
      "\n",
      "\n",
      "원문 : russia deploy disputed island near japan russian pm dmitry allowed nation air force use civilian airport island part group four russian occupied islands seized end wwii japan termed russia move attempt increase military power islands \n",
      "실제 요약 : russia to deploy on island near japan \n",
      "추출적 요약 : Japanese crypto exchange Coincheck, which lost about $530 million after suffering the world's largest cryptocurrency hack ever, was acquired by online brokerage firm Monex Group for about $34 million.\n",
      "\n",
      "\n",
      "원문 : union steel minister chaudhary singh friday said joint venture steel authority india signed soon technology keen sail added said proposed 15 000 crore automotive steel plant come andhra pradesh \n",
      "실제 요약 : joint venture between soon minister \n",
      "추출적 요약 : Hindi poet Kedarnath Singh on Monday passed away at the age of 83 in New Delhi after a prolonged illness.\n",
      "\n",
      "\n",
      "원문 : banned australian cricketer steve smith friday took instagram reveal returned australia spending time away come terms everything lot earn back trust wrote smith serving one year ban involvement ball tampering scandal south africa \n",
      "실제 요약 : have lot to do to earn back your trust steve smith \n",
      "추출적 요약 : France took the lead in the 30th minute before Sarangapani Raman scored India's first-ever international goal in the 70th minute.\n",
      "\n",
      "\n",
      "원문 : north korea warned us allies pursue sanctions faster complete development nuclear ballistic missile programme according reports un security council recently imposed fresh sanctions north korea banning textile exports oil imports following sixth nuclear test \n",
      "실제 요약 : more the sanctions faster will be nukes korea \n",
      "추출적 요약 : Union Minister Smriti Irani has tweeted an incorrect news item stating the recently approved Zojila Tunnel project will reduce Srinagar-Leh travel time to 15 minutes.\n",
      "\n",
      "\n",
      "원문 : mit researchers controlled metal using different thermal properties silicon good heat conductor drops fell whereas stuck glass researchers said finding could used prevention ice formation structures like airplane wings wind added \n",
      "실제 요약 : controlled by surface heat properties \n",
      "추출적 요약 : Indian Super League franchise Chennaiyin FC's head coach John Gregory has been suspended for three matches and fined Ã¢ÂÂ¹4 lakh with immediate effect for his offensive remarks on referees.\n",
      "\n",
      "\n",
      "원문 : german dictator adolf hitler injected mixture made young bulls according medical archives detailed book hitler ill research stated hitler also took anti drugs contained ingredient rat poison notably hitler birth anniversary observed thursday \n",
      "실제 요약 : hitler was with \n",
      "추출적 요약 : \n",
      "\n",
      "\n",
      "원문 : 45 year old man allegedly committed suicide hanging residence maharashtra aurangabad monday maratha reservation demand following wife fellow family members participated agitation maratha morcha deceased working labourer wife works domestic help \n",
      "실제 요약 : 45 year old labourer ends life over maratha quota demand \n",
      "추출적 요약 : Tripura CM Biplab Deb said one of PM Narendra Modi's brother drives auto, another is a grocer while his mother still lives in a 10X12 house.\n",
      "\n",
      "\n",
      "원문 : google employees staged mass protest company handling harassment cases ceo sundar pichai said run company referendum many good things giving employees lot voice done well added google said fired 48 employees last two years sexual misconduct \n",
      "실제 요약 : we do not run google by referendum ceo pichai on \n",
      "추출적 요약 : Pakistani pacer Wahab Riaz has claimed that Pakistan will make plans to tackle Indian captain Virat Kohli in the World Cup 2019.\n",
      "\n",
      "\n",
      "원문 : chief economic adviser arvind subramanian said easy advocate uniform gst rate goods cannot divorced political added political system accept bmw cars cigarettes taxed 18 rate said one wants tax consumed poor \n",
      "실제 요약 : uniform gst rates cannot be done cea subramanian \n",
      "추출적 요약 : The Syrian military on Monday declared that it has taken full control of the capital, Damascus, and all the areas around it, for the first time in nearly seven years.\n",
      "\n",
      "\n",
      "원문 : congress leader reddy said lok sabha polls may held early bjp likely lose madhya pradesh rajasthan chhattisgarh assembly elections pm narendra modi may prefer advance polls go image added reddy said opposition parties come together polls \n",
      "실제 요약 : early ls polls likely as bjp may lose in states reddy \n",
      "추출적 요약 : India will next face Thailand in their last Pool B match on Monday.\n",
      "\n",
      "\n"
     ]
    }
   ],
   "source": [
    "predict2 = []\n",
    "\n",
    "for i in range(50, 65):\n",
    "    input = seq2text(encoder_input_test[i])\n",
    "    summary = summarize(data_copy_test.iloc[i], ratio = 0.5)\n",
    "    print(\"원문 :\", input)\n",
    "    print(\"실제 요약 :\", seq2headline(decoder_input_test[i]))\n",
    "    print(\"추출적 요약 :\", summary)\n",
    "    predict2.append(summary)\n",
    "    print(\"\\n\")"
   ]
  },
  {
   "cell_type": "code",
   "execution_count": 71,
   "metadata": {},
   "outputs": [
    {
     "name": "stdout",
     "output_type": "stream",
     "text": [
      "15\n",
      "15\n",
      "15\n",
      "15\n"
     ]
    },
    {
     "data": {
      "text/html": [
       "<div>\n",
       "<style scoped>\n",
       "    .dataframe tbody tr th:only-of-type {\n",
       "        vertical-align: middle;\n",
       "    }\n",
       "\n",
       "    .dataframe tbody tr th {\n",
       "        vertical-align: top;\n",
       "    }\n",
       "\n",
       "    .dataframe thead th {\n",
       "        text-align: right;\n",
       "    }\n",
       "</style>\n",
       "<table border=\"1\" class=\"dataframe\">\n",
       "  <thead>\n",
       "    <tr style=\"text-align: right;\">\n",
       "      <th></th>\n",
       "      <th>원본</th>\n",
       "      <th>실제 요약</th>\n",
       "      <th>추상</th>\n",
       "      <th>추출</th>\n",
       "    </tr>\n",
       "  </thead>\n",
       "  <tbody>\n",
       "    <tr>\n",
       "      <th>0</th>\n",
       "      <td>haryana vidhan sabha speaker kanwar pal monday expelled 15 congress mlas assembly day created ruckus demanding discussion irrigation scheme mlas continued arguing speaker despite assurance hold discussions issue also shouted anti government slogans exiting assembly</td>\n",
       "      <td>15 congress mlas expelled from haryana assembly over chaos</td>\n",
       "      <td>gujarat assembly speaker mlas from assembly</td>\n",
       "      <td>Stating that war is not a solution to anything, former Jammu and Kashmir CM Farooq Abdullah on Monday questioned if Pakistan was the only nation firing across the border.</td>\n",
       "    </tr>\n",
       "    <tr>\n",
       "      <th>1</th>\n",
       "      <td>nthe centre sanctioned crore punjab government 100 1984 anti sikh riot victims migrated state centre earlier planned compensation november 2016 state unable rehabilitation accordance recommendations made committee led justice</td>\n",
       "      <td>centre clears crore for over 100 1984 sikh riot victims</td>\n",
       "      <td>over crore in delhi govt</td>\n",
       "      <td>In an apparent reference to the Gandhi family, Prime Minister Narendra Modi on Monday said, \"For the Congress, the welfare of Chhattisgarh is not a priority.</td>\n",
       "    </tr>\n",
       "    <tr>\n",
       "      <th>2</th>\n",
       "      <td>kings xi punjab player martin took single handed catch boundary dismiss mumbai indians thursday hit shot glenn maxwell bowling towards long boundary jumped took catch right hand notably maxwell delivery short ball</td>\n",
       "      <td>kxip to take one handed catch at boundary</td>\n",
       "      <td>maxwell takes catch to catch</td>\n",
       "      <td>Jammu and Kashmir Police Chief on Monday said that he has heard that nobody was ready to take up the post of commander in terror group Lashkar-e-Taiba.</td>\n",
       "    </tr>\n",
       "    <tr>\n",
       "      <th>3</th>\n",
       "      <td>municipal elections held syria sunday first time since civil war broke country 2011 40 000 candidates competing 18 400 council seats syrian state media reported areas outside government control including kurdish held regions excluded polls</td>\n",
       "      <td>syria holds 1st local elections since the start of civil war</td>\n",
       "      <td>syrian war war rises to 20 years</td>\n",
       "      <td>Sharing her picture with husband Virat Kohli on the occasion of their first Karvachauth on Saturday, Anushka Sharma wrote, \"My moon, my sun, my star, my everything...Happy Karvachauth to all.\" Virat also shared his picture with Anushka and captioned it, \"My life.</td>\n",
       "    </tr>\n",
       "    <tr>\n",
       "      <th>4</th>\n",
       "      <td>russia federal security service arrested members isis cell planning high profile attacks moscow cell members planned carry attacks including blasts public places transport system september said earlier arrested four isis members august shut bomb making laboratory</td>\n",
       "      <td>isis cell planning high profile attacks arrested in russia</td>\n",
       "      <td>us arrests isis in crackdown on terror attack</td>\n",
       "      <td>US President Donald Trump's recent \"harsh\" statements against Pakistan had led to a decline in the relationship, he added.</td>\n",
       "    </tr>\n",
       "    <tr>\n",
       "      <th>5</th>\n",
       "      <td>russia deploy disputed island near japan russian pm dmitry allowed nation air force use civilian airport island part group four russian occupied islands seized end wwii japan termed russia move attempt increase military power islands</td>\n",
       "      <td>russia to deploy on island near japan</td>\n",
       "      <td>russia deploys russian military base in ukraine</td>\n",
       "      <td>Japanese crypto exchange Coincheck, which lost about $530 million after suffering the world's largest cryptocurrency hack ever, was acquired by online brokerage firm Monex Group for about $34 million.</td>\n",
       "    </tr>\n",
       "    <tr>\n",
       "      <th>6</th>\n",
       "      <td>union steel minister chaudhary singh friday said joint venture steel authority india signed soon technology keen sail added said proposed 15 000 crore automotive steel plant come andhra pradesh</td>\n",
       "      <td>joint venture between soon minister</td>\n",
       "      <td>india to be the commerce of the year</td>\n",
       "      <td>Hindi poet Kedarnath Singh on Monday passed away at the age of 83 in New Delhi after a prolonged illness.</td>\n",
       "    </tr>\n",
       "    <tr>\n",
       "      <th>7</th>\n",
       "      <td>banned australian cricketer steve smith friday took instagram reveal returned australia spending time away come terms everything lot earn back trust wrote smith serving one year ban involvement ball tampering scandal south africa</td>\n",
       "      <td>have lot to do to earn back your trust steve smith</td>\n",
       "      <td>got life for the time of ipl 2017</td>\n",
       "      <td>France took the lead in the 30th minute before Sarangapani Raman scored India's first-ever international goal in the 70th minute.</td>\n",
       "    </tr>\n",
       "    <tr>\n",
       "      <th>8</th>\n",
       "      <td>north korea warned us allies pursue sanctions faster complete development nuclear ballistic missile programme according reports un security council recently imposed fresh sanctions north korea banning textile exports oil imports following sixth nuclear test</td>\n",
       "      <td>more the sanctions faster will be nukes korea</td>\n",
       "      <td>korea threatens to withdraw from nuclear weapons</td>\n",
       "      <td>Union Minister Smriti Irani has tweeted an incorrect news item stating the recently approved Zojila Tunnel project will reduce Srinagar-Leh travel time to 15 minutes.</td>\n",
       "    </tr>\n",
       "    <tr>\n",
       "      <th>9</th>\n",
       "      <td>mit researchers controlled metal using different thermal properties silicon good heat conductor drops fell whereas stuck glass researchers said finding could used prevention ice formation structures like airplane wings wind added</td>\n",
       "      <td>controlled by surface heat properties</td>\n",
       "      <td>mit develops mit develops robot to help</td>\n",
       "      <td>Indian Super League franchise Chennaiyin FC's head coach John Gregory has been suspended for three matches and fined Ã¢ÂÂ¹4 lakh with immediate effect for his offensive remarks on referees.</td>\n",
       "    </tr>\n",
       "    <tr>\n",
       "      <th>10</th>\n",
       "      <td>german dictator adolf hitler injected mixture made young bulls according medical archives detailed book hitler ill research stated hitler also took anti drugs contained ingredient rat poison notably hitler birth anniversary observed thursday</td>\n",
       "      <td>hitler was with</td>\n",
       "      <td>hitler born in canada to be buried in hitler</td>\n",
       "      <td></td>\n",
       "    </tr>\n",
       "    <tr>\n",
       "      <th>11</th>\n",
       "      <td>45 year old man allegedly committed suicide hanging residence maharashtra aurangabad monday maratha reservation demand following wife fellow family members participated agitation maratha morcha deceased working labourer wife works domestic help</td>\n",
       "      <td>45 year old labourer ends life over maratha quota demand</td>\n",
       "      <td>man commits suicide after maratha quota demand</td>\n",
       "      <td>Tripura CM Biplab Deb said one of PM Narendra Modi's brother drives auto, another is a grocer while his mother still lives in a 10X12 house.</td>\n",
       "    </tr>\n",
       "    <tr>\n",
       "      <th>12</th>\n",
       "      <td>google employees staged mass protest company handling harassment cases ceo sundar pichai said run company referendum many good things giving employees lot voice done well added google said fired 48 employees last two years sexual misconduct</td>\n",
       "      <td>we do not run google by referendum ceo pichai on</td>\n",
       "      <td>google staff memo sexist of anti diversity memo</td>\n",
       "      <td>Pakistani pacer Wahab Riaz has claimed that Pakistan will make plans to tackle Indian captain Virat Kohli in the World Cup 2019.</td>\n",
       "    </tr>\n",
       "    <tr>\n",
       "      <th>13</th>\n",
       "      <td>chief economic adviser arvind subramanian said easy advocate uniform gst rate goods cannot divorced political added political system accept bmw cars cigarettes taxed 18 rate said one wants tax consumed poor</td>\n",
       "      <td>uniform gst rates cannot be done cea subramanian</td>\n",
       "      <td>gst is not the of the cea</td>\n",
       "      <td>The Syrian military on Monday declared that it has taken full control of the capital, Damascus, and all the areas around it, for the first time in nearly seven years.</td>\n",
       "    </tr>\n",
       "    <tr>\n",
       "      <th>14</th>\n",
       "      <td>congress leader reddy said lok sabha polls may held early bjp likely lose madhya pradesh rajasthan chhattisgarh assembly elections pm narendra modi may prefer advance polls go image added reddy said opposition parties come together polls</td>\n",
       "      <td>early ls polls likely as bjp may lose in states reddy</td>\n",
       "      <td>congress is not going to join bjp congress</td>\n",
       "      <td>India will next face Thailand in their last Pool B match on Monday.</td>\n",
       "    </tr>\n",
       "  </tbody>\n",
       "</table>\n",
       "</div>"
      ],
      "text/plain": [
       "                                                                                                                                                                                                                                                                            원본  \\\n",
       "0   haryana vidhan sabha speaker kanwar pal monday expelled 15 congress mlas assembly day created ruckus demanding discussion irrigation scheme mlas continued arguing speaker despite assurance hold discussions issue also shouted anti government slogans exiting assembly    \n",
       "1   nthe centre sanctioned crore punjab government 100 1984 anti sikh riot victims migrated state centre earlier planned compensation november 2016 state unable rehabilitation accordance recommendations made committee led justice                                            \n",
       "2   kings xi punjab player martin took single handed catch boundary dismiss mumbai indians thursday hit shot glenn maxwell bowling towards long boundary jumped took catch right hand notably maxwell delivery short ball                                                        \n",
       "3   municipal elections held syria sunday first time since civil war broke country 2011 40 000 candidates competing 18 400 council seats syrian state media reported areas outside government control including kurdish held regions excluded polls                              \n",
       "4   russia federal security service arrested members isis cell planning high profile attacks moscow cell members planned carry attacks including blasts public places transport system september said earlier arrested four isis members august shut bomb making laboratory      \n",
       "5   russia deploy disputed island near japan russian pm dmitry allowed nation air force use civilian airport island part group four russian occupied islands seized end wwii japan termed russia move attempt increase military power islands                                    \n",
       "6   union steel minister chaudhary singh friday said joint venture steel authority india signed soon technology keen sail added said proposed 15 000 crore automotive steel plant come andhra pradesh                                                                            \n",
       "7   banned australian cricketer steve smith friday took instagram reveal returned australia spending time away come terms everything lot earn back trust wrote smith serving one year ban involvement ball tampering scandal south africa                                        \n",
       "8   north korea warned us allies pursue sanctions faster complete development nuclear ballistic missile programme according reports un security council recently imposed fresh sanctions north korea banning textile exports oil imports following sixth nuclear test            \n",
       "9   mit researchers controlled metal using different thermal properties silicon good heat conductor drops fell whereas stuck glass researchers said finding could used prevention ice formation structures like airplane wings wind added                                        \n",
       "10  german dictator adolf hitler injected mixture made young bulls according medical archives detailed book hitler ill research stated hitler also took anti drugs contained ingredient rat poison notably hitler birth anniversary observed thursday                            \n",
       "11  45 year old man allegedly committed suicide hanging residence maharashtra aurangabad monday maratha reservation demand following wife fellow family members participated agitation maratha morcha deceased working labourer wife works domestic help                         \n",
       "12  google employees staged mass protest company handling harassment cases ceo sundar pichai said run company referendum many good things giving employees lot voice done well added google said fired 48 employees last two years sexual misconduct                             \n",
       "13  chief economic adviser arvind subramanian said easy advocate uniform gst rate goods cannot divorced political added political system accept bmw cars cigarettes taxed 18 rate said one wants tax consumed poor                                                               \n",
       "14  congress leader reddy said lok sabha polls may held early bjp likely lose madhya pradesh rajasthan chhattisgarh assembly elections pm narendra modi may prefer advance polls go image added reddy said opposition parties come together polls                                \n",
       "\n",
       "                                                            실제 요약  \\\n",
       "0   15 congress mlas expelled from haryana assembly over chaos      \n",
       "1   centre clears crore for over 100 1984 sikh riot victims         \n",
       "2   kxip to take one handed catch at boundary                       \n",
       "3   syria holds 1st local elections since the start of civil war    \n",
       "4   isis cell planning high profile attacks arrested in russia      \n",
       "5   russia to deploy on island near japan                           \n",
       "6   joint venture between soon minister                             \n",
       "7   have lot to do to earn back your trust steve smith              \n",
       "8   more the sanctions faster will be nukes korea                   \n",
       "9   controlled by surface heat properties                           \n",
       "10  hitler was with                                                 \n",
       "11  45 year old labourer ends life over maratha quota demand        \n",
       "12  we do not run google by referendum ceo pichai on                \n",
       "13  uniform gst rates cannot be done cea subramanian                \n",
       "14  early ls polls likely as bjp may lose in states reddy           \n",
       "\n",
       "                                                   추상  \\\n",
       "0    gujarat assembly speaker mlas from assembly        \n",
       "1    over crore in delhi govt                           \n",
       "2    maxwell takes catch to catch                       \n",
       "3    syrian war war rises to 20 years                   \n",
       "4    us arrests isis in crackdown on terror attack      \n",
       "5    russia deploys russian military base in ukraine    \n",
       "6    india to be the commerce of the year               \n",
       "7    got life for the time of ipl 2017                  \n",
       "8    korea threatens to withdraw from nuclear weapons   \n",
       "9    mit develops mit develops robot to help            \n",
       "10   hitler born in canada to be buried in hitler       \n",
       "11   man commits suicide after maratha quota demand     \n",
       "12   google staff memo sexist of anti diversity memo    \n",
       "13   gst is not the of the cea                          \n",
       "14   congress is not going to join bjp congress         \n",
       "\n",
       "                                                                                                                                                                                                                                                                         추출  \n",
       "0   Stating that war is not a solution to anything, former Jammu and Kashmir CM Farooq Abdullah on Monday questioned if Pakistan was the only nation firing across the border.                                                                                               \n",
       "1   In an apparent reference to the Gandhi family, Prime Minister Narendra Modi on Monday said, \"For the Congress, the welfare of Chhattisgarh is not a priority.                                                                                                            \n",
       "2   Jammu and Kashmir Police Chief on Monday said that he has heard that nobody was ready to take up the post of commander in terror group Lashkar-e-Taiba.                                                                                                                  \n",
       "3   Sharing her picture with husband Virat Kohli on the occasion of their first Karvachauth on Saturday, Anushka Sharma wrote, \"My moon, my sun, my star, my everything...Happy Karvachauth to all.\" Virat also shared his picture with Anushka and captioned it, \"My life.  \n",
       "4   US President Donald Trump's recent \"harsh\" statements against Pakistan had led to a decline in the relationship, he added.                                                                                                                                               \n",
       "5   Japanese crypto exchange Coincheck, which lost about $530 million after suffering the world's largest cryptocurrency hack ever, was acquired by online brokerage firm Monex Group for about $34 million.                                                                 \n",
       "6   Hindi poet Kedarnath Singh on Monday passed away at the age of 83 in New Delhi after a prolonged illness.                                                                                                                                                                \n",
       "7   France took the lead in the 30th minute before Sarangapani Raman scored India's first-ever international goal in the 70th minute.                                                                                                                                        \n",
       "8   Union Minister Smriti Irani has tweeted an incorrect news item stating the recently approved Zojila Tunnel project will reduce Srinagar-Leh travel time to 15 minutes.                                                                                                   \n",
       "9   Indian Super League franchise Chennaiyin FC's head coach John Gregory has been suspended for three matches and fined Ã¢ÂÂ¹4 lakh with immediate effect for his offensive remarks on referees.                                                                           \n",
       "10                                                                                                                                                                                                                                                                           \n",
       "11  Tripura CM Biplab Deb said one of PM Narendra Modi's brother drives auto, another is a grocer while his mother still lives in a 10X12 house.                                                                                                                             \n",
       "12  Pakistani pacer Wahab Riaz has claimed that Pakistan will make plans to tackle Indian captain Virat Kohli in the World Cup 2019.                                                                                                                                         \n",
       "13  The Syrian military on Monday declared that it has taken full control of the capital, Damascus, and all the areas around it, for the first time in nearly seven years.                                                                                                   \n",
       "14  India will next face Thailand in their last Pool B match on Monday.                                                                                                                                                                                                      "
      ]
     },
     "execution_count": 71,
     "metadata": {},
     "output_type": "execute_result"
    }
   ],
   "source": [
    "print(len(origin))\n",
    "print(len(target))\n",
    "print(len(predict))\n",
    "print(len(predict2))\n",
    "\n",
    "df_result = pd.DataFrame(data = {'원본':origin,'실제 요약': target, '추상' : predict, '추출' :predict2})\n",
    "df_result"
   ]
  },
  {
   "cell_type": "markdown",
   "metadata": {},
   "source": [
    "* 문법 완성도는 추출이 더 높으나 핵심 단어는 추출보단 추상 쪽에 있는 경우가 많습니다."
   ]
  },
  {
   "cell_type": "markdown",
   "metadata": {},
   "source": [
    "## 회고"
   ]
  },
  {
   "cell_type": "markdown",
   "metadata": {},
   "source": [
    "* 이번 프로젝트에서 어려웠던 점\n",
    "    - 번역기가 생각보다 제대로 작동하지 않았습니다.\n",
    "* 프로젝트를 진행하면서 알아낸 점 혹은 아직 모호한 점\n",
    "  * 알게 된 점\n",
    "    - dataframe은 set_index, series는 reindex를 사용해서 index를 재설정합니다.\n",
    "  * 아직 모호한 점\n",
    "    - 모델의 어떤 부분을 수정해야 번역기의 성능이 올라가는가?\n",
    "* 루브릭 평가를 맞추기 위해 시도한 점\n",
    "    - 데이터를 복사하여 사용하였습니다.\n",
    "    - 데이터프레임을 새롭게 만들어서 출력하였습니다."
   ]
  }
 ],
 "metadata": {
  "kernelspec": {
   "display_name": "Python 3.10.4 ('tensorflow': venv)",
   "language": "python",
   "name": "python3"
  },
  "language_info": {
   "codemirror_mode": {
    "name": "ipython",
    "version": 3
   },
   "file_extension": ".py",
   "mimetype": "text/x-python",
   "name": "python",
   "nbconvert_exporter": "python",
   "pygments_lexer": "ipython3",
   "version": "3.10.4"
  },
  "orig_nbformat": 4,
  "vscode": {
   "interpreter": {
    "hash": "d3d548dbc07dac0e24bbfeb6e932dc9e9a9d93b0bdd3d2fd0655f4be29fd0580"
   }
  }
 },
 "nbformat": 4,
 "nbformat_minor": 2
}

{
 "cells": [
  {
   "cell_type": "markdown",
   "metadata": {},
   "source": [
    "# [Exp-06]LyricistAI"
   ]
  },
  {
   "cell_type": "markdown",
   "metadata": {},
   "source": [
    "## 라이브러리 불러오고 버전 확인"
   ]
  },
  {
   "cell_type": "code",
   "execution_count": 1,
   "metadata": {},
   "outputs": [
    {
     "name": "stdout",
     "output_type": "stream",
     "text": [
      "2.9.1\n"
     ]
    }
   ],
   "source": [
    "import tensorflow\n",
    "\n",
    "print(tensorflow.__version__)"
   ]
  },
  {
   "cell_type": "markdown",
   "metadata": {},
   "source": [
    "## 데이터 다운로드 및 불러오기"
   ]
  },
  {
   "cell_type": "code",
   "execution_count": 2,
   "metadata": {},
   "outputs": [
    {
     "name": "stdout",
     "output_type": "stream",
     "text": [
      "데이터 크기: 187088\n",
      "Examples:\n",
      " ['THE QUEEN _of_ HEARTS', '  ', '', '    The Queen of Hearts she made some tarts,', \"      All on a summer's day;\", '', '    The Knave of Hearts he stole those tarts,', '      And took them clean away.', '', '    The King of Hearts called for those tarts,']\n"
     ]
    }
   ],
   "source": [
    "import glob\n",
    "import os, re \n",
    "import numpy as np\n",
    "import tensorflow as tf\n",
    "\n",
    "txt_file_path = 'lyrics/*'\n",
    "\n",
    "txt_list = glob.glob(txt_file_path)\n",
    "# print(txt_list)\n",
    "raw_corpus = []\n",
    "\n",
    "# 여러개의 txt 파일을 모두 읽어서 raw_corpus 에 담습니다.\n",
    "for txt_file in txt_list:\n",
    "    with open(txt_file, \"r\") as f:\n",
    "        raw = f.read().splitlines()\n",
    "        raw_corpus.extend(raw)\n",
    "\n",
    "print(\"데이터 크기:\", len(raw_corpus))\n",
    "print(\"Examples:\\n\", raw_corpus[:10])"
   ]
  },
  {
   "cell_type": "markdown",
   "metadata": {},
   "source": [
    "## 데이터 정제"
   ]
  },
  {
   "cell_type": "markdown",
   "metadata": {},
   "source": [
    "정제 법칙\n",
    "1. 불필요한 공백 제거\n",
    "2. `를 제외한 모든 특수문자를 제거(^ a-zA-Z[]())\n",
    "3. [글자],(글자) 형식을 제거(코러스 또는 표시용)\n",
    "4. 문장 전체가 대문자인 경우 제거해줍니다.(동요에서 제목)\n",
    "5. 모든 대문자를 소문자로 변경"
   ]
  },
  {
   "cell_type": "markdown",
   "metadata": {},
   "source": [
    "정제 단계\n",
    "1. 양쪽의 공백을 제거합니다.\n",
    "2. 여러 개의 공백을 하나로 만듭니다.\n",
    "3. 알파벳, 작은따옴표, 스페이스바와 나중에 제거할 특수문자를 제외한 문자를 제거합니다.\n",
    "4. (문자), [문자]를 제거해줍니다.\n",
    "5. setence의 모든 문자가 대문자인 경우 제거\n",
    "6. 소문자로 만든 뒤 양쪽 공백을 제거해줍니다.\n",
    "7. 빈 문장인 경우 start, end를 추가하지않습니다."
   ]
  },
  {
   "cell_type": "code",
   "execution_count": 3,
   "metadata": {},
   "outputs": [
    {
     "name": "stdout",
     "output_type": "stream",
     "text": [
      "<start> i'm movin' ding dong bell <end>\n",
      "\n",
      "<start> upper no <end>\n",
      "\n"
     ]
    }
   ],
   "source": [
    "def preprocess_sentence(sentence):\n",
    "    sentence = sentence.strip()\n",
    "    sentence = re.sub('[\" \"]+', ' ', sentence)\n",
    "    sentence = re.sub('[^a-zA-Z \\'\\(\\)\\[\\]]+', '', sentence)\n",
    "    sentence = re.sub('\\([\\w\\d\\s]*\\)', '', sentence)\n",
    "    sentence = re.sub('\\[[\\w\\d\\s-]*\\]', '', sentence)\n",
    "    if (str.isupper(sentence) == True):\n",
    "        sentence = \"\"\n",
    "    sentence = sentence.lower().strip()\n",
    "    if len(sentence) != 0:\n",
    "        sentence = '<start> ' + sentence + ' <end>'\n",
    "    \n",
    "    return sentence\n",
    "\n",
    "# 테스트\n",
    "test1 = \"(Verse; 1) [Chorus:]  I'm movin' DING, DONG, BELL.\"\n",
    "test2 = \"UPPER YES\"\n",
    "test3 = \"UPPER No\"\n",
    "test4 = \"I CAN'T YOU\"\n",
    "\n",
    "print(preprocess_sentence(test1))\n",
    "print(preprocess_sentence(test2))\n",
    "print(preprocess_sentence(test3))\n",
    "print(preprocess_sentence(test4))"
   ]
  },
  {
   "cell_type": "markdown",
   "metadata": {},
   "source": [
    "15개 이상 넘어가는 문장은 제외합니다."
   ]
  },
  {
   "cell_type": "code",
   "execution_count": 4,
   "metadata": {},
   "outputs": [
    {
     "data": {
      "text/plain": [
       "['<start> the queen of hearts she made some tarts <end>',\n",
       " \"<start> all on a summer's day <end>\",\n",
       " '<start> the knave of hearts he stole those tarts <end>',\n",
       " '<start> and took them clean away <end>',\n",
       " '<start> the king of hearts called for those tarts <end>',\n",
       " '<start> and beat the knave full sore <end>',\n",
       " '<start> the knave of hearts brought back those tarts <end>',\n",
       " \"<start> and vowed he'd steal no more <end>\",\n",
       " \"<start> st swithin's day if thou dost rain <end>\",\n",
       " '<start> for forty days it will remain <end>']"
      ]
     },
     "execution_count": 4,
     "metadata": {},
     "output_type": "execute_result"
    }
   ],
   "source": [
    "corpus = []\n",
    "\n",
    "for sentence in raw_corpus:\n",
    "    if len(sentence) == 0:\n",
    "        continue\n",
    "    \n",
    "    preprocessed_sentence = preprocess_sentence(sentence)\n",
    "    if len(preprocessed_sentence) == 0:\n",
    "        continue\n",
    "    \n",
    "    if preprocessed_sentence == '<start> the queen of hearts <end>':\n",
    "        continue\n",
    "    \n",
    "    if len(preprocessed_sentence.split()) > 15:\n",
    "        continue\n",
    "    \n",
    "    corpus.append(preprocessed_sentence)\n",
    "\n",
    "corpus[:10]"
   ]
  },
  {
   "cell_type": "markdown",
   "metadata": {},
   "source": [
    "## Tokenizer"
   ]
  },
  {
   "cell_type": "code",
   "execution_count": 5,
   "metadata": {},
   "outputs": [
    {
     "name": "stdout",
     "output_type": "stream",
     "text": [
      "[[    2     4   784 ...     0     0     0]\n",
      " [    2    21    15 ...     0     0     0]\n",
      " [    2     4 11137 ...     0     0     0]\n",
      " ...\n",
      " [    2   203     3 ...     0     0     0]\n",
      " [    2   425     9 ...     0     0     0]\n",
      " [    2     9  1466 ...     0     0     0]] <keras.preprocessing.text.Tokenizer object at 0x7f9232acfd60>\n"
     ]
    }
   ],
   "source": [
    "def tokenize(corpus):\n",
    "    tokenizer = tf.keras.preprocessing.text.Tokenizer(\n",
    "        num_words=12000, \n",
    "        filters=' ',\n",
    "        oov_token=\"<unk>\"\n",
    "    )\n",
    "    tokenizer.fit_on_texts(corpus)\n",
    "    tensor = tokenizer.texts_to_sequences(corpus)   \n",
    "    tensor = tf.keras.preprocessing.sequence.pad_sequences(tensor, padding='post')  \n",
    "    \n",
    "    print(tensor,tokenizer)\n",
    "    return tensor, tokenizer\n",
    "\n",
    "tensor, tokenizer = tokenize(corpus)"
   ]
  },
  {
   "cell_type": "code",
   "execution_count": 6,
   "metadata": {},
   "outputs": [
    {
     "name": "stdout",
     "output_type": "stream",
     "text": [
      "a 21566\n",
      "i 37058\n",
      "b 95\n",
      "z 8\n",
      "c 52\n",
      "d 104\n",
      "e 49\n",
      "f 59\n",
      "g 98\n",
      "r 82\n",
      "s 129\n",
      "t 60\n",
      "u 1814\n",
      "w 4\n",
      "x 127\n",
      "y 54\n",
      "o 103\n",
      "h 6\n",
      "j 29\n",
      "k 38\n",
      "l 26\n",
      "m 46\n",
      "n 132\n",
      "p 149\n",
      "q 9\n",
      "v 21\n",
      "' 59\n",
      ") 16\n",
      "[ 2\n",
      "] 2\n",
      "( 13\n"
     ]
    }
   ],
   "source": [
    "for k, v in tokenizer.word_counts.items():\n",
    "    if len(k) == 1:\n",
    "        print(k, v)"
   ]
  },
  {
   "cell_type": "markdown",
   "metadata": {},
   "source": [
    "## 소스 및 타겟 문장 생성"
   ]
  },
  {
   "cell_type": "code",
   "execution_count": 7,
   "metadata": {},
   "outputs": [
    {
     "name": "stdout",
     "output_type": "stream",
     "text": [
      "['THE QUEEN _of_ HEARTS', '  ', '', '    The Queen of Hearts she made some tarts,', \"      All on a summer's day;\", '', '    The Knave of Hearts he stole those tarts,', '      And took them clean away.', '']\n",
      "[   2    4  784   17  943   45  215   87 9259    3    0    0    0    0]\n",
      "[   4  784   17  943   45  215   87 9259    3    0    0    0    0    0]\n"
     ]
    }
   ],
   "source": [
    "src_input = tensor[:, :-1]\n",
    "tgt_input = tensor[:, 1:]\n",
    "\n",
    "print(raw_corpus[:9])\n",
    "print(src_input[0])\n",
    "print(tgt_input[0])"
   ]
  },
  {
   "cell_type": "markdown",
   "metadata": {},
   "source": [
    "## 평가 데이터셋 분리"
   ]
  },
  {
   "cell_type": "markdown",
   "metadata": {},
   "source": [
    "* sklearn train_test_split() 함수를 사용해서 train, test, validation으로 나눕니다.\n",
    "* 비율은 0.8, 0.2, 0.2 로 나눕니다."
   ]
  },
  {
   "cell_type": "code",
   "execution_count": 8,
   "metadata": {},
   "outputs": [
    {
     "name": "stdout",
     "output_type": "stream",
     "text": [
      "(128269, 14)\n",
      "(32068, 14)\n",
      "(32068, 14)\n",
      "(128269, 14)\n",
      "(32068, 14)\n",
      "(32068, 14)\n"
     ]
    }
   ],
   "source": [
    "from sklearn.model_selection import train_test_split\n",
    "\n",
    "X_train_all, X_test, y_train_all, y_test = train_test_split(src_input, tgt_input, test_size = 0.2, random_state = 2022)\n",
    "X_train, X_val, y_train, y_val = train_test_split(X_train_all, y_train_all, test_size = 0.25, random_state = 2022)\n",
    "\n",
    "print(X_train_all.shape)\n",
    "print(X_test.shape)\n",
    "print(X_val.shape)\n",
    "print(y_train_all.shape)\n",
    "print(y_test.shape)\n",
    "print(y_val.shape)"
   ]
  },
  {
   "cell_type": "markdown",
   "metadata": {},
   "source": [
    "## 인공지능 모델 만들기"
   ]
  },
  {
   "cell_type": "code",
   "execution_count": 9,
   "metadata": {},
   "outputs": [
    {
     "name": "stderr",
     "output_type": "stream",
     "text": [
      "2022-08-12 23:19:40.889878: I tensorflow/stream_executor/cuda/cuda_gpu_executor.cc:975] successful NUMA node read from SysFS had negative value (-1), but there must be at least one NUMA node, so returning NUMA node zero\n",
      "2022-08-12 23:19:40.919442: I tensorflow/stream_executor/cuda/cuda_gpu_executor.cc:975] successful NUMA node read from SysFS had negative value (-1), but there must be at least one NUMA node, so returning NUMA node zero\n",
      "2022-08-12 23:19:40.919655: I tensorflow/stream_executor/cuda/cuda_gpu_executor.cc:975] successful NUMA node read from SysFS had negative value (-1), but there must be at least one NUMA node, so returning NUMA node zero\n",
      "2022-08-12 23:19:40.920525: I tensorflow/core/platform/cpu_feature_guard.cc:193] This TensorFlow binary is optimized with oneAPI Deep Neural Network Library (oneDNN) to use the following CPU instructions in performance-critical operations:  AVX2 FMA\n",
      "To enable them in other operations, rebuild TensorFlow with the appropriate compiler flags.\n",
      "2022-08-12 23:19:40.921249: I tensorflow/stream_executor/cuda/cuda_gpu_executor.cc:975] successful NUMA node read from SysFS had negative value (-1), but there must be at least one NUMA node, so returning NUMA node zero\n",
      "2022-08-12 23:19:40.921450: I tensorflow/stream_executor/cuda/cuda_gpu_executor.cc:975] successful NUMA node read from SysFS had negative value (-1), but there must be at least one NUMA node, so returning NUMA node zero\n",
      "2022-08-12 23:19:40.921557: I tensorflow/stream_executor/cuda/cuda_gpu_executor.cc:975] successful NUMA node read from SysFS had negative value (-1), but there must be at least one NUMA node, so returning NUMA node zero\n",
      "2022-08-12 23:19:41.382562: I tensorflow/stream_executor/cuda/cuda_gpu_executor.cc:975] successful NUMA node read from SysFS had negative value (-1), but there must be at least one NUMA node, so returning NUMA node zero\n",
      "2022-08-12 23:19:41.382749: I tensorflow/stream_executor/cuda/cuda_gpu_executor.cc:975] successful NUMA node read from SysFS had negative value (-1), but there must be at least one NUMA node, so returning NUMA node zero\n",
      "2022-08-12 23:19:41.382880: I tensorflow/stream_executor/cuda/cuda_gpu_executor.cc:975] successful NUMA node read from SysFS had negative value (-1), but there must be at least one NUMA node, so returning NUMA node zero\n",
      "2022-08-12 23:19:41.383004: I tensorflow/core/common_runtime/gpu/gpu_device.cc:1532] Created device /job:localhost/replica:0/task:0/device:GPU:0 with 6668 MB memory:  -> device: 0, name: NVIDIA GeForce RTX 2070, pci bus id: 0000:01:00.0, compute capability: 7.5\n"
     ]
    }
   ],
   "source": [
    "class TextGenerator(tf.keras.Model):\n",
    "    def __init__(self, vocab_size, embedding_size, hidden_size):\n",
    "        super().__init__()\n",
    "        \n",
    "        self.embedding = tf.keras.layers.Embedding(vocab_size, embedding_size)\n",
    "        self.rnn_1 = tf.keras.layers.LSTM(hidden_size, return_sequences=True)\n",
    "        self.rnn_2 = tf.keras.layers.LSTM(hidden_size, return_sequences=True)\n",
    "        self.linear = tf.keras.layers.Dense(vocab_size)\n",
    "        \n",
    "    def call(self, x):\n",
    "        out = self.embedding(x)\n",
    "        out = self.rnn_1(out)\n",
    "        out = self.rnn_2(out)\n",
    "        out = self.linear(out)\n",
    "        \n",
    "        return out\n",
    "\n",
    "embedding_size = 256\n",
    "hidden_size = 2048\n",
    "model = TextGenerator(tokenizer.num_words + 1, embedding_size , hidden_size)"
   ]
  },
  {
   "cell_type": "code",
   "execution_count": 10,
   "metadata": {},
   "outputs": [],
   "source": [
    "optimizer = tf.keras.optimizers.Adam()\n",
    "loss = tf.keras.losses.SparseCategoricalCrossentropy(\n",
    "    from_logits=True,\n",
    "    reduction='none'\n",
    ")\n",
    "\n",
    "model.compile(loss=loss, optimizer=optimizer)"
   ]
  },
  {
   "cell_type": "code",
   "execution_count": 11,
   "metadata": {},
   "outputs": [
    {
     "name": "stdout",
     "output_type": "stream",
     "text": [
      "Epoch 1/10\n"
     ]
    },
    {
     "name": "stderr",
     "output_type": "stream",
     "text": [
      "2022-08-12 23:19:57.262416: I tensorflow/stream_executor/cuda/cuda_dnn.cc:384] Loaded cuDNN version 8204\n"
     ]
    },
    {
     "name": "stdout",
     "output_type": "stream",
     "text": [
      "188/188 [==============================] - 137s 642ms/step - loss: 3.6599 - val_loss: 3.2347\n",
      "Epoch 2/10\n",
      "188/188 [==============================] - 121s 645ms/step - loss: 3.0953 - val_loss: 3.0336\n",
      "Epoch 3/10\n",
      "188/188 [==============================] - 121s 646ms/step - loss: 2.9240 - val_loss: 2.9108\n",
      "Epoch 4/10\n",
      "188/188 [==============================] - 121s 646ms/step - loss: 2.7796 - val_loss: 2.8147\n",
      "Epoch 5/10\n",
      "188/188 [==============================] - 121s 647ms/step - loss: 2.6425 - val_loss: 2.7361\n",
      "Epoch 6/10\n",
      "188/188 [==============================] - 121s 647ms/step - loss: 2.5095 - val_loss: 2.6720\n",
      "Epoch 7/10\n",
      "188/188 [==============================] - 121s 646ms/step - loss: 2.3794 - val_loss: 2.6191\n",
      "Epoch 8/10\n",
      "188/188 [==============================] - 122s 647ms/step - loss: 2.2526 - val_loss: 2.5678\n",
      "Epoch 9/10\n",
      "188/188 [==============================] - 122s 647ms/step - loss: 2.1292 - val_loss: 2.5270\n",
      "Epoch 10/10\n",
      "188/188 [==============================] - 122s 647ms/step - loss: 2.0074 - val_loss: 2.4919\n"
     ]
    },
    {
     "data": {
      "text/plain": [
       "<keras.callbacks.History at 0x7f922bb52a10>"
      ]
     },
     "execution_count": 11,
     "metadata": {},
     "output_type": "execute_result"
    }
   ],
   "source": [
    "model.fit(X_train, y_train, validation_data = (X_val, y_val), epochs=10, batch_size = 512)"
   ]
  },
  {
   "cell_type": "markdown",
   "metadata": {},
   "source": [
    "## 가사 만들기"
   ]
  },
  {
   "cell_type": "code",
   "execution_count": 12,
   "metadata": {},
   "outputs": [],
   "source": [
    "def generate_text(model, tokenizer, init_sentence=\"<start>\", max_len=20):\n",
    "    test_input = tokenizer.texts_to_sequences([init_sentence])\n",
    "    test_tensor = tf.convert_to_tensor(test_input, dtype=tf.int64)\n",
    "    end_token = tokenizer.word_index[\"<end>\"]\n",
    "\n",
    "    while True:\n",
    "        predict = model(test_tensor) \n",
    "        predict_word = tf.argmax(tf.nn.softmax(predict, axis=-1), axis=-1)[:, -1] \n",
    "        test_tensor = tf.concat([test_tensor, tf.expand_dims(predict_word, axis=0)], axis=-1)\n",
    "        if predict_word.numpy()[0] == end_token: break\n",
    "        if test_tensor.shape[1] >= max_len: break\n",
    "\n",
    "    generated = \"\"\n",
    "    for word_index in test_tensor[0].numpy():\n",
    "        generated += tokenizer.index_word[word_index] + \" \"\n",
    "\n",
    "    return generated"
   ]
  },
  {
   "cell_type": "code",
   "execution_count": 13,
   "metadata": {},
   "outputs": [
    {
     "data": {
      "text/plain": [
       "'<start> i love you <end> '"
      ]
     },
     "execution_count": 13,
     "metadata": {},
     "output_type": "execute_result"
    }
   ],
   "source": [
    "generate_text(model, tokenizer, init_sentence=\"<start> i love\", max_len=20)"
   ]
  },
  {
   "cell_type": "code",
   "execution_count": 14,
   "metadata": {},
   "outputs": [
    {
     "data": {
      "text/plain": [
       "\"<start> i don't know what to do <end> \""
      ]
     },
     "execution_count": 14,
     "metadata": {},
     "output_type": "execute_result"
    }
   ],
   "source": [
    "generate_text(model, tokenizer, init_sentence=\"<start> i\", max_len=20)"
   ]
  },
  {
   "cell_type": "code",
   "execution_count": 15,
   "metadata": {},
   "outputs": [
    {
     "data": {
      "text/plain": [
       "'<start> he said i like to be alone <end> '"
      ]
     },
     "execution_count": 15,
     "metadata": {},
     "output_type": "execute_result"
    }
   ],
   "source": [
    "generate_text(model, tokenizer, init_sentence=\"<start> he\", max_len=20)"
   ]
  },
  {
   "cell_type": "code",
   "execution_count": 16,
   "metadata": {},
   "outputs": [
    {
     "data": {
      "text/plain": [
       "'<start> you know i love you <end> '"
      ]
     },
     "execution_count": 16,
     "metadata": {},
     "output_type": "execute_result"
    }
   ],
   "source": [
    "generate_text(model, tokenizer, init_sentence=\"<start> you\", max_len=20)"
   ]
  },
  {
   "cell_type": "markdown",
   "metadata": {},
   "source": [
    "### 회고"
   ]
  },
  {
   "cell_type": "markdown",
   "metadata": {},
   "source": [
    "* 이번 프로젝트에서 어려웠던 점\n",
    "    - 데이터 전처리(정규식 표현 활용)\n",
    "* 프로젝트를 진행하면서 알아낸 점 혹은 아직 모호한 점\n",
    "  * 알게 된점\n",
    "    - 정규표현식 활용법\n",
    "    - 소스 문장과 타겟 문장 생성시 무조건 양끝을 제거하는 이유(모델계산과 행렬계산을 따로 생각해야함)\n",
    "  * 아직 모호한 점\n",
    "* 루브릭 평가를 맞추기 위해 시도한 점\n",
    "    - 전처리를 위해 다양한 테스트 문장을 넣어보았고 대부분의 데이터를 육안으로 확인하였습니다.\n",
    "    - loss 값을 낮추기 위해 pre 보단 post를 hidden size를 2배로 증가시켰습니다.\n",
    "    - 여러개의 input을 넣었습니다."
   ]
  }
 ],
 "metadata": {
  "kernelspec": {
   "display_name": "Python 3.10.4 64-bit",
   "language": "python",
   "name": "python3"
  },
  "language_info": {
   "codemirror_mode": {
    "name": "ipython",
    "version": 3
   },
   "file_extension": ".py",
   "mimetype": "text/x-python",
   "name": "python",
   "nbconvert_exporter": "python",
   "pygments_lexer": "ipython3",
   "version": "3.10.4"
  },
  "orig_nbformat": 4,
  "vscode": {
   "interpreter": {
    "hash": "916dbcbb3f70747c44a77c7bcd40155683ae19c65e1c03b4aa3499c5328201f1"
   }
  }
 },
 "nbformat": 4,
 "nbformat_minor": 2
}

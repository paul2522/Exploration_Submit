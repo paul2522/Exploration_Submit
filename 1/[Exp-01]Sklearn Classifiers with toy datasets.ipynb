{
 "cells": [
  {
   "cell_type": "markdown",
   "metadata": {},
   "source": [
    "## [Exp-01]Sklearn Classifiers with toy datasets"
   ]
  },
  {
   "cell_type": "markdown",
   "metadata": {},
   "source": [
    "### 프로젝트 (1) load_digits : 손글씨를 분류해 봅시다"
   ]
  },
  {
   "cell_type": "markdown",
   "metadata": {},
   "source": [
    "#### (1) 필요한 모듈 import 하기"
   ]
  },
  {
   "cell_type": "markdown",
   "metadata": {},
   "source": [
    "- 우선 sklearn 라이브러리 버전을 확인하고 진행.\n",
    "- <span style = \"color: #0000FF\">sklearn dataset로 부터 digits data를 가져온다.</span>\n",
    "- <span style = \"color: #0000FF\">train data와 test data를 나눠주는 train_test_split 함수를 가져온다.</span>\n",
    "- <span style = \"color: #0000FF\">분류 보고서를 작성해주는 classification_report를 가져온다.</span>\n",
    "- 오차행렬을 출력해주는 confusion_matrix를 가져온다.\n",
    "- 다른 지표를 바로 가져오기 위해 metrics 전체를 가져온다.\n",
    "- numpy, pandas, matplotlib"
   ]
  },
  {
   "cell_type": "code",
   "execution_count": 1,
   "metadata": {},
   "outputs": [
    {
     "name": "stdout",
     "output_type": "stream",
     "text": [
      "1.1.1\n"
     ]
    }
   ],
   "source": [
    "import sklearn\n",
    "from sklearn.datasets import load_digits\n",
    "from sklearn.model_selection import train_test_split\n",
    "from sklearn.metrics import classification_report\n",
    "from sklearn.metrics import confusion_matrix\n",
    "from sklearn.metrics import *\n",
    "\n",
    "import numpy as np\n",
    "import pandas as pd\n",
    "import matplotlib.pyplot as plt\n",
    "\n",
    "print(sklearn.__version__)"
   ]
  },
  {
   "cell_type": "markdown",
   "metadata": {},
   "source": [
    "#### (2) 데이터 준비"
   ]
  },
  {
   "cell_type": "markdown",
   "metadata": {},
   "source": [
    "- <span style = \"color: #0000FF\">load_digits()을 사용해 digit 데이터를 digits 란 이름 변수에 넣는다.</span>\n",
    "- digits 변수가 어떤 변수와 메서드를 가지고 있는지 나열\n",
    "- digits의 정보"
   ]
  },
  {
   "cell_type": "code",
   "execution_count": 2,
   "metadata": {},
   "outputs": [
    {
     "name": "stdout",
     "output_type": "stream",
     "text": [
      "['DESCR', 'data', 'feature_names', 'frame', 'images', 'target', 'target_names']\n",
      "dict_keys(['data', 'target', 'frame', 'feature_names', 'target_names', 'images', 'DESCR'])\n"
     ]
    }
   ],
   "source": [
    "digits = load_digits()\n",
    "print(dir(digits))\n",
    "print(digits.keys())"
   ]
  },
  {
   "cell_type": "markdown",
   "metadata": {},
   "source": [
    "#### (3) 데이터 이해하기"
   ]
  },
  {
   "cell_type": "markdown",
   "metadata": {},
   "source": [
    "- <span style = \"color: #0000FF\">Feature Data 지정하기</span>\n",
    "  - digits의 data(feature)를 digits_data에 넣기\n",
    "  - digits_data의 형태 : 1797행, 64열\n",
    "  - 8 * 8 이미지 픽셀 1797개 입니다. \n",
    "- <span style = \"color: #0000FF\">Label(target) Data 지정하기</span>\n",
    "  - digits의 label을 digits_label에 넣기\n",
    "  - DataFrame에 feature data 넣기\n",
    "  - target을 통해 Dataframe에 label column 생성\n",
    "- <span style = \"color: #0000FF\">Target Names 출력해 보기</span>\n",
    "  - 0 ~ 9 : 글자들이 해당 숫자들 중 하나입니다.\n",
    "- <span style = \"color: #0000FF\">데이터 Describe 해 보기</span>"
   ]
  },
  {
   "cell_type": "code",
   "execution_count": 3,
   "metadata": {},
   "outputs": [
    {
     "name": "stdout",
     "output_type": "stream",
     "text": [
      "(1797, 64)\n",
      "[ 0.  0.  5. 13.  9.  1.  0.  0.  0.  0. 13. 15. 10. 15.  5.  0.  0.  3.\n",
      " 15.  2.  0. 11.  8.  0.  0.  4. 12.  0.  0.  8.  8.  0.  0.  5.  8.  0.\n",
      "  0.  9.  8.  0.  0.  4. 11.  0.  1. 12.  7.  0.  0.  2. 14.  5. 10. 12.\n",
      "  0.  0.  0.  0.  6. 13. 10.  0.  0.  0.]\n",
      "[0 1 2 3 4 5 6 7 8 9]\n"
     ]
    }
   ],
   "source": [
    "# print(digits.feature_names)\n",
    "digits_data = digits.data\n",
    "print(digits_data.shape)\n",
    "print(digits_data[0])\n",
    "digits_label = digits.target\n",
    "digits_df = pd.DataFrame(data = digits_data, columns=digits.feature_names)\n",
    "# print(digits_df)\n",
    "digits_df[\"label\"] = digits_label\n",
    "# print(digits_df)\n",
    "print(digits.target_names)"
   ]
  },
  {
   "cell_type": "code",
   "execution_count": 4,
   "metadata": {},
   "outputs": [
    {
     "name": "stdout",
     "output_type": "stream",
     "text": [
      ".. _digits_dataset:\n",
      "\n",
      "Optical recognition of handwritten digits dataset\n",
      "--------------------------------------------------\n",
      "\n",
      "**Data Set Characteristics:**\n",
      "\n",
      "    :Number of Instances: 1797\n",
      "    :Number of Attributes: 64\n",
      "    :Attribute Information: 8x8 image of integer pixels in the range 0..16.\n",
      "    :Missing Attribute Values: None\n",
      "    :Creator: E. Alpaydin (alpaydin '@' boun.edu.tr)\n",
      "    :Date: July; 1998\n",
      "\n",
      "This is a copy of the test set of the UCI ML hand-written digits datasets\n",
      "https://archive.ics.uci.edu/ml/datasets/Optical+Recognition+of+Handwritten+Digits\n",
      "\n",
      "The data set contains images of hand-written digits: 10 classes where\n",
      "each class refers to a digit.\n",
      "\n",
      "Preprocessing programs made available by NIST were used to extract\n",
      "normalized bitmaps of handwritten digits from a preprinted form. From a\n",
      "total of 43 people, 30 contributed to the training set and different 13\n",
      "to the test set. 32x32 bitmaps are divided into nonoverlapping blocks of\n",
      "4x4 and the number of on pixels are counted in each block. This generates\n",
      "an input matrix of 8x8 where each element is an integer in the range\n",
      "0..16. This reduces dimensionality and gives invariance to small\n",
      "distortions.\n",
      "\n",
      "For info on NIST preprocessing routines, see M. D. Garris, J. L. Blue, G.\n",
      "T. Candela, D. L. Dimmick, J. Geist, P. J. Grother, S. A. Janet, and C.\n",
      "L. Wilson, NIST Form-Based Handprint Recognition System, NISTIR 5469,\n",
      "1994.\n",
      "\n",
      ".. topic:: References\n",
      "\n",
      "  - C. Kaynak (1995) Methods of Combining Multiple Classifiers and Their\n",
      "    Applications to Handwritten Digit Recognition, MSc Thesis, Institute of\n",
      "    Graduate Studies in Science and Engineering, Bogazici University.\n",
      "  - E. Alpaydin, C. Kaynak (1998) Cascading Classifiers, Kybernetika.\n",
      "  - Ken Tang and Ponnuthurai N. Suganthan and Xi Yao and A. Kai Qin.\n",
      "    Linear dimensionalityreduction using relevance weighted LDA. School of\n",
      "    Electrical and Electronic Engineering Nanyang Technological University.\n",
      "    2005.\n",
      "  - Claudio Gentile. A New Approximate Maximal Margin Classification\n",
      "    Algorithm. NIPS. 2000.\n",
      "\n"
     ]
    }
   ],
   "source": [
    "# digits Describe 해보기\n",
    "print(digits.DESCR)"
   ]
  },
  {
   "cell_type": "markdown",
   "metadata": {},
   "source": [
    "#### (4) train, test 데이터 분리"
   ]
  },
  {
   "cell_type": "markdown",
   "metadata": {},
   "source": [
    "- digits_data와 digits_label을 가지고 분리\n",
    "- 25%를 test 데이터로 사용"
   ]
  },
  {
   "cell_type": "code",
   "execution_count": 5,
   "metadata": {},
   "outputs": [],
   "source": [
    "X_train, X_test, y_train, y_test = train_test_split(digits_data, digits_label, test_size=0.25, random_state=42)"
   ]
  },
  {
   "cell_type": "markdown",
   "metadata": {},
   "source": [
    "#### (5) 다양한 모델로 학습시켜보기"
   ]
  },
  {
   "cell_type": "markdown",
   "metadata": {},
   "source": [
    "- <span style = \"color: #0000FF\">Decision Tree 사용해 보기</span>\n",
    "- <span style = \"color: #0000FF\">Random Forest 사용해 보기</span>\n",
    "- <span style = \"color: #0000FF\">SVM 사용해 보기</span>\n",
    "- <span style = \"color: #0000FF\">SGD Classifier 사용해 보기</span>\n",
    "- <span style = \"color: #0000FF\">Logistic Regression 사용해 보기</span>"
   ]
  },
  {
   "cell_type": "markdown",
   "metadata": {},
   "source": [
    "학습시키기 전에 앞서 추후 분석을 용이하게 하기 위해 Estimator 별로 데이터를 가지는 DataFrame을 만들겠습니다."
   ]
  },
  {
   "cell_type": "code",
   "execution_count": 6,
   "metadata": {},
   "outputs": [],
   "source": [
    "myArr = np.zeros((5,7)) # 0으로된 배열로 초기화\n",
    "# myArr2 = np.zeros((5,4)) \n",
    "\n",
    "# put values in list (precision, recall, f1score, accuracy)\n",
    "estimatorName = ['decision_tree', 'random_forest', 'SVM', 'SGD', 'logistic_regression'] # 5개 - row\n",
    "metricsName = ['precision_weighted','precision_macro','recall_weighted','recall_macro','f1_score_weighted','f1_score_macro','accuracy'] # 7개 - col\n",
    "# 지표별 비교를 위해 사용할 name list\n",
    "# col_name : 그래프의 x축 표시용, col_name2 : weighted 와 macro에 추가되는 열, col_weighted, macro : 각각 df에 처음 들어가는 열\n",
    "col_name = ['Precision', 'Recall', 'F1-score', 'Accuracy']\n",
    "col_name2 = [\"max\", \"max_value\", \"min\", \"min_value\", \"mean\"]\n",
    "col_macro = ['precision_macro', 'recall_macro', 'f1_score_macro', 'accuracy']\n",
    "col_weighted = ['precision_weighted', 'recall_weighted', 'f1_score_weighted', 'accuracy']\n",
    "\n",
    "df_digits = pd.DataFrame(myArr, columns = metricsName, index = estimatorName)\n",
    "# df_digits_weighted = pd.DataFrame(myArr2, columns = col_weighted, index = estimatorName)\n",
    "# df_digits_macro= pd.DataFrame(myArr2, columns = col_macro, index = estimatorName)\n",
    "\n",
    "# weighted 와 macro df를 만듭니다.(기존 df의 'weighted 지표값과 accuracy', 'macro 지표값과 accuracy'를 가져와서 만듭니다. )\n",
    "df_digits_weighted = df_digits.loc[ :, [ ('weighted' in i or i == 'accuracy') for i in df_digits.columns]].copy()\n",
    "df_digits_macro = df_digits.loc[ :, [ ('macro' in i or i == 'accuracy') for i in df_digits.columns]].copy()\n",
    "\n",
    "df_digits_weighted.loc[:,col_name2] = [0, 0, 0, 0, 0]\n",
    "df_digits_macro.loc[:,col_name2] = [0, 0, 0, 0, 0]"
   ]
  },
  {
   "cell_type": "markdown",
   "metadata": {},
   "source": [
    "##### Decision Tree"
   ]
  },
  {
   "cell_type": "code",
   "execution_count": 7,
   "metadata": {},
   "outputs": [
    {
     "name": "stdout",
     "output_type": "stream",
     "text": [
      "              precision    recall  f1-score   support\n",
      "\n",
      "           0       0.93      0.91      0.92        43\n",
      "           1       0.79      0.92      0.85        37\n",
      "           2       0.94      0.79      0.86        38\n",
      "           3       0.76      0.83      0.79        46\n",
      "           4       0.93      0.93      0.93        55\n",
      "           5       0.92      0.78      0.84        59\n",
      "           6       0.90      0.98      0.94        45\n",
      "           7       0.85      0.95      0.90        41\n",
      "           8       0.76      0.66      0.70        38\n",
      "           9       0.84      0.88      0.86        48\n",
      "\n",
      "    accuracy                           0.86       450\n",
      "   macro avg       0.86      0.86      0.86       450\n",
      "weighted avg       0.87      0.86      0.86       450\n",
      "\n"
     ]
    }
   ],
   "source": [
    "from sklearn.tree import DecisionTreeClassifier\n",
    "\n",
    "decision_tree = DecisionTreeClassifier()\n",
    "decision_tree.fit(X_train, y_train)\n",
    "y_pred = decision_tree.predict(X_test)\n",
    "print(classification_report(y_test, y_pred))\n",
    "# print(confusion_matrix(y_test,y_pred))\n",
    "\n",
    "E_NAME = 'decision_tree'"
   ]
  },
  {
   "cell_type": "markdown",
   "metadata": {},
   "source": [
    "Decision_tree 를 사용하여 각 라벨마다 precision, recall과 f1-score과 나왔고 전체에 대한 accuracy가 나왔습니다.  \n",
    "전체에 대한 precision, recall, f1-score 값을 나타낼 수 있는 각각의 macro avg와 weighted avg 또한 나왔습니다.  \n",
    "weighted avg는 각 라벨의 샘플 개수인 supprot에 따라 비율을 적용한 것 이고 macro avg는 개수를 고려하지 않은 것 입니다."
   ]
  },
  {
   "cell_type": "code",
   "execution_count": 8,
   "metadata": {},
   "outputs": [],
   "source": [
    "# 각 지표값을 구해서 df, df_weighted, df_macro에 넣습니다.\n",
    "pre_w = precision_score(y_test, y_pred, average = 'weighted')\n",
    "pre_m = precision_score(y_test, y_pred, average = 'macro')\n",
    "rec_w = recall_score(y_test, y_pred, average = 'weighted')\n",
    "rec_m = recall_score(y_test, y_pred, average = 'macro')\n",
    "f1_w = f1_score(y_test, y_pred, average = 'weighted')\n",
    "f1_m = f1_score(y_test, y_pred, average = 'macro')\n",
    "acc = accuracy_score(y_test, y_pred)\n",
    "df_digits.loc[E_NAME] = [pre_w,pre_m,rec_w,rec_m,f1_w,f1_m,acc]\n",
    "df_digits_weighted.loc[E_NAME, col_weighted] = [pre_w, rec_w, f1_w, acc]\n",
    "df_digits_macro.loc[E_NAME, col_macro] = [pre_m, rec_m, f1_m, acc]\n",
    "\n",
    "# weighted 와 macro에 따라 최댓값, 최댓값 이름, 최솟값, 최솟값 이름, 평균을 기존의 df_digits 에서 구하고 각각 df에 추가합니다.\n",
    "# 처음에 weight에서 비교하려고 했으나 문자열이 포함되어있어 idxmax에서 오류가 발생했었습니다.\n",
    "w_mean = df_digits.loc[E_NAME, col_weighted].mean()\n",
    "w_max = df_digits.loc[E_NAME, col_weighted].idxmax()\n",
    "w_max_value = df_digits.loc[E_NAME, col_weighted].max()\n",
    "w_min = df_digits.loc[E_NAME, col_weighted].idxmin()\n",
    "w_min_value = df_digits.loc[E_NAME, col_weighted].min()\n",
    "df_digits_weighted.loc[E_NAME,col_name2] = [w_max, w_max_value, w_min, w_min_value, w_mean]\n",
    "\n",
    "m_mean = df_digits.loc[E_NAME, col_macro].mean() \n",
    "m_max = df_digits.loc[E_NAME, col_macro].idxmax()\n",
    "m_max_value = df_digits.loc[E_NAME, col_macro].max()\n",
    "m_min = df_digits.loc[E_NAME, col_macro].idxmin()\n",
    "m_min_value = df_digits.loc[E_NAME, col_macro].min()\n",
    "df_digits_macro.loc[E_NAME,col_name2] = [m_max, m_max_value, m_min, m_min_value, m_mean]"
   ]
  },
  {
   "cell_type": "markdown",
   "metadata": {},
   "source": [
    "각 지표값과 weighted 와 macro 지표값들의 최댓값, 최솟값, 평균을 구합니다."
   ]
  },
  {
   "cell_type": "code",
   "execution_count": 9,
   "metadata": {},
   "outputs": [
    {
     "data": {
      "image/png": "[encoded data removed]",
      "text/plain": [
       "<Figure size 432x288 with 1 Axes>"
      ]
     },
     "metadata": {
      "needs_background": "light"
     },
     "output_type": "display_data"
    },
    {
     "name": "stdout",
     "output_type": "stream",
     "text": [
      "weighted 지표들 중 최댓값 :   precision_weighted = 0.86517      최솟값 :    f1_score_weighted = 0.86108      평균 : 0.86267 입니다.\n",
      "   macro 지표들 중 최댓값 :             accuracy = 0.86222      최솟값 :       f1_score_macro = 0.85819      평균 : 0.86054 입니다.\n"
     ]
    }
   ],
   "source": [
    "plt.plot(col_name, df_digits_macro.loc[E_NAME, col_macro], label = \"macro\")\n",
    "plt.scatter(col_name, df_digits_macro.loc[E_NAME, col_macro])\n",
    "plt.plot(col_name, df_digits_weighted.loc[E_NAME, col_weighted], label = \"weighted\")\n",
    "plt.scatter(col_name, df_digits_weighted.loc[E_NAME, col_weighted])\n",
    "plt.legend()\n",
    "plt.show()\n",
    "\n",
    "print(\"weighted 지표들 중 최댓값 :\", df_digits_weighted.loc[E_NAME, \"max\"].rjust(20),\"=\", round(df_digits_weighted.loc[E_NAME,\"max_value\"],5),\\\n",
    "      \"     최솟값 :\", df_digits_weighted.loc[E_NAME, \"min\"].rjust(20),\"=\", round(df_digits_weighted.loc[E_NAME, \"min_value\"], 5),\\\n",
    "      \"     평균 :\", round(df_digits_weighted.loc[E_NAME, \"mean\"], 5), \"입니다.\")\n",
    "print(\"   macro 지표들 중 최댓값 :\", df_digits_macro.loc[E_NAME, \"max\"].rjust(20),\"=\", round(df_digits_macro.loc[E_NAME,\"max_value\"],5),\\\n",
    "      \"     최솟값 :\", df_digits_macro.loc[E_NAME, \"min\"].rjust(20),\"=\", round(df_digits_macro.loc[E_NAME, \"min_value\"], 5),\\\n",
    "      \"     평균 :\", round(df_digits_macro.loc[E_NAME, \"mean\"], 5), \"입니다.\")"
   ]
  },
  {
   "cell_type": "code",
   "execution_count": 10,
   "metadata": {},
   "outputs": [
    {
     "name": "stdout",
     "output_type": "stream",
     "text": [
      "weighted 지표들의 값이 macro 지표들 값보다 높습니다.\n"
     ]
    }
   ],
   "source": [
    "if (df_digits.loc[E_NAME, 'precision_weighted'] > df_digits.loc[E_NAME, 'precision_macro']) \\\n",
    "    and (df_digits.loc[E_NAME, 'recall_weighted'] > df_digits.loc[E_NAME, 'recall_macro'])\\\n",
    "    and (df_digits.loc[E_NAME, 'f1_score_weighted'] > df_digits.loc[E_NAME, 'f1_score_macro']):\n",
    "        print(\"weighted 지표들의 값이 macro 지표들 값보다 높습니다.\")\n",
    "elif (df_digits.loc[E_NAME, 'precision_weighted'] < df_digits.loc[E_NAME, 'precision_macro']) \\\n",
    "    and (df_digits.loc[E_NAME, 'recall_weighted'] < df_digits.loc[E_NAME, 'recall_macro'])\\\n",
    "    and (df_digits.loc[E_NAME, 'f1_score_weighted'] < df_digits.loc[E_NAME, 'f1_score_macro']):\n",
    "        print(\"macro 지표들의 값이 weighted 지표들 값보다 높습니다.\")\n",
    "else:\n",
    "    print(\"지표들이 다양하게 나옵니다.\")\n",
    "    if df_digits_weighted.loc[E_NAME, 'mean'] > df_digits_macro.loc[E_NAME, 'mean']:\n",
    "        print(\"단, 지표들의 평균 값은 weighted 지표들이 더 높습니다.\")\n",
    "    elif df_digits_weighted.loc[E_NAME, 'mean'] < df_digits_macro.loc[E_NAME, 'mean']:\n",
    "        print(\"단, 지표들의 평균 값은 macro 지표들이 더 높습니다.\")\n",
    "    else:\n",
    "        print(\"그런데 두 지표들의 평균은 같습니다.\")"
   ]
  },
  {
   "cell_type": "markdown",
   "metadata": {},
   "source": [
    "##### Random Forest\n"
   ]
  },
  {
   "cell_type": "code",
   "execution_count": 11,
   "metadata": {},
   "outputs": [
    {
     "name": "stdout",
     "output_type": "stream",
     "text": [
      "              precision    recall  f1-score   support\n",
      "\n",
      "           0       1.00      0.98      0.99        43\n",
      "           1       0.97      1.00      0.99        37\n",
      "           2       1.00      1.00      1.00        38\n",
      "           3       1.00      0.93      0.97        46\n",
      "           4       0.98      1.00      0.99        55\n",
      "           5       0.95      0.98      0.97        59\n",
      "           6       0.98      0.98      0.98        45\n",
      "           7       0.98      1.00      0.99        41\n",
      "           8       0.95      0.97      0.96        38\n",
      "           9       1.00      0.96      0.98        48\n",
      "\n",
      "    accuracy                           0.98       450\n",
      "   macro avg       0.98      0.98      0.98       450\n",
      "weighted avg       0.98      0.98      0.98       450\n",
      "\n"
     ]
    }
   ],
   "source": [
    "from sklearn.ensemble import RandomForestClassifier\n",
    "random_forest = RandomForestClassifier()\n",
    "random_forest.fit(X_train, y_train)\n",
    "y_pred = random_forest.predict(X_test)\n",
    "print(classification_report(y_test, y_pred))\n",
    "#print(confusion_matrix(y_test,y_pred))\n",
    "\n",
    "E_NAME = 'random_forest'"
   ]
  },
  {
   "cell_type": "markdown",
   "metadata": {},
   "source": [
    "Random Forest 또한 각 라벨마다 precision, recall과 f1-score과 나왔고 전체에 대한 accuracy가 나왔습니다."
   ]
  },
  {
   "cell_type": "code",
   "execution_count": 12,
   "metadata": {},
   "outputs": [],
   "source": [
    "# 각 지표값을 구해서 df, df_weighted, df_macro에 넣습니다.\n",
    "pre_w = precision_score(y_test, y_pred, average = 'weighted')\n",
    "pre_m = precision_score(y_test, y_pred, average = 'macro')\n",
    "rec_w = recall_score(y_test, y_pred, average = 'weighted')\n",
    "rec_m = recall_score(y_test, y_pred, average = 'macro')\n",
    "f1_w = f1_score(y_test, y_pred, average = 'weighted')\n",
    "f1_m = f1_score(y_test, y_pred, average = 'macro')\n",
    "acc = accuracy_score(y_test, y_pred)\n",
    "df_digits.loc[E_NAME] = [pre_w,pre_m,rec_w,rec_m,f1_w,f1_m,acc]\n",
    "df_digits_weighted.loc[E_NAME, col_weighted] = [pre_w, rec_w, f1_w, acc]\n",
    "df_digits_macro.loc[E_NAME, col_macro] = [pre_m, rec_m, f1_m, acc]\n",
    "\n",
    "# weighted 와 macro에 따라 최댓값, 최댓값 이름, 최솟값, 최솟값 이름, 평균을 기존의 df_digits 에서 구하고 각각 df에 추가합니다.\n",
    "# 처음에 weight에서 비교하려고 했으나 문자열이 포함되어있어 idxmax에서 오류가 발생했었습니다.\n",
    "w_mean = df_digits.loc[E_NAME, col_weighted].mean()\n",
    "w_max = df_digits.loc[E_NAME, col_weighted].idxmax()\n",
    "w_max_value = df_digits.loc[E_NAME, col_weighted].max()\n",
    "w_min = df_digits.loc[E_NAME, col_weighted].idxmin()\n",
    "w_min_value = df_digits.loc[E_NAME, col_weighted].min()\n",
    "df_digits_weighted.loc[E_NAME,col_name2] = [w_max, w_max_value, w_min, w_min_value, w_mean]\n",
    "\n",
    "m_mean = df_digits.loc[E_NAME, col_macro].mean() \n",
    "m_max = df_digits.loc[E_NAME, col_macro].idxmax()\n",
    "m_max_value = df_digits.loc[E_NAME, col_macro].max()\n",
    "m_min = df_digits.loc[E_NAME, col_macro].idxmin()\n",
    "m_min_value = df_digits.loc[E_NAME, col_macro].min()\n",
    "df_digits_macro.loc[E_NAME,col_name2] = [m_max, m_max_value, m_min, m_min_value, m_mean]"
   ]
  },
  {
   "cell_type": "markdown",
   "metadata": {},
   "source": [
    "각 지표값과 weighted 와 macro 지표값들의 최댓값, 최솟값, 평균을 구합니다."
   ]
  },
  {
   "cell_type": "code",
   "execution_count": 13,
   "metadata": {},
   "outputs": [
    {
     "data": {
      "image/png": "[encoded data removed]",
      "text/plain": [
       "<Figure size 432x288 with 1 Axes>"
      ]
     },
     "metadata": {
      "needs_background": "light"
     },
     "output_type": "display_data"
    },
    {
     "name": "stdout",
     "output_type": "stream",
     "text": [
      "weighted 지표들 중 최댓값 :   precision_weighted = 0.98048      최솟값 :    f1_score_weighted = 0.97998      평균 : 0.98012 입니다.\n",
      "   macro 지표들 중 최댓값 :      precision_macro = 0.98093      최솟값 :             accuracy = 0.98      평균 : 0.98045 입니다.\n"
     ]
    }
   ],
   "source": [
    "plt.plot(col_name, df_digits_macro.loc[E_NAME, col_macro], label = \"macro\")\n",
    "plt.scatter(col_name, df_digits_macro.loc[E_NAME, col_macro])\n",
    "plt.plot(col_name, df_digits_weighted.loc[E_NAME, col_weighted], label = \"weighted\")\n",
    "plt.scatter(col_name, df_digits_weighted.loc[E_NAME, col_weighted])\n",
    "plt.legend()\n",
    "plt.show()\n",
    "\n",
    "print(\"weighted 지표들 중 최댓값 :\", df_digits_weighted.loc[E_NAME, \"max\"].rjust(20),\"=\", round(df_digits_weighted.loc[E_NAME,\"max_value\"],5),\\\n",
    "      \"     최솟값 :\", df_digits_weighted.loc[E_NAME, \"min\"].rjust(20),\"=\", round(df_digits_weighted.loc[E_NAME, \"min_value\"], 5),\\\n",
    "      \"     평균 :\", round(df_digits_weighted.loc[E_NAME, \"mean\"], 5), \"입니다.\")\n",
    "print(\"   macro 지표들 중 최댓값 :\", df_digits_macro.loc[E_NAME, \"max\"].rjust(20),\"=\", round(df_digits_macro.loc[E_NAME,\"max_value\"],5),\\\n",
    "      \"     최솟값 :\", df_digits_macro.loc[E_NAME, \"min\"].rjust(20),\"=\", round(df_digits_macro.loc[E_NAME, \"min_value\"], 5),\\\n",
    "      \"     평균 :\", round(df_digits_macro.loc[E_NAME, \"mean\"], 5), \"입니다.\")"
   ]
  },
  {
   "cell_type": "code",
   "execution_count": 14,
   "metadata": {},
   "outputs": [
    {
     "name": "stdout",
     "output_type": "stream",
     "text": [
      "macro 지표들의 값이 weighted 지표들 값보다 높습니다.\n"
     ]
    }
   ],
   "source": [
    "if (df_digits.loc[E_NAME, 'precision_weighted'] > df_digits.loc[E_NAME, 'precision_macro']) \\\n",
    "    and (df_digits.loc[E_NAME, 'recall_weighted'] > df_digits.loc[E_NAME, 'recall_macro'])\\\n",
    "    and (df_digits.loc[E_NAME, 'f1_score_weighted'] > df_digits.loc[E_NAME, 'f1_score_macro']):\n",
    "        print(\"weighted 지표들의 값이 macro 지표들 값보다 높습니다.\")\n",
    "elif (df_digits.loc[E_NAME, 'precision_weighted'] < df_digits.loc[E_NAME, 'precision_macro']) \\\n",
    "    and (df_digits.loc[E_NAME, 'recall_weighted'] < df_digits.loc[E_NAME, 'recall_macro'])\\\n",
    "    and (df_digits.loc[E_NAME, 'f1_score_weighted'] < df_digits.loc[E_NAME, 'f1_score_macro']):\n",
    "        print(\"macro 지표들의 값이 weighted 지표들 값보다 높습니다.\")\n",
    "else:\n",
    "    print(\"지표들이 다양하게 나옵니다.\")\n",
    "    if df_digits_weighted.loc[E_NAME, 'mean'] > df_digits_macro.loc[E_NAME, 'mean']:\n",
    "        print(\"단, 지표들의 평균 값은 weighted 지표들이 더 높습니다.\")\n",
    "    elif df_digits_weighted.loc[E_NAME, 'mean'] < df_digits_macro.loc[E_NAME, 'mean']:\n",
    "        print(\"단, 지표들의 평균 값은 macro 지표들이 더 높습니다.\")\n",
    "    else:\n",
    "        print(\"그런데 두 지표들의 평균은 같습니다.\")"
   ]
  },
  {
   "cell_type": "markdown",
   "metadata": {},
   "source": [
    "##### Support Vector Machine (SVM)\n"
   ]
  },
  {
   "cell_type": "code",
   "execution_count": 15,
   "metadata": {},
   "outputs": [
    {
     "name": "stdout",
     "output_type": "stream",
     "text": [
      "              precision    recall  f1-score   support\n",
      "\n",
      "           0       1.00      1.00      1.00        43\n",
      "           1       1.00      1.00      1.00        37\n",
      "           2       1.00      1.00      1.00        38\n",
      "           3       1.00      0.98      0.99        46\n",
      "           4       1.00      1.00      1.00        55\n",
      "           5       0.98      0.98      0.98        59\n",
      "           6       0.98      1.00      0.99        45\n",
      "           7       0.98      0.98      0.98        41\n",
      "           8       0.97      0.97      0.97        38\n",
      "           9       0.96      0.96      0.96        48\n",
      "\n",
      "    accuracy                           0.99       450\n",
      "   macro avg       0.99      0.99      0.99       450\n",
      "weighted avg       0.99      0.99      0.99       450\n",
      "\n"
     ]
    }
   ],
   "source": [
    "from sklearn import svm\n",
    "\n",
    "svm_model = svm.SVC()\n",
    "svm_model.fit(X_train, y_train)\n",
    "y_pred = svm_model.predict(X_test)\n",
    "print(classification_report(y_test, y_pred))\n",
    "#print(confusion_matrix(y_test,y_pred))\n",
    "\n",
    "E_NAME = 'SVM'"
   ]
  },
  {
   "cell_type": "markdown",
   "metadata": {},
   "source": [
    "SVM 또한 각 라벨마다 precision, recall과 f1-score과 나왔고 전체에 대한 accuracy가 나왔습니다."
   ]
  },
  {
   "cell_type": "code",
   "execution_count": 16,
   "metadata": {},
   "outputs": [],
   "source": [
    "# 각 지표값을 구해서 df, df_weighted, df_macro에 넣습니다.\n",
    "pre_w = precision_score(y_test, y_pred, average = 'weighted')\n",
    "pre_m = precision_score(y_test, y_pred, average = 'macro')\n",
    "rec_w = recall_score(y_test, y_pred, average = 'weighted')\n",
    "rec_m = recall_score(y_test, y_pred, average = 'macro')\n",
    "f1_w = f1_score(y_test, y_pred, average = 'weighted')\n",
    "f1_m = f1_score(y_test, y_pred, average = 'macro')\n",
    "acc = accuracy_score(y_test, y_pred)\n",
    "df_digits.loc[E_NAME] = [pre_w,pre_m,rec_w,rec_m,f1_w,f1_m,acc]\n",
    "df_digits_weighted.loc[E_NAME, col_weighted] = [pre_w, rec_w, f1_w, acc]\n",
    "df_digits_macro.loc[E_NAME, col_macro] = [pre_m, rec_m, f1_m, acc]\n",
    "\n",
    "# weighted 와 macro에 따라 최댓값, 최댓값 이름, 최솟값, 최솟값 이름, 평균을 기존의 df_digits 에서 구하고 각각 df에 추가합니다.\n",
    "# 처음에 weight에서 비교하려고 했으나 문자열이 포함되어있어 idxmax에서 오류가 발생했었습니다.\n",
    "w_mean = df_digits.loc[E_NAME, col_weighted].mean()\n",
    "w_max = df_digits.loc[E_NAME, col_weighted].idxmax()\n",
    "w_max_value = df_digits.loc[E_NAME, col_weighted].max()\n",
    "w_min = df_digits.loc[E_NAME, col_weighted].idxmin()\n",
    "w_min_value = df_digits.loc[E_NAME, col_weighted].min()\n",
    "df_digits_weighted.loc[E_NAME,col_name2] = [w_max, w_max_value, w_min, w_min_value, w_mean]\n",
    "\n",
    "m_mean = df_digits.loc[E_NAME, col_macro].mean() \n",
    "m_max = df_digits.loc[E_NAME, col_macro].idxmax()\n",
    "m_max_value = df_digits.loc[E_NAME, col_macro].max()\n",
    "m_min = df_digits.loc[E_NAME, col_macro].idxmin()\n",
    "m_min_value = df_digits.loc[E_NAME, col_macro].min()\n",
    "df_digits_macro.loc[E_NAME,col_name2] = [m_max, m_max_value, m_min, m_min_value, m_mean]"
   ]
  },
  {
   "cell_type": "markdown",
   "metadata": {},
   "source": [
    "각 지표값과 weighted 와 macro 지표값들의 최댓값, 최솟값, 평균을 구합니다."
   ]
  },
  {
   "cell_type": "code",
   "execution_count": 17,
   "metadata": {},
   "outputs": [
    {
     "data": {
      "image/png": "[encoded data removed]",
      "text/plain": [
       "<Figure size 432x288 with 1 Axes>"
      ]
     },
     "metadata": {
      "needs_background": "light"
     },
     "output_type": "display_data"
    },
    {
     "name": "stdout",
     "output_type": "stream",
     "text": [
      "weighted 지표들 중 최댓값 :   precision_weighted = 0.98671      최솟값 :      recall_weighted = 0.98667      평균 : 0.98668 입니다.\n",
      "   macro 지표들 중 최댓값 :      precision_macro = 0.98689      최솟값 :             accuracy = 0.98667      평균 : 0.98683 입니다.\n"
     ]
    }
   ],
   "source": [
    "plt.plot(col_name, df_digits_macro.loc[E_NAME, col_macro], label = \"macro\")\n",
    "plt.scatter(col_name, df_digits_macro.loc[E_NAME, col_macro])\n",
    "plt.plot(col_name, df_digits_weighted.loc[E_NAME, col_weighted], label = \"weighted\")\n",
    "plt.scatter(col_name, df_digits_weighted.loc[E_NAME, col_weighted])\n",
    "plt.legend()\n",
    "plt.show()\n",
    "\n",
    "print(\"weighted 지표들 중 최댓값 :\", df_digits_weighted.loc[E_NAME, \"max\"].rjust(20),\"=\", round(df_digits_weighted.loc[E_NAME,\"max_value\"],5),\\\n",
    "      \"     최솟값 :\", df_digits_weighted.loc[E_NAME, \"min\"].rjust(20),\"=\", round(df_digits_weighted.loc[E_NAME, \"min_value\"], 5),\\\n",
    "      \"     평균 :\", round(df_digits_weighted.loc[E_NAME, \"mean\"], 5), \"입니다.\")\n",
    "print(\"   macro 지표들 중 최댓값 :\", df_digits_macro.loc[E_NAME, \"max\"].rjust(20),\"=\", round(df_digits_macro.loc[E_NAME,\"max_value\"],5),\\\n",
    "      \"     최솟값 :\", df_digits_macro.loc[E_NAME, \"min\"].rjust(20),\"=\", round(df_digits_macro.loc[E_NAME, \"min_value\"], 5),\\\n",
    "      \"     평균 :\", round(df_digits_macro.loc[E_NAME, \"mean\"], 5), \"입니다.\")"
   ]
  },
  {
   "cell_type": "code",
   "execution_count": 18,
   "metadata": {},
   "outputs": [
    {
     "name": "stdout",
     "output_type": "stream",
     "text": [
      "macro 지표들의 값이 weighted 지표들 값보다 높습니다.\n"
     ]
    }
   ],
   "source": [
    "if (df_digits.loc[E_NAME, 'precision_weighted'] > df_digits.loc[E_NAME, 'precision_macro']) \\\n",
    "    and (df_digits.loc[E_NAME, 'recall_weighted'] > df_digits.loc[E_NAME, 'recall_macro'])\\\n",
    "    and (df_digits.loc[E_NAME, 'f1_score_weighted'] > df_digits.loc[E_NAME, 'f1_score_macro']):\n",
    "        print(\"weighted 지표들의 값이 macro 지표들 값보다 높습니다.\")\n",
    "elif (df_digits.loc[E_NAME, 'precision_weighted'] < df_digits.loc[E_NAME, 'precision_macro']) \\\n",
    "    and (df_digits.loc[E_NAME, 'recall_weighted'] < df_digits.loc[E_NAME, 'recall_macro'])\\\n",
    "    and (df_digits.loc[E_NAME, 'f1_score_weighted'] < df_digits.loc[E_NAME, 'f1_score_macro']):\n",
    "        print(\"macro 지표들의 값이 weighted 지표들 값보다 높습니다.\")\n",
    "else:\n",
    "    print(\"지표들이 다양하게 나옵니다.\")\n",
    "    if df_digits_weighted.loc[E_NAME, 'mean'] > df_digits_macro.loc[E_NAME, 'mean']:\n",
    "        print(\"단, 지표들의 평균 값은 weighted 지표들이 더 높습니다.\")\n",
    "    elif df_digits_weighted.loc[E_NAME, 'mean'] < df_digits_macro.loc[E_NAME, 'mean']:\n",
    "        print(\"단, 지표들의 평균 값은 macro 지표들이 더 높습니다.\")\n",
    "    else:\n",
    "        print(\"그런데 두 지표들의 평균은 같습니다.\")"
   ]
  },
  {
   "cell_type": "markdown",
   "metadata": {},
   "source": [
    "##### SGD Classifier\n"
   ]
  },
  {
   "cell_type": "code",
   "execution_count": 19,
   "metadata": {},
   "outputs": [
    {
     "name": "stdout",
     "output_type": "stream",
     "text": [
      "              precision    recall  f1-score   support\n",
      "\n",
      "           0       1.00      1.00      1.00        43\n",
      "           1       0.82      1.00      0.90        37\n",
      "           2       0.97      1.00      0.99        38\n",
      "           3       1.00      0.93      0.97        46\n",
      "           4       1.00      0.96      0.98        55\n",
      "           5       0.95      0.93      0.94        59\n",
      "           6       0.94      0.98      0.96        45\n",
      "           7       1.00      0.98      0.99        41\n",
      "           8       0.89      0.82      0.85        38\n",
      "           9       0.94      0.92      0.93        48\n",
      "\n",
      "    accuracy                           0.95       450\n",
      "   macro avg       0.95      0.95      0.95       450\n",
      "weighted avg       0.95      0.95      0.95       450\n",
      "\n"
     ]
    }
   ],
   "source": [
    "from sklearn.linear_model import SGDClassifier\n",
    "\n",
    "sgd_model = SGDClassifier()\n",
    "sgd_model.fit(X_train, y_train)\n",
    "y_pred = sgd_model.predict(X_test)\n",
    "print(classification_report(y_test, y_pred))\n",
    "#print(confusion_matrix(y_test,y_pred))\n",
    "\n",
    "E_NAME = 'SGD'"
   ]
  },
  {
   "cell_type": "markdown",
   "metadata": {},
   "source": [
    "SGD 또한 각 라벨마다 precision, recall과 f1-score과 나왔고 전체에 대한 accuracy가 나왔습니다."
   ]
  },
  {
   "cell_type": "code",
   "execution_count": 20,
   "metadata": {},
   "outputs": [],
   "source": [
    "# 각 지표값을 구해서 df, df_weighted, df_macro에 넣습니다.\n",
    "pre_w = precision_score(y_test, y_pred, average = 'weighted')\n",
    "pre_m = precision_score(y_test, y_pred, average = 'macro')\n",
    "rec_w = recall_score(y_test, y_pred, average = 'weighted')\n",
    "rec_m = recall_score(y_test, y_pred, average = 'macro')\n",
    "f1_w = f1_score(y_test, y_pred, average = 'weighted')\n",
    "f1_m = f1_score(y_test, y_pred, average = 'macro')\n",
    "acc = accuracy_score(y_test, y_pred)\n",
    "df_digits.loc[E_NAME] = [pre_w,pre_m,rec_w,rec_m,f1_w,f1_m,acc]\n",
    "df_digits_weighted.loc[E_NAME, col_weighted] = [pre_w, rec_w, f1_w, acc]\n",
    "df_digits_macro.loc[E_NAME, col_macro] = [pre_m, rec_m, f1_m, acc]\n",
    "\n",
    "# weighted 와 macro에 따라 최댓값, 최댓값 이름, 최솟값, 최솟값 이름, 평균을 기존의 df_digits 에서 구하고 각각 df에 추가합니다.\n",
    "# 처음에 weight에서 비교하려고 했으나 문자열이 포함되어있어 idxmax에서 오류가 발생했었습니다.\n",
    "w_mean = df_digits.loc[E_NAME, col_weighted].mean()\n",
    "w_max = df_digits.loc[E_NAME, col_weighted].idxmax()\n",
    "w_max_value = df_digits.loc[E_NAME, col_weighted].max()\n",
    "w_min = df_digits.loc[E_NAME, col_weighted].idxmin()\n",
    "w_min_value = df_digits.loc[E_NAME, col_weighted].min()\n",
    "df_digits_weighted.loc[E_NAME,col_name2] = [w_max, w_max_value, w_min, w_min_value, w_mean]\n",
    "\n",
    "m_mean = df_digits.loc[E_NAME, col_macro].mean() \n",
    "m_max = df_digits.loc[E_NAME, col_macro].idxmax()\n",
    "m_max_value = df_digits.loc[E_NAME, col_macro].max()\n",
    "m_min = df_digits.loc[E_NAME, col_macro].idxmin()\n",
    "m_min_value = df_digits.loc[E_NAME, col_macro].min()\n",
    "df_digits_macro.loc[E_NAME,col_name2] = [m_max, m_max_value, m_min, m_min_value, m_mean]"
   ]
  },
  {
   "cell_type": "markdown",
   "metadata": {},
   "source": [
    "각 지표값과 weighted 와 macro 지표값들의 최댓값, 최솟값, 평균을 구합니다."
   ]
  },
  {
   "cell_type": "code",
   "execution_count": 21,
   "metadata": {},
   "outputs": [
    {
     "data": {
      "image/png": "[encoded data removed]",
      "text/plain": [
       "<Figure size 432x288 with 1 Axes>"
      ]
     },
     "metadata": {
      "needs_background": "light"
     },
     "output_type": "display_data"
    },
    {
     "name": "stdout",
     "output_type": "stream",
     "text": [
      "weighted 지표들 중 최댓값 :   precision_weighted = 0.95359      최솟값 :      recall_weighted = 0.95111      평균 : 0.95177 입니다.\n",
      "   macro 지표들 중 최댓값 :         recall_macro = 0.95165      최솟값 :       f1_score_macro = 0.94972      평균 : 0.95069 입니다.\n"
     ]
    }
   ],
   "source": [
    "plt.plot(col_name, df_digits_macro.loc[E_NAME, col_macro], label = \"macro\")\n",
    "plt.scatter(col_name, df_digits_macro.loc[E_NAME, col_macro])\n",
    "plt.plot(col_name, df_digits_weighted.loc[E_NAME, col_weighted], label = \"weighted\")\n",
    "plt.scatter(col_name, df_digits_weighted.loc[E_NAME, col_weighted])\n",
    "plt.legend()\n",
    "plt.show()\n",
    "\n",
    "print(\"weighted 지표들 중 최댓값 :\", df_digits_weighted.loc[E_NAME, \"max\"].rjust(20),\"=\", round(df_digits_weighted.loc[E_NAME,\"max_value\"],5),\\\n",
    "      \"     최솟값 :\", df_digits_weighted.loc[E_NAME, \"min\"].rjust(20),\"=\", round(df_digits_weighted.loc[E_NAME, \"min_value\"], 5),\\\n",
    "      \"     평균 :\", round(df_digits_weighted.loc[E_NAME, \"mean\"], 5), \"입니다.\")\n",
    "print(\"   macro 지표들 중 최댓값 :\", df_digits_macro.loc[E_NAME, \"max\"].rjust(20),\"=\", round(df_digits_macro.loc[E_NAME,\"max_value\"],5),\\\n",
    "      \"     최솟값 :\", df_digits_macro.loc[E_NAME, \"min\"].rjust(20),\"=\", round(df_digits_macro.loc[E_NAME, \"min_value\"], 5),\\\n",
    "      \"     평균 :\", round(df_digits_macro.loc[E_NAME, \"mean\"], 5), \"입니다.\")"
   ]
  },
  {
   "cell_type": "code",
   "execution_count": 22,
   "metadata": {},
   "outputs": [
    {
     "name": "stdout",
     "output_type": "stream",
     "text": [
      "지표들이 다양하게 나옵니다.\n",
      "단, 지표들의 평균 값은 weighted 지표들이 더 높습니다.\n"
     ]
    }
   ],
   "source": [
    "if (df_digits.loc[E_NAME, 'precision_weighted'] > df_digits.loc[E_NAME, 'precision_macro']) \\\n",
    "    and (df_digits.loc[E_NAME, 'recall_weighted'] > df_digits.loc[E_NAME, 'recall_macro'])\\\n",
    "    and (df_digits.loc[E_NAME, 'f1_score_weighted'] > df_digits.loc[E_NAME, 'f1_score_macro']):\n",
    "        print(\"weighted 지표들의 값이 macro 지표들 값보다 높습니다.\")\n",
    "elif (df_digits.loc[E_NAME, 'precision_weighted'] < df_digits.loc[E_NAME, 'precision_macro']) \\\n",
    "    and (df_digits.loc[E_NAME, 'recall_weighted'] < df_digits.loc[E_NAME, 'recall_macro'])\\\n",
    "    and (df_digits.loc[E_NAME, 'f1_score_weighted'] < df_digits.loc[E_NAME, 'f1_score_macro']):\n",
    "        print(\"macro 지표들의 값이 weighted 지표들 값보다 높습니다.\")\n",
    "else:\n",
    "    print(\"지표들이 다양하게 나옵니다.\")\n",
    "    if df_digits_weighted.loc[E_NAME, 'mean'] > df_digits_macro.loc[E_NAME, 'mean']:\n",
    "        print(\"단, 지표들의 평균 값은 weighted 지표들이 더 높습니다.\")\n",
    "    elif df_digits_weighted.loc[E_NAME, 'mean'] < df_digits_macro.loc[E_NAME, 'mean']:\n",
    "        print(\"단, 지표들의 평균 값은 macro 지표들이 더 높습니다.\")\n",
    "    else:\n",
    "        print(\"그런데 두 지표들의 평균은 같습니다.\")"
   ]
  },
  {
   "cell_type": "markdown",
   "metadata": {},
   "source": [
    "##### Logistic Regression\n"
   ]
  },
  {
   "cell_type": "code",
   "execution_count": 23,
   "metadata": {},
   "outputs": [
    {
     "name": "stdout",
     "output_type": "stream",
     "text": [
      "              precision    recall  f1-score   support\n",
      "\n",
      "           0       1.00      1.00      1.00        43\n",
      "           1       0.95      0.97      0.96        37\n",
      "           2       0.97      1.00      0.99        38\n",
      "           3       0.98      0.96      0.97        46\n",
      "           4       1.00      0.96      0.98        55\n",
      "           5       0.93      0.97      0.95        59\n",
      "           6       0.98      0.98      0.98        45\n",
      "           7       1.00      0.98      0.99        41\n",
      "           8       0.95      0.97      0.96        38\n",
      "           9       0.98      0.96      0.97        48\n",
      "\n",
      "    accuracy                           0.97       450\n",
      "   macro avg       0.97      0.97      0.97       450\n",
      "weighted avg       0.97      0.97      0.97       450\n",
      "\n"
     ]
    }
   ],
   "source": [
    "from sklearn.linear_model import LogisticRegression\n",
    "\n",
    "logistic_model = LogisticRegression(max_iter = 10**4)\n",
    "logistic_model.fit(X_train, y_train)\n",
    "y_pred = logistic_model.predict(X_test)\n",
    "print(classification_report(y_test, y_pred))\n",
    "#print(confusion_matrix(y_test,y_pred))\n",
    "\n",
    "E_NAME = 'logistic_regression'"
   ]
  },
  {
   "cell_type": "markdown",
   "metadata": {},
   "source": [
    "Logistic Regression 또한 각 라벨마다 precision, recall과 f1-score과 나왔고 전체에 대한 accuracy가 나왔습니다."
   ]
  },
  {
   "cell_type": "code",
   "execution_count": 24,
   "metadata": {},
   "outputs": [],
   "source": [
    "# 각 지표값을 구해서 df, df_weighted, df_macro에 넣습니다.\n",
    "pre_w = precision_score(y_test, y_pred, average = 'weighted')\n",
    "pre_m = precision_score(y_test, y_pred, average = 'macro')\n",
    "rec_w = recall_score(y_test, y_pred, average = 'weighted')\n",
    "rec_m = recall_score(y_test, y_pred, average = 'macro')\n",
    "f1_w = f1_score(y_test, y_pred, average = 'weighted')\n",
    "f1_m = f1_score(y_test, y_pred, average = 'macro')\n",
    "acc = accuracy_score(y_test, y_pred)\n",
    "df_digits.loc[E_NAME] = [pre_w,pre_m,rec_w,rec_m,f1_w,f1_m,acc]\n",
    "df_digits_weighted.loc[E_NAME, col_weighted] = [pre_w, rec_w, f1_w, acc]\n",
    "df_digits_macro.loc[E_NAME, col_macro] = [pre_m, rec_m, f1_m, acc]\n",
    "\n",
    "# weighted 와 macro에 따라 최댓값, 최댓값 이름, 최솟값, 최솟값 이름, 평균을 기존의 df_digits 에서 구하고 각각 df에 추가합니다.\n",
    "# 처음에 weight에서 비교하려고 했으나 문자열이 포함되어있어 idxmax에서 오류가 발생했었습니다.\n",
    "w_mean = df_digits.loc[E_NAME, col_weighted].mean()\n",
    "w_max = df_digits.loc[E_NAME, col_weighted].idxmax()\n",
    "w_max_value = df_digits.loc[E_NAME, col_weighted].max()\n",
    "w_min = df_digits.loc[E_NAME, col_weighted].idxmin()\n",
    "w_min_value = df_digits.loc[E_NAME, col_weighted].min()\n",
    "df_digits_weighted.loc[E_NAME,col_name2] = [w_max, w_max_value, w_min, w_min_value, w_mean]\n",
    "\n",
    "m_mean = df_digits.loc[E_NAME, col_macro].mean() \n",
    "m_max = df_digits.loc[E_NAME, col_macro].idxmax()\n",
    "m_max_value = df_digits.loc[E_NAME, col_macro].max()\n",
    "m_min = df_digits.loc[E_NAME, col_macro].idxmin()\n",
    "m_min_value = df_digits.loc[E_NAME, col_macro].min()\n",
    "df_digits_macro.loc[E_NAME,col_name2] = [m_max, m_max_value, m_min, m_min_value, m_mean]"
   ]
  },
  {
   "cell_type": "markdown",
   "metadata": {},
   "source": [
    "각 지표값과 weighted 와 macro 지표값들의 최댓값, 최솟값, 평균을 구합니다."
   ]
  },
  {
   "cell_type": "code",
   "execution_count": 25,
   "metadata": {},
   "outputs": [
    {
     "data": {
      "image/png": "[encoded data removed]",
      "text/plain": [
       "<Figure size 432x288 with 1 Axes>"
      ]
     },
     "metadata": {
      "needs_background": "light"
     },
     "output_type": "display_data"
    },
    {
     "name": "stdout",
     "output_type": "stream",
     "text": [
      "weighted 지표들 중 최댓값 :   precision_weighted = 0.97382      최솟값 :      recall_weighted = 0.97333      평균 : 0.97348 입니다.\n",
      "   macro 지표들 중 최댓값 :         recall_macro = 0.97446      최솟값 :             accuracy = 0.97333      평균 : 0.97394 입니다.\n"
     ]
    }
   ],
   "source": [
    "plt.plot(col_name, df_digits_macro.loc[E_NAME, col_macro], label = \"macro\")\n",
    "plt.scatter(col_name, df_digits_macro.loc[E_NAME, col_macro])\n",
    "plt.plot(col_name, df_digits_weighted.loc[E_NAME, col_weighted], label = \"weighted\")\n",
    "plt.scatter(col_name, df_digits_weighted.loc[E_NAME, col_weighted])\n",
    "plt.legend()\n",
    "plt.show()\n",
    "\n",
    "print(\"weighted 지표들 중 최댓값 :\", df_digits_weighted.loc[E_NAME, \"max\"].rjust(20),\"=\", round(df_digits_weighted.loc[E_NAME,\"max_value\"],5),\\\n",
    "      \"     최솟값 :\", df_digits_weighted.loc[E_NAME, \"min\"].rjust(20),\"=\", round(df_digits_weighted.loc[E_NAME, \"min_value\"], 5),\\\n",
    "      \"     평균 :\", round(df_digits_weighted.loc[E_NAME, \"mean\"], 5), \"입니다.\")\n",
    "print(\"   macro 지표들 중 최댓값 :\", df_digits_macro.loc[E_NAME, \"max\"].rjust(20),\"=\", round(df_digits_macro.loc[E_NAME,\"max_value\"],5),\\\n",
    "      \"     최솟값 :\", df_digits_macro.loc[E_NAME, \"min\"].rjust(20),\"=\", round(df_digits_macro.loc[E_NAME, \"min_value\"], 5),\\\n",
    "      \"     평균 :\", round(df_digits_macro.loc[E_NAME, \"mean\"], 5), \"입니다.\")"
   ]
  },
  {
   "cell_type": "code",
   "execution_count": 26,
   "metadata": {},
   "outputs": [
    {
     "name": "stdout",
     "output_type": "stream",
     "text": [
      "macro 지표들의 값이 weighted 지표들 값보다 높습니다.\n"
     ]
    }
   ],
   "source": [
    "if (df_digits.loc[E_NAME, 'precision_weighted'] > df_digits.loc[E_NAME, 'precision_macro']) \\\n",
    "    and (df_digits.loc[E_NAME, 'recall_weighted'] > df_digits.loc[E_NAME, 'recall_macro'])\\\n",
    "    and (df_digits.loc[E_NAME, 'f1_score_weighted'] > df_digits.loc[E_NAME, 'f1_score_macro']):\n",
    "        print(\"weighted 지표들의 값이 macro 지표들 값보다 높습니다.\")\n",
    "elif (df_digits.loc[E_NAME, 'precision_weighted'] < df_digits.loc[E_NAME, 'precision_macro']) \\\n",
    "    and (df_digits.loc[E_NAME, 'recall_weighted'] < df_digits.loc[E_NAME, 'recall_macro'])\\\n",
    "    and (df_digits.loc[E_NAME, 'f1_score_weighted'] < df_digits.loc[E_NAME, 'f1_score_macro']):\n",
    "        print(\"macro 지표들의 값이 weighted 지표들 값보다 높습니다.\")\n",
    "else:\n",
    "    print(\"지표들이 다양하게 나옵니다.\")\n",
    "    if df_digits_weighted.loc[E_NAME, 'mean'] > df_digits_macro.loc[E_NAME, 'mean']:\n",
    "        print(\"단, 지표들의 평균 값은 weighted 지표들이 더 높습니다.\")\n",
    "    elif df_digits_weighted.loc[E_NAME, 'mean'] < df_digits_macro.loc[E_NAME, 'mean']:\n",
    "        print(\"단, 지표들의 평균 값은 macro 지표들이 더 높습니다.\")\n",
    "    else:\n",
    "        print(\"그런데 두 지표들의 평균은 같습니다.\")"
   ]
  },
  {
   "cell_type": "markdown",
   "metadata": {},
   "source": [
    "#### (6) 모델들의 성능 평가"
   ]
  },
  {
   "cell_type": "markdown",
   "metadata": {},
   "source": [
    "여기까지 5개의 모델들을 digit data로 실험해보았습니다.  \n",
    "모델들이 가지는 지표값들이 포함되어있는 데이터 프레임들을 나타내보겠습니다."
   ]
  },
  {
   "cell_type": "code",
   "execution_count": 27,
   "metadata": {},
   "outputs": [
    {
     "data": {
      "text/html": [
       "<div>\n",
       "<style scoped>\n",
       "    .dataframe tbody tr th:only-of-type {\n",
       "        vertical-align: middle;\n",
       "    }\n",
       "\n",
       "    .dataframe tbody tr th {\n",
       "        vertical-align: top;\n",
       "    }\n",
       "\n",
       "    .dataframe thead th {\n",
       "        text-align: right;\n",
       "    }\n",
       "</style>\n",
       "<table border=\"1\" class=\"dataframe\">\n",
       "  <thead>\n",
       "    <tr style=\"text-align: right;\">\n",
       "      <th></th>\n",
       "      <th>precision_weighted</th>\n",
       "      <th>precision_macro</th>\n",
       "      <th>recall_weighted</th>\n",
       "      <th>recall_macro</th>\n",
       "      <th>f1_score_weighted</th>\n",
       "      <th>f1_score_macro</th>\n",
       "      <th>accuracy</th>\n",
       "    </tr>\n",
       "  </thead>\n",
       "  <tbody>\n",
       "    <tr>\n",
       "      <th>decision_tree</th>\n",
       "      <td>0.865170</td>\n",
       "      <td>0.860740</td>\n",
       "      <td>0.862222</td>\n",
       "      <td>0.861028</td>\n",
       "      <td>0.861077</td>\n",
       "      <td>0.858186</td>\n",
       "      <td>0.862222</td>\n",
       "    </tr>\n",
       "    <tr>\n",
       "      <th>random_forest</th>\n",
       "      <td>0.980484</td>\n",
       "      <td>0.980933</td>\n",
       "      <td>0.980000</td>\n",
       "      <td>0.980437</td>\n",
       "      <td>0.979983</td>\n",
       "      <td>0.980434</td>\n",
       "      <td>0.980000</td>\n",
       "    </tr>\n",
       "    <tr>\n",
       "      <th>SVM</th>\n",
       "      <td>0.986715</td>\n",
       "      <td>0.986894</td>\n",
       "      <td>0.986667</td>\n",
       "      <td>0.986894</td>\n",
       "      <td>0.986667</td>\n",
       "      <td>0.986870</td>\n",
       "      <td>0.986667</td>\n",
       "    </tr>\n",
       "    <tr>\n",
       "      <th>SGD</th>\n",
       "      <td>0.953594</td>\n",
       "      <td>0.950291</td>\n",
       "      <td>0.951111</td>\n",
       "      <td>0.951647</td>\n",
       "      <td>0.951272</td>\n",
       "      <td>0.949720</td>\n",
       "      <td>0.951111</td>\n",
       "    </tr>\n",
       "    <tr>\n",
       "      <th>logistic_regression</th>\n",
       "      <td>0.973816</td>\n",
       "      <td>0.973915</td>\n",
       "      <td>0.973333</td>\n",
       "      <td>0.974464</td>\n",
       "      <td>0.973420</td>\n",
       "      <td>0.974042</td>\n",
       "      <td>0.973333</td>\n",
       "    </tr>\n",
       "  </tbody>\n",
       "</table>\n",
       "</div>"
      ],
      "text/plain": [
       "                     precision_weighted  precision_macro  recall_weighted  \\\n",
       "decision_tree                  0.865170         0.860740         0.862222   \n",
       "random_forest                  0.980484         0.980933         0.980000   \n",
       "SVM                            0.986715         0.986894         0.986667   \n",
       "SGD                            0.953594         0.950291         0.951111   \n",
       "logistic_regression            0.973816         0.973915         0.973333   \n",
       "\n",
       "                     recall_macro  f1_score_weighted  f1_score_macro  accuracy  \n",
       "decision_tree            0.861028           0.861077        0.858186  0.862222  \n",
       "random_forest            0.980437           0.979983        0.980434  0.980000  \n",
       "SVM                      0.986894           0.986667        0.986870  0.986667  \n",
       "SGD                      0.951647           0.951272        0.949720  0.951111  \n",
       "logistic_regression      0.974464           0.973420        0.974042  0.973333  "
      ]
     },
     "execution_count": 27,
     "metadata": {},
     "output_type": "execute_result"
    }
   ],
   "source": [
    "df_digits"
   ]
  },
  {
   "cell_type": "code",
   "execution_count": 28,
   "metadata": {},
   "outputs": [
    {
     "data": {
      "text/html": [
       "<div>\n",
       "<style scoped>\n",
       "    .dataframe tbody tr th:only-of-type {\n",
       "        vertical-align: middle;\n",
       "    }\n",
       "\n",
       "    .dataframe tbody tr th {\n",
       "        vertical-align: top;\n",
       "    }\n",
       "\n",
       "    .dataframe thead th {\n",
       "        text-align: right;\n",
       "    }\n",
       "</style>\n",
       "<table border=\"1\" class=\"dataframe\">\n",
       "  <thead>\n",
       "    <tr style=\"text-align: right;\">\n",
       "      <th></th>\n",
       "      <th>precision_weighted</th>\n",
       "      <th>recall_weighted</th>\n",
       "      <th>f1_score_weighted</th>\n",
       "      <th>accuracy</th>\n",
       "      <th>max</th>\n",
       "      <th>max_value</th>\n",
       "      <th>min</th>\n",
       "      <th>min_value</th>\n",
       "      <th>mean</th>\n",
       "    </tr>\n",
       "  </thead>\n",
       "  <tbody>\n",
       "    <tr>\n",
       "      <th>decision_tree</th>\n",
       "      <td>0.865170</td>\n",
       "      <td>0.862222</td>\n",
       "      <td>0.861077</td>\n",
       "      <td>0.862222</td>\n",
       "      <td>precision_weighted</td>\n",
       "      <td>0.865170</td>\n",
       "      <td>f1_score_weighted</td>\n",
       "      <td>0.861077</td>\n",
       "      <td>0.862673</td>\n",
       "    </tr>\n",
       "    <tr>\n",
       "      <th>random_forest</th>\n",
       "      <td>0.980484</td>\n",
       "      <td>0.980000</td>\n",
       "      <td>0.979983</td>\n",
       "      <td>0.980000</td>\n",
       "      <td>precision_weighted</td>\n",
       "      <td>0.980484</td>\n",
       "      <td>f1_score_weighted</td>\n",
       "      <td>0.979983</td>\n",
       "      <td>0.980117</td>\n",
       "    </tr>\n",
       "    <tr>\n",
       "      <th>SVM</th>\n",
       "      <td>0.986715</td>\n",
       "      <td>0.986667</td>\n",
       "      <td>0.986667</td>\n",
       "      <td>0.986667</td>\n",
       "      <td>precision_weighted</td>\n",
       "      <td>0.986715</td>\n",
       "      <td>recall_weighted</td>\n",
       "      <td>0.986667</td>\n",
       "      <td>0.986679</td>\n",
       "    </tr>\n",
       "    <tr>\n",
       "      <th>SGD</th>\n",
       "      <td>0.953594</td>\n",
       "      <td>0.951111</td>\n",
       "      <td>0.951272</td>\n",
       "      <td>0.951111</td>\n",
       "      <td>precision_weighted</td>\n",
       "      <td>0.953594</td>\n",
       "      <td>recall_weighted</td>\n",
       "      <td>0.951111</td>\n",
       "      <td>0.951772</td>\n",
       "    </tr>\n",
       "    <tr>\n",
       "      <th>logistic_regression</th>\n",
       "      <td>0.973816</td>\n",
       "      <td>0.973333</td>\n",
       "      <td>0.973420</td>\n",
       "      <td>0.973333</td>\n",
       "      <td>precision_weighted</td>\n",
       "      <td>0.973816</td>\n",
       "      <td>recall_weighted</td>\n",
       "      <td>0.973333</td>\n",
       "      <td>0.973476</td>\n",
       "    </tr>\n",
       "  </tbody>\n",
       "</table>\n",
       "</div>"
      ],
      "text/plain": [
       "                     precision_weighted  recall_weighted  f1_score_weighted  \\\n",
       "decision_tree                  0.865170         0.862222           0.861077   \n",
       "random_forest                  0.980484         0.980000           0.979983   \n",
       "SVM                            0.986715         0.986667           0.986667   \n",
       "SGD                            0.953594         0.951111           0.951272   \n",
       "logistic_regression            0.973816         0.973333           0.973420   \n",
       "\n",
       "                     accuracy                 max  max_value  \\\n",
       "decision_tree        0.862222  precision_weighted   0.865170   \n",
       "random_forest        0.980000  precision_weighted   0.980484   \n",
       "SVM                  0.986667  precision_weighted   0.986715   \n",
       "SGD                  0.951111  precision_weighted   0.953594   \n",
       "logistic_regression  0.973333  precision_weighted   0.973816   \n",
       "\n",
       "                                   min  min_value      mean  \n",
       "decision_tree        f1_score_weighted   0.861077  0.862673  \n",
       "random_forest        f1_score_weighted   0.979983  0.980117  \n",
       "SVM                    recall_weighted   0.986667  0.986679  \n",
       "SGD                    recall_weighted   0.951111  0.951772  \n",
       "logistic_regression    recall_weighted   0.973333  0.973476  "
      ]
     },
     "execution_count": 28,
     "metadata": {},
     "output_type": "execute_result"
    }
   ],
   "source": [
    "df_digits_weighted"
   ]
  },
  {
   "cell_type": "code",
   "execution_count": 29,
   "metadata": {},
   "outputs": [
    {
     "data": {
      "text/html": [
       "<div>\n",
       "<style scoped>\n",
       "    .dataframe tbody tr th:only-of-type {\n",
       "        vertical-align: middle;\n",
       "    }\n",
       "\n",
       "    .dataframe tbody tr th {\n",
       "        vertical-align: top;\n",
       "    }\n",
       "\n",
       "    .dataframe thead th {\n",
       "        text-align: right;\n",
       "    }\n",
       "</style>\n",
       "<table border=\"1\" class=\"dataframe\">\n",
       "  <thead>\n",
       "    <tr style=\"text-align: right;\">\n",
       "      <th></th>\n",
       "      <th>precision_macro</th>\n",
       "      <th>recall_macro</th>\n",
       "      <th>f1_score_macro</th>\n",
       "      <th>accuracy</th>\n",
       "      <th>max</th>\n",
       "      <th>max_value</th>\n",
       "      <th>min</th>\n",
       "      <th>min_value</th>\n",
       "      <th>mean</th>\n",
       "    </tr>\n",
       "  </thead>\n",
       "  <tbody>\n",
       "    <tr>\n",
       "      <th>decision_tree</th>\n",
       "      <td>0.860740</td>\n",
       "      <td>0.861028</td>\n",
       "      <td>0.858186</td>\n",
       "      <td>0.862222</td>\n",
       "      <td>accuracy</td>\n",
       "      <td>0.862222</td>\n",
       "      <td>f1_score_macro</td>\n",
       "      <td>0.858186</td>\n",
       "      <td>0.860544</td>\n",
       "    </tr>\n",
       "    <tr>\n",
       "      <th>random_forest</th>\n",
       "      <td>0.980933</td>\n",
       "      <td>0.980437</td>\n",
       "      <td>0.980434</td>\n",
       "      <td>0.980000</td>\n",
       "      <td>precision_macro</td>\n",
       "      <td>0.980933</td>\n",
       "      <td>accuracy</td>\n",
       "      <td>0.980000</td>\n",
       "      <td>0.980451</td>\n",
       "    </tr>\n",
       "    <tr>\n",
       "      <th>SVM</th>\n",
       "      <td>0.986894</td>\n",
       "      <td>0.986894</td>\n",
       "      <td>0.986870</td>\n",
       "      <td>0.986667</td>\n",
       "      <td>precision_macro</td>\n",
       "      <td>0.986894</td>\n",
       "      <td>accuracy</td>\n",
       "      <td>0.986667</td>\n",
       "      <td>0.986831</td>\n",
       "    </tr>\n",
       "    <tr>\n",
       "      <th>SGD</th>\n",
       "      <td>0.950291</td>\n",
       "      <td>0.951647</td>\n",
       "      <td>0.949720</td>\n",
       "      <td>0.951111</td>\n",
       "      <td>recall_macro</td>\n",
       "      <td>0.951647</td>\n",
       "      <td>f1_score_macro</td>\n",
       "      <td>0.949720</td>\n",
       "      <td>0.950692</td>\n",
       "    </tr>\n",
       "    <tr>\n",
       "      <th>logistic_regression</th>\n",
       "      <td>0.973915</td>\n",
       "      <td>0.974464</td>\n",
       "      <td>0.974042</td>\n",
       "      <td>0.973333</td>\n",
       "      <td>recall_macro</td>\n",
       "      <td>0.974464</td>\n",
       "      <td>accuracy</td>\n",
       "      <td>0.973333</td>\n",
       "      <td>0.973939</td>\n",
       "    </tr>\n",
       "  </tbody>\n",
       "</table>\n",
       "</div>"
      ],
      "text/plain": [
       "                     precision_macro  recall_macro  f1_score_macro  accuracy  \\\n",
       "decision_tree               0.860740      0.861028        0.858186  0.862222   \n",
       "random_forest               0.980933      0.980437        0.980434  0.980000   \n",
       "SVM                         0.986894      0.986894        0.986870  0.986667   \n",
       "SGD                         0.950291      0.951647        0.949720  0.951111   \n",
       "logistic_regression         0.973915      0.974464        0.974042  0.973333   \n",
       "\n",
       "                                 max  max_value             min  min_value  \\\n",
       "decision_tree               accuracy   0.862222  f1_score_macro   0.858186   \n",
       "random_forest        precision_macro   0.980933        accuracy   0.980000   \n",
       "SVM                  precision_macro   0.986894        accuracy   0.986667   \n",
       "SGD                     recall_macro   0.951647  f1_score_macro   0.949720   \n",
       "logistic_regression     recall_macro   0.974464        accuracy   0.973333   \n",
       "\n",
       "                         mean  \n",
       "decision_tree        0.860544  \n",
       "random_forest        0.980451  \n",
       "SVM                  0.986831  \n",
       "SGD                  0.950692  \n",
       "logistic_regression  0.973939  "
      ]
     },
     "execution_count": 29,
     "metadata": {},
     "output_type": "execute_result"
    }
   ],
   "source": [
    "df_digits_macro"
   ]
  },
  {
   "cell_type": "markdown",
   "metadata": {},
   "source": [
    "* 가장 성능이 좋은 모델을 찾아봅시다.  \n",
    "먼저 위의 DF만 보고는 어떤 지표를 가지고 비교할지 잘 모르겠으니 각 지표별로 최대값을 가지는 모델들을 출력해봅시다."
   ]
  },
  {
   "cell_type": "code",
   "execution_count": 30,
   "metadata": {},
   "outputs": [
    {
     "name": "stdout",
     "output_type": "stream",
     "text": [
      "precision_weighted    SVM\n",
      "precision_macro       SVM\n",
      "recall_weighted       SVM\n",
      "recall_macro          SVM\n",
      "f1_score_weighted     SVM\n",
      "f1_score_macro        SVM\n",
      "accuracy              SVM\n",
      "dtype: object\n"
     ]
    }
   ],
   "source": [
    "print(df_digits.idxmax())"
   ]
  },
  {
   "cell_type": "markdown",
   "metadata": {},
   "source": [
    "모든 지표에서 SVM 모델이 가장 높은 값을 가집니다. 이렇게 보면 어떤 지표를 선택하더라도 SVM이 가장 높은 값을 가지므로  \n",
    "digits classification에서는 5개의 모델 중 SVM 모델이 성능이 가장 좋은 것으로 나옵니다."
   ]
  },
  {
   "cell_type": "markdown",
   "metadata": {},
   "source": [
    "가장 중요한 지표를 정하기 앞서 각 지표가 무엇을 나타내는지 부터 알아봅시다.  \n",
    "\n",
    "* accuracy : 올바르게 예측된 데이터 수를 전체 데이터 수로 나눈 값 입니다.\n",
    "* precision : 모델이 True라고 했는데 실제 값이 True인 것을 살펴보는 지표입니다.\n",
    "* recall : 실제 True 값들이 들어왔을때 모델이 얼마나 True라고 잘 예측하느냐를 살펴보는 지표입니다.\n",
    "* f1_score : precision 과 recall의 조화평균  \n",
    "    (조화평균을 쓰는 이유는 precision 또는 recall 값이 0에 가까워 질때 f1_score도 같이 작아지기 위해서 입니다.)  \n",
    "\n",
    " * precision_weighted : 각 class 별로 precision 값을 구한 뒤 support(number of sample) 비율을 다시 적용합니다.\n",
    " * precision_macro : 각 class 별로 precision 값을 구한 뒤 평균을 구합니다.\n",
    " * recall_weighted : 각 class 별로 recall 값을 구한 뒤 support(number of sample) 비율을 다시 적용합니다.\n",
    " * recall_macro : 각 class 별로 recall 값을 구한 뒤 평균을 구합니다.\n",
    " * f1_score_weighted : 각 class 별로 f1_score 값을 구한 뒤 support(number of sample) 비율을 다시 적용합니다.\n",
    " * f1_score_macro : 각 class 별로 f1_score 값을 구한 뒤 support(number of sample) 비율을 다시 적용합니다."
   ]
  },
  {
   "cell_type": "markdown",
   "metadata": {},
   "source": [
    "* 그럼 해당 데이터에서 모델의 성능을 평가하는 지표로는 무엇이 좋을까요?  \n",
    "  \n",
    "제 생각에는 샘플 당 개수를 고려해주는 weighted 지표들이 macro 지표들 보다 더 의미있다고 봅니다.  \n",
    "데이터가 한 클래스에 치우쳐져있는 특정한 상황이라면 macro 값이 모델 성능 지표을 제대로 나타내지 않을 수도 있기 때문입니다.  \n",
    "또한 해당 데이터의 support 값이 서로 다르기 때문입니다.(class 마다 다른 개수를 가짐)  \n",
    "그리고 accuray 또한 unbalanced 데이터에서 모델 성능을 잘 평가하지 못할 수 있습니다.  \n",
    "그래서 precision_weighted, recall_weighted, f1_score_weighted 중에서 고르겠습니다.  \n",
    "  \n",
    "이제 데이터의 용도 및 내용을 고려하는데, 우리는 손 글씨 이미지 데이터를 사용하였습니다.  \n",
    "손글씨 데이터는 딱히 precision 이나 recall 중에 무엇이 더 중요하다고(낮을 시 큰 오류 발생 가능) 생각되지않으므로  \n",
    "둘의 조화평균인 f1_score_weighted를 해당 데이터에 가장 중요한 지표라고 봅니다."
   ]
  },
  {
   "cell_type": "markdown",
   "metadata": {},
   "source": [
    "### 프로젝트 (2) load_wine : 와인을 분류해 봅시다"
   ]
  },
  {
   "cell_type": "markdown",
   "metadata": {},
   "source": [
    "#### (1) 필요한 모듈 import 하기"
   ]
  },
  {
   "cell_type": "markdown",
   "metadata": {},
   "source": [
    "- <span style = \"color: #0000FF\">sklearn dataset로 부터 wine data를 가져온다.</span>\n",
    "- <span style = \"color: #0000FF\">train data와 test data를 나눠주는 train_test_split 함수를 가져온다.</span>\n",
    "- <span style = \"color: #0000FF\">분류 보고서를 작성해주는 classification_report를 가져온다.</span>"
   ]
  },
  {
   "cell_type": "code",
   "execution_count": 31,
   "metadata": {},
   "outputs": [],
   "source": [
    "from sklearn.datasets import load_wine\n",
    "# 나머지 모듈은 프로젝트 1에서 이미 import 하였습니다."
   ]
  },
  {
   "cell_type": "markdown",
   "metadata": {},
   "source": [
    "#### (2) 데이터 준비"
   ]
  },
  {
   "cell_type": "markdown",
   "metadata": {},
   "source": [
    "- <span style = \"color: #0000FF\">load_wine()을 사용해 와인 데이터를 wine 변수에 넣습니다.</span>\n",
    "- wine 변수가 어떤 변수와 메서드를 가지고 있는지 나열합니다.\n",
    "- wine 의 정보를 출력합니다."
   ]
  },
  {
   "cell_type": "code",
   "execution_count": 32,
   "metadata": {},
   "outputs": [
    {
     "name": "stdout",
     "output_type": "stream",
     "text": [
      "['DESCR', 'data', 'feature_names', 'frame', 'target', 'target_names']\n",
      "dict_keys(['data', 'target', 'frame', 'target_names', 'DESCR', 'feature_names'])\n"
     ]
    }
   ],
   "source": [
    "wine = load_wine()\n",
    "print(dir(wine))\n",
    "print(wine.keys())"
   ]
  },
  {
   "cell_type": "markdown",
   "metadata": {},
   "source": [
    "#### (3) 데이터 이해하기"
   ]
  },
  {
   "cell_type": "markdown",
   "metadata": {},
   "source": [
    "- <span style = \"color: #0000FF\">Feature Data 지정하기</span>\n",
    "  - wine의 wine(feature)를 wine_data에 넣기\n",
    "  - wine_data의 형태 : 178행, 13열\n",
    "  - Alcohol, Malic acid, Ash, Alcalinity of ash, Magnesium 등 13개의 와인 특징이 178개\n",
    "- <span style = \"color: #0000FF\">Label(target) Data 지정하기</span>\n",
    "  - wine의 label을 wine_label에 넣기\n",
    "  - DataFrame에 feature data 넣기\n",
    "  - target을 통해 Dataframe에 label column 생성\n",
    "- <span style = \"color: #0000FF\">Target Names 출력해 보기</span>\n",
    "  - 3개의 class \n",
    "- <span style = \"color: #0000FF\">데이터 Describe 해 보기</span>"
   ]
  },
  {
   "cell_type": "code",
   "execution_count": 33,
   "metadata": {},
   "outputs": [
    {
     "name": "stdout",
     "output_type": "stream",
     "text": [
      "(178, 13)\n",
      "[1.423e+01 1.710e+00 2.430e+00 1.560e+01 1.270e+02 2.800e+00 3.060e+00\n",
      " 2.800e-01 2.290e+00 5.640e+00 1.040e+00 3.920e+00 1.065e+03]\n",
      "['class_0' 'class_1' 'class_2']\n"
     ]
    }
   ],
   "source": [
    "# print(wine.feature_names)\n",
    "wine_data = wine.data\n",
    "print(wine_data.shape)\n",
    "print(wine_data[0])\n",
    "wine_label = wine.target\n",
    "wine_df = pd.DataFrame(data = wine_data, columns = wine.feature_names)\n",
    "# print(wine_df)\n",
    "wine_df[\"label\"] = wine_label\n",
    "# print(wine_df)\n",
    "print(wine.target_names)"
   ]
  },
  {
   "cell_type": "code",
   "execution_count": 34,
   "metadata": {},
   "outputs": [
    {
     "name": "stdout",
     "output_type": "stream",
     "text": [
      ".. _wine_dataset:\n",
      "\n",
      "Wine recognition dataset\n",
      "------------------------\n",
      "\n",
      "**Data Set Characteristics:**\n",
      "\n",
      "    :Number of Instances: 178 (50 in each of three classes)\n",
      "    :Number of Attributes: 13 numeric, predictive attributes and the class\n",
      "    :Attribute Information:\n",
      " \t\t- Alcohol\n",
      " \t\t- Malic acid\n",
      " \t\t- Ash\n",
      "\t\t- Alcalinity of ash  \n",
      " \t\t- Magnesium\n",
      "\t\t- Total phenols\n",
      " \t\t- Flavanoids\n",
      " \t\t- Nonflavanoid phenols\n",
      " \t\t- Proanthocyanins\n",
      "\t\t- Color intensity\n",
      " \t\t- Hue\n",
      " \t\t- OD280/OD315 of diluted wines\n",
      " \t\t- Proline\n",
      "\n",
      "    - class:\n",
      "            - class_0\n",
      "            - class_1\n",
      "            - class_2\n",
      "\t\t\n",
      "    :Summary Statistics:\n",
      "    \n",
      "    ============================= ==== ===== ======= =====\n",
      "                                   Min   Max   Mean     SD\n",
      "    ============================= ==== ===== ======= =====\n",
      "    Alcohol:                      11.0  14.8    13.0   0.8\n",
      "    Malic Acid:                   0.74  5.80    2.34  1.12\n",
      "    Ash:                          1.36  3.23    2.36  0.27\n",
      "    Alcalinity of Ash:            10.6  30.0    19.5   3.3\n",
      "    Magnesium:                    70.0 162.0    99.7  14.3\n",
      "    Total Phenols:                0.98  3.88    2.29  0.63\n",
      "    Flavanoids:                   0.34  5.08    2.03  1.00\n",
      "    Nonflavanoid Phenols:         0.13  0.66    0.36  0.12\n",
      "    Proanthocyanins:              0.41  3.58    1.59  0.57\n",
      "    Colour Intensity:              1.3  13.0     5.1   2.3\n",
      "    Hue:                          0.48  1.71    0.96  0.23\n",
      "    OD280/OD315 of diluted wines: 1.27  4.00    2.61  0.71\n",
      "    Proline:                       278  1680     746   315\n",
      "    ============================= ==== ===== ======= =====\n",
      "\n",
      "    :Missing Attribute Values: None\n",
      "    :Class Distribution: class_0 (59), class_1 (71), class_2 (48)\n",
      "    :Creator: R.A. Fisher\n",
      "    :Donor: Michael Marshall (MARSHALL%PLU@io.arc.nasa.gov)\n",
      "    :Date: July, 1988\n",
      "\n",
      "This is a copy of UCI ML Wine recognition datasets.\n",
      "https://archive.ics.uci.edu/ml/machine-learning-databases/wine/wine.data\n",
      "\n",
      "The data is the results of a chemical analysis of wines grown in the same\n",
      "region in Italy by three different cultivators. There are thirteen different\n",
      "measurements taken for different constituents found in the three types of\n",
      "wine.\n",
      "\n",
      "Original Owners: \n",
      "\n",
      "Forina, M. et al, PARVUS - \n",
      "An Extendible Package for Data Exploration, Classification and Correlation. \n",
      "Institute of Pharmaceutical and Food Analysis and Technologies,\n",
      "Via Brigata Salerno, 16147 Genoa, Italy.\n",
      "\n",
      "Citation:\n",
      "\n",
      "Lichman, M. (2013). UCI Machine Learning Repository\n",
      "[https://archive.ics.uci.edu/ml]. Irvine, CA: University of California,\n",
      "School of Information and Computer Science. \n",
      "\n",
      ".. topic:: References\n",
      "\n",
      "  (1) S. Aeberhard, D. Coomans and O. de Vel, \n",
      "  Comparison of Classifiers in High Dimensional Settings, \n",
      "  Tech. Rep. no. 92-02, (1992), Dept. of Computer Science and Dept. of  \n",
      "  Mathematics and Statistics, James Cook University of North Queensland. \n",
      "  (Also submitted to Technometrics). \n",
      "\n",
      "  The data was used with many others for comparing various \n",
      "  classifiers. The classes are separable, though only RDA \n",
      "  has achieved 100% correct classification. \n",
      "  (RDA : 100%, QDA 99.4%, LDA 98.9%, 1NN 96.1% (z-transformed data)) \n",
      "  (All results using the leave-one-out technique) \n",
      "\n",
      "  (2) S. Aeberhard, D. Coomans and O. de Vel, \n",
      "  \"THE CLASSIFICATION PERFORMANCE OF RDA\" \n",
      "  Tech. Rep. no. 92-01, (1992), Dept. of Computer Science and Dept. of \n",
      "  Mathematics and Statistics, James Cook University of North Queensland. \n",
      "  (Also submitted to Journal of Chemometrics).\n",
      "\n"
     ]
    }
   ],
   "source": [
    "# wine Describe 해보기\n",
    "print(wine.DESCR)"
   ]
  },
  {
   "cell_type": "markdown",
   "metadata": {},
   "source": [
    "#### (4) train, test 데이터 분리"
   ]
  },
  {
   "cell_type": "markdown",
   "metadata": {},
   "source": [
    "- wine_data와 wine_label을 가지고 분리\n",
    "- 25%를 test 데이터로 사용"
   ]
  },
  {
   "cell_type": "code",
   "execution_count": 35,
   "metadata": {},
   "outputs": [],
   "source": [
    "X_train, X_test, y_train, y_test = train_test_split(wine_data, wine_label, test_size=0.25, random_state=None)"
   ]
  },
  {
   "cell_type": "markdown",
   "metadata": {},
   "source": [
    "#### (5) 다양한 모델로 학습시켜보기"
   ]
  },
  {
   "cell_type": "markdown",
   "metadata": {},
   "source": [
    "- <span style = \"color: #0000FF\">Decision Tree 사용해 보기</span>\n",
    "- <span style = \"color: #0000FF\">Random Forest 사용해 보기</span>\n",
    "- <span style = \"color: #0000FF\">SVM 사용해 보기</span>\n",
    "- <span style = \"color: #0000FF\">SGD Classifier 사용해 보기</span>\n",
    "- <span style = \"color: #0000FF\">Logistic Regression 사용해 보기</span>"
   ]
  },
  {
   "cell_type": "markdown",
   "metadata": {},
   "source": [
    "학습시키기 전에 앞서 추후 분석을 용이하게 하기 위해 Estimator 별로 데이터를 가지는 DataFrame을 만들겠습니다."
   ]
  },
  {
   "cell_type": "code",
   "execution_count": 36,
   "metadata": {},
   "outputs": [],
   "source": [
    "df_wine = pd.DataFrame(myArr, columns = metricsName, index = estimatorName)\n",
    "df_wine_weighted = df_wine.loc[ :, [ ('weighted' in i or i == 'accuracy') for i in df_wine.columns]].copy()\n",
    "df_wine_macro = df_wine.loc[ :, [ ('macro' in i or i == 'accuracy') for i in df_wine.columns]].copy()\n",
    "df_wine_weighted.loc[:,col_name2] = [0, 0, 0, 0, 0]\n",
    "df_wine_macro.loc[:,col_name2] = [0, 0, 0, 0, 0]"
   ]
  },
  {
   "cell_type": "markdown",
   "metadata": {},
   "source": [
    "##### Decision Tree"
   ]
  },
  {
   "cell_type": "code",
   "execution_count": 37,
   "metadata": {},
   "outputs": [
    {
     "name": "stdout",
     "output_type": "stream",
     "text": [
      "              precision    recall  f1-score   support\n",
      "\n",
      "           0       1.00      0.94      0.97        16\n",
      "           1       0.93      0.93      0.93        15\n",
      "           2       0.93      1.00      0.97        14\n",
      "\n",
      "    accuracy                           0.96        45\n",
      "   macro avg       0.96      0.96      0.96        45\n",
      "weighted avg       0.96      0.96      0.96        45\n",
      "\n"
     ]
    }
   ],
   "source": [
    "from sklearn.tree import DecisionTreeClassifier\n",
    "\n",
    "decision_tree = DecisionTreeClassifier()\n",
    "decision_tree.fit(X_train, y_train)\n",
    "y_pred = decision_tree.predict(X_test)\n",
    "print(classification_report(y_test, y_pred))\n",
    "# print(confusion_matrix(y_test,y_pred))\n",
    "\n",
    "E_NAME = 'decision_tree'"
   ]
  },
  {
   "cell_type": "markdown",
   "metadata": {},
   "source": [
    "Decision_tree 를 사용하여 각 라벨마다 precision, recall과 f1-score과 나왔고 전체에 대한 accuracy가 나왔습니다.  \n",
    "전체에 대한 precision, recall, f1-score 값을 나타낼 수 있는 각각의 macro avg와 weighted avg 또한 나왔습니다."
   ]
  },
  {
   "cell_type": "code",
   "execution_count": 38,
   "metadata": {},
   "outputs": [],
   "source": [
    "# 각 지표값을 구해서 df, df_weighted, df_macro에 넣습니다.\n",
    "pre_w = precision_score(y_test, y_pred, average = 'weighted')\n",
    "pre_m = precision_score(y_test, y_pred, average = 'macro')\n",
    "rec_w = recall_score(y_test, y_pred, average = 'weighted')\n",
    "rec_m = recall_score(y_test, y_pred, average = 'macro')\n",
    "f1_w = f1_score(y_test, y_pred, average = 'weighted')\n",
    "f1_m = f1_score(y_test, y_pred, average = 'macro')\n",
    "acc = accuracy_score(y_test, y_pred)\n",
    "df_wine.loc[E_NAME] = [pre_w,pre_m,rec_w,rec_m,f1_w,f1_m,acc]\n",
    "df_wine_weighted.loc[E_NAME, col_weighted] = [pre_w, rec_w, f1_w, acc]\n",
    "df_wine_macro.loc[E_NAME, col_macro] = [pre_m, rec_m, f1_m, acc]\n",
    "\n",
    "# weighted 와 macro에 따라 최댓값, 최댓값 이름, 최솟값, 최솟값 이름, 평균을 기존의 df_wine 에서 구하고 각각 df에 추가합니다.\n",
    "# 처음에 weight에서 비교하려고 했으나 문자열이 포함되어있어 idxmax에서 오류가 발생했었습니다.\n",
    "w_mean = df_wine.loc[E_NAME, col_weighted].mean()\n",
    "w_max = df_wine.loc[E_NAME, col_weighted].idxmax()\n",
    "w_max_value = df_wine.loc[E_NAME, col_weighted].max()\n",
    "w_min = df_wine.loc[E_NAME, col_weighted].idxmin()\n",
    "w_min_value = df_wine.loc[E_NAME, col_weighted].min()\n",
    "df_wine_weighted.loc[E_NAME,col_name2] = [w_max, w_max_value, w_min, w_min_value, w_mean]\n",
    "\n",
    "m_mean = df_wine.loc[E_NAME, col_macro].mean() \n",
    "m_max = df_wine.loc[E_NAME, col_macro].idxmax()\n",
    "m_max_value = df_wine.loc[E_NAME, col_macro].max()\n",
    "m_min = df_wine.loc[E_NAME, col_macro].idxmin()\n",
    "m_min_value = df_wine.loc[E_NAME, col_macro].min()\n",
    "df_wine_macro.loc[E_NAME,col_name2] = [m_max, m_max_value, m_min, m_min_value, m_mean]"
   ]
  },
  {
   "cell_type": "markdown",
   "metadata": {},
   "source": [
    "각 지표값과 weighted 와 macro 지표값들의 최댓값, 최솟값, 평균을 구합니다."
   ]
  },
  {
   "cell_type": "code",
   "execution_count": 39,
   "metadata": {},
   "outputs": [
    {
     "data": {
      "image/png": "[encoded data removed]",
      "text/plain": [
       "<Figure size 432x288 with 1 Axes>"
      ]
     },
     "metadata": {
      "needs_background": "light"
     },
     "output_type": "display_data"
    },
    {
     "name": "stdout",
     "output_type": "stream",
     "text": [
      "weighted 지표들 중 최댓값 :   precision_weighted = 0.95704      최솟값 :      recall_weighted = 0.95556      평균 : 0.95593 입니다.\n",
      "   macro 지표들 중 최댓값 :         recall_macro = 0.95694      최솟값 :       f1_score_macro = 0.95553      평균 : 0.9559 입니다.\n"
     ]
    }
   ],
   "source": [
    "plt.plot(col_name, df_wine_macro.loc[E_NAME, col_macro], label = \"macro\")\n",
    "plt.scatter(col_name, df_wine_macro.loc[E_NAME, col_macro])\n",
    "plt.plot(col_name, df_wine_weighted.loc[E_NAME, col_weighted], label = \"weighted\")\n",
    "plt.scatter(col_name, df_wine_weighted.loc[E_NAME, col_weighted])\n",
    "plt.legend()\n",
    "plt.show()\n",
    "\n",
    "print(\"weighted 지표들 중 최댓값 :\", df_wine_weighted.loc[E_NAME, \"max\"].rjust(20),\"=\", round(df_wine_weighted.loc[E_NAME,\"max_value\"],5),\\\n",
    "      \"     최솟값 :\", df_wine_weighted.loc[E_NAME, \"min\"].rjust(20),\"=\", round(df_wine_weighted.loc[E_NAME, \"min_value\"], 5),\\\n",
    "      \"     평균 :\", round(df_wine_weighted.loc[E_NAME, \"mean\"], 5), \"입니다.\")\n",
    "print(\"   macro 지표들 중 최댓값 :\", df_wine_macro.loc[E_NAME, \"max\"].rjust(20),\"=\", round(df_wine_macro.loc[E_NAME,\"max_value\"],5),\\\n",
    "      \"     최솟값 :\", df_wine_macro.loc[E_NAME, \"min\"].rjust(20),\"=\", round(df_wine_macro.loc[E_NAME, \"min_value\"], 5),\\\n",
    "      \"     평균 :\", round(df_wine_macro.loc[E_NAME, \"mean\"], 5), \"입니다.\")"
   ]
  },
  {
   "cell_type": "code",
   "execution_count": 40,
   "metadata": {},
   "outputs": [
    {
     "name": "stdout",
     "output_type": "stream",
     "text": [
      "지표들이 다양하게 나옵니다.\n",
      "단, 지표들의 평균 값은 weighted 지표들이 더 높습니다.\n"
     ]
    }
   ],
   "source": [
    "if (df_wine.loc[E_NAME, 'precision_weighted'] > df_wine.loc[E_NAME, 'precision_macro']) \\\n",
    "    and (df_wine.loc[E_NAME, 'recall_weighted'] > df_wine.loc[E_NAME, 'recall_macro'])\\\n",
    "    and (df_wine.loc[E_NAME, 'f1_score_weighted'] > df_wine.loc[E_NAME, 'f1_score_macro']):\n",
    "        print(\"weighted 지표들의 값이 macro 지표들 값보다 높습니다.\")\n",
    "elif (df_wine.loc[E_NAME, 'precision_weighted'] < df_wine.loc[E_NAME, 'precision_macro']) \\\n",
    "    and (df_wine.loc[E_NAME, 'recall_weighted'] < df_wine.loc[E_NAME, 'recall_macro'])\\\n",
    "    and (df_wine.loc[E_NAME, 'f1_score_weighted'] < df_wine.loc[E_NAME, 'f1_score_macro']):\n",
    "        print(\"macro 지표들의 값이 weighted 지표들 값보다 높습니다.\")\n",
    "else:\n",
    "    print(\"지표들이 다양하게 나옵니다.\")\n",
    "    if df_wine_weighted.loc[E_NAME, 'mean'] > df_wine_macro.loc[E_NAME, 'mean']:\n",
    "        print(\"단, 지표들의 평균 값은 weighted 지표들이 더 높습니다.\")\n",
    "    elif df_wine_weighted.loc[E_NAME, 'mean'] < df_wine_macro.loc[E_NAME, 'mean']:\n",
    "        print(\"단, 지표들의 평균 값은 macro 지표들이 더 높습니다.\")\n",
    "    else:\n",
    "        print(\"그런데 두 지표들의 평균은 같습니다.\")"
   ]
  },
  {
   "cell_type": "markdown",
   "metadata": {},
   "source": [
    "##### Random Forest\n"
   ]
  },
  {
   "cell_type": "code",
   "execution_count": 41,
   "metadata": {},
   "outputs": [
    {
     "name": "stdout",
     "output_type": "stream",
     "text": [
      "              precision    recall  f1-score   support\n",
      "\n",
      "           0       1.00      1.00      1.00        16\n",
      "           1       1.00      0.93      0.97        15\n",
      "           2       0.93      1.00      0.97        14\n",
      "\n",
      "    accuracy                           0.98        45\n",
      "   macro avg       0.98      0.98      0.98        45\n",
      "weighted avg       0.98      0.98      0.98        45\n",
      "\n"
     ]
    }
   ],
   "source": [
    "from sklearn.ensemble import RandomForestClassifier\n",
    "random_forest = RandomForestClassifier()\n",
    "random_forest.fit(X_train, y_train)\n",
    "y_pred = random_forest.predict(X_test)\n",
    "print(classification_report(y_test, y_pred))\n",
    "#print(confusion_matrix(y_test,y_pred))\n",
    "\n",
    "E_NAME = 'random_forest'"
   ]
  },
  {
   "cell_type": "markdown",
   "metadata": {},
   "source": [
    "Random Forest 또한 각 라벨마다 precision, recall과 f1-score과 나왔고 전체에 대한 accuracy가 나왔습니다."
   ]
  },
  {
   "cell_type": "code",
   "execution_count": 42,
   "metadata": {},
   "outputs": [],
   "source": [
    "# 각 지표값을 구해서 df, df_weighted, df_macro에 넣습니다.\n",
    "pre_w = precision_score(y_test, y_pred, average = 'weighted')\n",
    "pre_m = precision_score(y_test, y_pred, average = 'macro')\n",
    "rec_w = recall_score(y_test, y_pred, average = 'weighted')\n",
    "rec_m = recall_score(y_test, y_pred, average = 'macro')\n",
    "f1_w = f1_score(y_test, y_pred, average = 'weighted')\n",
    "f1_m = f1_score(y_test, y_pred, average = 'macro')\n",
    "acc = accuracy_score(y_test, y_pred)\n",
    "df_wine.loc[E_NAME] = [pre_w,pre_m,rec_w,rec_m,f1_w,f1_m,acc]\n",
    "df_wine_weighted.loc[E_NAME, col_weighted] = [pre_w, rec_w, f1_w, acc]\n",
    "df_wine_macro.loc[E_NAME, col_macro] = [pre_m, rec_m, f1_m, acc]\n",
    "\n",
    "# weighted 와 macro에 따라 최댓값, 최댓값 이름, 최솟값, 최솟값 이름, 평균을 기존의 df_wine 에서 구하고 각각 df에 추가합니다.\n",
    "# 처음에 weight에서 비교하려고 했으나 문자열이 포함되어있어 idxmax에서 오류가 발생했었습니다.\n",
    "w_mean = df_wine.loc[E_NAME, col_weighted].mean()\n",
    "w_max = df_wine.loc[E_NAME, col_weighted].idxmax()\n",
    "w_max_value = df_wine.loc[E_NAME, col_weighted].max()\n",
    "w_min = df_wine.loc[E_NAME, col_weighted].idxmin()\n",
    "w_min_value = df_wine.loc[E_NAME, col_weighted].min()\n",
    "df_wine_weighted.loc[E_NAME,col_name2] = [w_max, w_max_value, w_min, w_min_value, w_mean]\n",
    "\n",
    "m_mean = df_wine.loc[E_NAME, col_macro].mean() \n",
    "m_max = df_wine.loc[E_NAME, col_macro].idxmax()\n",
    "m_max_value = df_wine.loc[E_NAME, col_macro].max()\n",
    "m_min = df_wine.loc[E_NAME, col_macro].idxmin()\n",
    "m_min_value = df_wine.loc[E_NAME, col_macro].min()\n",
    "df_wine_macro.loc[E_NAME,col_name2] = [m_max, m_max_value, m_min, m_min_value, m_mean]"
   ]
  },
  {
   "cell_type": "markdown",
   "metadata": {},
   "source": [
    "각 지표값과 weighted 와 macro 지표값들의 최댓값, 최솟값, 평균을 구합니다."
   ]
  },
  {
   "cell_type": "code",
   "execution_count": 43,
   "metadata": {},
   "outputs": [
    {
     "data": {
      "image/png": "[encoded data removed]",
      "text/plain": [
       "<Figure size 432x288 with 1 Axes>"
      ]
     },
     "metadata": {
      "needs_background": "light"
     },
     "output_type": "display_data"
    },
    {
     "name": "stdout",
     "output_type": "stream",
     "text": [
      "weighted 지표들 중 최댓값 :   precision_weighted = 0.97926      최솟값 :      recall_weighted = 0.97778      평균 : 0.97815 입니다.\n",
      "   macro 지표들 중 최댓값 :      precision_macro = 0.97778      최솟값 :       f1_score_macro = 0.97701      평균 : 0.97759 입니다.\n"
     ]
    }
   ],
   "source": [
    "plt.plot(col_name, df_wine_macro.loc[E_NAME, col_macro], label = \"macro\")\n",
    "plt.scatter(col_name, df_wine_macro.loc[E_NAME, col_macro])\n",
    "plt.plot(col_name, df_wine_weighted.loc[E_NAME, col_weighted], label = \"weighted\")\n",
    "plt.scatter(col_name, df_wine_weighted.loc[E_NAME, col_weighted])\n",
    "plt.legend()\n",
    "plt.show()\n",
    "\n",
    "print(\"weighted 지표들 중 최댓값 :\", df_wine_weighted.loc[E_NAME, \"max\"].rjust(20),\"=\", round(df_wine_weighted.loc[E_NAME,\"max_value\"],5),\\\n",
    "      \"     최솟값 :\", df_wine_weighted.loc[E_NAME, \"min\"].rjust(20),\"=\", round(df_wine_weighted.loc[E_NAME, \"min_value\"], 5),\\\n",
    "      \"     평균 :\", round(df_wine_weighted.loc[E_NAME, \"mean\"], 5), \"입니다.\")\n",
    "print(\"   macro 지표들 중 최댓값 :\", df_wine_macro.loc[E_NAME, \"max\"].rjust(20),\"=\", round(df_wine_macro.loc[E_NAME,\"max_value\"],5),\\\n",
    "      \"     최솟값 :\", df_wine_macro.loc[E_NAME, \"min\"].rjust(20),\"=\", round(df_wine_macro.loc[E_NAME, \"min_value\"], 5),\\\n",
    "      \"     평균 :\", round(df_wine_macro.loc[E_NAME, \"mean\"], 5), \"입니다.\")"
   ]
  },
  {
   "cell_type": "code",
   "execution_count": 44,
   "metadata": {},
   "outputs": [
    {
     "name": "stdout",
     "output_type": "stream",
     "text": [
      "지표들이 다양하게 나옵니다.\n",
      "단, 지표들의 평균 값은 weighted 지표들이 더 높습니다.\n"
     ]
    }
   ],
   "source": [
    "if (df_wine.loc[E_NAME, 'precision_weighted'] > df_wine.loc[E_NAME, 'precision_macro']) \\\n",
    "    and (df_wine.loc[E_NAME, 'recall_weighted'] > df_wine.loc[E_NAME, 'recall_macro'])\\\n",
    "    and (df_wine.loc[E_NAME, 'f1_score_weighted'] > df_wine.loc[E_NAME, 'f1_score_macro']):\n",
    "        print(\"weighted 지표들의 값이 macro 지표들 값보다 높습니다.\")\n",
    "elif (df_wine.loc[E_NAME, 'precision_weighted'] < df_wine.loc[E_NAME, 'precision_macro']) \\\n",
    "    and (df_wine.loc[E_NAME, 'recall_weighted'] < df_wine.loc[E_NAME, 'recall_macro'])\\\n",
    "    and (df_wine.loc[E_NAME, 'f1_score_weighted'] < df_wine.loc[E_NAME, 'f1_score_macro']):\n",
    "        print(\"macro 지표들의 값이 weighted 지표들 값보다 높습니다.\")\n",
    "else:\n",
    "    print(\"지표들이 다양하게 나옵니다.\")\n",
    "    if df_wine_weighted.loc[E_NAME, 'mean'] > df_wine_macro.loc[E_NAME, 'mean']:\n",
    "        print(\"단, 지표들의 평균 값은 weighted 지표들이 더 높습니다.\")\n",
    "    elif df_wine_weighted.loc[E_NAME, 'mean'] < df_wine_macro.loc[E_NAME, 'mean']:\n",
    "        print(\"단, 지표들의 평균 값은 macro 지표들이 더 높습니다.\")\n",
    "    else:\n",
    "        print(\"그런데 두 지표들의 평균은 같습니다.\")"
   ]
  },
  {
   "cell_type": "markdown",
   "metadata": {},
   "source": [
    "##### Support Vector Machine (SVM)\n"
   ]
  },
  {
   "cell_type": "code",
   "execution_count": 45,
   "metadata": {},
   "outputs": [
    {
     "name": "stdout",
     "output_type": "stream",
     "text": [
      "              precision    recall  f1-score   support\n",
      "\n",
      "           0       1.00      0.94      0.97        16\n",
      "           1       0.50      1.00      0.67        15\n",
      "           2       0.00      0.00      0.00        14\n",
      "\n",
      "    accuracy                           0.67        45\n",
      "   macro avg       0.50      0.65      0.54        45\n",
      "weighted avg       0.52      0.67      0.57        45\n",
      "\n"
     ]
    },
    {
     "name": "stderr",
     "output_type": "stream",
     "text": [
      "/home/aiffel/.local/lib/python3.10/site-packages/sklearn/metrics/_classification.py:1327: UndefinedMetricWarning: Precision and F-score are ill-defined and being set to 0.0 in labels with no predicted samples. Use `zero_division` parameter to control this behavior.\n",
      "  _warn_prf(average, modifier, msg_start, len(result))\n",
      "/home/aiffel/.local/lib/python3.10/site-packages/sklearn/metrics/_classification.py:1327: UndefinedMetricWarning: Precision and F-score are ill-defined and being set to 0.0 in labels with no predicted samples. Use `zero_division` parameter to control this behavior.\n",
      "  _warn_prf(average, modifier, msg_start, len(result))\n",
      "/home/aiffel/.local/lib/python3.10/site-packages/sklearn/metrics/_classification.py:1327: UndefinedMetricWarning: Precision and F-score are ill-defined and being set to 0.0 in labels with no predicted samples. Use `zero_division` parameter to control this behavior.\n",
      "  _warn_prf(average, modifier, msg_start, len(result))\n"
     ]
    }
   ],
   "source": [
    "from sklearn import svm\n",
    "\n",
    "svm_model = svm.SVC()\n",
    "svm_model.fit(X_train, y_train)\n",
    "y_pred = svm_model.predict(X_test)\n",
    "print(classification_report(y_test, y_pred))\n",
    "#print(confusion_matrix(y_test,y_pred))\n",
    "\n",
    "E_NAME = 'SVM'"
   ]
  },
  {
   "cell_type": "markdown",
   "metadata": {},
   "source": [
    "SVM 또한 각 라벨마다 precision, recall과 f1-score과 나왔고 전체에 대한 accuracy가 나왔습니다."
   ]
  },
  {
   "cell_type": "code",
   "execution_count": 46,
   "metadata": {},
   "outputs": [
    {
     "name": "stderr",
     "output_type": "stream",
     "text": [
      "/home/aiffel/.local/lib/python3.10/site-packages/sklearn/metrics/_classification.py:1327: UndefinedMetricWarning: Precision is ill-defined and being set to 0.0 in labels with no predicted samples. Use `zero_division` parameter to control this behavior.\n",
      "  _warn_prf(average, modifier, msg_start, len(result))\n",
      "/home/aiffel/.local/lib/python3.10/site-packages/sklearn/metrics/_classification.py:1327: UndefinedMetricWarning: Precision is ill-defined and being set to 0.0 in labels with no predicted samples. Use `zero_division` parameter to control this behavior.\n",
      "  _warn_prf(average, modifier, msg_start, len(result))\n"
     ]
    }
   ],
   "source": [
    "# 각 지표값을 구해서 df, df_weighted, df_macro에 넣습니다.\n",
    "pre_w = precision_score(y_test, y_pred, average = 'weighted')\n",
    "pre_m = precision_score(y_test, y_pred, average = 'macro')\n",
    "rec_w = recall_score(y_test, y_pred, average = 'weighted')\n",
    "rec_m = recall_score(y_test, y_pred, average = 'macro')\n",
    "f1_w = f1_score(y_test, y_pred, average = 'weighted')\n",
    "f1_m = f1_score(y_test, y_pred, average = 'macro')\n",
    "acc = accuracy_score(y_test, y_pred)\n",
    "df_wine.loc[E_NAME] = [pre_w,pre_m,rec_w,rec_m,f1_w,f1_m,acc]\n",
    "df_wine_weighted.loc[E_NAME, col_weighted] = [pre_w, rec_w, f1_w, acc]\n",
    "df_wine_macro.loc[E_NAME, col_macro] = [pre_m, rec_m, f1_m, acc]\n",
    "\n",
    "# weighted 와 macro에 따라 최댓값, 최댓값 이름, 최솟값, 최솟값 이름, 평균을 기존의 df_wine 에서 구하고 각각 df에 추가합니다.\n",
    "# 처음에 weight에서 비교하려고 했으나 문자열이 포함되어있어 idxmax에서 오류가 발생했었습니다.\n",
    "w_mean = df_wine.loc[E_NAME, col_weighted].mean()\n",
    "w_max = df_wine.loc[E_NAME, col_weighted].idxmax()\n",
    "w_max_value = df_wine.loc[E_NAME, col_weighted].max()\n",
    "w_min = df_wine.loc[E_NAME, col_weighted].idxmin()\n",
    "w_min_value = df_wine.loc[E_NAME, col_weighted].min()\n",
    "df_wine_weighted.loc[E_NAME,col_name2] = [w_max, w_max_value, w_min, w_min_value, w_mean]\n",
    "\n",
    "m_mean = df_wine.loc[E_NAME, col_macro].mean() \n",
    "m_max = df_wine.loc[E_NAME, col_macro].idxmax()\n",
    "m_max_value = df_wine.loc[E_NAME, col_macro].max()\n",
    "m_min = df_wine.loc[E_NAME, col_macro].idxmin()\n",
    "m_min_value = df_wine.loc[E_NAME, col_macro].min()\n",
    "df_wine_macro.loc[E_NAME,col_name2] = [m_max, m_max_value, m_min, m_min_value, m_mean]"
   ]
  },
  {
   "cell_type": "markdown",
   "metadata": {},
   "source": [
    "각 지표값과 weighted 와 macro 지표값들의 최댓값, 최솟값, 평균을 구합니다."
   ]
  },
  {
   "cell_type": "code",
   "execution_count": 47,
   "metadata": {},
   "outputs": [
    {
     "data": {
      "image/png": "[encoded data removed]",
      "text/plain": [
       "<Figure size 432x288 with 1 Axes>"
      ]
     },
     "metadata": {
      "needs_background": "light"
     },
     "output_type": "display_data"
    },
    {
     "name": "stdout",
     "output_type": "stream",
     "text": [
      "weighted 지표들 중 최댓값 :      recall_weighted = 0.66667      최솟값 :   precision_weighted = 0.52222      평균 : 0.60547 입니다.\n",
      "   macro 지표들 중 최댓값 :             accuracy = 0.66667      최솟값 :      precision_macro = 0.5      평균 : 0.58933 입니다.\n"
     ]
    }
   ],
   "source": [
    "plt.plot(col_name, df_wine_macro.loc[E_NAME, col_macro], label = \"macro\")\n",
    "plt.scatter(col_name, df_wine_macro.loc[E_NAME, col_macro])\n",
    "plt.plot(col_name, df_wine_weighted.loc[E_NAME, col_weighted], label = \"weighted\")\n",
    "plt.scatter(col_name, df_wine_weighted.loc[E_NAME, col_weighted])\n",
    "plt.legend()\n",
    "plt.show()\n",
    "\n",
    "print(\"weighted 지표들 중 최댓값 :\", df_wine_weighted.loc[E_NAME, \"max\"].rjust(20),\"=\", round(df_wine_weighted.loc[E_NAME,\"max_value\"],5),\\\n",
    "      \"     최솟값 :\", df_wine_weighted.loc[E_NAME, \"min\"].rjust(20),\"=\", round(df_wine_weighted.loc[E_NAME, \"min_value\"], 5),\\\n",
    "      \"     평균 :\", round(df_wine_weighted.loc[E_NAME, \"mean\"], 5), \"입니다.\")\n",
    "print(\"   macro 지표들 중 최댓값 :\", df_wine_macro.loc[E_NAME, \"max\"].rjust(20),\"=\", round(df_wine_macro.loc[E_NAME,\"max_value\"],5),\\\n",
    "      \"     최솟값 :\", df_wine_macro.loc[E_NAME, \"min\"].rjust(20),\"=\", round(df_wine_macro.loc[E_NAME, \"min_value\"], 5),\\\n",
    "      \"     평균 :\", round(df_wine_macro.loc[E_NAME, \"mean\"], 5), \"입니다.\")"
   ]
  },
  {
   "cell_type": "code",
   "execution_count": 48,
   "metadata": {},
   "outputs": [
    {
     "name": "stdout",
     "output_type": "stream",
     "text": [
      "weighted 지표들의 값이 macro 지표들 값보다 높습니다.\n"
     ]
    }
   ],
   "source": [
    "if (df_wine.loc[E_NAME, 'precision_weighted'] > df_wine.loc[E_NAME, 'precision_macro']) \\\n",
    "    and (df_wine.loc[E_NAME, 'recall_weighted'] > df_wine.loc[E_NAME, 'recall_macro'])\\\n",
    "    and (df_wine.loc[E_NAME, 'f1_score_weighted'] > df_wine.loc[E_NAME, 'f1_score_macro']):\n",
    "        print(\"weighted 지표들의 값이 macro 지표들 값보다 높습니다.\")\n",
    "elif (df_wine.loc[E_NAME, 'precision_weighted'] < df_wine.loc[E_NAME, 'precision_macro']) \\\n",
    "    and (df_wine.loc[E_NAME, 'recall_weighted'] < df_wine.loc[E_NAME, 'recall_macro'])\\\n",
    "    and (df_wine.loc[E_NAME, 'f1_score_weighted'] < df_wine.loc[E_NAME, 'f1_score_macro']):\n",
    "        print(\"macro 지표들의 값이 weighted 지표들 값보다 높습니다.\")\n",
    "else:\n",
    "    print(\"지표들이 다양하게 나옵니다.\")\n",
    "    if df_wine_weighted.loc[E_NAME, 'mean'] > df_wine_macro.loc[E_NAME, 'mean']:\n",
    "        print(\"단, 지표들의 평균 값은 weighted 지표들이 더 높습니다.\")\n",
    "    elif df_wine_weighted.loc[E_NAME, 'mean'] < df_wine_macro.loc[E_NAME, 'mean']:\n",
    "        print(\"단, 지표들의 평균 값은 macro 지표들이 더 높습니다.\")\n",
    "    else:\n",
    "        print(\"그런데 두 지표들의 평균은 같습니다.\")"
   ]
  },
  {
   "cell_type": "markdown",
   "metadata": {},
   "source": [
    "##### SGD Classifier\n"
   ]
  },
  {
   "cell_type": "code",
   "execution_count": 49,
   "metadata": {},
   "outputs": [
    {
     "name": "stdout",
     "output_type": "stream",
     "text": [
      "              precision    recall  f1-score   support\n",
      "\n",
      "           0       1.00      0.38      0.55        16\n",
      "           1       0.38      1.00      0.56        15\n",
      "           2       0.00      0.00      0.00        14\n",
      "\n",
      "    accuracy                           0.47        45\n",
      "   macro avg       0.46      0.46      0.37        45\n",
      "weighted avg       0.48      0.47      0.38        45\n",
      "\n"
     ]
    },
    {
     "name": "stderr",
     "output_type": "stream",
     "text": [
      "/home/aiffel/.local/lib/python3.10/site-packages/sklearn/metrics/_classification.py:1327: UndefinedMetricWarning: Precision and F-score are ill-defined and being set to 0.0 in labels with no predicted samples. Use `zero_division` parameter to control this behavior.\n",
      "  _warn_prf(average, modifier, msg_start, len(result))\n",
      "/home/aiffel/.local/lib/python3.10/site-packages/sklearn/metrics/_classification.py:1327: UndefinedMetricWarning: Precision and F-score are ill-defined and being set to 0.0 in labels with no predicted samples. Use `zero_division` parameter to control this behavior.\n",
      "  _warn_prf(average, modifier, msg_start, len(result))\n",
      "/home/aiffel/.local/lib/python3.10/site-packages/sklearn/metrics/_classification.py:1327: UndefinedMetricWarning: Precision and F-score are ill-defined and being set to 0.0 in labels with no predicted samples. Use `zero_division` parameter to control this behavior.\n",
      "  _warn_prf(average, modifier, msg_start, len(result))\n"
     ]
    }
   ],
   "source": [
    "from sklearn.linear_model import SGDClassifier\n",
    "\n",
    "sgd_model = SGDClassifier()\n",
    "sgd_model.fit(X_train, y_train)\n",
    "y_pred = sgd_model.predict(X_test)\n",
    "print(classification_report(y_test, y_pred))\n",
    "#print(confusion_matrix(y_test,y_pred))\n",
    "\n",
    "E_NAME = 'SGD'"
   ]
  },
  {
   "cell_type": "markdown",
   "metadata": {},
   "source": [
    "SGD 또한 각 라벨마다 precision, recall과 f1-score과 나왔고 전체에 대한 accuracy가 나왔습니다."
   ]
  },
  {
   "cell_type": "code",
   "execution_count": 50,
   "metadata": {},
   "outputs": [
    {
     "name": "stderr",
     "output_type": "stream",
     "text": [
      "/home/aiffel/.local/lib/python3.10/site-packages/sklearn/metrics/_classification.py:1327: UndefinedMetricWarning: Precision is ill-defined and being set to 0.0 in labels with no predicted samples. Use `zero_division` parameter to control this behavior.\n",
      "  _warn_prf(average, modifier, msg_start, len(result))\n",
      "/home/aiffel/.local/lib/python3.10/site-packages/sklearn/metrics/_classification.py:1327: UndefinedMetricWarning: Precision is ill-defined and being set to 0.0 in labels with no predicted samples. Use `zero_division` parameter to control this behavior.\n",
      "  _warn_prf(average, modifier, msg_start, len(result))\n"
     ]
    }
   ],
   "source": [
    "# 각 지표값을 구해서 df, df_weighted, df_macro에 넣습니다.\n",
    "pre_w = precision_score(y_test, y_pred, average = 'weighted')\n",
    "pre_m = precision_score(y_test, y_pred, average = 'macro')\n",
    "rec_w = recall_score(y_test, y_pred, average = 'weighted')\n",
    "rec_m = recall_score(y_test, y_pred, average = 'macro')\n",
    "f1_w = f1_score(y_test, y_pred, average = 'weighted')\n",
    "f1_m = f1_score(y_test, y_pred, average = 'macro')\n",
    "acc = accuracy_score(y_test, y_pred)\n",
    "df_wine.loc[E_NAME] = [pre_w,pre_m,rec_w,rec_m,f1_w,f1_m,acc]\n",
    "df_wine_weighted.loc[E_NAME, col_weighted] = [pre_w, rec_w, f1_w, acc]\n",
    "df_wine_macro.loc[E_NAME, col_macro] = [pre_m, rec_m, f1_m, acc]\n",
    "\n",
    "# weighted 와 macro에 따라 최댓값, 최댓값 이름, 최솟값, 최솟값 이름, 평균을 기존의 df_wine 에서 구하고 각각 df에 추가합니다.\n",
    "# 처음에 weight에서 비교하려고 했으나 문자열이 포함되어있어 idxmax에서 오류가 발생했었습니다.\n",
    "w_mean = df_wine.loc[E_NAME, col_weighted].mean()\n",
    "w_max = df_wine.loc[E_NAME, col_weighted].idxmax()\n",
    "w_max_value = df_wine.loc[E_NAME, col_weighted].max()\n",
    "w_min = df_wine.loc[E_NAME, col_weighted].idxmin()\n",
    "w_min_value = df_wine.loc[E_NAME, col_weighted].min()\n",
    "df_wine_weighted.loc[E_NAME,col_name2] = [w_max, w_max_value, w_min, w_min_value, w_mean]\n",
    "\n",
    "m_mean = df_wine.loc[E_NAME, col_macro].mean() \n",
    "m_max = df_wine.loc[E_NAME, col_macro].idxmax()\n",
    "m_max_value = df_wine.loc[E_NAME, col_macro].max()\n",
    "m_min = df_wine.loc[E_NAME, col_macro].idxmin()\n",
    "m_min_value = df_wine.loc[E_NAME, col_macro].min()\n",
    "df_wine_macro.loc[E_NAME,col_name2] = [m_max, m_max_value, m_min, m_min_value, m_mean]"
   ]
  },
  {
   "cell_type": "markdown",
   "metadata": {},
   "source": [
    "각 지표값과 weighted 와 macro 지표값들의 최댓값, 최솟값, 평균을 구합니다."
   ]
  },
  {
   "cell_type": "code",
   "execution_count": 51,
   "metadata": {},
   "outputs": [
    {
     "data": {
      "image/png": "[encoded data removed]",
      "text/plain": [
       "<Figure size 432x288 with 1 Axes>"
      ]
     },
     "metadata": {
      "needs_background": "light"
     },
     "output_type": "display_data"
    },
    {
     "name": "stdout",
     "output_type": "stream",
     "text": [
      "weighted 지표들 중 최댓값 :   precision_weighted = 0.48376      최솟값 :    f1_score_weighted = 0.37912      평균 : 0.44905 입니다.\n",
      "   macro 지표들 중 최댓값 :             accuracy = 0.46667      최솟값 :       f1_score_macro = 0.367      평균 : 0.43839 입니다.\n"
     ]
    }
   ],
   "source": [
    "plt.plot(col_name, df_wine_macro.loc[E_NAME, col_macro], label = \"macro\")\n",
    "plt.scatter(col_name, df_wine_macro.loc[E_NAME, col_macro])\n",
    "plt.plot(col_name, df_wine_weighted.loc[E_NAME, col_weighted], label = \"weighted\")\n",
    "plt.scatter(col_name, df_wine_weighted.loc[E_NAME, col_weighted])\n",
    "plt.legend()\n",
    "plt.show()\n",
    "\n",
    "print(\"weighted 지표들 중 최댓값 :\", df_wine_weighted.loc[E_NAME, \"max\"].rjust(20),\"=\", round(df_wine_weighted.loc[E_NAME,\"max_value\"],5),\\\n",
    "      \"     최솟값 :\", df_wine_weighted.loc[E_NAME, \"min\"].rjust(20),\"=\", round(df_wine_weighted.loc[E_NAME, \"min_value\"], 5),\\\n",
    "      \"     평균 :\", round(df_wine_weighted.loc[E_NAME, \"mean\"], 5), \"입니다.\")\n",
    "print(\"   macro 지표들 중 최댓값 :\", df_wine_macro.loc[E_NAME, \"max\"].rjust(20),\"=\", round(df_wine_macro.loc[E_NAME,\"max_value\"],5),\\\n",
    "      \"     최솟값 :\", df_wine_macro.loc[E_NAME, \"min\"].rjust(20),\"=\", round(df_wine_macro.loc[E_NAME, \"min_value\"], 5),\\\n",
    "      \"     평균 :\", round(df_wine_macro.loc[E_NAME, \"mean\"], 5), \"입니다.\")"
   ]
  },
  {
   "cell_type": "code",
   "execution_count": 52,
   "metadata": {},
   "outputs": [
    {
     "name": "stdout",
     "output_type": "stream",
     "text": [
      "weighted 지표들의 값이 macro 지표들 값보다 높습니다.\n"
     ]
    }
   ],
   "source": [
    "if (df_wine.loc[E_NAME, 'precision_weighted'] > df_wine.loc[E_NAME, 'precision_macro']) \\\n",
    "    and (df_wine.loc[E_NAME, 'recall_weighted'] > df_wine.loc[E_NAME, 'recall_macro'])\\\n",
    "    and (df_wine.loc[E_NAME, 'f1_score_weighted'] > df_wine.loc[E_NAME, 'f1_score_macro']):\n",
    "        print(\"weighted 지표들의 값이 macro 지표들 값보다 높습니다.\")\n",
    "elif (df_wine.loc[E_NAME, 'precision_weighted'] < df_wine.loc[E_NAME, 'precision_macro']) \\\n",
    "    and (df_wine.loc[E_NAME, 'recall_weighted'] < df_wine.loc[E_NAME, 'recall_macro'])\\\n",
    "    and (df_wine.loc[E_NAME, 'f1_score_weighted'] < df_wine.loc[E_NAME, 'f1_score_macro']):\n",
    "        print(\"macro 지표들의 값이 weighted 지표들 값보다 높습니다.\")\n",
    "else:\n",
    "    print(\"지표들이 다양하게 나옵니다.\")\n",
    "    if df_wine_weighted.loc[E_NAME, 'mean'] > df_wine_macro.loc[E_NAME, 'mean']:\n",
    "        print(\"단, 지표들의 평균 값은 weighted 지표들이 더 높습니다.\")\n",
    "    elif df_wine_weighted.loc[E_NAME, 'mean'] < df_wine_macro.loc[E_NAME, 'mean']:\n",
    "        print(\"단, 지표들의 평균 값은 macro 지표들이 더 높습니다.\")\n",
    "    else:\n",
    "        print(\"그런데 두 지표들의 평균은 같습니다.\")"
   ]
  },
  {
   "cell_type": "markdown",
   "metadata": {},
   "source": [
    "##### Logistic Regression\n"
   ]
  },
  {
   "cell_type": "code",
   "execution_count": 53,
   "metadata": {},
   "outputs": [
    {
     "name": "stdout",
     "output_type": "stream",
     "text": [
      "              precision    recall  f1-score   support\n",
      "\n",
      "           0       1.00      0.94      0.97        16\n",
      "           1       0.93      0.93      0.93        15\n",
      "           2       0.93      1.00      0.97        14\n",
      "\n",
      "    accuracy                           0.96        45\n",
      "   macro avg       0.96      0.96      0.96        45\n",
      "weighted avg       0.96      0.96      0.96        45\n",
      "\n"
     ]
    }
   ],
   "source": [
    "from sklearn.linear_model import LogisticRegression\n",
    "\n",
    "logistic_model = LogisticRegression(max_iter = 10**4)\n",
    "logistic_model.fit(X_train, y_train)\n",
    "y_pred = logistic_model.predict(X_test)\n",
    "print(classification_report(y_test, y_pred))\n",
    "#print(confusion_matrix(y_test,y_pred))\n",
    "\n",
    "E_NAME = 'logistic_regression'"
   ]
  },
  {
   "cell_type": "markdown",
   "metadata": {},
   "source": [
    "Logistic Regression 또한 각 라벨마다 precision, recall과 f1-score과 나왔고 전체에 대한 accuracy가 나왔습니다."
   ]
  },
  {
   "cell_type": "code",
   "execution_count": 54,
   "metadata": {},
   "outputs": [],
   "source": [
    "# 각 지표값을 구해서 df, df_weighted, df_macro에 넣습니다.\n",
    "pre_w = precision_score(y_test, y_pred, average = 'weighted')\n",
    "pre_m = precision_score(y_test, y_pred, average = 'macro')\n",
    "rec_w = recall_score(y_test, y_pred, average = 'weighted')\n",
    "rec_m = recall_score(y_test, y_pred, average = 'macro')\n",
    "f1_w = f1_score(y_test, y_pred, average = 'weighted')\n",
    "f1_m = f1_score(y_test, y_pred, average = 'macro')\n",
    "acc = accuracy_score(y_test, y_pred)\n",
    "df_wine.loc[E_NAME] = [pre_w,pre_m,rec_w,rec_m,f1_w,f1_m,acc]\n",
    "df_wine_weighted.loc[E_NAME, col_weighted] = [pre_w, rec_w, f1_w, acc]\n",
    "df_wine_macro.loc[E_NAME, col_macro] = [pre_m, rec_m, f1_m, acc]\n",
    "\n",
    "# weighted 와 macro에 따라 최댓값, 최댓값 이름, 최솟값, 최솟값 이름, 평균을 기존의 df_wine 에서 구하고 각각 df에 추가합니다.\n",
    "# 처음에 weight에서 비교하려고 했으나 문자열이 포함되어있어 idxmax에서 오류가 발생했었습니다.\n",
    "w_mean = df_wine.loc[E_NAME, col_weighted].mean()\n",
    "w_max = df_wine.loc[E_NAME, col_weighted].idxmax()\n",
    "w_max_value = df_wine.loc[E_NAME, col_weighted].max()\n",
    "w_min = df_wine.loc[E_NAME, col_weighted].idxmin()\n",
    "w_min_value = df_wine.loc[E_NAME, col_weighted].min()\n",
    "df_wine_weighted.loc[E_NAME,col_name2] = [w_max, w_max_value, w_min, w_min_value, w_mean]\n",
    "\n",
    "m_mean = df_wine.loc[E_NAME, col_macro].mean() \n",
    "m_max = df_wine.loc[E_NAME, col_macro].idxmax()\n",
    "m_max_value = df_wine.loc[E_NAME, col_macro].max()\n",
    "m_min = df_wine.loc[E_NAME, col_macro].idxmin()\n",
    "m_min_value = df_wine.loc[E_NAME, col_macro].min()\n",
    "df_wine_macro.loc[E_NAME,col_name2] = [m_max, m_max_value, m_min, m_min_value, m_mean]"
   ]
  },
  {
   "cell_type": "markdown",
   "metadata": {},
   "source": [
    "각 지표값과 weighted 와 macro 지표값들의 최댓값, 최솟값, 평균을 구합니다."
   ]
  },
  {
   "cell_type": "code",
   "execution_count": 55,
   "metadata": {},
   "outputs": [
    {
     "data": {
      "image/png": "[encoded data removed]",
      "text/plain": [
       "<Figure size 432x288 with 1 Axes>"
      ]
     },
     "metadata": {
      "needs_background": "light"
     },
     "output_type": "display_data"
    },
    {
     "name": "stdout",
     "output_type": "stream",
     "text": [
      "weighted 지표들 중 최댓값 :   precision_weighted = 0.95704      최솟값 :      recall_weighted = 0.95556      평균 : 0.95593 입니다.\n",
      "   macro 지표들 중 최댓값 :         recall_macro = 0.95694      최솟값 :       f1_score_macro = 0.95553      평균 : 0.9559 입니다.\n"
     ]
    }
   ],
   "source": [
    "plt.plot(col_name, df_wine_macro.loc[E_NAME, col_macro], label = \"macro\")\n",
    "plt.scatter(col_name, df_wine_macro.loc[E_NAME, col_macro])\n",
    "plt.plot(col_name, df_wine_weighted.loc[E_NAME, col_weighted], label = \"weighted\")\n",
    "plt.scatter(col_name, df_wine_weighted.loc[E_NAME, col_weighted])\n",
    "plt.legend()\n",
    "plt.show()\n",
    "\n",
    "print(\"weighted 지표들 중 최댓값 :\", df_wine_weighted.loc[E_NAME, \"max\"].rjust(20),\"=\", round(df_wine_weighted.loc[E_NAME,\"max_value\"],5),\\\n",
    "      \"     최솟값 :\", df_wine_weighted.loc[E_NAME, \"min\"].rjust(20),\"=\", round(df_wine_weighted.loc[E_NAME, \"min_value\"], 5),\\\n",
    "      \"     평균 :\", round(df_wine_weighted.loc[E_NAME, \"mean\"], 5), \"입니다.\")\n",
    "print(\"   macro 지표들 중 최댓값 :\", df_wine_macro.loc[E_NAME, \"max\"].rjust(20),\"=\", round(df_wine_macro.loc[E_NAME,\"max_value\"],5),\\\n",
    "      \"     최솟값 :\", df_wine_macro.loc[E_NAME, \"min\"].rjust(20),\"=\", round(df_wine_macro.loc[E_NAME, \"min_value\"], 5),\\\n",
    "      \"     평균 :\", round(df_wine_macro.loc[E_NAME, \"mean\"], 5), \"입니다.\")"
   ]
  },
  {
   "cell_type": "code",
   "execution_count": 56,
   "metadata": {},
   "outputs": [
    {
     "name": "stdout",
     "output_type": "stream",
     "text": [
      "지표들이 다양하게 나옵니다.\n",
      "단, 지표들의 평균 값은 weighted 지표들이 더 높습니다.\n"
     ]
    }
   ],
   "source": [
    "if (df_wine.loc[E_NAME, 'precision_weighted'] > df_wine.loc[E_NAME, 'precision_macro']) \\\n",
    "    and (df_wine.loc[E_NAME, 'recall_weighted'] > df_wine.loc[E_NAME, 'recall_macro'])\\\n",
    "    and (df_wine.loc[E_NAME, 'f1_score_weighted'] > df_wine.loc[E_NAME, 'f1_score_macro']):\n",
    "        print(\"weighted 지표들의 값이 macro 지표들 값보다 높습니다.\")\n",
    "elif (df_wine.loc[E_NAME, 'precision_weighted'] < df_wine.loc[E_NAME, 'precision_macro']) \\\n",
    "    and (df_wine.loc[E_NAME, 'recall_weighted'] < df_wine.loc[E_NAME, 'recall_macro'])\\\n",
    "    and (df_wine.loc[E_NAME, 'f1_score_weighted'] < df_wine.loc[E_NAME, 'f1_score_macro']):\n",
    "        print(\"macro 지표들의 값이 weighted 지표들 값보다 높습니다.\")\n",
    "else:\n",
    "    print(\"지표들이 다양하게 나옵니다.\")\n",
    "    if df_wine_weighted.loc[E_NAME, 'mean'] > df_wine_macro.loc[E_NAME, 'mean']:\n",
    "        print(\"단, 지표들의 평균 값은 weighted 지표들이 더 높습니다.\")\n",
    "    elif df_wine_weighted.loc[E_NAME, 'mean'] < df_wine_macro.loc[E_NAME, 'mean']:\n",
    "        print(\"단, 지표들의 평균 값은 macro 지표들이 더 높습니다.\")\n",
    "    else:\n",
    "        print(\"그런데 두 지표들의 평균은 같습니다.\")"
   ]
  },
  {
   "cell_type": "markdown",
   "metadata": {},
   "source": [
    "#### (6) 모델들의 성능 평가"
   ]
  },
  {
   "cell_type": "markdown",
   "metadata": {},
   "source": [
    "여기까지 5개의 모델들을 wine data로 실험해보았습니다.  \n",
    "모델들이 가지는 지표값들이 포함되어있는 데이터 프레임들을 나타내보겠습니다."
   ]
  },
  {
   "cell_type": "code",
   "execution_count": 57,
   "metadata": {},
   "outputs": [
    {
     "data": {
      "text/html": [
       "<div>\n",
       "<style scoped>\n",
       "    .dataframe tbody tr th:only-of-type {\n",
       "        vertical-align: middle;\n",
       "    }\n",
       "\n",
       "    .dataframe tbody tr th {\n",
       "        vertical-align: top;\n",
       "    }\n",
       "\n",
       "    .dataframe thead th {\n",
       "        text-align: right;\n",
       "    }\n",
       "</style>\n",
       "<table border=\"1\" class=\"dataframe\">\n",
       "  <thead>\n",
       "    <tr style=\"text-align: right;\">\n",
       "      <th></th>\n",
       "      <th>precision_weighted</th>\n",
       "      <th>precision_macro</th>\n",
       "      <th>recall_weighted</th>\n",
       "      <th>recall_macro</th>\n",
       "      <th>f1_score_weighted</th>\n",
       "      <th>f1_score_macro</th>\n",
       "      <th>accuracy</th>\n",
       "    </tr>\n",
       "  </thead>\n",
       "  <tbody>\n",
       "    <tr>\n",
       "      <th>decision_tree</th>\n",
       "      <td>0.957037</td>\n",
       "      <td>0.955556</td>\n",
       "      <td>0.955556</td>\n",
       "      <td>0.956944</td>\n",
       "      <td>0.955580</td>\n",
       "      <td>0.955531</td>\n",
       "      <td>0.955556</td>\n",
       "    </tr>\n",
       "    <tr>\n",
       "      <th>random_forest</th>\n",
       "      <td>0.979259</td>\n",
       "      <td>0.977778</td>\n",
       "      <td>0.977778</td>\n",
       "      <td>0.977778</td>\n",
       "      <td>0.977778</td>\n",
       "      <td>0.977011</td>\n",
       "      <td>0.977778</td>\n",
       "    </tr>\n",
       "    <tr>\n",
       "      <th>SVM</th>\n",
       "      <td>0.522222</td>\n",
       "      <td>0.500000</td>\n",
       "      <td>0.666667</td>\n",
       "      <td>0.645833</td>\n",
       "      <td>0.566308</td>\n",
       "      <td>0.544803</td>\n",
       "      <td>0.666667</td>\n",
       "    </tr>\n",
       "    <tr>\n",
       "      <th>SGD</th>\n",
       "      <td>0.483761</td>\n",
       "      <td>0.461538</td>\n",
       "      <td>0.466667</td>\n",
       "      <td>0.458333</td>\n",
       "      <td>0.379125</td>\n",
       "      <td>0.367003</td>\n",
       "      <td>0.466667</td>\n",
       "    </tr>\n",
       "    <tr>\n",
       "      <th>logistic_regression</th>\n",
       "      <td>0.957037</td>\n",
       "      <td>0.955556</td>\n",
       "      <td>0.955556</td>\n",
       "      <td>0.956944</td>\n",
       "      <td>0.955580</td>\n",
       "      <td>0.955531</td>\n",
       "      <td>0.955556</td>\n",
       "    </tr>\n",
       "  </tbody>\n",
       "</table>\n",
       "</div>"
      ],
      "text/plain": [
       "                     precision_weighted  precision_macro  recall_weighted  \\\n",
       "decision_tree                  0.957037         0.955556         0.955556   \n",
       "random_forest                  0.979259         0.977778         0.977778   \n",
       "SVM                            0.522222         0.500000         0.666667   \n",
       "SGD                            0.483761         0.461538         0.466667   \n",
       "logistic_regression            0.957037         0.955556         0.955556   \n",
       "\n",
       "                     recall_macro  f1_score_weighted  f1_score_macro  accuracy  \n",
       "decision_tree            0.956944           0.955580        0.955531  0.955556  \n",
       "random_forest            0.977778           0.977778        0.977011  0.977778  \n",
       "SVM                      0.645833           0.566308        0.544803  0.666667  \n",
       "SGD                      0.458333           0.379125        0.367003  0.466667  \n",
       "logistic_regression      0.956944           0.955580        0.955531  0.955556  "
      ]
     },
     "execution_count": 57,
     "metadata": {},
     "output_type": "execute_result"
    }
   ],
   "source": [
    "df_wine"
   ]
  },
  {
   "cell_type": "code",
   "execution_count": 58,
   "metadata": {},
   "outputs": [
    {
     "data": {
      "text/html": [
       "<div>\n",
       "<style scoped>\n",
       "    .dataframe tbody tr th:only-of-type {\n",
       "        vertical-align: middle;\n",
       "    }\n",
       "\n",
       "    .dataframe tbody tr th {\n",
       "        vertical-align: top;\n",
       "    }\n",
       "\n",
       "    .dataframe thead th {\n",
       "        text-align: right;\n",
       "    }\n",
       "</style>\n",
       "<table border=\"1\" class=\"dataframe\">\n",
       "  <thead>\n",
       "    <tr style=\"text-align: right;\">\n",
       "      <th></th>\n",
       "      <th>precision_weighted</th>\n",
       "      <th>recall_weighted</th>\n",
       "      <th>f1_score_weighted</th>\n",
       "      <th>accuracy</th>\n",
       "      <th>max</th>\n",
       "      <th>max_value</th>\n",
       "      <th>min</th>\n",
       "      <th>min_value</th>\n",
       "      <th>mean</th>\n",
       "    </tr>\n",
       "  </thead>\n",
       "  <tbody>\n",
       "    <tr>\n",
       "      <th>decision_tree</th>\n",
       "      <td>0.957037</td>\n",
       "      <td>0.955556</td>\n",
       "      <td>0.955580</td>\n",
       "      <td>0.955556</td>\n",
       "      <td>precision_weighted</td>\n",
       "      <td>0.957037</td>\n",
       "      <td>recall_weighted</td>\n",
       "      <td>0.955556</td>\n",
       "      <td>0.955932</td>\n",
       "    </tr>\n",
       "    <tr>\n",
       "      <th>random_forest</th>\n",
       "      <td>0.979259</td>\n",
       "      <td>0.977778</td>\n",
       "      <td>0.977778</td>\n",
       "      <td>0.977778</td>\n",
       "      <td>precision_weighted</td>\n",
       "      <td>0.979259</td>\n",
       "      <td>recall_weighted</td>\n",
       "      <td>0.977778</td>\n",
       "      <td>0.978148</td>\n",
       "    </tr>\n",
       "    <tr>\n",
       "      <th>SVM</th>\n",
       "      <td>0.522222</td>\n",
       "      <td>0.666667</td>\n",
       "      <td>0.566308</td>\n",
       "      <td>0.666667</td>\n",
       "      <td>recall_weighted</td>\n",
       "      <td>0.666667</td>\n",
       "      <td>precision_weighted</td>\n",
       "      <td>0.522222</td>\n",
       "      <td>0.605466</td>\n",
       "    </tr>\n",
       "    <tr>\n",
       "      <th>SGD</th>\n",
       "      <td>0.483761</td>\n",
       "      <td>0.466667</td>\n",
       "      <td>0.379125</td>\n",
       "      <td>0.466667</td>\n",
       "      <td>precision_weighted</td>\n",
       "      <td>0.483761</td>\n",
       "      <td>f1_score_weighted</td>\n",
       "      <td>0.379125</td>\n",
       "      <td>0.449055</td>\n",
       "    </tr>\n",
       "    <tr>\n",
       "      <th>logistic_regression</th>\n",
       "      <td>0.957037</td>\n",
       "      <td>0.955556</td>\n",
       "      <td>0.955580</td>\n",
       "      <td>0.955556</td>\n",
       "      <td>precision_weighted</td>\n",
       "      <td>0.957037</td>\n",
       "      <td>recall_weighted</td>\n",
       "      <td>0.955556</td>\n",
       "      <td>0.955932</td>\n",
       "    </tr>\n",
       "  </tbody>\n",
       "</table>\n",
       "</div>"
      ],
      "text/plain": [
       "                     precision_weighted  recall_weighted  f1_score_weighted  \\\n",
       "decision_tree                  0.957037         0.955556           0.955580   \n",
       "random_forest                  0.979259         0.977778           0.977778   \n",
       "SVM                            0.522222         0.666667           0.566308   \n",
       "SGD                            0.483761         0.466667           0.379125   \n",
       "logistic_regression            0.957037         0.955556           0.955580   \n",
       "\n",
       "                     accuracy                 max  max_value  \\\n",
       "decision_tree        0.955556  precision_weighted   0.957037   \n",
       "random_forest        0.977778  precision_weighted   0.979259   \n",
       "SVM                  0.666667     recall_weighted   0.666667   \n",
       "SGD                  0.466667  precision_weighted   0.483761   \n",
       "logistic_regression  0.955556  precision_weighted   0.957037   \n",
       "\n",
       "                                    min  min_value      mean  \n",
       "decision_tree           recall_weighted   0.955556  0.955932  \n",
       "random_forest           recall_weighted   0.977778  0.978148  \n",
       "SVM                  precision_weighted   0.522222  0.605466  \n",
       "SGD                   f1_score_weighted   0.379125  0.449055  \n",
       "logistic_regression     recall_weighted   0.955556  0.955932  "
      ]
     },
     "execution_count": 58,
     "metadata": {},
     "output_type": "execute_result"
    }
   ],
   "source": [
    "df_wine_weighted"
   ]
  },
  {
   "cell_type": "code",
   "execution_count": 59,
   "metadata": {},
   "outputs": [
    {
     "data": {
      "text/html": [
       "<div>\n",
       "<style scoped>\n",
       "    .dataframe tbody tr th:only-of-type {\n",
       "        vertical-align: middle;\n",
       "    }\n",
       "\n",
       "    .dataframe tbody tr th {\n",
       "        vertical-align: top;\n",
       "    }\n",
       "\n",
       "    .dataframe thead th {\n",
       "        text-align: right;\n",
       "    }\n",
       "</style>\n",
       "<table border=\"1\" class=\"dataframe\">\n",
       "  <thead>\n",
       "    <tr style=\"text-align: right;\">\n",
       "      <th></th>\n",
       "      <th>precision_macro</th>\n",
       "      <th>recall_macro</th>\n",
       "      <th>f1_score_macro</th>\n",
       "      <th>accuracy</th>\n",
       "      <th>max</th>\n",
       "      <th>max_value</th>\n",
       "      <th>min</th>\n",
       "      <th>min_value</th>\n",
       "      <th>mean</th>\n",
       "    </tr>\n",
       "  </thead>\n",
       "  <tbody>\n",
       "    <tr>\n",
       "      <th>decision_tree</th>\n",
       "      <td>0.955556</td>\n",
       "      <td>0.956944</td>\n",
       "      <td>0.955531</td>\n",
       "      <td>0.955556</td>\n",
       "      <td>recall_macro</td>\n",
       "      <td>0.956944</td>\n",
       "      <td>f1_score_macro</td>\n",
       "      <td>0.955531</td>\n",
       "      <td>0.955897</td>\n",
       "    </tr>\n",
       "    <tr>\n",
       "      <th>random_forest</th>\n",
       "      <td>0.977778</td>\n",
       "      <td>0.977778</td>\n",
       "      <td>0.977011</td>\n",
       "      <td>0.977778</td>\n",
       "      <td>precision_macro</td>\n",
       "      <td>0.977778</td>\n",
       "      <td>f1_score_macro</td>\n",
       "      <td>0.977011</td>\n",
       "      <td>0.977586</td>\n",
       "    </tr>\n",
       "    <tr>\n",
       "      <th>SVM</th>\n",
       "      <td>0.500000</td>\n",
       "      <td>0.645833</td>\n",
       "      <td>0.544803</td>\n",
       "      <td>0.666667</td>\n",
       "      <td>accuracy</td>\n",
       "      <td>0.666667</td>\n",
       "      <td>precision_macro</td>\n",
       "      <td>0.500000</td>\n",
       "      <td>0.589326</td>\n",
       "    </tr>\n",
       "    <tr>\n",
       "      <th>SGD</th>\n",
       "      <td>0.461538</td>\n",
       "      <td>0.458333</td>\n",
       "      <td>0.367003</td>\n",
       "      <td>0.466667</td>\n",
       "      <td>accuracy</td>\n",
       "      <td>0.466667</td>\n",
       "      <td>f1_score_macro</td>\n",
       "      <td>0.367003</td>\n",
       "      <td>0.438385</td>\n",
       "    </tr>\n",
       "    <tr>\n",
       "      <th>logistic_regression</th>\n",
       "      <td>0.955556</td>\n",
       "      <td>0.956944</td>\n",
       "      <td>0.955531</td>\n",
       "      <td>0.955556</td>\n",
       "      <td>recall_macro</td>\n",
       "      <td>0.956944</td>\n",
       "      <td>f1_score_macro</td>\n",
       "      <td>0.955531</td>\n",
       "      <td>0.955897</td>\n",
       "    </tr>\n",
       "  </tbody>\n",
       "</table>\n",
       "</div>"
      ],
      "text/plain": [
       "                     precision_macro  recall_macro  f1_score_macro  accuracy  \\\n",
       "decision_tree               0.955556      0.956944        0.955531  0.955556   \n",
       "random_forest               0.977778      0.977778        0.977011  0.977778   \n",
       "SVM                         0.500000      0.645833        0.544803  0.666667   \n",
       "SGD                         0.461538      0.458333        0.367003  0.466667   \n",
       "logistic_regression         0.955556      0.956944        0.955531  0.955556   \n",
       "\n",
       "                                 max  max_value              min  min_value  \\\n",
       "decision_tree           recall_macro   0.956944   f1_score_macro   0.955531   \n",
       "random_forest        precision_macro   0.977778   f1_score_macro   0.977011   \n",
       "SVM                         accuracy   0.666667  precision_macro   0.500000   \n",
       "SGD                         accuracy   0.466667   f1_score_macro   0.367003   \n",
       "logistic_regression     recall_macro   0.956944   f1_score_macro   0.955531   \n",
       "\n",
       "                         mean  \n",
       "decision_tree        0.955897  \n",
       "random_forest        0.977586  \n",
       "SVM                  0.589326  \n",
       "SGD                  0.438385  \n",
       "logistic_regression  0.955897  "
      ]
     },
     "execution_count": 59,
     "metadata": {},
     "output_type": "execute_result"
    }
   ],
   "source": [
    "df_wine_macro"
   ]
  },
  {
   "cell_type": "markdown",
   "metadata": {},
   "source": [
    "* 가장 성능이 좋은 모델을 찾아봅시다.  \n",
    "먼저 위의 DF만 보고는 어떤 지표를 가지고 비교할지 잘 모르겠으니 각 지표별로 최대값을 가지는 모델들을 출력해봅시다."
   ]
  },
  {
   "cell_type": "code",
   "execution_count": 60,
   "metadata": {},
   "outputs": [
    {
     "name": "stdout",
     "output_type": "stream",
     "text": [
      "precision_weighted    random_forest\n",
      "precision_macro       random_forest\n",
      "recall_weighted       random_forest\n",
      "recall_macro          random_forest\n",
      "f1_score_weighted     random_forest\n",
      "f1_score_macro        random_forest\n",
      "accuracy              random_forest\n",
      "dtype: object\n"
     ]
    }
   ],
   "source": [
    "print(df_wine.idxmax())"
   ]
  },
  {
   "cell_type": "markdown",
   "metadata": {},
   "source": [
    "모든 지표에서 Random Forest 모델이 가장 높은 값을 가집니다. 이렇게 보면 어떤 지표를 선택하더라도 Random Forest 가 가장 높은 값을 가지므로  \n",
    "wine classification에서는 5개의 모델 중 Random Forest 모델이 성능이 가장 좋은 것으로 나옵니다."
   ]
  },
  {
   "cell_type": "markdown",
   "metadata": {},
   "source": [
    "* 그럼 해당 데이터에서 모델의 성능을 평가하는 지표로는 무엇이 좋을까요?  \n",
    "  \n",
    "이 데이터 또한 support 값이 다르므로 weighted 지표들이 macro 지표들 보다 더 의미있다고 봅니다.  \n",
    "그리고 accuray 또한 unbalanced 데이터에서 모델 성능을 잘 평가하지 못할 수 있습니다.  \n",
    "그래서 precision_weighted, recall_weighted, f1_score_weighted 중에서 고를 것 같습니다.  \n",
    "  \n",
    "이제 데이터의 용도 및 내용을 고려하는데, 우리는 와인 데이터를 사용하였습니다.  \n",
    "만약 생산된 와인에서 A 와인만 골라야하고 다른 와인이 있으면 안될 때면 Estimator 가 다른 와인을  \n",
    "A 와인으로 예측하는게 가장 문제가 되기 때문에 이와 관련 된 모델이 True라고 할 때 실제 값이 True인지  \n",
    "확인하는 precision 이 더 중요한 지표이므로 precision_weighted 이 가장 중요한 지표입니다.  \n",
    "하지만 따로 정해진 조건이 없다면 둘의 조화평균인 f1_score_weighted를 해당 데이터에 가장 무난한 지표라고 봅니다."
   ]
  },
  {
   "cell_type": "markdown",
   "metadata": {},
   "source": [
    "### 프로젝트 (3) load_breast_cancer : 유방암 여부를 진단해 봅시다"
   ]
  },
  {
   "cell_type": "markdown",
   "metadata": {},
   "source": [
    "#### (1) 필요한 모듈 import 하기"
   ]
  },
  {
   "cell_type": "markdown",
   "metadata": {},
   "source": [
    "- <span style = \"color: #0000FF\">sklearn dataset로 부터 breast_cancer data를 가져온다.</span>\n",
    "- <span style = \"color: #0000FF\">train data와 test data를 나눠주는 train_test_split 함수를 가져온다.</span>\n",
    "- <span style = \"color: #0000FF\">분류 보고서를 작성해주는 classification_report를 가져온다.</span>"
   ]
  },
  {
   "cell_type": "code",
   "execution_count": 61,
   "metadata": {},
   "outputs": [],
   "source": [
    "from sklearn.datasets import load_breast_cancer\n",
    "# 나머지 모듈은 위 프로젝트 에서 이미 import 하였습니다."
   ]
  },
  {
   "cell_type": "markdown",
   "metadata": {},
   "source": [
    "#### (2) 데이터 준비"
   ]
  },
  {
   "cell_type": "markdown",
   "metadata": {},
   "source": [
    "- <span style = \"color: #0000FF\">load_breast_cancer()을 사용해 와인 데이터를 breast_cancer 변수에 넣습니다.</span>\n",
    "- breast_cancer 변수가 어떤 변수와 메서드를 가지고 있는지 나열합니다.\n",
    "- breast_cancer 의 정보를 출력합니다."
   ]
  },
  {
   "cell_type": "code",
   "execution_count": 62,
   "metadata": {},
   "outputs": [
    {
     "name": "stdout",
     "output_type": "stream",
     "text": [
      "['DESCR', 'data', 'data_module', 'feature_names', 'filename', 'frame', 'target', 'target_names']\n",
      "dict_keys(['data', 'target', 'frame', 'target_names', 'DESCR', 'feature_names', 'filename', 'data_module'])\n"
     ]
    }
   ],
   "source": [
    "breast_cancer = load_breast_cancer()\n",
    "print(dir(breast_cancer))\n",
    "print(breast_cancer.keys())"
   ]
  },
  {
   "cell_type": "markdown",
   "metadata": {},
   "source": [
    "#### (3) 데이터 이해하기"
   ]
  },
  {
   "cell_type": "markdown",
   "metadata": {},
   "source": [
    "- <span style = \"color: #0000FF\">Feature Data 지정하기</span>\n",
    "  - breast_cancer의 breast_cancer(feature)를 wine_data에 넣기\n",
    "  - breast_cancer_data의 형태 : 569행, 30열\n",
    "  - radius, texture, perimeter, area 등의 30개의 특징 (numeric 값) 569개\n",
    "- <span style = \"color: #0000FF\">Label(target) Data 지정하기</span>\n",
    "  - breast_cancer의 label을 breast_cancer_label에 넣기\n",
    "  - DataFrame에 feature data 넣기\n",
    "  - target을 통해 Dataframe에 label column 생성\n",
    "- <span style = \"color: #0000FF\">Target Names 출력해 보기</span>\n",
    "  - 악성 종양과 양성 종양\n",
    "- <span style = \"color: #0000FF\">데이터 Describe 해 보기</span>"
   ]
  },
  {
   "cell_type": "code",
   "execution_count": 63,
   "metadata": {},
   "outputs": [
    {
     "name": "stdout",
     "output_type": "stream",
     "text": [
      "(569, 30)\n",
      "[1.799e+01 1.038e+01 1.228e+02 1.001e+03 1.184e-01 2.776e-01 3.001e-01\n",
      " 1.471e-01 2.419e-01 7.871e-02 1.095e+00 9.053e-01 8.589e+00 1.534e+02\n",
      " 6.399e-03 4.904e-02 5.373e-02 1.587e-02 3.003e-02 6.193e-03 2.538e+01\n",
      " 1.733e+01 1.846e+02 2.019e+03 1.622e-01 6.656e-01 7.119e-01 2.654e-01\n",
      " 4.601e-01 1.189e-01]\n",
      "['malignant' 'benign']\n"
     ]
    }
   ],
   "source": [
    "# print(breast_cancer.feature_names)\n",
    "breast_cancer_data = breast_cancer.data\n",
    "print(breast_cancer_data.shape)\n",
    "print(breast_cancer_data[0])\n",
    "breast_cancer_label = breast_cancer.target\n",
    "breast_cancer_df = pd.DataFrame(data = breast_cancer_data, columns = breast_cancer.feature_names)\n",
    "# print(breast_cancer_df)\n",
    "breast_cancer_df[\"label\"] = breast_cancer_label\n",
    "# print(breast_cancer_df)\n",
    "print(breast_cancer.target_names)"
   ]
  },
  {
   "cell_type": "code",
   "execution_count": 64,
   "metadata": {},
   "outputs": [
    {
     "name": "stdout",
     "output_type": "stream",
     "text": [
      ".. _breast_cancer_dataset:\n",
      "\n",
      "Breast cancer wisconsin (diagnostic) dataset\n",
      "--------------------------------------------\n",
      "\n",
      "**Data Set Characteristics:**\n",
      "\n",
      "    :Number of Instances: 569\n",
      "\n",
      "    :Number of Attributes: 30 numeric, predictive attributes and the class\n",
      "\n",
      "    :Attribute Information:\n",
      "        - radius (mean of distances from center to points on the perimeter)\n",
      "        - texture (standard deviation of gray-scale values)\n",
      "        - perimeter\n",
      "        - area\n",
      "        - smoothness (local variation in radius lengths)\n",
      "        - compactness (perimeter^2 / area - 1.0)\n",
      "        - concavity (severity of concave portions of the contour)\n",
      "        - concave points (number of concave portions of the contour)\n",
      "        - symmetry\n",
      "        - fractal dimension (\"coastline approximation\" - 1)\n",
      "\n",
      "        The mean, standard error, and \"worst\" or largest (mean of the three\n",
      "        worst/largest values) of these features were computed for each image,\n",
      "        resulting in 30 features.  For instance, field 0 is Mean Radius, field\n",
      "        10 is Radius SE, field 20 is Worst Radius.\n",
      "\n",
      "        - class:\n",
      "                - WDBC-Malignant\n",
      "                - WDBC-Benign\n",
      "\n",
      "    :Summary Statistics:\n",
      "\n",
      "    ===================================== ====== ======\n",
      "                                           Min    Max\n",
      "    ===================================== ====== ======\n",
      "    radius (mean):                        6.981  28.11\n",
      "    texture (mean):                       9.71   39.28\n",
      "    perimeter (mean):                     43.79  188.5\n",
      "    area (mean):                          143.5  2501.0\n",
      "    smoothness (mean):                    0.053  0.163\n",
      "    compactness (mean):                   0.019  0.345\n",
      "    concavity (mean):                     0.0    0.427\n",
      "    concave points (mean):                0.0    0.201\n",
      "    symmetry (mean):                      0.106  0.304\n",
      "    fractal dimension (mean):             0.05   0.097\n",
      "    radius (standard error):              0.112  2.873\n",
      "    texture (standard error):             0.36   4.885\n",
      "    perimeter (standard error):           0.757  21.98\n",
      "    area (standard error):                6.802  542.2\n",
      "    smoothness (standard error):          0.002  0.031\n",
      "    compactness (standard error):         0.002  0.135\n",
      "    concavity (standard error):           0.0    0.396\n",
      "    concave points (standard error):      0.0    0.053\n",
      "    symmetry (standard error):            0.008  0.079\n",
      "    fractal dimension (standard error):   0.001  0.03\n",
      "    radius (worst):                       7.93   36.04\n",
      "    texture (worst):                      12.02  49.54\n",
      "    perimeter (worst):                    50.41  251.2\n",
      "    area (worst):                         185.2  4254.0\n",
      "    smoothness (worst):                   0.071  0.223\n",
      "    compactness (worst):                  0.027  1.058\n",
      "    concavity (worst):                    0.0    1.252\n",
      "    concave points (worst):               0.0    0.291\n",
      "    symmetry (worst):                     0.156  0.664\n",
      "    fractal dimension (worst):            0.055  0.208\n",
      "    ===================================== ====== ======\n",
      "\n",
      "    :Missing Attribute Values: None\n",
      "\n",
      "    :Class Distribution: 212 - Malignant, 357 - Benign\n",
      "\n",
      "    :Creator:  Dr. William H. Wolberg, W. Nick Street, Olvi L. Mangasarian\n",
      "\n",
      "    :Donor: Nick Street\n",
      "\n",
      "    :Date: November, 1995\n",
      "\n",
      "This is a copy of UCI ML Breast Cancer Wisconsin (Diagnostic) datasets.\n",
      "https://goo.gl/U2Uwz2\n",
      "\n",
      "Features are computed from a digitized image of a fine needle\n",
      "aspirate (FNA) of a breast mass.  They describe\n",
      "characteristics of the cell nuclei present in the image.\n",
      "\n",
      "Separating plane described above was obtained using\n",
      "Multisurface Method-Tree (MSM-T) [K. P. Bennett, \"Decision Tree\n",
      "Construction Via Linear Programming.\" Proceedings of the 4th\n",
      "Midwest Artificial Intelligence and Cognitive Science Society,\n",
      "pp. 97-101, 1992], a classification method which uses linear\n",
      "programming to construct a decision tree.  Relevant features\n",
      "were selected using an exhaustive search in the space of 1-4\n",
      "features and 1-3 separating planes.\n",
      "\n",
      "The actual linear program used to obtain the separating plane\n",
      "in the 3-dimensional space is that described in:\n",
      "[K. P. Bennett and O. L. Mangasarian: \"Robust Linear\n",
      "Programming Discrimination of Two Linearly Inseparable Sets\",\n",
      "Optimization Methods and Software 1, 1992, 23-34].\n",
      "\n",
      "This database is also available through the UW CS ftp server:\n",
      "\n",
      "ftp ftp.cs.wisc.edu\n",
      "cd math-prog/cpo-dataset/machine-learn/WDBC/\n",
      "\n",
      ".. topic:: References\n",
      "\n",
      "   - W.N. Street, W.H. Wolberg and O.L. Mangasarian. Nuclear feature extraction \n",
      "     for breast tumor diagnosis. IS&T/SPIE 1993 International Symposium on \n",
      "     Electronic Imaging: Science and Technology, volume 1905, pages 861-870,\n",
      "     San Jose, CA, 1993.\n",
      "   - O.L. Mangasarian, W.N. Street and W.H. Wolberg. Breast cancer diagnosis and \n",
      "     prognosis via linear programming. Operations Research, 43(4), pages 570-577, \n",
      "     July-August 1995.\n",
      "   - W.H. Wolberg, W.N. Street, and O.L. Mangasarian. Machine learning techniques\n",
      "     to diagnose breast cancer from fine-needle aspirates. Cancer Letters 77 (1994) \n",
      "     163-171.\n"
     ]
    }
   ],
   "source": [
    "# wine Describe 해보기\n",
    "print(breast_cancer.DESCR)"
   ]
  },
  {
   "cell_type": "markdown",
   "metadata": {},
   "source": [
    "#### (4) train, test 데이터 분리"
   ]
  },
  {
   "cell_type": "markdown",
   "metadata": {},
   "source": [
    "- breast_cancer_data와 breast_cancer_label을 가지고 분리\n",
    "- 25%를 test 데이터로 사용"
   ]
  },
  {
   "cell_type": "code",
   "execution_count": 65,
   "metadata": {},
   "outputs": [],
   "source": [
    "X_train, X_test, y_train, y_test = train_test_split(breast_cancer_data, breast_cancer_label, test_size=0.25, random_state=42)"
   ]
  },
  {
   "cell_type": "markdown",
   "metadata": {},
   "source": [
    "#### (5) 다양한 모델로 학습시켜보기"
   ]
  },
  {
   "cell_type": "markdown",
   "metadata": {},
   "source": [
    "- <span style = \"color: #0000FF\">Decision Tree 사용해 보기</span>\n",
    "- <span style = \"color: #0000FF\">Random Forest 사용해 보기</span>\n",
    "- <span style = \"color: #0000FF\">SVM 사용해 보기</span>\n",
    "- <span style = \"color: #0000FF\">SGD Classifier 사용해 보기</span>\n",
    "- <span style = \"color: #0000FF\">Logistic Regression 사용해 보기</span>"
   ]
  },
  {
   "cell_type": "markdown",
   "metadata": {},
   "source": [
    "학습시키기 전에 앞서 추후 분석을 용이하게 하기 위해 Estimator 별로 데이터를 가지는 DataFrame을 만들겠습니다."
   ]
  },
  {
   "cell_type": "code",
   "execution_count": 66,
   "metadata": {},
   "outputs": [],
   "source": [
    "df_breast_cancer = pd.DataFrame(myArr, columns = metricsName, index = estimatorName)\n",
    "df_breast_cancer_weighted = df_breast_cancer.loc[ :, [ ('weighted' in i or i == 'accuracy') for i in df_breast_cancer.columns]].copy()\n",
    "df_breast_cancer_macro = df_breast_cancer.loc[ :, [ ('macro' in i or i == 'accuracy') for i in df_breast_cancer.columns]].copy()\n",
    "df_breast_cancer_weighted.loc[:,col_name2] = [0, 0, 0, 0, 0]\n",
    "df_breast_cancer_macro.loc[:,col_name2] = [0, 0, 0, 0, 0]"
   ]
  },
  {
   "cell_type": "markdown",
   "metadata": {},
   "source": [
    "##### Decision Tree"
   ]
  },
  {
   "cell_type": "code",
   "execution_count": 67,
   "metadata": {},
   "outputs": [
    {
     "name": "stdout",
     "output_type": "stream",
     "text": [
      "              precision    recall  f1-score   support\n",
      "\n",
      "           0       0.91      0.94      0.93        54\n",
      "           1       0.97      0.94      0.95        89\n",
      "\n",
      "    accuracy                           0.94       143\n",
      "   macro avg       0.94      0.94      0.94       143\n",
      "weighted avg       0.94      0.94      0.94       143\n",
      "\n"
     ]
    }
   ],
   "source": [
    "from sklearn.tree import DecisionTreeClassifier\n",
    "\n",
    "decision_tree = DecisionTreeClassifier()\n",
    "decision_tree.fit(X_train, y_train)\n",
    "y_pred = decision_tree.predict(X_test)\n",
    "print(classification_report(y_test, y_pred))\n",
    "# print(confusion_matrix(y_test,y_pred))\n",
    "\n",
    "E_NAME = 'decision_tree'"
   ]
  },
  {
   "cell_type": "markdown",
   "metadata": {},
   "source": [
    "Decision_tree 를 사용하여 각 라벨마다 precision, recall과 f1-score과 나왔고 전체에 대한 accuracy가 나왔습니다.  \n",
    "전체에 대한 precision, recall, f1-score 값을 나타낼 수 있는 각각의 macro avg와 weighted avg 또한 나왔습니다."
   ]
  },
  {
   "cell_type": "code",
   "execution_count": 68,
   "metadata": {},
   "outputs": [],
   "source": [
    "# 각 지표값을 구해서 df, df_weighted, df_macro에 넣습니다.\n",
    "pre_w = precision_score(y_test, y_pred, average = 'weighted')\n",
    "pre_m = precision_score(y_test, y_pred, average = 'macro')\n",
    "rec_w = recall_score(y_test, y_pred, average = 'weighted')\n",
    "rec_m = recall_score(y_test, y_pred, average = 'macro')\n",
    "f1_w = f1_score(y_test, y_pred, average = 'weighted')\n",
    "f1_m = f1_score(y_test, y_pred, average = 'macro')\n",
    "acc = accuracy_score(y_test, y_pred)\n",
    "df_breast_cancer.loc[E_NAME] = [pre_w,pre_m,rec_w,rec_m,f1_w,f1_m,acc]\n",
    "df_breast_cancer_weighted.loc[E_NAME, col_weighted] = [pre_w, rec_w, f1_w, acc]\n",
    "df_breast_cancer_macro.loc[E_NAME, col_macro] = [pre_m, rec_m, f1_m, acc]\n",
    "\n",
    "# weighted 와 macro에 따라 최댓값, 최댓값 이름, 최솟값, 최솟값 이름, 평균을 기존의 df_breast_cancer 에서 구하고 각각 df에 추가합니다.\n",
    "# 처음에 weight에서 비교하려고 했으나 문자열이 포함되어있어 idxmax에서 오류가 발생했었습니다.\n",
    "w_mean = df_breast_cancer.loc[E_NAME, col_weighted].mean()\n",
    "w_max = df_breast_cancer.loc[E_NAME, col_weighted].idxmax()\n",
    "w_max_value = df_breast_cancer.loc[E_NAME, col_weighted].max()\n",
    "w_min = df_breast_cancer.loc[E_NAME, col_weighted].idxmin()\n",
    "w_min_value = df_breast_cancer.loc[E_NAME, col_weighted].min()\n",
    "df_breast_cancer_weighted.loc[E_NAME,col_name2] = [w_max, w_max_value, w_min, w_min_value, w_mean]\n",
    "\n",
    "m_mean = df_breast_cancer.loc[E_NAME, col_macro].mean() \n",
    "m_max = df_breast_cancer.loc[E_NAME, col_macro].idxmax()\n",
    "m_max_value = df_breast_cancer.loc[E_NAME, col_macro].max()\n",
    "m_min = df_breast_cancer.loc[E_NAME, col_macro].idxmin()\n",
    "m_min_value = df_breast_cancer.loc[E_NAME, col_macro].min()\n",
    "df_breast_cancer_macro.loc[E_NAME,col_name2] = [m_max, m_max_value, m_min, m_min_value, m_mean]"
   ]
  },
  {
   "cell_type": "markdown",
   "metadata": {},
   "source": [
    "각 지표값과 weighted 와 macro 지표값들의 최댓값, 최솟값, 평균을 구합니다."
   ]
  },
  {
   "cell_type": "code",
   "execution_count": 69,
   "metadata": {},
   "outputs": [
    {
     "data": {
      "image/png": "[encoded data removed]",
      "text/plain": [
       "<Figure size 432x288 with 1 Axes>"
      ]
     },
     "metadata": {
      "needs_background": "light"
     },
     "output_type": "display_data"
    },
    {
     "name": "stdout",
     "output_type": "stream",
     "text": [
      "weighted 지표들 중 최댓값 :   precision_weighted = 0.94482      최솟값 :      recall_weighted = 0.94406      평균 : 0.9443 입니다.\n",
      "   macro 지표들 중 최댓값 :         recall_macro = 0.94413      최솟값 :      precision_macro = 0.93812      평균 : 0.9418 입니다.\n"
     ]
    }
   ],
   "source": [
    "plt.plot(col_name, df_breast_cancer_macro.loc[E_NAME, col_macro], label = \"macro\")\n",
    "plt.scatter(col_name, df_breast_cancer_macro.loc[E_NAME, col_macro])\n",
    "plt.plot(col_name, df_breast_cancer_weighted.loc[E_NAME, col_weighted], label = \"weighted\")\n",
    "plt.scatter(col_name, df_breast_cancer_weighted.loc[E_NAME, col_weighted])\n",
    "plt.legend()\n",
    "plt.show()\n",
    "\n",
    "print(\"weighted 지표들 중 최댓값 :\", df_breast_cancer_weighted.loc[E_NAME, \"max\"].rjust(20),\"=\", round(df_breast_cancer_weighted.loc[E_NAME,\"max_value\"],5),\\\n",
    "      \"     최솟값 :\", df_breast_cancer_weighted.loc[E_NAME, \"min\"].rjust(20),\"=\", round(df_breast_cancer_weighted.loc[E_NAME, \"min_value\"], 5),\\\n",
    "      \"     평균 :\", round(df_breast_cancer_weighted.loc[E_NAME, \"mean\"], 5), \"입니다.\")\n",
    "print(\"   macro 지표들 중 최댓값 :\", df_breast_cancer_macro.loc[E_NAME, \"max\"].rjust(20),\"=\", round(df_breast_cancer_macro.loc[E_NAME,\"max_value\"],5),\\\n",
    "      \"     최솟값 :\", df_breast_cancer_macro.loc[E_NAME, \"min\"].rjust(20),\"=\", round(df_breast_cancer_macro.loc[E_NAME, \"min_value\"], 5),\\\n",
    "      \"     평균 :\", round(df_breast_cancer_macro.loc[E_NAME, \"mean\"], 5), \"입니다.\")"
   ]
  },
  {
   "cell_type": "code",
   "execution_count": 70,
   "metadata": {},
   "outputs": [
    {
     "name": "stdout",
     "output_type": "stream",
     "text": [
      "지표들이 다양하게 나옵니다.\n",
      "단, 지표들의 평균 값은 weighted 지표들이 더 높습니다.\n"
     ]
    }
   ],
   "source": [
    "if (df_breast_cancer.loc[E_NAME, 'precision_weighted'] > df_breast_cancer.loc[E_NAME, 'precision_macro']) \\\n",
    "    and (df_breast_cancer.loc[E_NAME, 'recall_weighted'] > df_breast_cancer.loc[E_NAME, 'recall_macro'])\\\n",
    "    and (df_breast_cancer.loc[E_NAME, 'f1_score_weighted'] > df_breast_cancer.loc[E_NAME, 'f1_score_macro']):\n",
    "        print(\"weighted 지표들의 값이 macro 지표들 값보다 높습니다.\")\n",
    "elif (df_breast_cancer.loc[E_NAME, 'precision_weighted'] < df_breast_cancer.loc[E_NAME, 'precision_macro']) \\\n",
    "    and (df_breast_cancer.loc[E_NAME, 'recall_weighted'] < df_breast_cancer.loc[E_NAME, 'recall_macro'])\\\n",
    "    and (df_breast_cancer.loc[E_NAME, 'f1_score_weighted'] < df_breast_cancer.loc[E_NAME, 'f1_score_macro']):\n",
    "        print(\"macro 지표들의 값이 weighted 지표들 값보다 높습니다.\")\n",
    "else:\n",
    "    print(\"지표들이 다양하게 나옵니다.\")\n",
    "    if df_breast_cancer_weighted.loc[E_NAME, 'mean'] > df_breast_cancer_macro.loc[E_NAME, 'mean']:\n",
    "        print(\"단, 지표들의 평균 값은 weighted 지표들이 더 높습니다.\")\n",
    "    elif df_breast_cancer_weighted.loc[E_NAME, 'mean'] < df_breast_cancer_macro.loc[E_NAME, 'mean']:\n",
    "        print(\"단, 지표들의 평균 값은 macro 지표들이 더 높습니다.\")\n",
    "    else:\n",
    "        print(\"그런데 두 지표들의 평균은 같습니다.\")"
   ]
  },
  {
   "cell_type": "markdown",
   "metadata": {},
   "source": [
    "##### Random Forest"
   ]
  },
  {
   "cell_type": "code",
   "execution_count": 71,
   "metadata": {},
   "outputs": [
    {
     "name": "stdout",
     "output_type": "stream",
     "text": [
      "              precision    recall  f1-score   support\n",
      "\n",
      "           0       0.98      0.94      0.96        54\n",
      "           1       0.97      0.99      0.98        89\n",
      "\n",
      "    accuracy                           0.97       143\n",
      "   macro avg       0.97      0.97      0.97       143\n",
      "weighted avg       0.97      0.97      0.97       143\n",
      "\n"
     ]
    }
   ],
   "source": [
    "from sklearn.ensemble import RandomForestClassifier\n",
    "random_forest = RandomForestClassifier()\n",
    "random_forest.fit(X_train, y_train)\n",
    "y_pred = random_forest.predict(X_test)\n",
    "print(classification_report(y_test, y_pred))\n",
    "#print(confusion_matrix(y_test,y_pred))\n",
    "\n",
    "E_NAME = 'random_forest'"
   ]
  },
  {
   "cell_type": "markdown",
   "metadata": {},
   "source": [
    "Random Forest 또한 각 라벨마다 precision, recall과 f1-score과 나왔고 전체에 대한 accuracy가 나왔습니다."
   ]
  },
  {
   "cell_type": "code",
   "execution_count": 72,
   "metadata": {},
   "outputs": [],
   "source": [
    "# 각 지표값을 구해서 df, df_weighted, df_macro에 넣습니다.\n",
    "pre_w = precision_score(y_test, y_pred, average = 'weighted')\n",
    "pre_m = precision_score(y_test, y_pred, average = 'macro')\n",
    "rec_w = recall_score(y_test, y_pred, average = 'weighted')\n",
    "rec_m = recall_score(y_test, y_pred, average = 'macro')\n",
    "f1_w = f1_score(y_test, y_pred, average = 'weighted')\n",
    "f1_m = f1_score(y_test, y_pred, average = 'macro')\n",
    "acc = accuracy_score(y_test, y_pred)\n",
    "df_breast_cancer.loc[E_NAME] = [pre_w,pre_m,rec_w,rec_m,f1_w,f1_m,acc]\n",
    "df_breast_cancer_weighted.loc[E_NAME, col_weighted] = [pre_w, rec_w, f1_w, acc]\n",
    "df_breast_cancer_macro.loc[E_NAME, col_macro] = [pre_m, rec_m, f1_m, acc]\n",
    "\n",
    "# weighted 와 macro에 따라 최댓값, 최댓값 이름, 최솟값, 최솟값 이름, 평균을 기존의 df_breast_cancer 에서 구하고 각각 df에 추가합니다.\n",
    "# 처음에 weight에서 비교하려고 했으나 문자열이 포함되어있어 idxmax에서 오류가 발생했었습니다.\n",
    "w_mean = df_breast_cancer.loc[E_NAME, col_weighted].mean()\n",
    "w_max = df_breast_cancer.loc[E_NAME, col_weighted].idxmax()\n",
    "w_max_value = df_breast_cancer.loc[E_NAME, col_weighted].max()\n",
    "w_min = df_breast_cancer.loc[E_NAME, col_weighted].idxmin()\n",
    "w_min_value = df_breast_cancer.loc[E_NAME, col_weighted].min()\n",
    "df_breast_cancer_weighted.loc[E_NAME,col_name2] = [w_max, w_max_value, w_min, w_min_value, w_mean]\n",
    "\n",
    "m_mean = df_breast_cancer.loc[E_NAME, col_macro].mean() \n",
    "m_max = df_breast_cancer.loc[E_NAME, col_macro].idxmax()\n",
    "m_max_value = df_breast_cancer.loc[E_NAME, col_macro].max()\n",
    "m_min = df_breast_cancer.loc[E_NAME, col_macro].idxmin()\n",
    "m_min_value = df_breast_cancer.loc[E_NAME, col_macro].min()\n",
    "df_breast_cancer_macro.loc[E_NAME,col_name2] = [m_max, m_max_value, m_min, m_min_value, m_mean]"
   ]
  },
  {
   "cell_type": "markdown",
   "metadata": {},
   "source": [
    "각 지표값과 weighted 와 macro 지표값들의 최댓값, 최솟값, 평균을 구합니다."
   ]
  },
  {
   "cell_type": "code",
   "execution_count": 73,
   "metadata": {},
   "outputs": [
    {
     "data": {
      "image/png": "[encoded data removed]",
      "text/plain": [
       "<Figure size 432x288 with 1 Axes>"
      ]
     },
     "metadata": {
      "needs_background": "light"
     },
     "output_type": "display_data"
    },
    {
     "name": "stdout",
     "output_type": "stream",
     "text": [
      "weighted 지표들 중 최댓값 :   precision_weighted = 0.97222      최솟값 :    f1_score_weighted = 0.97192      평균 : 0.97205 입니다.\n",
      "   macro 지표들 중 최댓값 :      precision_macro = 0.9739      최솟값 :         recall_macro = 0.9666      평균 : 0.97064 입니다.\n"
     ]
    }
   ],
   "source": [
    "plt.plot(col_name, df_breast_cancer_macro.loc[E_NAME, col_macro], label = \"macro\")\n",
    "plt.scatter(col_name, df_breast_cancer_macro.loc[E_NAME, col_macro])\n",
    "plt.plot(col_name, df_breast_cancer_weighted.loc[E_NAME, col_weighted], label = \"weighted\")\n",
    "plt.scatter(col_name, df_breast_cancer_weighted.loc[E_NAME, col_weighted])\n",
    "plt.legend()\n",
    "plt.show()\n",
    "\n",
    "print(\"weighted 지표들 중 최댓값 :\", df_breast_cancer_weighted.loc[E_NAME, \"max\"].rjust(20),\"=\", round(df_breast_cancer_weighted.loc[E_NAME,\"max_value\"],5),\\\n",
    "      \"     최솟값 :\", df_breast_cancer_weighted.loc[E_NAME, \"min\"].rjust(20),\"=\", round(df_breast_cancer_weighted.loc[E_NAME, \"min_value\"], 5),\\\n",
    "      \"     평균 :\", round(df_breast_cancer_weighted.loc[E_NAME, \"mean\"], 5), \"입니다.\")\n",
    "print(\"   macro 지표들 중 최댓값 :\", df_breast_cancer_macro.loc[E_NAME, \"max\"].rjust(20),\"=\", round(df_breast_cancer_macro.loc[E_NAME,\"max_value\"],5),\\\n",
    "      \"     최솟값 :\", df_breast_cancer_macro.loc[E_NAME, \"min\"].rjust(20),\"=\", round(df_breast_cancer_macro.loc[E_NAME, \"min_value\"], 5),\\\n",
    "      \"     평균 :\", round(df_breast_cancer_macro.loc[E_NAME, \"mean\"], 5), \"입니다.\")"
   ]
  },
  {
   "cell_type": "code",
   "execution_count": 74,
   "metadata": {},
   "outputs": [
    {
     "name": "stdout",
     "output_type": "stream",
     "text": [
      "지표들이 다양하게 나옵니다.\n",
      "단, 지표들의 평균 값은 weighted 지표들이 더 높습니다.\n"
     ]
    }
   ],
   "source": [
    "if (df_breast_cancer.loc[E_NAME, 'precision_weighted'] > df_breast_cancer.loc[E_NAME, 'precision_macro']) \\\n",
    "    and (df_breast_cancer.loc[E_NAME, 'recall_weighted'] > df_breast_cancer.loc[E_NAME, 'recall_macro'])\\\n",
    "    and (df_breast_cancer.loc[E_NAME, 'f1_score_weighted'] > df_breast_cancer.loc[E_NAME, 'f1_score_macro']):\n",
    "        print(\"weighted 지표들의 값이 macro 지표들 값보다 높습니다.\")\n",
    "elif (df_breast_cancer.loc[E_NAME, 'precision_weighted'] < df_breast_cancer.loc[E_NAME, 'precision_macro']) \\\n",
    "    and (df_breast_cancer.loc[E_NAME, 'recall_weighted'] < df_breast_cancer.loc[E_NAME, 'recall_macro'])\\\n",
    "    and (df_breast_cancer.loc[E_NAME, 'f1_score_weighted'] < df_breast_cancer.loc[E_NAME, 'f1_score_macro']):\n",
    "        print(\"macro 지표들의 값이 weighted 지표들 값보다 높습니다.\")\n",
    "else:\n",
    "    print(\"지표들이 다양하게 나옵니다.\")\n",
    "    if df_breast_cancer_weighted.loc[E_NAME, 'mean'] > df_breast_cancer_macro.loc[E_NAME, 'mean']:\n",
    "        print(\"단, 지표들의 평균 값은 weighted 지표들이 더 높습니다.\")\n",
    "    elif df_breast_cancer_weighted.loc[E_NAME, 'mean'] < df_breast_cancer_macro.loc[E_NAME, 'mean']:\n",
    "        print(\"단, 지표들의 평균 값은 macro 지표들이 더 높습니다.\")\n",
    "    else:\n",
    "        print(\"그런데 두 지표들의 평균은 같습니다.\")"
   ]
  },
  {
   "cell_type": "markdown",
   "metadata": {},
   "source": [
    "##### Support Vector Machine (SVM)\n"
   ]
  },
  {
   "cell_type": "code",
   "execution_count": 75,
   "metadata": {},
   "outputs": [
    {
     "name": "stdout",
     "output_type": "stream",
     "text": [
      "              precision    recall  f1-score   support\n",
      "\n",
      "           0       0.98      0.89      0.93        54\n",
      "           1       0.94      0.99      0.96        89\n",
      "\n",
      "    accuracy                           0.95       143\n",
      "   macro avg       0.96      0.94      0.95       143\n",
      "weighted avg       0.95      0.95      0.95       143\n",
      "\n"
     ]
    }
   ],
   "source": [
    "from sklearn import svm\n",
    "\n",
    "svm_model = svm.SVC()\n",
    "svm_model.fit(X_train, y_train)\n",
    "y_pred = svm_model.predict(X_test)\n",
    "print(classification_report(y_test, y_pred))\n",
    "#print(confusion_matrix(y_test,y_pred))\n",
    "\n",
    "E_NAME = 'SVM'"
   ]
  },
  {
   "cell_type": "markdown",
   "metadata": {},
   "source": [
    "SVM 또한 각 라벨마다 precision, recall과 f1-score과 나왔고 전체에 대한 accuracy가 나왔습니다."
   ]
  },
  {
   "cell_type": "code",
   "execution_count": 76,
   "metadata": {},
   "outputs": [],
   "source": [
    "# 각 지표값을 구해서 df, df_weighted, df_macro에 넣습니다.\n",
    "pre_w = precision_score(y_test, y_pred, average = 'weighted')\n",
    "pre_m = precision_score(y_test, y_pred, average = 'macro')\n",
    "rec_w = recall_score(y_test, y_pred, average = 'weighted')\n",
    "rec_m = recall_score(y_test, y_pred, average = 'macro')\n",
    "f1_w = f1_score(y_test, y_pred, average = 'weighted')\n",
    "f1_m = f1_score(y_test, y_pred, average = 'macro')\n",
    "acc = accuracy_score(y_test, y_pred)\n",
    "df_breast_cancer.loc[E_NAME] = [pre_w,pre_m,rec_w,rec_m,f1_w,f1_m,acc]\n",
    "df_breast_cancer_weighted.loc[E_NAME, col_weighted] = [pre_w, rec_w, f1_w, acc]\n",
    "df_breast_cancer_macro.loc[E_NAME, col_macro] = [pre_m, rec_m, f1_m, acc]\n",
    "\n",
    "# weighted 와 macro에 따라 최댓값, 최댓값 이름, 최솟값, 최솟값 이름, 평균을 기존의 df_breast_cancer 에서 구하고 각각 df에 추가합니다.\n",
    "# 처음에 weight에서 비교하려고 했으나 문자열이 포함되어있어 idxmax에서 오류가 발생했었습니다.\n",
    "w_mean = df_breast_cancer.loc[E_NAME, col_weighted].mean()\n",
    "w_max = df_breast_cancer.loc[E_NAME, col_weighted].idxmax()\n",
    "w_max_value = df_breast_cancer.loc[E_NAME, col_weighted].max()\n",
    "w_min = df_breast_cancer.loc[E_NAME, col_weighted].idxmin()\n",
    "w_min_value = df_breast_cancer.loc[E_NAME, col_weighted].min()\n",
    "df_breast_cancer_weighted.loc[E_NAME,col_name2] = [w_max, w_max_value, w_min, w_min_value, w_mean]\n",
    "\n",
    "m_mean = df_breast_cancer.loc[E_NAME, col_macro].mean() \n",
    "m_max = df_breast_cancer.loc[E_NAME, col_macro].idxmax()\n",
    "m_max_value = df_breast_cancer.loc[E_NAME, col_macro].max()\n",
    "m_min = df_breast_cancer.loc[E_NAME, col_macro].idxmin()\n",
    "m_min_value = df_breast_cancer.loc[E_NAME, col_macro].min()\n",
    "df_breast_cancer_macro.loc[E_NAME,col_name2] = [m_max, m_max_value, m_min, m_min_value, m_mean]"
   ]
  },
  {
   "cell_type": "markdown",
   "metadata": {},
   "source": [
    "각 지표값과 weighted 와 macro 지표값들의 최댓값, 최솟값, 평균을 구합니다."
   ]
  },
  {
   "cell_type": "code",
   "execution_count": 77,
   "metadata": {},
   "outputs": [
    {
     "data": {
      "image/png": "[encoded data removed]",
      "text/plain": [
       "<Figure size 432x288 with 1 Axes>"
      ]
     },
     "metadata": {
      "needs_background": "light"
     },
     "output_type": "display_data"
    },
    {
     "name": "stdout",
     "output_type": "stream",
     "text": [
      "weighted 지표들 중 최댓값 :   precision_weighted = 0.95257      최솟값 :    f1_score_weighted = 0.95053      평균 : 0.9513 입니다.\n",
      "   macro 지표들 중 최댓값 :      precision_macro = 0.95788      최솟값 :         recall_macro = 0.93883      평균 : 0.94866 입니다.\n"
     ]
    }
   ],
   "source": [
    "plt.plot(col_name, df_breast_cancer_macro.loc[E_NAME, col_macro], label = \"macro\")\n",
    "plt.scatter(col_name, df_breast_cancer_macro.loc[E_NAME, col_macro])\n",
    "plt.plot(col_name, df_breast_cancer_weighted.loc[E_NAME, col_weighted], label = \"weighted\")\n",
    "plt.scatter(col_name, df_breast_cancer_weighted.loc[E_NAME, col_weighted])\n",
    "plt.legend()\n",
    "plt.show()\n",
    "\n",
    "print(\"weighted 지표들 중 최댓값 :\", df_breast_cancer_weighted.loc[E_NAME, \"max\"].rjust(20),\"=\", round(df_breast_cancer_weighted.loc[E_NAME,\"max_value\"],5),\\\n",
    "      \"     최솟값 :\", df_breast_cancer_weighted.loc[E_NAME, \"min\"].rjust(20),\"=\", round(df_breast_cancer_weighted.loc[E_NAME, \"min_value\"], 5),\\\n",
    "      \"     평균 :\", round(df_breast_cancer_weighted.loc[E_NAME, \"mean\"], 5), \"입니다.\")\n",
    "print(\"   macro 지표들 중 최댓값 :\", df_breast_cancer_macro.loc[E_NAME, \"max\"].rjust(20),\"=\", round(df_breast_cancer_macro.loc[E_NAME,\"max_value\"],5),\\\n",
    "      \"     최솟값 :\", df_breast_cancer_macro.loc[E_NAME, \"min\"].rjust(20),\"=\", round(df_breast_cancer_macro.loc[E_NAME, \"min_value\"], 5),\\\n",
    "      \"     평균 :\", round(df_breast_cancer_macro.loc[E_NAME, \"mean\"], 5), \"입니다.\")"
   ]
  },
  {
   "cell_type": "code",
   "execution_count": 78,
   "metadata": {},
   "outputs": [
    {
     "name": "stdout",
     "output_type": "stream",
     "text": [
      "지표들이 다양하게 나옵니다.\n",
      "단, 지표들의 평균 값은 weighted 지표들이 더 높습니다.\n"
     ]
    }
   ],
   "source": [
    "if (df_breast_cancer.loc[E_NAME, 'precision_weighted'] > df_breast_cancer.loc[E_NAME, 'precision_macro']) \\\n",
    "    and (df_breast_cancer.loc[E_NAME, 'recall_weighted'] > df_breast_cancer.loc[E_NAME, 'recall_macro'])\\\n",
    "    and (df_breast_cancer.loc[E_NAME, 'f1_score_weighted'] > df_breast_cancer.loc[E_NAME, 'f1_score_macro']):\n",
    "        print(\"weighted 지표들의 값이 macro 지표들 값보다 높습니다.\")\n",
    "elif (df_breast_cancer.loc[E_NAME, 'precision_weighted'] < df_breast_cancer.loc[E_NAME, 'precision_macro']) \\\n",
    "    and (df_breast_cancer.loc[E_NAME, 'recall_weighted'] < df_breast_cancer.loc[E_NAME, 'recall_macro'])\\\n",
    "    and (df_breast_cancer.loc[E_NAME, 'f1_score_weighted'] < df_breast_cancer.loc[E_NAME, 'f1_score_macro']):\n",
    "        print(\"macro 지표들의 값이 weighted 지표들 값보다 높습니다.\")\n",
    "else:\n",
    "    print(\"지표들이 다양하게 나옵니다.\")\n",
    "    if df_breast_cancer_weighted.loc[E_NAME, 'mean'] > df_breast_cancer_macro.loc[E_NAME, 'mean']:\n",
    "        print(\"단, 지표들의 평균 값은 weighted 지표들이 더 높습니다.\")\n",
    "    elif df_breast_cancer_weighted.loc[E_NAME, 'mean'] < df_breast_cancer_macro.loc[E_NAME, 'mean']:\n",
    "        print(\"단, 지표들의 평균 값은 macro 지표들이 더 높습니다.\")\n",
    "    else:\n",
    "        print(\"그런데 두 지표들의 평균은 같습니다.\")"
   ]
  },
  {
   "cell_type": "markdown",
   "metadata": {},
   "source": [
    "##### SGD Classifier\n"
   ]
  },
  {
   "cell_type": "code",
   "execution_count": 79,
   "metadata": {},
   "outputs": [
    {
     "name": "stdout",
     "output_type": "stream",
     "text": [
      "              precision    recall  f1-score   support\n",
      "\n",
      "           0       0.47      1.00      0.64        54\n",
      "           1       1.00      0.33      0.49        89\n",
      "\n",
      "    accuracy                           0.58       143\n",
      "   macro avg       0.74      0.66      0.57       143\n",
      "weighted avg       0.80      0.58      0.55       143\n",
      "\n"
     ]
    }
   ],
   "source": [
    "from sklearn.linear_model import SGDClassifier\n",
    "\n",
    "sgd_model = SGDClassifier()\n",
    "sgd_model.fit(X_train, y_train)\n",
    "y_pred = sgd_model.predict(X_test)\n",
    "print(classification_report(y_test, y_pred))\n",
    "#print(confusion_matrix(y_test,y_pred))\n",
    "\n",
    "E_NAME = 'SGD'"
   ]
  },
  {
   "cell_type": "markdown",
   "metadata": {},
   "source": [
    "SGD 또한 각 라벨마다 precision, recall과 f1-score과 나왔고 전체에 대한 accuracy가 나왔습니다."
   ]
  },
  {
   "cell_type": "code",
   "execution_count": 80,
   "metadata": {},
   "outputs": [],
   "source": [
    "# 각 지표값을 구해서 df, df_weighted, df_macro에 넣습니다.\n",
    "pre_w = precision_score(y_test, y_pred, average = 'weighted')\n",
    "pre_m = precision_score(y_test, y_pred, average = 'macro')\n",
    "rec_w = recall_score(y_test, y_pred, average = 'weighted')\n",
    "rec_m = recall_score(y_test, y_pred, average = 'macro')\n",
    "f1_w = f1_score(y_test, y_pred, average = 'weighted')\n",
    "f1_m = f1_score(y_test, y_pred, average = 'macro')\n",
    "acc = accuracy_score(y_test, y_pred)\n",
    "df_breast_cancer.loc[E_NAME] = [pre_w,pre_m,rec_w,rec_m,f1_w,f1_m,acc]\n",
    "df_breast_cancer_weighted.loc[E_NAME, col_weighted] = [pre_w, rec_w, f1_w, acc]\n",
    "df_breast_cancer_macro.loc[E_NAME, col_macro] = [pre_m, rec_m, f1_m, acc]\n",
    "\n",
    "# weighted 와 macro에 따라 최댓값, 최댓값 이름, 최솟값, 최솟값 이름, 평균을 기존의 df_breast_cancer 에서 구하고 각각 df에 추가합니다.\n",
    "# 처음에 weight에서 비교하려고 했으나 문자열이 포함되어있어 idxmax에서 오류가 발생했었습니다.\n",
    "w_mean = df_breast_cancer.loc[E_NAME, col_weighted].mean()\n",
    "w_max = df_breast_cancer.loc[E_NAME, col_weighted].idxmax()\n",
    "w_max_value = df_breast_cancer.loc[E_NAME, col_weighted].max()\n",
    "w_min = df_breast_cancer.loc[E_NAME, col_weighted].idxmin()\n",
    "w_min_value = df_breast_cancer.loc[E_NAME, col_weighted].min()\n",
    "df_breast_cancer_weighted.loc[E_NAME,col_name2] = [w_max, w_max_value, w_min, w_min_value, w_mean]\n",
    "\n",
    "m_mean = df_breast_cancer.loc[E_NAME, col_macro].mean() \n",
    "m_max = df_breast_cancer.loc[E_NAME, col_macro].idxmax()\n",
    "m_max_value = df_breast_cancer.loc[E_NAME, col_macro].max()\n",
    "m_min = df_breast_cancer.loc[E_NAME, col_macro].idxmin()\n",
    "m_min_value = df_breast_cancer.loc[E_NAME, col_macro].min()\n",
    "df_breast_cancer_macro.loc[E_NAME,col_name2] = [m_max, m_max_value, m_min, m_min_value, m_mean]"
   ]
  },
  {
   "cell_type": "markdown",
   "metadata": {},
   "source": [
    "각 지표값과 weighted 와 macro 지표값들의 최댓값, 최솟값, 평균을 구합니다."
   ]
  },
  {
   "cell_type": "code",
   "execution_count": 81,
   "metadata": {},
   "outputs": [
    {
     "data": {
      "image/png": "[encoded data removed]",
      "text/plain": [
       "<Figure size 432x288 with 1 Axes>"
      ]
     },
     "metadata": {
      "needs_background": "light"
     },
     "output_type": "display_data"
    },
    {
     "name": "stdout",
     "output_type": "stream",
     "text": [
      "weighted 지표들 중 최댓값 :   precision_weighted = 0.80125      최솟값 :    f1_score_weighted = 0.54867      평균 : 0.62769 입니다.\n",
      "   macro 지표들 중 최댓값 :      precision_macro = 0.73684      최솟값 :       f1_score_macro = 0.56719      평균 : 0.63684 입니다.\n"
     ]
    }
   ],
   "source": [
    "plt.plot(col_name, df_breast_cancer_macro.loc[E_NAME, col_macro], label = \"macro\")\n",
    "plt.scatter(col_name, df_breast_cancer_macro.loc[E_NAME, col_macro])\n",
    "plt.plot(col_name, df_breast_cancer_weighted.loc[E_NAME, col_weighted], label = \"weighted\")\n",
    "plt.scatter(col_name, df_breast_cancer_weighted.loc[E_NAME, col_weighted])\n",
    "plt.legend()\n",
    "plt.show()\n",
    "\n",
    "print(\"weighted 지표들 중 최댓값 :\", df_breast_cancer_weighted.loc[E_NAME, \"max\"].rjust(20),\"=\", round(df_breast_cancer_weighted.loc[E_NAME,\"max_value\"],5),\\\n",
    "      \"     최솟값 :\", df_breast_cancer_weighted.loc[E_NAME, \"min\"].rjust(20),\"=\", round(df_breast_cancer_weighted.loc[E_NAME, \"min_value\"], 5),\\\n",
    "      \"     평균 :\", round(df_breast_cancer_weighted.loc[E_NAME, \"mean\"], 5), \"입니다.\")\n",
    "print(\"   macro 지표들 중 최댓값 :\", df_breast_cancer_macro.loc[E_NAME, \"max\"].rjust(20),\"=\", round(df_breast_cancer_macro.loc[E_NAME,\"max_value\"],5),\\\n",
    "      \"     최솟값 :\", df_breast_cancer_macro.loc[E_NAME, \"min\"].rjust(20),\"=\", round(df_breast_cancer_macro.loc[E_NAME, \"min_value\"], 5),\\\n",
    "      \"     평균 :\", round(df_breast_cancer_macro.loc[E_NAME, \"mean\"], 5), \"입니다.\")"
   ]
  },
  {
   "cell_type": "code",
   "execution_count": 82,
   "metadata": {},
   "outputs": [
    {
     "name": "stdout",
     "output_type": "stream",
     "text": [
      "지표들이 다양하게 나옵니다.\n",
      "단, 지표들의 평균 값은 macro 지표들이 더 높습니다.\n"
     ]
    }
   ],
   "source": [
    "if (df_breast_cancer.loc[E_NAME, 'precision_weighted'] > df_breast_cancer.loc[E_NAME, 'precision_macro']) \\\n",
    "    and (df_breast_cancer.loc[E_NAME, 'recall_weighted'] > df_breast_cancer.loc[E_NAME, 'recall_macro'])\\\n",
    "    and (df_breast_cancer.loc[E_NAME, 'f1_score_weighted'] > df_breast_cancer.loc[E_NAME, 'f1_score_macro']):\n",
    "        print(\"weighted 지표들의 값이 macro 지표들 값보다 높습니다.\")\n",
    "elif (df_breast_cancer.loc[E_NAME, 'precision_weighted'] < df_breast_cancer.loc[E_NAME, 'precision_macro']) \\\n",
    "    and (df_breast_cancer.loc[E_NAME, 'recall_weighted'] < df_breast_cancer.loc[E_NAME, 'recall_macro'])\\\n",
    "    and (df_breast_cancer.loc[E_NAME, 'f1_score_weighted'] < df_breast_cancer.loc[E_NAME, 'f1_score_macro']):\n",
    "        print(\"macro 지표들의 값이 weighted 지표들 값보다 높습니다.\")\n",
    "else:\n",
    "    print(\"지표들이 다양하게 나옵니다.\")\n",
    "    if df_breast_cancer_weighted.loc[E_NAME, 'mean'] > df_breast_cancer_macro.loc[E_NAME, 'mean']:\n",
    "        print(\"단, 지표들의 평균 값은 weighted 지표들이 더 높습니다.\")\n",
    "    elif df_breast_cancer_weighted.loc[E_NAME, 'mean'] < df_breast_cancer_macro.loc[E_NAME, 'mean']:\n",
    "        print(\"단, 지표들의 평균 값은 macro 지표들이 더 높습니다.\")\n",
    "    else:\n",
    "        print(\"그런데 두 지표들의 평균은 같습니다.\")"
   ]
  },
  {
   "cell_type": "markdown",
   "metadata": {},
   "source": [
    "##### Logistic Regression\n"
   ]
  },
  {
   "cell_type": "code",
   "execution_count": 83,
   "metadata": {},
   "outputs": [
    {
     "name": "stdout",
     "output_type": "stream",
     "text": [
      "              precision    recall  f1-score   support\n",
      "\n",
      "           0       0.96      0.94      0.95        54\n",
      "           1       0.97      0.98      0.97        89\n",
      "\n",
      "    accuracy                           0.97       143\n",
      "   macro avg       0.96      0.96      0.96       143\n",
      "weighted avg       0.97      0.97      0.96       143\n",
      "\n"
     ]
    }
   ],
   "source": [
    "from sklearn.linear_model import LogisticRegression\n",
    "\n",
    "logistic_model = LogisticRegression(max_iter = 10**4)\n",
    "logistic_model.fit(X_train, y_train)\n",
    "y_pred = logistic_model.predict(X_test)\n",
    "print(classification_report(y_test, y_pred))\n",
    "#print(confusion_matrix(y_test,y_pred))\n",
    "\n",
    "E_NAME = 'logistic_regression'"
   ]
  },
  {
   "cell_type": "markdown",
   "metadata": {},
   "source": [
    "Logistic Regression 또한 각 라벨마다 precision, recall과 f1-score과 나왔고 전체에 대한 accuracy가 나왔습니다."
   ]
  },
  {
   "cell_type": "code",
   "execution_count": 84,
   "metadata": {},
   "outputs": [],
   "source": [
    "# 각 지표값을 구해서 df, df_weighted, df_macro에 넣습니다.\n",
    "pre_w = precision_score(y_test, y_pred, average = 'weighted')\n",
    "pre_m = precision_score(y_test, y_pred, average = 'macro')\n",
    "rec_w = recall_score(y_test, y_pred, average = 'weighted')\n",
    "rec_m = recall_score(y_test, y_pred, average = 'macro')\n",
    "f1_w = f1_score(y_test, y_pred, average = 'weighted')\n",
    "f1_m = f1_score(y_test, y_pred, average = 'macro')\n",
    "acc = accuracy_score(y_test, y_pred)\n",
    "df_breast_cancer.loc[E_NAME] = [pre_w,pre_m,rec_w,rec_m,f1_w,f1_m,acc]\n",
    "df_breast_cancer_weighted.loc[E_NAME, col_weighted] = [pre_w, rec_w, f1_w, acc]\n",
    "df_breast_cancer_macro.loc[E_NAME, col_macro] = [pre_m, rec_m, f1_m, acc]\n",
    "\n",
    "# weighted 와 macro에 따라 최댓값, 최댓값 이름, 최솟값, 최솟값 이름, 평균을 기존의 df_breast_cancer 에서 구하고 각각 df에 추가합니다.\n",
    "# 처음에 weight에서 비교하려고 했으나 문자열이 포함되어있어 idxmax에서 오류가 발생했었습니다.\n",
    "w_mean = df_breast_cancer.loc[E_NAME, col_weighted].mean()\n",
    "w_max = df_breast_cancer.loc[E_NAME, col_weighted].idxmax()\n",
    "w_max_value = df_breast_cancer.loc[E_NAME, col_weighted].max()\n",
    "w_min = df_breast_cancer.loc[E_NAME, col_weighted].idxmin()\n",
    "w_min_value = df_breast_cancer.loc[E_NAME, col_weighted].min()\n",
    "df_breast_cancer_weighted.loc[E_NAME,col_name2] = [w_max, w_max_value, w_min, w_min_value, w_mean]\n",
    "\n",
    "m_mean = df_breast_cancer.loc[E_NAME, col_macro].mean() \n",
    "m_max = df_breast_cancer.loc[E_NAME, col_macro].idxmax()\n",
    "m_max_value = df_breast_cancer.loc[E_NAME, col_macro].max()\n",
    "m_min = df_breast_cancer.loc[E_NAME, col_macro].idxmin()\n",
    "m_min_value = df_breast_cancer.loc[E_NAME, col_macro].min()\n",
    "df_breast_cancer_macro.loc[E_NAME,col_name2] = [m_max, m_max_value, m_min, m_min_value, m_mean]"
   ]
  },
  {
   "cell_type": "markdown",
   "metadata": {},
   "source": [
    "각 지표값과 weighted 와 macro 지표값들의 최댓값, 최솟값, 평균을 구합니다."
   ]
  },
  {
   "cell_type": "code",
   "execution_count": 85,
   "metadata": {},
   "outputs": [
    {
     "data": {
      "image/png": "[encoded data removed]",
      "text/plain": [
       "<Figure size 432x288 with 1 Axes>"
      ]
     },
     "metadata": {
      "needs_background": "light"
     },
     "output_type": "display_data"
    },
    {
     "name": "stdout",
     "output_type": "stream",
     "text": [
      "weighted 지표들 중 최댓값 :      recall_weighted = 0.96503      최솟값 :    f1_score_weighted = 0.96497      평균 : 0.96501 입니다.\n",
      "   macro 지표들 중 최댓값 :             accuracy = 0.96503      최솟값 :         recall_macro = 0.96099      평균 : 0.96329 입니다.\n"
     ]
    }
   ],
   "source": [
    "plt.plot(col_name, df_breast_cancer_macro.loc[E_NAME, col_macro], label = \"macro\")\n",
    "plt.scatter(col_name, df_breast_cancer_macro.loc[E_NAME, col_macro])\n",
    "plt.plot(col_name, df_breast_cancer_weighted.loc[E_NAME, col_weighted], label = \"weighted\")\n",
    "plt.scatter(col_name, df_breast_cancer_weighted.loc[E_NAME, col_weighted])\n",
    "plt.legend()\n",
    "plt.show()\n",
    "\n",
    "print(\"weighted 지표들 중 최댓값 :\", df_breast_cancer_weighted.loc[E_NAME, \"max\"].rjust(20),\"=\", round(df_breast_cancer_weighted.loc[E_NAME,\"max_value\"],5),\\\n",
    "      \"     최솟값 :\", df_breast_cancer_weighted.loc[E_NAME, \"min\"].rjust(20),\"=\", round(df_breast_cancer_weighted.loc[E_NAME, \"min_value\"], 5),\\\n",
    "      \"     평균 :\", round(df_breast_cancer_weighted.loc[E_NAME, \"mean\"], 5), \"입니다.\")\n",
    "print(\"   macro 지표들 중 최댓값 :\", df_breast_cancer_macro.loc[E_NAME, \"max\"].rjust(20),\"=\", round(df_breast_cancer_macro.loc[E_NAME,\"max_value\"],5),\\\n",
    "      \"     최솟값 :\", df_breast_cancer_macro.loc[E_NAME, \"min\"].rjust(20),\"=\", round(df_breast_cancer_macro.loc[E_NAME, \"min_value\"], 5),\\\n",
    "      \"     평균 :\", round(df_breast_cancer_macro.loc[E_NAME, \"mean\"], 5), \"입니다.\")"
   ]
  },
  {
   "cell_type": "code",
   "execution_count": 86,
   "metadata": {},
   "outputs": [
    {
     "name": "stdout",
     "output_type": "stream",
     "text": [
      "weighted 지표들의 값이 macro 지표들 값보다 높습니다.\n"
     ]
    }
   ],
   "source": [
    "if (df_breast_cancer.loc[E_NAME, 'precision_weighted'] > df_breast_cancer.loc[E_NAME, 'precision_macro']) \\\n",
    "    and (df_breast_cancer.loc[E_NAME, 'recall_weighted'] > df_breast_cancer.loc[E_NAME, 'recall_macro'])\\\n",
    "    and (df_breast_cancer.loc[E_NAME, 'f1_score_weighted'] > df_breast_cancer.loc[E_NAME, 'f1_score_macro']):\n",
    "        print(\"weighted 지표들의 값이 macro 지표들 값보다 높습니다.\")\n",
    "elif (df_breast_cancer.loc[E_NAME, 'precision_weighted'] < df_breast_cancer.loc[E_NAME, 'precision_macro']) \\\n",
    "    and (df_breast_cancer.loc[E_NAME, 'recall_weighted'] < df_breast_cancer.loc[E_NAME, 'recall_macro'])\\\n",
    "    and (df_breast_cancer.loc[E_NAME, 'f1_score_weighted'] < df_breast_cancer.loc[E_NAME, 'f1_score_macro']):\n",
    "        print(\"macro 지표들의 값이 weighted 지표들 값보다 높습니다.\")\n",
    "else:\n",
    "    print(\"지표들이 다양하게 나옵니다.\")\n",
    "    if df_breast_cancer_weighted.loc[E_NAME, 'mean'] > df_breast_cancer_macro.loc[E_NAME, 'mean']:\n",
    "        print(\"단, 지표들의 평균 값은 weighted 지표들이 더 높습니다.\")\n",
    "    elif df_breast_cancer_weighted.loc[E_NAME, 'mean'] < df_breast_cancer_macro.loc[E_NAME, 'mean']:\n",
    "        print(\"단, 지표들의 평균 값은 macro 지표들이 더 높습니다.\")\n",
    "    else:\n",
    "        print(\"그런데 두 지표들의 평균은 같습니다.\")"
   ]
  },
  {
   "cell_type": "markdown",
   "metadata": {},
   "source": [
    "#### (6) 모델들의 성능 평가"
   ]
  },
  {
   "cell_type": "markdown",
   "metadata": {},
   "source": [
    "여기까지 5개의 모델들을 breast_cancer data로 실험해보았습니다.  \n",
    "모델들이 가지는 지표값들이 포함되어있는 데이터 프레임들을 나타내보겠습니다."
   ]
  },
  {
   "cell_type": "code",
   "execution_count": 87,
   "metadata": {},
   "outputs": [
    {
     "data": {
      "text/html": [
       "<div>\n",
       "<style scoped>\n",
       "    .dataframe tbody tr th:only-of-type {\n",
       "        vertical-align: middle;\n",
       "    }\n",
       "\n",
       "    .dataframe tbody tr th {\n",
       "        vertical-align: top;\n",
       "    }\n",
       "\n",
       "    .dataframe thead th {\n",
       "        text-align: right;\n",
       "    }\n",
       "</style>\n",
       "<table border=\"1\" class=\"dataframe\">\n",
       "  <thead>\n",
       "    <tr style=\"text-align: right;\">\n",
       "      <th></th>\n",
       "      <th>precision_weighted</th>\n",
       "      <th>precision_macro</th>\n",
       "      <th>recall_weighted</th>\n",
       "      <th>recall_macro</th>\n",
       "      <th>f1_score_weighted</th>\n",
       "      <th>f1_score_macro</th>\n",
       "      <th>accuracy</th>\n",
       "    </tr>\n",
       "  </thead>\n",
       "  <tbody>\n",
       "    <tr>\n",
       "      <th>decision_tree</th>\n",
       "      <td>0.944822</td>\n",
       "      <td>0.938116</td>\n",
       "      <td>0.944056</td>\n",
       "      <td>0.944132</td>\n",
       "      <td>0.944247</td>\n",
       "      <td>0.940909</td>\n",
       "      <td>0.944056</td>\n",
       "    </tr>\n",
       "    <tr>\n",
       "      <th>random_forest</th>\n",
       "      <td>0.972220</td>\n",
       "      <td>0.973901</td>\n",
       "      <td>0.972028</td>\n",
       "      <td>0.966604</td>\n",
       "      <td>0.971919</td>\n",
       "      <td>0.970021</td>\n",
       "      <td>0.972028</td>\n",
       "    </tr>\n",
       "    <tr>\n",
       "      <th>SVM</th>\n",
       "      <td>0.952567</td>\n",
       "      <td>0.957881</td>\n",
       "      <td>0.951049</td>\n",
       "      <td>0.938826</td>\n",
       "      <td>0.950530</td>\n",
       "      <td>0.946894</td>\n",
       "      <td>0.951049</td>\n",
       "    </tr>\n",
       "    <tr>\n",
       "      <th>SGD</th>\n",
       "      <td>0.801251</td>\n",
       "      <td>0.736842</td>\n",
       "      <td>0.580420</td>\n",
       "      <td>0.662921</td>\n",
       "      <td>0.548672</td>\n",
       "      <td>0.567191</td>\n",
       "      <td>0.580420</td>\n",
       "    </tr>\n",
       "    <tr>\n",
       "      <th>logistic_regression</th>\n",
       "      <td>0.965004</td>\n",
       "      <td>0.964465</td>\n",
       "      <td>0.965035</td>\n",
       "      <td>0.960986</td>\n",
       "      <td>0.964969</td>\n",
       "      <td>0.962669</td>\n",
       "      <td>0.965035</td>\n",
       "    </tr>\n",
       "  </tbody>\n",
       "</table>\n",
       "</div>"
      ],
      "text/plain": [
       "                     precision_weighted  precision_macro  recall_weighted  \\\n",
       "decision_tree                  0.944822         0.938116         0.944056   \n",
       "random_forest                  0.972220         0.973901         0.972028   \n",
       "SVM                            0.952567         0.957881         0.951049   \n",
       "SGD                            0.801251         0.736842         0.580420   \n",
       "logistic_regression            0.965004         0.964465         0.965035   \n",
       "\n",
       "                     recall_macro  f1_score_weighted  f1_score_macro  accuracy  \n",
       "decision_tree            0.944132           0.944247        0.940909  0.944056  \n",
       "random_forest            0.966604           0.971919        0.970021  0.972028  \n",
       "SVM                      0.938826           0.950530        0.946894  0.951049  \n",
       "SGD                      0.662921           0.548672        0.567191  0.580420  \n",
       "logistic_regression      0.960986           0.964969        0.962669  0.965035  "
      ]
     },
     "execution_count": 87,
     "metadata": {},
     "output_type": "execute_result"
    }
   ],
   "source": [
    "df_breast_cancer"
   ]
  },
  {
   "cell_type": "code",
   "execution_count": 88,
   "metadata": {},
   "outputs": [
    {
     "data": {
      "text/html": [
       "<div>\n",
       "<style scoped>\n",
       "    .dataframe tbody tr th:only-of-type {\n",
       "        vertical-align: middle;\n",
       "    }\n",
       "\n",
       "    .dataframe tbody tr th {\n",
       "        vertical-align: top;\n",
       "    }\n",
       "\n",
       "    .dataframe thead th {\n",
       "        text-align: right;\n",
       "    }\n",
       "</style>\n",
       "<table border=\"1\" class=\"dataframe\">\n",
       "  <thead>\n",
       "    <tr style=\"text-align: right;\">\n",
       "      <th></th>\n",
       "      <th>precision_weighted</th>\n",
       "      <th>recall_weighted</th>\n",
       "      <th>f1_score_weighted</th>\n",
       "      <th>accuracy</th>\n",
       "      <th>max</th>\n",
       "      <th>max_value</th>\n",
       "      <th>min</th>\n",
       "      <th>min_value</th>\n",
       "      <th>mean</th>\n",
       "    </tr>\n",
       "  </thead>\n",
       "  <tbody>\n",
       "    <tr>\n",
       "      <th>decision_tree</th>\n",
       "      <td>0.944822</td>\n",
       "      <td>0.944056</td>\n",
       "      <td>0.944247</td>\n",
       "      <td>0.944056</td>\n",
       "      <td>precision_weighted</td>\n",
       "      <td>0.944822</td>\n",
       "      <td>recall_weighted</td>\n",
       "      <td>0.944056</td>\n",
       "      <td>0.944295</td>\n",
       "    </tr>\n",
       "    <tr>\n",
       "      <th>random_forest</th>\n",
       "      <td>0.972220</td>\n",
       "      <td>0.972028</td>\n",
       "      <td>0.971919</td>\n",
       "      <td>0.972028</td>\n",
       "      <td>precision_weighted</td>\n",
       "      <td>0.972220</td>\n",
       "      <td>f1_score_weighted</td>\n",
       "      <td>0.971919</td>\n",
       "      <td>0.972049</td>\n",
       "    </tr>\n",
       "    <tr>\n",
       "      <th>SVM</th>\n",
       "      <td>0.952567</td>\n",
       "      <td>0.951049</td>\n",
       "      <td>0.950530</td>\n",
       "      <td>0.951049</td>\n",
       "      <td>precision_weighted</td>\n",
       "      <td>0.952567</td>\n",
       "      <td>f1_score_weighted</td>\n",
       "      <td>0.950530</td>\n",
       "      <td>0.951299</td>\n",
       "    </tr>\n",
       "    <tr>\n",
       "      <th>SGD</th>\n",
       "      <td>0.801251</td>\n",
       "      <td>0.580420</td>\n",
       "      <td>0.548672</td>\n",
       "      <td>0.580420</td>\n",
       "      <td>precision_weighted</td>\n",
       "      <td>0.801251</td>\n",
       "      <td>f1_score_weighted</td>\n",
       "      <td>0.548672</td>\n",
       "      <td>0.627691</td>\n",
       "    </tr>\n",
       "    <tr>\n",
       "      <th>logistic_regression</th>\n",
       "      <td>0.965004</td>\n",
       "      <td>0.965035</td>\n",
       "      <td>0.964969</td>\n",
       "      <td>0.965035</td>\n",
       "      <td>recall_weighted</td>\n",
       "      <td>0.965035</td>\n",
       "      <td>f1_score_weighted</td>\n",
       "      <td>0.964969</td>\n",
       "      <td>0.965011</td>\n",
       "    </tr>\n",
       "  </tbody>\n",
       "</table>\n",
       "</div>"
      ],
      "text/plain": [
       "                     precision_weighted  recall_weighted  f1_score_weighted  \\\n",
       "decision_tree                  0.944822         0.944056           0.944247   \n",
       "random_forest                  0.972220         0.972028           0.971919   \n",
       "SVM                            0.952567         0.951049           0.950530   \n",
       "SGD                            0.801251         0.580420           0.548672   \n",
       "logistic_regression            0.965004         0.965035           0.964969   \n",
       "\n",
       "                     accuracy                 max  max_value  \\\n",
       "decision_tree        0.944056  precision_weighted   0.944822   \n",
       "random_forest        0.972028  precision_weighted   0.972220   \n",
       "SVM                  0.951049  precision_weighted   0.952567   \n",
       "SGD                  0.580420  precision_weighted   0.801251   \n",
       "logistic_regression  0.965035     recall_weighted   0.965035   \n",
       "\n",
       "                                   min  min_value      mean  \n",
       "decision_tree          recall_weighted   0.944056  0.944295  \n",
       "random_forest        f1_score_weighted   0.971919  0.972049  \n",
       "SVM                  f1_score_weighted   0.950530  0.951299  \n",
       "SGD                  f1_score_weighted   0.548672  0.627691  \n",
       "logistic_regression  f1_score_weighted   0.964969  0.965011  "
      ]
     },
     "execution_count": 88,
     "metadata": {},
     "output_type": "execute_result"
    }
   ],
   "source": [
    "df_breast_cancer_weighted"
   ]
  },
  {
   "cell_type": "code",
   "execution_count": 89,
   "metadata": {},
   "outputs": [
    {
     "data": {
      "text/html": [
       "<div>\n",
       "<style scoped>\n",
       "    .dataframe tbody tr th:only-of-type {\n",
       "        vertical-align: middle;\n",
       "    }\n",
       "\n",
       "    .dataframe tbody tr th {\n",
       "        vertical-align: top;\n",
       "    }\n",
       "\n",
       "    .dataframe thead th {\n",
       "        text-align: right;\n",
       "    }\n",
       "</style>\n",
       "<table border=\"1\" class=\"dataframe\">\n",
       "  <thead>\n",
       "    <tr style=\"text-align: right;\">\n",
       "      <th></th>\n",
       "      <th>precision_macro</th>\n",
       "      <th>recall_macro</th>\n",
       "      <th>f1_score_macro</th>\n",
       "      <th>accuracy</th>\n",
       "      <th>max</th>\n",
       "      <th>max_value</th>\n",
       "      <th>min</th>\n",
       "      <th>min_value</th>\n",
       "      <th>mean</th>\n",
       "    </tr>\n",
       "  </thead>\n",
       "  <tbody>\n",
       "    <tr>\n",
       "      <th>decision_tree</th>\n",
       "      <td>0.938116</td>\n",
       "      <td>0.944132</td>\n",
       "      <td>0.940909</td>\n",
       "      <td>0.944056</td>\n",
       "      <td>recall_macro</td>\n",
       "      <td>0.944132</td>\n",
       "      <td>precision_macro</td>\n",
       "      <td>0.938116</td>\n",
       "      <td>0.941803</td>\n",
       "    </tr>\n",
       "    <tr>\n",
       "      <th>random_forest</th>\n",
       "      <td>0.973901</td>\n",
       "      <td>0.966604</td>\n",
       "      <td>0.970021</td>\n",
       "      <td>0.972028</td>\n",
       "      <td>precision_macro</td>\n",
       "      <td>0.973901</td>\n",
       "      <td>recall_macro</td>\n",
       "      <td>0.966604</td>\n",
       "      <td>0.970639</td>\n",
       "    </tr>\n",
       "    <tr>\n",
       "      <th>SVM</th>\n",
       "      <td>0.957881</td>\n",
       "      <td>0.938826</td>\n",
       "      <td>0.946894</td>\n",
       "      <td>0.951049</td>\n",
       "      <td>precision_macro</td>\n",
       "      <td>0.957881</td>\n",
       "      <td>recall_macro</td>\n",
       "      <td>0.938826</td>\n",
       "      <td>0.948663</td>\n",
       "    </tr>\n",
       "    <tr>\n",
       "      <th>SGD</th>\n",
       "      <td>0.736842</td>\n",
       "      <td>0.662921</td>\n",
       "      <td>0.567191</td>\n",
       "      <td>0.580420</td>\n",
       "      <td>precision_macro</td>\n",
       "      <td>0.736842</td>\n",
       "      <td>f1_score_macro</td>\n",
       "      <td>0.567191</td>\n",
       "      <td>0.636844</td>\n",
       "    </tr>\n",
       "    <tr>\n",
       "      <th>logistic_regression</th>\n",
       "      <td>0.964465</td>\n",
       "      <td>0.960986</td>\n",
       "      <td>0.962669</td>\n",
       "      <td>0.965035</td>\n",
       "      <td>accuracy</td>\n",
       "      <td>0.965035</td>\n",
       "      <td>recall_macro</td>\n",
       "      <td>0.960986</td>\n",
       "      <td>0.963289</td>\n",
       "    </tr>\n",
       "  </tbody>\n",
       "</table>\n",
       "</div>"
      ],
      "text/plain": [
       "                     precision_macro  recall_macro  f1_score_macro  accuracy  \\\n",
       "decision_tree               0.938116      0.944132        0.940909  0.944056   \n",
       "random_forest               0.973901      0.966604        0.970021  0.972028   \n",
       "SVM                         0.957881      0.938826        0.946894  0.951049   \n",
       "SGD                         0.736842      0.662921        0.567191  0.580420   \n",
       "logistic_regression         0.964465      0.960986        0.962669  0.965035   \n",
       "\n",
       "                                 max  max_value              min  min_value  \\\n",
       "decision_tree           recall_macro   0.944132  precision_macro   0.938116   \n",
       "random_forest        precision_macro   0.973901     recall_macro   0.966604   \n",
       "SVM                  precision_macro   0.957881     recall_macro   0.938826   \n",
       "SGD                  precision_macro   0.736842   f1_score_macro   0.567191   \n",
       "logistic_regression         accuracy   0.965035     recall_macro   0.960986   \n",
       "\n",
       "                         mean  \n",
       "decision_tree        0.941803  \n",
       "random_forest        0.970639  \n",
       "SVM                  0.948663  \n",
       "SGD                  0.636844  \n",
       "logistic_regression  0.963289  "
      ]
     },
     "execution_count": 89,
     "metadata": {},
     "output_type": "execute_result"
    }
   ],
   "source": [
    "df_breast_cancer_macro"
   ]
  },
  {
   "cell_type": "markdown",
   "metadata": {},
   "source": [
    "* 가장 성능이 좋은 모델을 찾아봅시다.  \n",
    "먼저 위의 DF만 보고는 어떤 지표를 가지고 비교할지 잘 모르겠으니 각 지표별로 최대값을 가지는 모델들을 출력해봅시다."
   ]
  },
  {
   "cell_type": "code",
   "execution_count": 90,
   "metadata": {},
   "outputs": [
    {
     "name": "stdout",
     "output_type": "stream",
     "text": [
      "precision_weighted    random_forest\n",
      "precision_macro       random_forest\n",
      "recall_weighted       random_forest\n",
      "recall_macro          random_forest\n",
      "f1_score_weighted     random_forest\n",
      "f1_score_macro        random_forest\n",
      "accuracy              random_forest\n",
      "dtype: object\n"
     ]
    }
   ],
   "source": [
    "print(df_breast_cancer.idxmax())"
   ]
  },
  {
   "cell_type": "markdown",
   "metadata": {},
   "source": [
    "모든 지표에서 Random Forest 모델이 가장 높은 값을 가집니다. 이렇게 보면 어떤 지표를 선택하더라도 Random Forest 가 가장 높은 값을 가지므로  \n",
    "breast_cancer classification에서는 5개의 모델 중 Random Forest 모델이 성능이 가장 좋은 것으로 나옵니다."
   ]
  },
  {
   "cell_type": "markdown",
   "metadata": {},
   "source": [
    "* 그럼 해당 데이터에서 모델의 성능을 평가하는 지표로는 무엇이 좋을까요?  \n",
    "  \n",
    "이 데이터 또한 2개의 클래스의 샘플 개수가 다르므로 weighted 지표들이 macro 지표들 보다 더 의미있다고 봅니다.  \n",
    "그리고 accuray 또한 unbalanced 데이터에서 모델 성능을 잘 평가하지 못할 수 있습니다.  \n",
    "그래서 precision_weighted, recall_weighted, f1_score_weighted 중에서 고를 것 같습니다.  \n",
    "  \n",
    "이제 데이터의 용도 및 내용을 고려하는데, 우리는 breast_cancer 데이터를 사용하였습니다.  \n",
    "용도가 모호했던 전의 프로젝트들과는 다르게 요번에는 확실한 목적이 있습이다.  \n",
    "바로, 종양을 보고 악성인지(양성인지) 확인하는 검사입니다.  \n",
    "여기서 제일 중요한 점은 모델이 양성을 악성으로 본다고 해도 다시 치료를 하면 되지만  \n",
    "악성을 양성으로 잘못 예측 한 경우 암을 놓치게 되는 매우 큰 문제가 발생합니다.  \n",
    "그리하여 제일 중요한 지표는 실제 값이 들어왔을때 모델이 제대로 예측하냐는 것 입니다.  \n",
    "이와 관련된 지표는 recall 이므로 해당 데이터에서 가장 중요한 지표는 recall_weighted 입니다."
   ]
  },
  {
   "cell_type": "markdown",
   "metadata": {},
   "source": [
    "### 회고"
   ]
  },
  {
   "cell_type": "markdown",
   "metadata": {},
   "source": [
    "* 이번 프로젝트에서 어려웠던 점\n",
    "    - pandas의 DataFrame을 활용하여 정리 및 분석하면서 이를 부분 카피하거나 값을 바꾸는 것에  \n",
    "      아직 미숙하여 시간이 꽤 소모되었습니다.\n",
    "* 프로젝트를 진행하면서 알아낸 점 혹은 아직 모호한 점\n",
    "  * 알게 된점\n",
    "    - classification report에 나와있는 average 종류인 macro 와 weighted 추가로 micro 까지 알게되었습니다.\n",
    "    - 왜 f-score가 조화평균을 쓰는지 알게되었습니다.\n",
    "    - 여러 지표들을 반환하는 함수들과 그 함수들의 인자 사용법을 알게되었습니다.\n",
    "    - DataFrame을 복사하거나 값을 바꾸는 방법들에 대해 알게되었습니다.\n",
    "  * 아직 모호한 점\n",
    "    - DataFrame의 idxmax를 string이 존재하는 DF에서 숫자만 포함하는 특정 colmn 만 지정해도 error가 나와서\n",
    "      이게 copy 문제인지 아니면 idxmax 함수 자체 문제인지 완전히 파악 못했습니다.\n",
    "* 루브릭 평가를 맞추기 위해 시도한 점\n",
    "    - weighted 지표와 macro 지표를 모아서 DataFrame 으로 정리하여 각각의 지표들에서 최댓값, 최솟값,\n",
    "      평균을 구해보았으며 그래프를 그려 어떤 지표가 대체로 더 높은 값을 가지는지 쉽게 알 수 있었습니다."
   ]
  }
 ],
 "metadata": {
  "kernelspec": {
   "display_name": "Python 3.10.4 64-bit",
   "language": "python",
   "name": "python3"
  },
  "language_info": {
   "codemirror_mode": {
    "name": "ipython",
    "version": 3
   },
   "file_extension": ".py",
   "mimetype": "text/x-python",
   "name": "python",
   "nbconvert_exporter": "python",
   "pygments_lexer": "ipython3",
   "version": "3.10.4"
  },
  "orig_nbformat": 4,
  "vscode": {
   "interpreter": {
    "hash": "916dbcbb3f70747c44a77c7bcd40155683ae19c65e1c03b4aa3499c5328201f1"
   }
  }
 },
 "nbformat": 4,
 "nbformat_minor": 2
}
